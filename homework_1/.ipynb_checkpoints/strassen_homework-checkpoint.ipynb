{
 "cells": [
  {
   "cell_type": "markdown",
   "metadata": {},
   "source": [
    "## Strassen homework analisys"
   ]
  },
  {
   "cell_type": "code",
   "execution_count": 2,
   "metadata": {},
   "outputs": [],
   "source": [
    "from matrix import *"
   ]
  },
  {
   "cell_type": "code",
   "execution_count": 5,
   "metadata": {},
   "outputs": [],
   "source": [
    "def strassen_matrix_mult(A, B):\n",
    "    ''' Multiply two matrices by using Strassen's algorithm\n",
    "\n",
    "    Parameters\n",
    "    ----------\n",
    "    A: Matrix\n",
    "        The first matrix to be multiplied\n",
    "    B: Matrix\n",
    "        The second matrix to be multiplied\n",
    "\n",
    "    Returns\n",
    "    -------\n",
    "    Matrix\n",
    "        The row-column multiplication of the matrices passed as parameters\n",
    "\n",
    "    Raises\n",
    "    ------\n",
    "    ValueError\n",
    "        If the number of columns of `A` is different from the number of\n",
    "        rows of `B`\n",
    "    '''\n",
    "\n",
    "    if(A.num_of_cols != B.num_of_rows):\n",
    "        raise ValueError(\"The two matrices can't be multiplied\")\n",
    "\n",
    "    # Base case\n",
    "    min_size=4 \n",
    "    if max(A.num_of_rows, B.num_of_cols, A.num_of_cols) < min_size:\n",
    "        return gauss_matrix_mult(A, B)\n",
    "\n",
    "    # Rectangular case\n",
    "    if(A.num_of_rows != A.num_of_cols):\n",
    "        N = A.num_of_cols\n",
    "        C = zero_matrix(A.num_of_rows, B.num_of_cols)\n",
    "\n",
    "        for split_A in range(0, A.num_of_rows, N):\n",
    "            for split_B in range(0, B.num_of_cols, N):\n",
    "                temp = strassen_matrix_mult(A.submatrix(split_A, N, 0, N), B.submatrix(0, N, split_B, N))\n",
    "                C.assign_submatrix(split_A, split_B, temp)\n",
    "        \n",
    "        # In case A.num_of_rows % N != 0 or B.num_of_cols % N != 0\n",
    "        # I pad the rest of the matrix to square it\n",
    "        print(rows_padded, cols_padded, A_padded, B_padded, temp, \"\\n\", sep=\"\\n\\n\")\n",
    "        if(A.num_of_rows % n != 0 or B.num_of_cols % N != 0):\n",
    "            rows_padded = A.num_of_rows - split_A\n",
    "            cols_padded = B.num_of_cols - split_B\n",
    "            A_padded = pad_matrix(A.submatrix(split_A, rows_padded, 0, N), N - rows_padded, 0)\n",
    "            B_padded = pad_matrix(B.submatrix(0, N, split_B, cols_padded), N - cols_padded, 0)\n",
    "            temp = strassen_matrix_mult(A_padded, B_padded)\n",
    "            print(rows_padded, cols_padded, A_padded, B_padded, temp, \"\\n\", sep=\"\\n\\n\")\n",
    "\n",
    "            C.assign_submatrix(split_A, split_B, temp.submatrix(0, rows_padded, 0, cols_padded))\n",
    "\n",
    "        return C\n",
    "\n",
    "    \n",
    "    # Uneven case, at this point the matrix is square\n",
    "    padded = 0\n",
    "    if(A.num_of_cols % 2 != 0):\n",
    "        A = pad_matrix(A, 1, 1)\n",
    "        B = pad_matrix(B, 1, 1)\n",
    "        padded = 1\n",
    "    \n",
    "    A11, A12, A21, A22 = get_matrix_quadrants(A)\n",
    "    B11, B12, B21, B22 = get_matrix_quadrants(B)\n",
    "    \n",
    "    S1 = B12 - B22\n",
    "    S2 = A11 + A12\n",
    "    S3 = A21 + A22\n",
    "    S4 = B21 - B11\n",
    "    S5 = A11 + A22\n",
    "    S6 = B11 + B22\n",
    "    S7 = A12 - A22\n",
    "    S8 = B21 + B22\n",
    "    S9 = A11 - A21\n",
    "    S10 = B11 + B12\n",
    "    \n",
    "    P1 = strassen_matrix_mult(A11, S1)\n",
    "    P2 = strassen_matrix_mult(S2, B22)\n",
    "    P3 = strassen_matrix_mult(S3, B11)\n",
    "    P4 = strassen_matrix_mult(A22, S4)\n",
    "    P5 = strassen_matrix_mult(S5, S6)\n",
    "    P6 = strassen_matrix_mult(S7, S8)\n",
    "    P7 = strassen_matrix_mult(S9, S10)\n",
    "    \n",
    "    C11 = P5 + P4 - P2 + P6\n",
    "    C12 = P1 + P2 \n",
    "    C21 = P3 + P4\n",
    "    C22 = P5 + P1 - P3 - P7\n",
    "    \n",
    "    \n",
    "    C = [[0 for j in range(B.num_of_cols)] for i in range(A.num_of_rows)]\n",
    "    C = Matrix(C, clone_matrix=False)\n",
    "    C.assign_submatrix(0, 0, C11)\n",
    "    C.assign_submatrix(0, C.num_of_cols//2, C12)\n",
    "    C.assign_submatrix(C.num_of_rows//2, 0, C21)\n",
    "    C.assign_submatrix(C.num_of_rows//2, C.num_of_cols//2, C22)\n",
    "    \n",
    "    return C.submatrix(0, C.num_of_rows - padded, 0, C.num_of_cols - padded)"
   ]
  },
  {
   "cell_type": "code",
   "execution_count": 10,
   "metadata": {},
   "outputs": [
    {
     "ename": "ValueError",
     "evalue": "The two matrices can't be multiplied",
     "output_type": "error",
     "traceback": [
      "\u001b[1;31m---------------------------------------------------------------------------\u001b[0m",
      "\u001b[1;31mValueError\u001b[0m                                Traceback (most recent call last)",
      "\u001b[1;32m<ipython-input-10-48d108b156b8>\u001b[0m in \u001b[0;36m<module>\u001b[1;34m\u001b[0m\n\u001b[0;32m      4\u001b[0m \u001b[0mA\u001b[0m \u001b[1;33m=\u001b[0m \u001b[0mMatrix\u001b[0m\u001b[1;33m(\u001b[0m\u001b[1;33m[\u001b[0m\u001b[1;33m[\u001b[0m\u001b[0mi\u001b[0m \u001b[1;33m+\u001b[0m \u001b[0mj\u001b[0m \u001b[1;32mfor\u001b[0m \u001b[0mj\u001b[0m \u001b[1;32min\u001b[0m \u001b[0mrange\u001b[0m\u001b[1;33m(\u001b[0m\u001b[1;36m0\u001b[0m\u001b[1;33m,\u001b[0m\u001b[0mn\u001b[0m\u001b[1;33m)\u001b[0m\u001b[1;33m]\u001b[0m \u001b[1;32mfor\u001b[0m \u001b[0mi\u001b[0m \u001b[1;32min\u001b[0m \u001b[0mrange\u001b[0m\u001b[1;33m(\u001b[0m\u001b[1;36m0\u001b[0m\u001b[1;33m,\u001b[0m\u001b[0mm\u001b[0m\u001b[1;33m)\u001b[0m\u001b[1;33m]\u001b[0m\u001b[1;33m)\u001b[0m\u001b[1;33m\u001b[0m\u001b[1;33m\u001b[0m\u001b[0m\n\u001b[0;32m      5\u001b[0m \u001b[0mB\u001b[0m \u001b[1;33m=\u001b[0m \u001b[0mMatrix\u001b[0m\u001b[1;33m(\u001b[0m\u001b[1;33m[\u001b[0m\u001b[1;33m[\u001b[0m\u001b[0mi\u001b[0m \u001b[1;33m-\u001b[0m \u001b[0mj\u001b[0m \u001b[1;32mfor\u001b[0m \u001b[0mj\u001b[0m \u001b[1;32min\u001b[0m \u001b[0mrange\u001b[0m\u001b[1;33m(\u001b[0m\u001b[1;36m0\u001b[0m\u001b[1;33m,\u001b[0m\u001b[0mo\u001b[0m\u001b[1;33m)\u001b[0m\u001b[1;33m]\u001b[0m \u001b[1;32mfor\u001b[0m \u001b[0mi\u001b[0m \u001b[1;32min\u001b[0m \u001b[0mrange\u001b[0m\u001b[1;33m(\u001b[0m\u001b[1;36m0\u001b[0m\u001b[1;33m,\u001b[0m\u001b[0mn\u001b[0m\u001b[1;33m)\u001b[0m\u001b[1;33m]\u001b[0m\u001b[1;33m)\u001b[0m\u001b[1;33m\u001b[0m\u001b[1;33m\u001b[0m\u001b[0m\n\u001b[1;32m----> 6\u001b[1;33m \u001b[0mgauss_matrix_mult\u001b[0m\u001b[1;33m(\u001b[0m\u001b[0mA\u001b[0m\u001b[1;33m,\u001b[0m \u001b[0mB\u001b[0m\u001b[1;33m)\u001b[0m \u001b[1;33m-\u001b[0m \u001b[0mstrassen_matrix_mult\u001b[0m\u001b[1;33m(\u001b[0m\u001b[0mA\u001b[0m\u001b[1;33m,\u001b[0m \u001b[0mB\u001b[0m\u001b[1;33m)\u001b[0m\u001b[1;33m\u001b[0m\u001b[1;33m\u001b[0m\u001b[0m\n\u001b[0m",
      "\u001b[1;32m<ipython-input-5-f0537251f945>\u001b[0m in \u001b[0;36mstrassen_matrix_mult\u001b[1;34m(A, B)\u001b[0m\n\u001b[0;32m     46\u001b[0m             \u001b[0mA_padded\u001b[0m \u001b[1;33m=\u001b[0m \u001b[0mpad_matrix\u001b[0m\u001b[1;33m(\u001b[0m\u001b[0mA\u001b[0m\u001b[1;33m.\u001b[0m\u001b[0msubmatrix\u001b[0m\u001b[1;33m(\u001b[0m\u001b[0msplit_A\u001b[0m\u001b[1;33m,\u001b[0m \u001b[0mrows_padded\u001b[0m\u001b[1;33m,\u001b[0m \u001b[1;36m0\u001b[0m\u001b[1;33m,\u001b[0m \u001b[0mN\u001b[0m\u001b[1;33m)\u001b[0m\u001b[1;33m,\u001b[0m \u001b[0mN\u001b[0m \u001b[1;33m-\u001b[0m \u001b[0mrows_padded\u001b[0m\u001b[1;33m,\u001b[0m \u001b[1;36m0\u001b[0m\u001b[1;33m)\u001b[0m\u001b[1;33m\u001b[0m\u001b[1;33m\u001b[0m\u001b[0m\n\u001b[0;32m     47\u001b[0m             \u001b[0mB_padded\u001b[0m \u001b[1;33m=\u001b[0m \u001b[0mpad_matrix\u001b[0m\u001b[1;33m(\u001b[0m\u001b[0mB\u001b[0m\u001b[1;33m.\u001b[0m\u001b[0msubmatrix\u001b[0m\u001b[1;33m(\u001b[0m\u001b[1;36m0\u001b[0m\u001b[1;33m,\u001b[0m \u001b[0mN\u001b[0m\u001b[1;33m,\u001b[0m \u001b[0msplit_B\u001b[0m\u001b[1;33m,\u001b[0m \u001b[0mcols_padded\u001b[0m\u001b[1;33m)\u001b[0m\u001b[1;33m,\u001b[0m \u001b[0mN\u001b[0m \u001b[1;33m-\u001b[0m \u001b[0mcols_padded\u001b[0m\u001b[1;33m,\u001b[0m \u001b[1;36m0\u001b[0m\u001b[1;33m)\u001b[0m\u001b[1;33m\u001b[0m\u001b[1;33m\u001b[0m\u001b[0m\n\u001b[1;32m---> 48\u001b[1;33m             \u001b[0mtemp\u001b[0m \u001b[1;33m=\u001b[0m \u001b[0mstrassen_matrix_mult\u001b[0m\u001b[1;33m(\u001b[0m\u001b[0mA_padded\u001b[0m\u001b[1;33m,\u001b[0m \u001b[0mB_padded\u001b[0m\u001b[1;33m)\u001b[0m\u001b[1;33m\u001b[0m\u001b[1;33m\u001b[0m\u001b[0m\n\u001b[0m\u001b[0;32m     49\u001b[0m             \u001b[0mprint\u001b[0m\u001b[1;33m(\u001b[0m\u001b[0mrows_padded\u001b[0m\u001b[1;33m,\u001b[0m \u001b[0mcols_padded\u001b[0m\u001b[1;33m,\u001b[0m \u001b[0mA_padded\u001b[0m\u001b[1;33m,\u001b[0m \u001b[0mB_padded\u001b[0m\u001b[1;33m,\u001b[0m \u001b[0mtemp\u001b[0m\u001b[1;33m,\u001b[0m \u001b[1;34m\"\\n\"\u001b[0m\u001b[1;33m,\u001b[0m \u001b[0msep\u001b[0m\u001b[1;33m=\u001b[0m\u001b[1;34m\"\\n\\n\"\u001b[0m\u001b[1;33m)\u001b[0m\u001b[1;33m\u001b[0m\u001b[1;33m\u001b[0m\u001b[0m\n\u001b[0;32m     50\u001b[0m \u001b[1;33m\u001b[0m\u001b[0m\n",
      "\u001b[1;32m<ipython-input-5-f0537251f945>\u001b[0m in \u001b[0;36mstrassen_matrix_mult\u001b[1;34m(A, B)\u001b[0m\n\u001b[0;32m     22\u001b[0m \u001b[1;33m\u001b[0m\u001b[0m\n\u001b[0;32m     23\u001b[0m     \u001b[1;32mif\u001b[0m\u001b[1;33m(\u001b[0m\u001b[0mA\u001b[0m\u001b[1;33m.\u001b[0m\u001b[0mnum_of_cols\u001b[0m \u001b[1;33m!=\u001b[0m \u001b[0mB\u001b[0m\u001b[1;33m.\u001b[0m\u001b[0mnum_of_rows\u001b[0m\u001b[1;33m)\u001b[0m\u001b[1;33m:\u001b[0m\u001b[1;33m\u001b[0m\u001b[1;33m\u001b[0m\u001b[0m\n\u001b[1;32m---> 24\u001b[1;33m         \u001b[1;32mraise\u001b[0m \u001b[0mValueError\u001b[0m\u001b[1;33m(\u001b[0m\u001b[1;34m\"The two matrices can't be multiplied\"\u001b[0m\u001b[1;33m)\u001b[0m\u001b[1;33m\u001b[0m\u001b[1;33m\u001b[0m\u001b[0m\n\u001b[0m\u001b[0;32m     25\u001b[0m \u001b[1;33m\u001b[0m\u001b[0m\n\u001b[0;32m     26\u001b[0m     \u001b[1;31m# Base case\u001b[0m\u001b[1;33m\u001b[0m\u001b[1;33m\u001b[0m\u001b[1;33m\u001b[0m\u001b[0m\n",
      "\u001b[1;31mValueError\u001b[0m: The two matrices can't be multiplied"
     ]
    }
   ],
   "source": [
    "n = 5\n",
    "m = 15\n",
    "o = 12\n",
    "A = Matrix([[i + j for j in range(0,n)] for i in range(0,m)])\n",
    "B = Matrix([[i - j for j in range(0,o)] for i in range(0,n)])\n",
    "gauss_matrix_mult(A, B) - strassen_matrix_mult(A, B)"
   ]
  },
  {
   "cell_type": "code",
   "execution_count": 2,
   "metadata": {},
   "outputs": [
    {
     "ename": "NameError",
     "evalue": "name 'A' is not defined",
     "output_type": "error",
     "traceback": [
      "\u001b[1;31m---------------------------------------------------------------------------\u001b[0m",
      "\u001b[1;31mNameError\u001b[0m                                 Traceback (most recent call last)",
      "\u001b[1;32m<ipython-input-2-a95500e77fc0>\u001b[0m in \u001b[0;36m<module>\u001b[1;34m\u001b[0m\n\u001b[1;32m----> 1\u001b[1;33m \u001b[0mA\u001b[0m\u001b[1;33m[\u001b[0m\u001b[1;33m:\u001b[0m\u001b[1;33m]\u001b[0m\u001b[1;33m[\u001b[0m\u001b[1;36m0\u001b[0m\u001b[1;33m:\u001b[0m\u001b[1;36m2\u001b[0m\u001b[1;33m]\u001b[0m\u001b[1;33m\u001b[0m\u001b[1;33m\u001b[0m\u001b[0m\n\u001b[0m",
      "\u001b[1;31mNameError\u001b[0m: name 'A' is not defined"
     ]
    }
   ],
   "source": [
    "A[:][0:2]"
   ]
  },
  {
   "cell_type": "code",
   "execution_count": 17,
   "metadata": {},
   "outputs": [
    {
     "data": {
      "text/plain": [
       "[1, 3, 5, 7, 9]"
      ]
     },
     "execution_count": 17,
     "metadata": {},
     "output_type": "execute_result"
    }
   ],
   "source": [
    "list(range(1,10, 2))"
   ]
  }
 ],
 "metadata": {
  "kernelspec": {
   "display_name": "Python 3",
   "language": "python",
   "name": "python3"
  },
  "language_info": {
   "codemirror_mode": {
    "name": "ipython",
    "version": 3
   },
   "file_extension": ".py",
   "mimetype": "text/x-python",
   "name": "python",
   "nbconvert_exporter": "python",
   "pygments_lexer": "ipython3",
   "version": "3.8.5"
  }
 },
 "nbformat": 4,
 "nbformat_minor": 4
}
