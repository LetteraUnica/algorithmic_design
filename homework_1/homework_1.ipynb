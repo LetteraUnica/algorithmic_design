{
 "cells": [
  {
   "cell_type": "markdown",
   "metadata": {},
   "source": [
    "# Homework Batch 1: Matrix Multiplication\n",
    "### Marco Sicklinger, 03/2021"
   ]
  },
  {
   "cell_type": "markdown",
   "metadata": {},
   "source": [
    "The work has been divided into four parts:\n",
    "\n",
    "1. Implementation of Strassen's algorithm for $2^n$x$2^n$ matrices (matrix_even.py);\n",
    "2. Implementation of Strassen's algorithm for the multiplication between two of any matrices following the original approach, storing each temporary result in a variable (matrix_original.py);\n",
    "3. Implementation of an improved Strassen's algorithm, in which a smaller number of temporary results are saved in auxilary variables (matrix_improved.py);\n",
    "4. Implementation of a Strassen's algorithm that makes use of the smallest possible amount of auxilary memory."
   ]
  },
  {
   "cell_type": "code",
   "execution_count": 9,
   "metadata": {},
   "outputs": [],
   "source": [
    "from random import random\n",
    "from random import seed"
   ]
  },
  {
   "source": [
    "## Part 1\n",
    "\n",
    "The implementation of Strassen's algorithm for even sizes gives the following results."
   ],
   "cell_type": "markdown",
   "metadata": {}
  },
  {
   "cell_type": "code",
   "execution_count": 10,
   "metadata": {},
   "outputs": [],
   "source": [
    "import matrix_even as m_e\n",
    "seed(0)"
   ]
  },
  {
   "source": [
    "Consider first A, B to be square matrices of size:"
   ],
   "cell_type": "markdown",
   "metadata": {}
  },
  {
   "cell_type": "code",
   "execution_count": 11,
   "metadata": {},
   "outputs": [
    {
     "output_type": "stream",
     "name": "stdout",
     "text": [
      "A: matrix 256x256\nB: matrix 256x256\n"
     ]
    }
   ],
   "source": [
    "n = 2**8\n",
    "\n",
    "A = m_e.Matrix([[random() for j in range(n)] for i in range(n)])\n",
    "print(\"A: matrix {}x{}\".format(A.num_of_rows,A.num_of_cols))\n",
    "B = m_e.Matrix([[random() for j in range(n)] for i in range(n)])\n",
    "print(\"B: matrix {}x{}\".format(B.num_of_rows,B.num_of_cols))"
   ]
  },
  {
   "source": [
    "The standard gauss matrix multiplication obviously returns another square matrix of the same size, $2^8$x$2^8$."
   ],
   "cell_type": "markdown",
   "metadata": {}
  },
  {
   "cell_type": "code",
   "execution_count": 12,
   "metadata": {},
   "outputs": [
    {
     "output_type": "stream",
     "name": "stdout",
     "text": [
      "GAUSS_MULT_EVEN: matrix 256x256\n"
     ]
    }
   ],
   "source": [
    "GAUSS_MULT_EVEN = m_e.gauss_matrix_mult(A,B)\n",
    "print(\"GAUSS_MULT_EVEN: matrix {}x{}\".format(GAUSS_MULT_EVEN.num_of_rows, GAUSS_MULT_EVEN.num_of_cols))"
   ]
  },
  {
   "source": [
    "And same does the Strassen's multiplication."
   ],
   "cell_type": "markdown",
   "metadata": {}
  },
  {
   "cell_type": "code",
   "execution_count": 13,
   "metadata": {},
   "outputs": [
    {
     "output_type": "stream",
     "name": "stdout",
     "text": [
      "STRASSEN_MULT_ORIGINAL: matrix 256x256\n"
     ]
    }
   ],
   "source": [
    "STRASSEN_MULT_EVEN = m_e.strassen_matrix_mult(A,B)\n",
    "print(\"STRASSEN_MULT_ORIGINAL: matrix {}x{}\".format(STRASSEN_MULT_EVEN.num_of_rows,STRASSEN_MULT_EVEN.num_of_cols))"
   ]
  },
  {
   "source": [
    "If one computes the difference between the two methods, one can acknowledge that its being different from zero is only due to the arithmetic of the machine.  "
   ],
   "cell_type": "markdown",
   "metadata": {}
  },
  {
   "cell_type": "code",
   "execution_count": 14,
   "metadata": {},
   "outputs": [
    {
     "output_type": "stream",
     "name": "stdout",
     "text": [
      "DIFF_EVEN: matrix 256x256\nMaximum element of the difference matrix between the two methods: 2.984279490192421e-13\n"
     ]
    }
   ],
   "source": [
    "DIFF_EVEN = GAUSS_MULT_EVEN - STRASSEN_MULT_EVEN\n",
    "print(\"DIFF_EVEN: matrix {}x{}\".format(DIFF_EVEN.num_of_rows,DIFF_EVEN.num_of_cols))\n",
    "print(\"Maximum element of the difference matrix between the two methods: {}\".format(DIFF_EVEN.max))"
   ]
  },
  {
   "source": [
    "One can obtain similar results if rectangular matrices of even sizes are used, since the actual \"problem\" related to the Strassen's algorithm concerns odd dimensions."
   ],
   "cell_type": "markdown",
   "metadata": {}
  },
  {
   "cell_type": "code",
   "execution_count": 15,
   "metadata": {},
   "outputs": [
    {
     "output_type": "stream",
     "name": "stdout",
     "text": [
      "A: matrix 256x128\nB: matrix 128x64\n"
     ]
    }
   ],
   "source": [
    "m = 2**7\n",
    "l = 2**6\n",
    "\n",
    "A = m_e.Matrix([[random() for j in range(m)] for i in range(n)])\n",
    "print(\"A: matrix {}x{}\".format(A.num_of_rows,A.num_of_cols))\n",
    "B = m_e.Matrix([[random() for j in range(l)] for i in range(m)])\n",
    "print(\"B: matrix {}x{}\".format(B.num_of_rows,B.num_of_cols))"
   ]
  },
  {
   "cell_type": "code",
   "execution_count": 16,
   "metadata": {},
   "outputs": [
    {
     "output_type": "stream",
     "name": "stdout",
     "text": [
      "GAUSS_MULT_EVEN: matrix 256x64\n"
     ]
    }
   ],
   "source": [
    "GAUSS_MULT_EVEN = m_e.gauss_matrix_mult(A,B)\n",
    "print(\"GAUSS_MULT_EVEN: matrix {}x{}\".format(GAUSS_MULT_EVEN.num_of_rows, GAUSS_MULT_EVEN.num_of_cols))"
   ]
  },
  {
   "cell_type": "code",
   "execution_count": 17,
   "metadata": {},
   "outputs": [
    {
     "output_type": "stream",
     "name": "stdout",
     "text": [
      "STRASSEN_MULT_ORIGINAL: matrix 256x64\n"
     ]
    }
   ],
   "source": [
    "STRASSEN_MULT_EVEN = m_e.strassen_matrix_mult(A,B)\n",
    "print(\"STRASSEN_MULT_ORIGINAL: matrix {}x{}\".format(STRASSEN_MULT_EVEN.num_of_rows,STRASSEN_MULT_EVEN.num_of_cols))"
   ]
  },
  {
   "cell_type": "code",
   "execution_count": 18,
   "metadata": {},
   "outputs": [
    {
     "output_type": "stream",
     "name": "stdout",
     "text": [
      "DIFF_EVEN: matrix 256x64\nMaximum element of the difference matrix between the two methods: 9.237055564881302e-14\n"
     ]
    }
   ],
   "source": [
    "DIFF_EVEN = GAUSS_MULT_EVEN - STRASSEN_MULT_EVEN\n",
    "print(\"DIFF_EVEN: matrix {}x{}\".format(DIFF_EVEN.num_of_rows,DIFF_EVEN.num_of_cols))\n",
    "print(\"Maximum element of the difference matrix between the two methods: {}\".format(DIFF_EVEN.max))"
   ]
  },
  {
   "source": [
    "## Part 2\n",
    "\n",
    "The issue raised by the multiplication of matrices of odd sizes has been solved by adding a null row and/or column (row or column full of zeros) when needed, that is when the number of rows and/or the number of columns of a given matrix are odd. An example of the result obtained is the following.\n",
    "\n",
    "For the sake of simplicity, assume that the matrices involved in the multiplication are square matrices. Strassen's algorithm complexity is given by \n",
    "$$\n",
    "T(n)=\\sum_{i=0}^{\\log_2n}7^iC\\left(\\frac{n}{2^i} \\right)^2\n",
    "$$\n",
    "If the size of the matrices is odd, it is increased by one to make it even, that is $n\\rightarrow n+1$. This means the following change in the complexity of the algorithm:\n",
    "$$\n",
    "\\begin{align*}\n",
    "T(n)\\,\\,\\xrightarrow{n\\rightarrow n+1}\\,\\, T(n+1) &= C\\sum_{i=0}^{\\log_2(n+1)}\\left(\\frac{7}{4}\\right)^i(n+1)^2 \\\\\n",
    "&= C'(n+1)^2\\left[\\left(\\frac{7}{4} \\right)^{\\log_2(n+1)+1}-1 \\right],\\,\\,\\,C'=C\\left[\\frac{7}{4}-1 \\right]^{-1} \\\\\n",
    "&= C''(n+1)^2\\left(\\frac{7}{4} \\right)^{\\log_2(n+1)}-C'(n+1)^2,\\,\\,\\,C''=\\frac{7}{4}C' \\\\\n",
    "&= C''(n+1)^2\\frac{7^{\\log_2(n+1)}}{2^{2\\log_2(n+1)}}-C'(n+1)^2 \\\\\n",
    "&= C''(n+1)^2\\frac{(n+1)^{\\log_27}}{(n+1)^2}-C'(n+1)^2 \\\\\n",
    "&= C''(n+1)^{\\log_27}-C'(n+1)^2 \\,\\,\\in \\,\\, \\Theta [(n+1)^{log_27}] = \\Theta [(n)^{log_27}],\n",
    "\\end{align*}\n",
    "$$\n",
    "which is actually the same as before\n",
    "\n",
    "Consider the following sizes:"
   ],
   "cell_type": "markdown",
   "metadata": {}
  },
  {
   "cell_type": "code",
   "execution_count": 19,
   "metadata": {},
   "outputs": [],
   "source": [
    "n = 108\n",
    "m = 77\n",
    "l = 99"
   ]
  },
  {
   "cell_type": "code",
   "execution_count": 20,
   "metadata": {},
   "outputs": [],
   "source": [
    "import matrix_original as m_o\n",
    "seed(0)"
   ]
  },
  {
   "source": [
    "And define two matrices with suitable dimensions: a first $n$x$m$ matrix and a second $m$x$l$."
   ],
   "cell_type": "markdown",
   "metadata": {}
  },
  {
   "cell_type": "code",
   "execution_count": 21,
   "metadata": {},
   "outputs": [
    {
     "output_type": "stream",
     "name": "stdout",
     "text": [
      "A: matrix 108x77\nB: matrix 77x99\n"
     ]
    }
   ],
   "source": [
    "A = m_o.Matrix([[random() for j in range(m)] for i in range(n)])\n",
    "print(\"A: matrix {}x{}\".format(A.num_of_rows,A.num_of_cols))\n",
    "B = m_o.Matrix([[random() for j in range(l)] for i in range(m)])\n",
    "print(\"B: matrix {}x{}\".format(B.num_of_rows,B.num_of_cols))"
   ]
  },
  {
   "source": [
    "Then, perform the matrix multiplication with the two methods."
   ],
   "cell_type": "markdown",
   "metadata": {}
  },
  {
   "cell_type": "code",
   "execution_count": 22,
   "metadata": {},
   "outputs": [
    {
     "output_type": "stream",
     "name": "stdout",
     "text": [
      "GAUSS_MULT_ORIGINAL: matrix 108x99\n"
     ]
    }
   ],
   "source": [
    "GAUSS_MULT_ORIGINAL = m_o.gauss_matrix_mult(A,B)\n",
    "print(\"GAUSS_MULT_ORIGINAL: matrix {}x{}\".format(GAUSS_MULT_ORIGINAL.num_of_rows,GAUSS_MULT_ORIGINAL.num_of_cols))"
   ]
  },
  {
   "cell_type": "code",
   "execution_count": 23,
   "metadata": {},
   "outputs": [
    {
     "output_type": "stream",
     "name": "stdout",
     "text": [
      "STRASSEN_MULT_ORIGINAL: matrix 108x99\n"
     ]
    }
   ],
   "source": [
    "STRASSEN_MULT_ORIGINAL = m_o.strassen_matrix_mult(A,B)\n",
    "print(\"STRASSEN_MULT_ORIGINAL: matrix {}x{}\".format(STRASSEN_MULT_ORIGINAL.num_of_rows,STRASSEN_MULT_ORIGINAL.num_of_cols))"
   ]
  },
  {
   "source": [
    "The obtained result is similar to what was obtaind in *part 1*."
   ],
   "cell_type": "markdown",
   "metadata": {}
  },
  {
   "cell_type": "code",
   "execution_count": 24,
   "metadata": {},
   "outputs": [
    {
     "output_type": "stream",
     "name": "stdout",
     "text": [
      "DIFF_ORIGINAL: matrix 108x99\nMaximum element of the difference matrix between the two methods: 2.1316282072803006e-14\n"
     ]
    }
   ],
   "source": [
    "DIFF_ORIGINAL = GAUSS_MULT_ORIGINAL - STRASSEN_MULT_ORIGINAL\n",
    "print(\"DIFF_ORIGINAL: matrix {}x{}\".format(DIFF_ORIGINAL.num_of_rows,DIFF_ORIGINAL.num_of_cols))\n",
    "print(\"Maximum element of the difference matrix between the two methods: {}\".format(DIFF_ORIGINAL.max))"
   ]
  },
  {
   "source": [
    "## Part 3\n",
    "\n",
    "A first improvement to the above algorithm was to reduce the number of auxiliary variables used in the procedure. Only the matrices $P_i$ with $i=1,2,3,4,5$ where kept (and, of course, the final `result` matrix), since used more than once during the construction of the final matrix.\n",
    "\n",
    "In the example below, the matrices involved in the multiplication have sizes $n$x$m$ and $m$x$l$ with $n$, $m$, $l$ defined before."
   ],
   "cell_type": "markdown",
   "metadata": {}
  },
  {
   "cell_type": "code",
   "execution_count": 25,
   "metadata": {},
   "outputs": [],
   "source": [
    "import matrix_improved as m_i\n",
    "seed(0)"
   ]
  },
  {
   "cell_type": "code",
   "execution_count": 26,
   "metadata": {},
   "outputs": [
    {
     "output_type": "stream",
     "name": "stdout",
     "text": [
      "A: matrix 108x77\nB: matrix 77x99\n"
     ]
    }
   ],
   "source": [
    "A = m_i.Matrix([[random() for j in range(m)] for i in range(n)])\n",
    "print(\"A: matrix {}x{}\".format(A.num_of_rows,A.num_of_cols))\n",
    "B = m_i.Matrix([[random() for j in range(l)] for i in range(m)])\n",
    "print(\"B: matrix {}x{}\".format(B.num_of_rows,B.num_of_cols))"
   ]
  },
  {
   "cell_type": "code",
   "execution_count": 27,
   "metadata": {},
   "outputs": [
    {
     "output_type": "stream",
     "name": "stdout",
     "text": [
      "GAUSS_MULT_IMPROVED: matrix 108x99\n"
     ]
    }
   ],
   "source": [
    "GAUSS_MULT_IMPROVED = m_i.gauss_matrix_mult(A,B)\n",
    "print(\"GAUSS_MULT_IMPROVED: matrix {}x{}\".format(GAUSS_MULT_IMPROVED.num_of_rows,GAUSS_MULT_IMPROVED.num_of_cols))"
   ]
  },
  {
   "cell_type": "code",
   "execution_count": 28,
   "metadata": {},
   "outputs": [
    {
     "output_type": "stream",
     "name": "stdout",
     "text": [
      "STRASSEN_MULT_IMPROVED: matrix 108x99\n"
     ]
    }
   ],
   "source": [
    "STRASSEN_MULT_IMPROVED = m_i.strassen_matrix_mult(A,B)\n",
    "print(\"STRASSEN_MULT_IMPROVED: matrix {}x{}\".format(STRASSEN_MULT_IMPROVED.num_of_rows,STRASSEN_MULT_IMPROVED.num_of_cols))"
   ]
  },
  {
   "cell_type": "code",
   "execution_count": 29,
   "metadata": {},
   "outputs": [
    {
     "output_type": "stream",
     "name": "stdout",
     "text": [
      "DIFF_IMPROVED: matrix 108x99\nMaximum element of the difference matrix between the two methods: 2.1316282072803006e-14\n"
     ]
    }
   ],
   "source": [
    "DIFF_IMPROVED = GAUSS_MULT_IMPROVED - STRASSEN_MULT_IMPROVED\n",
    "print(\"DIFF_IMPROVED: matrix {}x{}\".format(DIFF_IMPROVED.num_of_rows,DIFF_IMPROVED.num_of_cols))\n",
    "print(\"Maximum element of the difference matrix between the two methods: {}\".format(DIFF_IMPROVED.max))"
   ]
  },
  {
   "cell_type": "code",
   "execution_count": 30,
   "metadata": {},
   "outputs": [],
   "source": [
    "from timeit import timeit"
   ]
  },
  {
   "cell_type": "code",
   "execution_count": 31,
   "metadata": {},
   "outputs": [
    {
     "output_type": "stream",
     "name": "stdout",
     "text": [
      "Avarage time to perform Strassen multiplication between randomized 108x77 and 77x99 matrices is: 0.19977478852000785\n"
     ]
    }
   ],
   "source": [
    "A = m_i.Matrix([[random() for j in range(m)] for i in range(n)])\n",
    "\n",
    "B = m_i.Matrix([[random() for j in range(l)] for i in range(m)])\n",
    "\n",
    "T = timeit('m_i.strassen_matrix_mult(A,B)', globals=locals(), number = 100)\n",
    "\n",
    "print(\"Avarage time to perform Strassen multiplication between randomized {}x{} and {}x{} matrices is: {}\".format(n,m,m,l,T/100))"
   ]
  },
  {
   "source": [
    "## Part 4\n",
    "\n",
    "Finally, there has been an attempt to reduce as much as possible the number of auxiliary variables previously used in the Strassen algorithm implementations. The only one kept is the `result` matrix, in which one stores the final output before returning it.\n",
    "\n",
    "In the example below, the involved matrices have the same characteristics as the ones above."
   ],
   "cell_type": "markdown",
   "metadata": {}
  },
  {
   "cell_type": "code",
   "execution_count": 32,
   "metadata": {},
   "outputs": [],
   "source": [
    "import matrix_memory as m_m\n",
    "seed(0)"
   ]
  },
  {
   "cell_type": "code",
   "execution_count": 33,
   "metadata": {},
   "outputs": [
    {
     "output_type": "stream",
     "name": "stdout",
     "text": [
      "A: matrix 108x77\nB: matrix 108x77\n"
     ]
    }
   ],
   "source": [
    "A = m_m.Matrix([[random() for j in range(m)] for i in range(n)])\n",
    "print(\"A: matrix {}x{}\".format(A.num_of_rows,A.num_of_cols))\n",
    "B = m_i.Matrix([[random() for j in range(l)] for i in range(m)])\n",
    "print(\"B: matrix {}x{}\".format(A.num_of_rows,A.num_of_cols))"
   ]
  },
  {
   "cell_type": "code",
   "execution_count": 34,
   "metadata": {},
   "outputs": [
    {
     "output_type": "stream",
     "name": "stdout",
     "text": [
      "GAUSS_MULT_MEMORY: matrix 108x99\n"
     ]
    }
   ],
   "source": [
    "GAUSS_MULT_MEMORY = m_m.gauss_matrix_mult(A,B)\n",
    "print(\"GAUSS_MULT_MEMORY: matrix {}x{}\".format(GAUSS_MULT_MEMORY.num_of_rows,GAUSS_MULT_MEMORY.num_of_cols))"
   ]
  },
  {
   "cell_type": "code",
   "execution_count": 35,
   "metadata": {},
   "outputs": [
    {
     "output_type": "stream",
     "name": "stdout",
     "text": [
      "STRASSEN_MULT_MEMORY: matrix 108x99\n"
     ]
    }
   ],
   "source": [
    "STRASSEN_MULT_MEMORY = m_m.strassen_matrix_mult(A,B)\n",
    "print(\"STRASSEN_MULT_MEMORY: matrix {}x{}\".format(STRASSEN_MULT_MEMORY.num_of_rows,STRASSEN_MULT_MEMORY.num_of_cols))"
   ]
  },
  {
   "cell_type": "code",
   "execution_count": 36,
   "metadata": {},
   "outputs": [
    {
     "output_type": "stream",
     "name": "stdout",
     "text": [
      "DIFF_MEMORY: matrix 108x99\nMaximum element of the difference matrix between the two methods: 2.1316282072803006e-14\n"
     ]
    }
   ],
   "source": [
    "DIFF_MEMORY = GAUSS_MULT_MEMORY - STRASSEN_MULT_MEMORY\n",
    "print(\"DIFF_MEMORY: matrix {}x{}\".format(DIFF_MEMORY.num_of_rows,DIFF_MEMORY.num_of_cols))\n",
    "print(\"Maximum element of the difference matrix between the two methods: {}\".format(DIFF_MEMORY.max))"
   ]
  },
  {
   "source": [
    "However one can notice that the time taken to perform the task increases. This is probably due to the fact that now all the involved quantities must be computed over and over again every time they are needed."
   ],
   "cell_type": "markdown",
   "metadata": {}
  },
  {
   "cell_type": "code",
   "execution_count": 37,
   "metadata": {},
   "outputs": [
    {
     "output_type": "stream",
     "name": "stdout",
     "text": [
      "Avarage time to perform Strassen multiplication between randomized 108x77 and 77x99 matrices is: 0.3758705899199776\n"
     ]
    }
   ],
   "source": [
    "A = m_m.Matrix([[random() for j in range(m)] for i in range(n)])\n",
    "\n",
    "B = m_m.Matrix([[random() for j in range(l)] for i in range(m)])\n",
    "\n",
    "T = timeit('m_m.strassen_matrix_mult(A,B)', globals=locals(), number = 100)\n",
    "\n",
    "print(\"Avarage time to perform Strassen multiplication between randomized {}x{} and {}x{} matrices is: {}\".format(n,m,m,l,T/100))"
   ]
  },
  {
   "source": [
    "## Execution time vs size"
   ],
   "cell_type": "markdown",
   "metadata": {}
  },
  {
   "cell_type": "code",
   "execution_count": 39,
   "metadata": {},
   "outputs": [
    {
     "output_type": "stream",
     "name": "stdout",
     "text": [
      "1\t0.000\t0.000\t0.000\t0.000\n",
      "2\t0.000\t0.000\t0.000\t0.000\n",
      "4\t0.000\t0.000\t0.000\t0.000\n",
      "8\t0.000\t0.000\t0.000\t0.000\n",
      "16\t0.003\t0.003\t0.003\t0.003\n",
      "32\t0.015\t0.014\t0.012\t0.013\n",
      "64\t0.098\t0.084\t0.085\t0.129\n",
      "128\t0.597\t0.459\t0.494\t1.377\n",
      "256\t4.241\t3.217\t3.481\t18.419\n",
      "512\t42.647\t28.880\t30.559\t219.122\n",
      "1024\t317.569\t178.442\t192.915\t2952.991\n",
      "2048\t2976.261\t1367.344\t1500.577\t36638.651\n"
     ]
    }
   ],
   "source": [
    "from random import random\n",
    "from random import seed\n",
    "\n",
    "from sys import stdout\n",
    "\n",
    "from timeit import timeit\n",
    "\n",
    "from matrix_original import Matrix, gauss_matrix_mult\n",
    "\n",
    "seed(0)\n",
    "\n",
    "f = open(\"exect_vs_size.txt\",\"w\")\n",
    "\n",
    "columns = ['size','Gauss matrix multiplication', 'Strassen matrix multiplication (original)','Strassen matrix multiplication (improved)', 'Strassen matrix multiplication (memory)']\n",
    "\n",
    "steps = range(12)\n",
    "\n",
    "times = [[0 for j in steps] for i in columns]\n",
    "\n",
    "for i in steps:\n",
    "    size = 2**i\n",
    "    stdout.write(f'{size}')\n",
    "    times[0][i] = size\n",
    "    A = Matrix([[random() for x in range(size)] for y in range(size)])\n",
    "    B = Matrix([[random() for x in range(size)] for y in range(size)])\n",
    "\n",
    "    j = 1\n",
    "\n",
    "    for funct in ['gauss_matrix_mult', 'm_o.strassen_matrix_mult', 'm_i.strassen_matrix_mult', 'm_m.strassen_matrix_mult']:\n",
    "        T = timeit(f'{funct}(A,B)', globals=locals(), number=1) \n",
    "        stdout.write('\\t{:.3f}'.format(T)) \n",
    "        stdout.flush() \n",
    "        times[j][i] = T\n",
    "        j += 1\n",
    "\n",
    "    stdout.write('\\n')"
   ]
  },
  {
   "cell_type": "code",
   "execution_count": 40,
   "metadata": {},
   "outputs": [
    {
     "output_type": "display_data",
     "data": {
      "text/plain": "<Figure size 432x288 with 1 Axes>",
      "image/svg+xml": "<?xml version=\"1.0\" encoding=\"utf-8\" standalone=\"no\"?>\n<!DOCTYPE svg PUBLIC \"-//W3C//DTD SVG 1.1//EN\"\n  \"http://www.w3.org/Graphics/SVG/1.1/DTD/svg11.dtd\">\n<!-- Created with matplotlib (https://matplotlib.org/) -->\n<svg height=\"262.19625pt\" version=\"1.1\" viewBox=\"0 0 401.690625 262.19625\" width=\"401.690625pt\" xmlns=\"http://www.w3.org/2000/svg\" xmlns:xlink=\"http://www.w3.org/1999/xlink\">\n <metadata>\n  <rdf:RDF xmlns:cc=\"http://creativecommons.org/ns#\" xmlns:dc=\"http://purl.org/dc/elements/1.1/\" xmlns:rdf=\"http://www.w3.org/1999/02/22-rdf-syntax-ns#\">\n   <cc:Work>\n    <dc:type rdf:resource=\"http://purl.org/dc/dcmitype/StillImage\"/>\n    <dc:date>2021-03-17T22:49:15.660877</dc:date>\n    <dc:format>image/svg+xml</dc:format>\n    <dc:creator>\n     <cc:Agent>\n      <dc:title>Matplotlib v3.3.1, https://matplotlib.org/</dc:title>\n     </cc:Agent>\n    </dc:creator>\n   </cc:Work>\n  </rdf:RDF>\n </metadata>\n <defs>\n  <style type=\"text/css\">*{stroke-linecap:butt;stroke-linejoin:round;}</style>\n </defs>\n <g id=\"figure_1\">\n  <g id=\"patch_1\">\n   <path d=\"M 0 262.19625 \nL 401.690625 262.19625 \nL 401.690625 0 \nL 0 0 \nz\n\" style=\"fill:none;\"/>\n  </g>\n  <g id=\"axes_1\">\n   <g id=\"patch_2\">\n    <path d=\"M 59.690625 224.64 \nL 394.490625 224.64 \nL 394.490625 7.2 \nL 59.690625 7.2 \nz\n\" style=\"fill:#ffffff;\"/>\n   </g>\n   <g id=\"matplotlib.axis_1\">\n    <g id=\"xtick_1\">\n     <g id=\"line2d_1\">\n      <defs>\n       <path d=\"M 0 0 \nL 0 3.5 \n\" id=\"m2a844f5e09\" style=\"stroke:#000000;stroke-width:0.8;\"/>\n      </defs>\n      <g>\n       <use style=\"stroke:#000000;stroke-width:0.8;\" x=\"74.760119\" xlink:href=\"#m2a844f5e09\" y=\"224.64\"/>\n      </g>\n     </g>\n     <g id=\"text_1\">\n      <!-- 0 -->\n      <g transform=\"translate(71.578869 239.238437)scale(0.1 -0.1)\">\n       <defs>\n        <path d=\"M 31.78125 66.40625 \nQ 24.171875 66.40625 20.328125 58.90625 \nQ 16.5 51.421875 16.5 36.375 \nQ 16.5 21.390625 20.328125 13.890625 \nQ 24.171875 6.390625 31.78125 6.390625 \nQ 39.453125 6.390625 43.28125 13.890625 \nQ 47.125 21.390625 47.125 36.375 \nQ 47.125 51.421875 43.28125 58.90625 \nQ 39.453125 66.40625 31.78125 66.40625 \nz\nM 31.78125 74.21875 \nQ 44.046875 74.21875 50.515625 64.515625 \nQ 56.984375 54.828125 56.984375 36.375 \nQ 56.984375 17.96875 50.515625 8.265625 \nQ 44.046875 -1.421875 31.78125 -1.421875 \nQ 19.53125 -1.421875 13.0625 8.265625 \nQ 6.59375 17.96875 6.59375 36.375 \nQ 6.59375 54.828125 13.0625 64.515625 \nQ 19.53125 74.21875 31.78125 74.21875 \nz\n\" id=\"DejaVuSans-48\"/>\n       </defs>\n       <use xlink:href=\"#DejaVuSans-48\"/>\n      </g>\n     </g>\n    </g>\n    <g id=\"xtick_2\">\n     <g id=\"line2d_2\">\n      <g>\n       <use style=\"stroke:#000000;stroke-width:0.8;\" x=\"149.103948\" xlink:href=\"#m2a844f5e09\" y=\"224.64\"/>\n      </g>\n     </g>\n     <g id=\"text_2\">\n      <!-- 500 -->\n      <g transform=\"translate(139.560198 239.238437)scale(0.1 -0.1)\">\n       <defs>\n        <path d=\"M 10.796875 72.90625 \nL 49.515625 72.90625 \nL 49.515625 64.59375 \nL 19.828125 64.59375 \nL 19.828125 46.734375 \nQ 21.96875 47.46875 24.109375 47.828125 \nQ 26.265625 48.1875 28.421875 48.1875 \nQ 40.625 48.1875 47.75 41.5 \nQ 54.890625 34.8125 54.890625 23.390625 \nQ 54.890625 11.625 47.5625 5.09375 \nQ 40.234375 -1.421875 26.90625 -1.421875 \nQ 22.3125 -1.421875 17.546875 -0.640625 \nQ 12.796875 0.140625 7.71875 1.703125 \nL 7.71875 11.625 \nQ 12.109375 9.234375 16.796875 8.0625 \nQ 21.484375 6.890625 26.703125 6.890625 \nQ 35.15625 6.890625 40.078125 11.328125 \nQ 45.015625 15.765625 45.015625 23.390625 \nQ 45.015625 31 40.078125 35.4375 \nQ 35.15625 39.890625 26.703125 39.890625 \nQ 22.75 39.890625 18.8125 39.015625 \nQ 14.890625 38.140625 10.796875 36.28125 \nz\n\" id=\"DejaVuSans-53\"/>\n       </defs>\n       <use xlink:href=\"#DejaVuSans-53\"/>\n       <use x=\"63.623047\" xlink:href=\"#DejaVuSans-48\"/>\n       <use x=\"127.246094\" xlink:href=\"#DejaVuSans-48\"/>\n      </g>\n     </g>\n    </g>\n    <g id=\"xtick_3\">\n     <g id=\"line2d_3\">\n      <g>\n       <use style=\"stroke:#000000;stroke-width:0.8;\" x=\"223.447777\" xlink:href=\"#m2a844f5e09\" y=\"224.64\"/>\n      </g>\n     </g>\n     <g id=\"text_3\">\n      <!-- 1000 -->\n      <g transform=\"translate(210.722777 239.238437)scale(0.1 -0.1)\">\n       <defs>\n        <path d=\"M 12.40625 8.296875 \nL 28.515625 8.296875 \nL 28.515625 63.921875 \nL 10.984375 60.40625 \nL 10.984375 69.390625 \nL 28.421875 72.90625 \nL 38.28125 72.90625 \nL 38.28125 8.296875 \nL 54.390625 8.296875 \nL 54.390625 0 \nL 12.40625 0 \nz\n\" id=\"DejaVuSans-49\"/>\n       </defs>\n       <use xlink:href=\"#DejaVuSans-49\"/>\n       <use x=\"63.623047\" xlink:href=\"#DejaVuSans-48\"/>\n       <use x=\"127.246094\" xlink:href=\"#DejaVuSans-48\"/>\n       <use x=\"190.869141\" xlink:href=\"#DejaVuSans-48\"/>\n      </g>\n     </g>\n    </g>\n    <g id=\"xtick_4\">\n     <g id=\"line2d_4\">\n      <g>\n       <use style=\"stroke:#000000;stroke-width:0.8;\" x=\"297.791606\" xlink:href=\"#m2a844f5e09\" y=\"224.64\"/>\n      </g>\n     </g>\n     <g id=\"text_4\">\n      <!-- 1500 -->\n      <g transform=\"translate(285.066606 239.238437)scale(0.1 -0.1)\">\n       <use xlink:href=\"#DejaVuSans-49\"/>\n       <use x=\"63.623047\" xlink:href=\"#DejaVuSans-53\"/>\n       <use x=\"127.246094\" xlink:href=\"#DejaVuSans-48\"/>\n       <use x=\"190.869141\" xlink:href=\"#DejaVuSans-48\"/>\n      </g>\n     </g>\n    </g>\n    <g id=\"xtick_5\">\n     <g id=\"line2d_5\">\n      <g>\n       <use style=\"stroke:#000000;stroke-width:0.8;\" x=\"372.135436\" xlink:href=\"#m2a844f5e09\" y=\"224.64\"/>\n      </g>\n     </g>\n     <g id=\"text_5\">\n      <!-- 2000 -->\n      <g transform=\"translate(359.410436 239.238437)scale(0.1 -0.1)\">\n       <defs>\n        <path d=\"M 19.1875 8.296875 \nL 53.609375 8.296875 \nL 53.609375 0 \nL 7.328125 0 \nL 7.328125 8.296875 \nQ 12.9375 14.109375 22.625 23.890625 \nQ 32.328125 33.6875 34.8125 36.53125 \nQ 39.546875 41.84375 41.421875 45.53125 \nQ 43.3125 49.21875 43.3125 52.78125 \nQ 43.3125 58.59375 39.234375 62.25 \nQ 35.15625 65.921875 28.609375 65.921875 \nQ 23.96875 65.921875 18.8125 64.3125 \nQ 13.671875 62.703125 7.8125 59.421875 \nL 7.8125 69.390625 \nQ 13.765625 71.78125 18.9375 73 \nQ 24.125 74.21875 28.421875 74.21875 \nQ 39.75 74.21875 46.484375 68.546875 \nQ 53.21875 62.890625 53.21875 53.421875 \nQ 53.21875 48.921875 51.53125 44.890625 \nQ 49.859375 40.875 45.40625 35.40625 \nQ 44.1875 33.984375 37.640625 27.21875 \nQ 31.109375 20.453125 19.1875 8.296875 \nz\n\" id=\"DejaVuSans-50\"/>\n       </defs>\n       <use xlink:href=\"#DejaVuSans-50\"/>\n       <use x=\"63.623047\" xlink:href=\"#DejaVuSans-48\"/>\n       <use x=\"127.246094\" xlink:href=\"#DejaVuSans-48\"/>\n       <use x=\"190.869141\" xlink:href=\"#DejaVuSans-48\"/>\n      </g>\n     </g>\n    </g>\n    <g id=\"text_6\">\n     <!-- size -->\n     <g transform=\"translate(217.396094 252.916562)scale(0.1 -0.1)\">\n      <defs>\n       <path d=\"M 44.28125 53.078125 \nL 44.28125 44.578125 \nQ 40.484375 46.53125 36.375 47.5 \nQ 32.28125 48.484375 27.875 48.484375 \nQ 21.1875 48.484375 17.84375 46.4375 \nQ 14.5 44.390625 14.5 40.28125 \nQ 14.5 37.15625 16.890625 35.375 \nQ 19.28125 33.59375 26.515625 31.984375 \nL 29.59375 31.296875 \nQ 39.15625 29.25 43.1875 25.515625 \nQ 47.21875 21.78125 47.21875 15.09375 \nQ 47.21875 7.46875 41.1875 3.015625 \nQ 35.15625 -1.421875 24.609375 -1.421875 \nQ 20.21875 -1.421875 15.453125 -0.5625 \nQ 10.6875 0.296875 5.421875 2 \nL 5.421875 11.28125 \nQ 10.40625 8.6875 15.234375 7.390625 \nQ 20.0625 6.109375 24.8125 6.109375 \nQ 31.15625 6.109375 34.5625 8.28125 \nQ 37.984375 10.453125 37.984375 14.40625 \nQ 37.984375 18.0625 35.515625 20.015625 \nQ 33.0625 21.96875 24.703125 23.78125 \nL 21.578125 24.515625 \nQ 13.234375 26.265625 9.515625 29.90625 \nQ 5.8125 33.546875 5.8125 39.890625 \nQ 5.8125 47.609375 11.28125 51.796875 \nQ 16.75 56 26.8125 56 \nQ 31.78125 56 36.171875 55.265625 \nQ 40.578125 54.546875 44.28125 53.078125 \nz\n\" id=\"DejaVuSans-115\"/>\n       <path d=\"M 9.421875 54.6875 \nL 18.40625 54.6875 \nL 18.40625 0 \nL 9.421875 0 \nz\nM 9.421875 75.984375 \nL 18.40625 75.984375 \nL 18.40625 64.59375 \nL 9.421875 64.59375 \nz\n\" id=\"DejaVuSans-105\"/>\n       <path d=\"M 5.515625 54.6875 \nL 48.1875 54.6875 \nL 48.1875 46.484375 \nL 14.40625 7.171875 \nL 48.1875 7.171875 \nL 48.1875 0 \nL 4.296875 0 \nL 4.296875 8.203125 \nL 38.09375 47.515625 \nL 5.515625 47.515625 \nz\n\" id=\"DejaVuSans-122\"/>\n       <path d=\"M 56.203125 29.59375 \nL 56.203125 25.203125 \nL 14.890625 25.203125 \nQ 15.484375 15.921875 20.484375 11.0625 \nQ 25.484375 6.203125 34.421875 6.203125 \nQ 39.59375 6.203125 44.453125 7.46875 \nQ 49.3125 8.734375 54.109375 11.28125 \nL 54.109375 2.78125 \nQ 49.265625 0.734375 44.1875 -0.34375 \nQ 39.109375 -1.421875 33.890625 -1.421875 \nQ 20.796875 -1.421875 13.15625 6.1875 \nQ 5.515625 13.8125 5.515625 26.8125 \nQ 5.515625 40.234375 12.765625 48.109375 \nQ 20.015625 56 32.328125 56 \nQ 43.359375 56 49.78125 48.890625 \nQ 56.203125 41.796875 56.203125 29.59375 \nz\nM 47.21875 32.234375 \nQ 47.125 39.59375 43.09375 43.984375 \nQ 39.0625 48.390625 32.421875 48.390625 \nQ 24.90625 48.390625 20.390625 44.140625 \nQ 15.875 39.890625 15.1875 32.171875 \nz\n\" id=\"DejaVuSans-101\"/>\n      </defs>\n      <use xlink:href=\"#DejaVuSans-115\"/>\n      <use x=\"52.099609\" xlink:href=\"#DejaVuSans-105\"/>\n      <use x=\"79.882812\" xlink:href=\"#DejaVuSans-122\"/>\n      <use x=\"132.373047\" xlink:href=\"#DejaVuSans-101\"/>\n     </g>\n    </g>\n   </g>\n   <g id=\"matplotlib.axis_2\">\n    <g id=\"ytick_1\">\n     <g id=\"line2d_6\">\n      <defs>\n       <path d=\"M 0 0 \nL -3.5 0 \n\" id=\"m162d6a2937\" style=\"stroke:#000000;stroke-width:0.8;\"/>\n      </defs>\n      <g>\n       <use style=\"stroke:#000000;stroke-width:0.8;\" x=\"59.690625\" xlink:href=\"#m162d6a2937\" y=\"214.756364\"/>\n      </g>\n     </g>\n     <g id=\"text_7\">\n      <!-- 0 -->\n      <g transform=\"translate(46.328125 218.555582)scale(0.1 -0.1)\">\n       <use xlink:href=\"#DejaVuSans-48\"/>\n      </g>\n     </g>\n    </g>\n    <g id=\"ytick_2\">\n     <g id=\"line2d_7\">\n      <g>\n       <use style=\"stroke:#000000;stroke-width:0.8;\" x=\"59.690625\" xlink:href=\"#m162d6a2937\" y=\"187.780381\"/>\n      </g>\n     </g>\n     <g id=\"text_8\">\n      <!-- 5000 -->\n      <g transform=\"translate(27.240625 191.579599)scale(0.1 -0.1)\">\n       <use xlink:href=\"#DejaVuSans-53\"/>\n       <use x=\"63.623047\" xlink:href=\"#DejaVuSans-48\"/>\n       <use x=\"127.246094\" xlink:href=\"#DejaVuSans-48\"/>\n       <use x=\"190.869141\" xlink:href=\"#DejaVuSans-48\"/>\n      </g>\n     </g>\n    </g>\n    <g id=\"ytick_3\">\n     <g id=\"line2d_8\">\n      <g>\n       <use style=\"stroke:#000000;stroke-width:0.8;\" x=\"59.690625\" xlink:href=\"#m162d6a2937\" y=\"160.804397\"/>\n      </g>\n     </g>\n     <g id=\"text_9\">\n      <!-- 10000 -->\n      <g transform=\"translate(20.878125 164.603616)scale(0.1 -0.1)\">\n       <use xlink:href=\"#DejaVuSans-49\"/>\n       <use x=\"63.623047\" xlink:href=\"#DejaVuSans-48\"/>\n       <use x=\"127.246094\" xlink:href=\"#DejaVuSans-48\"/>\n       <use x=\"190.869141\" xlink:href=\"#DejaVuSans-48\"/>\n       <use x=\"254.492188\" xlink:href=\"#DejaVuSans-48\"/>\n      </g>\n     </g>\n    </g>\n    <g id=\"ytick_4\">\n     <g id=\"line2d_9\">\n      <g>\n       <use style=\"stroke:#000000;stroke-width:0.8;\" x=\"59.690625\" xlink:href=\"#m162d6a2937\" y=\"133.828414\"/>\n      </g>\n     </g>\n     <g id=\"text_10\">\n      <!-- 15000 -->\n      <g transform=\"translate(20.878125 137.627633)scale(0.1 -0.1)\">\n       <use xlink:href=\"#DejaVuSans-49\"/>\n       <use x=\"63.623047\" xlink:href=\"#DejaVuSans-53\"/>\n       <use x=\"127.246094\" xlink:href=\"#DejaVuSans-48\"/>\n       <use x=\"190.869141\" xlink:href=\"#DejaVuSans-48\"/>\n       <use x=\"254.492188\" xlink:href=\"#DejaVuSans-48\"/>\n      </g>\n     </g>\n    </g>\n    <g id=\"ytick_5\">\n     <g id=\"line2d_10\">\n      <g>\n       <use style=\"stroke:#000000;stroke-width:0.8;\" x=\"59.690625\" xlink:href=\"#m162d6a2937\" y=\"106.852431\"/>\n      </g>\n     </g>\n     <g id=\"text_11\">\n      <!-- 20000 -->\n      <g transform=\"translate(20.878125 110.65165)scale(0.1 -0.1)\">\n       <use xlink:href=\"#DejaVuSans-50\"/>\n       <use x=\"63.623047\" xlink:href=\"#DejaVuSans-48\"/>\n       <use x=\"127.246094\" xlink:href=\"#DejaVuSans-48\"/>\n       <use x=\"190.869141\" xlink:href=\"#DejaVuSans-48\"/>\n       <use x=\"254.492188\" xlink:href=\"#DejaVuSans-48\"/>\n      </g>\n     </g>\n    </g>\n    <g id=\"ytick_6\">\n     <g id=\"line2d_11\">\n      <g>\n       <use style=\"stroke:#000000;stroke-width:0.8;\" x=\"59.690625\" xlink:href=\"#m162d6a2937\" y=\"79.876448\"/>\n      </g>\n     </g>\n     <g id=\"text_12\">\n      <!-- 25000 -->\n      <g transform=\"translate(20.878125 83.675667)scale(0.1 -0.1)\">\n       <use xlink:href=\"#DejaVuSans-50\"/>\n       <use x=\"63.623047\" xlink:href=\"#DejaVuSans-53\"/>\n       <use x=\"127.246094\" xlink:href=\"#DejaVuSans-48\"/>\n       <use x=\"190.869141\" xlink:href=\"#DejaVuSans-48\"/>\n       <use x=\"254.492188\" xlink:href=\"#DejaVuSans-48\"/>\n      </g>\n     </g>\n    </g>\n    <g id=\"ytick_7\">\n     <g id=\"line2d_12\">\n      <g>\n       <use style=\"stroke:#000000;stroke-width:0.8;\" x=\"59.690625\" xlink:href=\"#m162d6a2937\" y=\"52.900465\"/>\n      </g>\n     </g>\n     <g id=\"text_13\">\n      <!-- 30000 -->\n      <g transform=\"translate(20.878125 56.699683)scale(0.1 -0.1)\">\n       <defs>\n        <path d=\"M 40.578125 39.3125 \nQ 47.65625 37.796875 51.625 33 \nQ 55.609375 28.21875 55.609375 21.1875 \nQ 55.609375 10.40625 48.1875 4.484375 \nQ 40.765625 -1.421875 27.09375 -1.421875 \nQ 22.515625 -1.421875 17.65625 -0.515625 \nQ 12.796875 0.390625 7.625 2.203125 \nL 7.625 11.71875 \nQ 11.71875 9.328125 16.59375 8.109375 \nQ 21.484375 6.890625 26.8125 6.890625 \nQ 36.078125 6.890625 40.9375 10.546875 \nQ 45.796875 14.203125 45.796875 21.1875 \nQ 45.796875 27.640625 41.28125 31.265625 \nQ 36.765625 34.90625 28.71875 34.90625 \nL 20.21875 34.90625 \nL 20.21875 43.015625 \nL 29.109375 43.015625 \nQ 36.375 43.015625 40.234375 45.921875 \nQ 44.09375 48.828125 44.09375 54.296875 \nQ 44.09375 59.90625 40.109375 62.90625 \nQ 36.140625 65.921875 28.71875 65.921875 \nQ 24.65625 65.921875 20.015625 65.03125 \nQ 15.375 64.15625 9.8125 62.3125 \nL 9.8125 71.09375 \nQ 15.4375 72.65625 20.34375 73.4375 \nQ 25.25 74.21875 29.59375 74.21875 \nQ 40.828125 74.21875 47.359375 69.109375 \nQ 53.90625 64.015625 53.90625 55.328125 \nQ 53.90625 49.265625 50.4375 45.09375 \nQ 46.96875 40.921875 40.578125 39.3125 \nz\n\" id=\"DejaVuSans-51\"/>\n       </defs>\n       <use xlink:href=\"#DejaVuSans-51\"/>\n       <use x=\"63.623047\" xlink:href=\"#DejaVuSans-48\"/>\n       <use x=\"127.246094\" xlink:href=\"#DejaVuSans-48\"/>\n       <use x=\"190.869141\" xlink:href=\"#DejaVuSans-48\"/>\n       <use x=\"254.492188\" xlink:href=\"#DejaVuSans-48\"/>\n      </g>\n     </g>\n    </g>\n    <g id=\"ytick_8\">\n     <g id=\"line2d_13\">\n      <g>\n       <use style=\"stroke:#000000;stroke-width:0.8;\" x=\"59.690625\" xlink:href=\"#m162d6a2937\" y=\"25.924481\"/>\n      </g>\n     </g>\n     <g id=\"text_14\">\n      <!-- 35000 -->\n      <g transform=\"translate(20.878125 29.7237)scale(0.1 -0.1)\">\n       <use xlink:href=\"#DejaVuSans-51\"/>\n       <use x=\"63.623047\" xlink:href=\"#DejaVuSans-53\"/>\n       <use x=\"127.246094\" xlink:href=\"#DejaVuSans-48\"/>\n       <use x=\"190.869141\" xlink:href=\"#DejaVuSans-48\"/>\n       <use x=\"254.492188\" xlink:href=\"#DejaVuSans-48\"/>\n      </g>\n     </g>\n    </g>\n    <g id=\"text_15\">\n     <!-- execution time (s) -->\n     <g transform=\"translate(14.798438 161.264531)rotate(-90)scale(0.1 -0.1)\">\n      <defs>\n       <path d=\"M 54.890625 54.6875 \nL 35.109375 28.078125 \nL 55.90625 0 \nL 45.3125 0 \nL 29.390625 21.484375 \nL 13.484375 0 \nL 2.875 0 \nL 24.125 28.609375 \nL 4.6875 54.6875 \nL 15.28125 54.6875 \nL 29.78125 35.203125 \nL 44.28125 54.6875 \nz\n\" id=\"DejaVuSans-120\"/>\n       <path d=\"M 48.78125 52.59375 \nL 48.78125 44.1875 \nQ 44.96875 46.296875 41.140625 47.34375 \nQ 37.3125 48.390625 33.40625 48.390625 \nQ 24.65625 48.390625 19.8125 42.84375 \nQ 14.984375 37.3125 14.984375 27.296875 \nQ 14.984375 17.28125 19.8125 11.734375 \nQ 24.65625 6.203125 33.40625 6.203125 \nQ 37.3125 6.203125 41.140625 7.25 \nQ 44.96875 8.296875 48.78125 10.40625 \nL 48.78125 2.09375 \nQ 45.015625 0.34375 40.984375 -0.53125 \nQ 36.96875 -1.421875 32.421875 -1.421875 \nQ 20.0625 -1.421875 12.78125 6.34375 \nQ 5.515625 14.109375 5.515625 27.296875 \nQ 5.515625 40.671875 12.859375 48.328125 \nQ 20.21875 56 33.015625 56 \nQ 37.15625 56 41.109375 55.140625 \nQ 45.0625 54.296875 48.78125 52.59375 \nz\n\" id=\"DejaVuSans-99\"/>\n       <path d=\"M 8.5 21.578125 \nL 8.5 54.6875 \nL 17.484375 54.6875 \nL 17.484375 21.921875 \nQ 17.484375 14.15625 20.5 10.265625 \nQ 23.53125 6.390625 29.59375 6.390625 \nQ 36.859375 6.390625 41.078125 11.03125 \nQ 45.3125 15.671875 45.3125 23.6875 \nL 45.3125 54.6875 \nL 54.296875 54.6875 \nL 54.296875 0 \nL 45.3125 0 \nL 45.3125 8.40625 \nQ 42.046875 3.421875 37.71875 1 \nQ 33.40625 -1.421875 27.6875 -1.421875 \nQ 18.265625 -1.421875 13.375 4.4375 \nQ 8.5 10.296875 8.5 21.578125 \nz\nM 31.109375 56 \nz\n\" id=\"DejaVuSans-117\"/>\n       <path d=\"M 18.3125 70.21875 \nL 18.3125 54.6875 \nL 36.8125 54.6875 \nL 36.8125 47.703125 \nL 18.3125 47.703125 \nL 18.3125 18.015625 \nQ 18.3125 11.328125 20.140625 9.421875 \nQ 21.96875 7.515625 27.59375 7.515625 \nL 36.8125 7.515625 \nL 36.8125 0 \nL 27.59375 0 \nQ 17.1875 0 13.234375 3.875 \nQ 9.28125 7.765625 9.28125 18.015625 \nL 9.28125 47.703125 \nL 2.6875 47.703125 \nL 2.6875 54.6875 \nL 9.28125 54.6875 \nL 9.28125 70.21875 \nz\n\" id=\"DejaVuSans-116\"/>\n       <path d=\"M 30.609375 48.390625 \nQ 23.390625 48.390625 19.1875 42.75 \nQ 14.984375 37.109375 14.984375 27.296875 \nQ 14.984375 17.484375 19.15625 11.84375 \nQ 23.34375 6.203125 30.609375 6.203125 \nQ 37.796875 6.203125 41.984375 11.859375 \nQ 46.1875 17.53125 46.1875 27.296875 \nQ 46.1875 37.015625 41.984375 42.703125 \nQ 37.796875 48.390625 30.609375 48.390625 \nz\nM 30.609375 56 \nQ 42.328125 56 49.015625 48.375 \nQ 55.71875 40.765625 55.71875 27.296875 \nQ 55.71875 13.875 49.015625 6.21875 \nQ 42.328125 -1.421875 30.609375 -1.421875 \nQ 18.84375 -1.421875 12.171875 6.21875 \nQ 5.515625 13.875 5.515625 27.296875 \nQ 5.515625 40.765625 12.171875 48.375 \nQ 18.84375 56 30.609375 56 \nz\n\" id=\"DejaVuSans-111\"/>\n       <path d=\"M 54.890625 33.015625 \nL 54.890625 0 \nL 45.90625 0 \nL 45.90625 32.71875 \nQ 45.90625 40.484375 42.875 44.328125 \nQ 39.84375 48.1875 33.796875 48.1875 \nQ 26.515625 48.1875 22.3125 43.546875 \nQ 18.109375 38.921875 18.109375 30.90625 \nL 18.109375 0 \nL 9.078125 0 \nL 9.078125 54.6875 \nL 18.109375 54.6875 \nL 18.109375 46.1875 \nQ 21.34375 51.125 25.703125 53.5625 \nQ 30.078125 56 35.796875 56 \nQ 45.21875 56 50.046875 50.171875 \nQ 54.890625 44.34375 54.890625 33.015625 \nz\n\" id=\"DejaVuSans-110\"/>\n       <path id=\"DejaVuSans-32\"/>\n       <path d=\"M 52 44.1875 \nQ 55.375 50.25 60.0625 53.125 \nQ 64.75 56 71.09375 56 \nQ 79.640625 56 84.28125 50.015625 \nQ 88.921875 44.046875 88.921875 33.015625 \nL 88.921875 0 \nL 79.890625 0 \nL 79.890625 32.71875 \nQ 79.890625 40.578125 77.09375 44.375 \nQ 74.3125 48.1875 68.609375 48.1875 \nQ 61.625 48.1875 57.5625 43.546875 \nQ 53.515625 38.921875 53.515625 30.90625 \nL 53.515625 0 \nL 44.484375 0 \nL 44.484375 32.71875 \nQ 44.484375 40.625 41.703125 44.40625 \nQ 38.921875 48.1875 33.109375 48.1875 \nQ 26.21875 48.1875 22.15625 43.53125 \nQ 18.109375 38.875 18.109375 30.90625 \nL 18.109375 0 \nL 9.078125 0 \nL 9.078125 54.6875 \nL 18.109375 54.6875 \nL 18.109375 46.1875 \nQ 21.1875 51.21875 25.484375 53.609375 \nQ 29.78125 56 35.6875 56 \nQ 41.65625 56 45.828125 52.96875 \nQ 50 49.953125 52 44.1875 \nz\n\" id=\"DejaVuSans-109\"/>\n       <path d=\"M 31 75.875 \nQ 24.46875 64.65625 21.28125 53.65625 \nQ 18.109375 42.671875 18.109375 31.390625 \nQ 18.109375 20.125 21.3125 9.0625 \nQ 24.515625 -2 31 -13.1875 \nL 23.1875 -13.1875 \nQ 15.875 -1.703125 12.234375 9.375 \nQ 8.59375 20.453125 8.59375 31.390625 \nQ 8.59375 42.28125 12.203125 53.3125 \nQ 15.828125 64.359375 23.1875 75.875 \nz\n\" id=\"DejaVuSans-40\"/>\n       <path d=\"M 8.015625 75.875 \nL 15.828125 75.875 \nQ 23.140625 64.359375 26.78125 53.3125 \nQ 30.421875 42.28125 30.421875 31.390625 \nQ 30.421875 20.453125 26.78125 9.375 \nQ 23.140625 -1.703125 15.828125 -13.1875 \nL 8.015625 -13.1875 \nQ 14.5 -2 17.703125 9.0625 \nQ 20.90625 20.125 20.90625 31.390625 \nQ 20.90625 42.671875 17.703125 53.65625 \nQ 14.5 64.65625 8.015625 75.875 \nz\n\" id=\"DejaVuSans-41\"/>\n      </defs>\n      <use xlink:href=\"#DejaVuSans-101\"/>\n      <use x=\"59.773438\" xlink:href=\"#DejaVuSans-120\"/>\n      <use x=\"115.828125\" xlink:href=\"#DejaVuSans-101\"/>\n      <use x=\"177.351562\" xlink:href=\"#DejaVuSans-99\"/>\n      <use x=\"232.332031\" xlink:href=\"#DejaVuSans-117\"/>\n      <use x=\"295.710938\" xlink:href=\"#DejaVuSans-116\"/>\n      <use x=\"334.919922\" xlink:href=\"#DejaVuSans-105\"/>\n      <use x=\"362.703125\" xlink:href=\"#DejaVuSans-111\"/>\n      <use x=\"423.884766\" xlink:href=\"#DejaVuSans-110\"/>\n      <use x=\"487.263672\" xlink:href=\"#DejaVuSans-32\"/>\n      <use x=\"519.050781\" xlink:href=\"#DejaVuSans-116\"/>\n      <use x=\"558.259766\" xlink:href=\"#DejaVuSans-105\"/>\n      <use x=\"586.042969\" xlink:href=\"#DejaVuSans-109\"/>\n      <use x=\"683.455078\" xlink:href=\"#DejaVuSans-101\"/>\n      <use x=\"744.978516\" xlink:href=\"#DejaVuSans-32\"/>\n      <use x=\"776.765625\" xlink:href=\"#DejaVuSans-40\"/>\n      <use x=\"815.779297\" xlink:href=\"#DejaVuSans-115\"/>\n      <use x=\"867.878906\" xlink:href=\"#DejaVuSans-41\"/>\n     </g>\n    </g>\n   </g>\n   <g id=\"line2d_14\">\n    <path clip-path=\"url(#pb1691cd95d)\" d=\"M 74.908807 214.756364 \nL 75.057494 214.756364 \nL 75.35487 214.756363 \nL 75.94962 214.756361 \nL 77.139122 214.756349 \nL 79.518124 214.756286 \nL 84.276129 214.755834 \nL 93.792139 214.753141 \nL 112.82416 214.733485 \nL 150.8882 214.526275 \nL 227.016281 213.043019 \nL 379.272443 198.698848 \n\" style=\"fill:none;stroke:#1f77b4;stroke-linecap:square;stroke-width:1.5;\"/>\n   </g>\n   <g id=\"line2d_15\">\n    <path clip-path=\"url(#pb1691cd95d)\" d=\"M 74.908807 214.756364 \nL 75.057494 214.756364 \nL 75.35487 214.756363 \nL 75.94962 214.756362 \nL 77.139122 214.756349 \nL 79.518124 214.756286 \nL 84.276129 214.755911 \nL 93.792139 214.753889 \nL 112.82416 214.739006 \nL 150.8882 214.600549 \nL 227.016281 213.793635 \nL 379.272443 207.379273 \n\" style=\"fill:none;stroke:#ff7f0e;stroke-linecap:square;stroke-width:1.5;\"/>\n   </g>\n   <g id=\"line2d_16\">\n    <path clip-path=\"url(#pb1691cd95d)\" d=\"M 74.908807 214.756364 \nL 75.057494 214.756364 \nL 75.35487 214.756363 \nL 75.94962 214.756361 \nL 77.139122 214.756348 \nL 79.518124 214.7563 \nL 84.276129 214.755908 \nL 93.792139 214.753697 \nL 112.82416 214.737585 \nL 150.8882 214.591489 \nL 227.016281 213.71555 \nL 379.272443 206.660458 \n\" style=\"fill:none;stroke:#2ca02c;stroke-linecap:square;stroke-width:1.5;\"/>\n   </g>\n   <g id=\"line2d_17\">\n    <path clip-path=\"url(#pb1691cd95d)\" d=\"M 74.908807 214.756364 \nL 75.057494 214.756364 \nL 75.35487 214.756363 \nL 75.94962 214.756361 \nL 77.139122 214.756348 \nL 79.518124 214.756292 \nL 84.276129 214.755667 \nL 93.792139 214.748937 \nL 112.82416 214.656991 \nL 150.8882 213.574157 \nL 227.016281 198.824397 \nL 379.272443 17.083636 \n\" style=\"fill:none;stroke:#d62728;stroke-linecap:square;stroke-width:1.5;\"/>\n   </g>\n   <g id=\"patch_3\">\n    <path d=\"M 59.690625 224.64 \nL 59.690625 7.2 \n\" style=\"fill:none;stroke:#000000;stroke-linecap:square;stroke-linejoin:miter;stroke-width:0.8;\"/>\n   </g>\n   <g id=\"patch_4\">\n    <path d=\"M 394.490625 224.64 \nL 394.490625 7.2 \n\" style=\"fill:none;stroke:#000000;stroke-linecap:square;stroke-linejoin:miter;stroke-width:0.8;\"/>\n   </g>\n   <g id=\"patch_5\">\n    <path d=\"M 59.690625 224.64 \nL 394.490625 224.64 \n\" style=\"fill:none;stroke:#000000;stroke-linecap:square;stroke-linejoin:miter;stroke-width:0.8;\"/>\n   </g>\n   <g id=\"patch_6\">\n    <path d=\"M 59.690625 7.2 \nL 394.490625 7.2 \n\" style=\"fill:none;stroke:#000000;stroke-linecap:square;stroke-linejoin:miter;stroke-width:0.8;\"/>\n   </g>\n   <g id=\"legend_1\">\n    <g id=\"patch_7\">\n     <path d=\"M 66.690625 73.9125 \nL 307.575 73.9125 \nQ 309.575 73.9125 309.575 71.9125 \nL 309.575 14.2 \nQ 309.575 12.2 307.575 12.2 \nL 66.690625 12.2 \nQ 64.690625 12.2 64.690625 14.2 \nL 64.690625 71.9125 \nQ 64.690625 73.9125 66.690625 73.9125 \nz\n\" style=\"fill:#ffffff;opacity:0.8;stroke:#cccccc;stroke-linejoin:miter;\"/>\n    </g>\n    <g id=\"line2d_18\">\n     <path d=\"M 68.690625 20.298437 \nL 88.690625 20.298437 \n\" style=\"fill:none;stroke:#1f77b4;stroke-linecap:square;stroke-width:1.5;\"/>\n    </g>\n    <g id=\"line2d_19\"/>\n    <g id=\"text_16\">\n     <!-- Gauss matrix multiplication -->\n     <g transform=\"translate(96.690625 23.798437)scale(0.1 -0.1)\">\n      <defs>\n       <path d=\"M 59.515625 10.40625 \nL 59.515625 29.984375 \nL 43.40625 29.984375 \nL 43.40625 38.09375 \nL 69.28125 38.09375 \nL 69.28125 6.78125 \nQ 63.578125 2.734375 56.6875 0.65625 \nQ 49.8125 -1.421875 42 -1.421875 \nQ 24.90625 -1.421875 15.25 8.5625 \nQ 5.609375 18.5625 5.609375 36.375 \nQ 5.609375 54.25 15.25 64.234375 \nQ 24.90625 74.21875 42 74.21875 \nQ 49.125 74.21875 55.546875 72.453125 \nQ 61.96875 70.703125 67.390625 67.28125 \nL 67.390625 56.78125 \nQ 61.921875 61.421875 55.765625 63.765625 \nQ 49.609375 66.109375 42.828125 66.109375 \nQ 29.4375 66.109375 22.71875 58.640625 \nQ 16.015625 51.171875 16.015625 36.375 \nQ 16.015625 21.625 22.71875 14.15625 \nQ 29.4375 6.6875 42.828125 6.6875 \nQ 48.046875 6.6875 52.140625 7.59375 \nQ 56.25 8.5 59.515625 10.40625 \nz\n\" id=\"DejaVuSans-71\"/>\n       <path d=\"M 34.28125 27.484375 \nQ 23.390625 27.484375 19.1875 25 \nQ 14.984375 22.515625 14.984375 16.5 \nQ 14.984375 11.71875 18.140625 8.90625 \nQ 21.296875 6.109375 26.703125 6.109375 \nQ 34.1875 6.109375 38.703125 11.40625 \nQ 43.21875 16.703125 43.21875 25.484375 \nL 43.21875 27.484375 \nz\nM 52.203125 31.203125 \nL 52.203125 0 \nL 43.21875 0 \nL 43.21875 8.296875 \nQ 40.140625 3.328125 35.546875 0.953125 \nQ 30.953125 -1.421875 24.3125 -1.421875 \nQ 15.921875 -1.421875 10.953125 3.296875 \nQ 6 8.015625 6 15.921875 \nQ 6 25.140625 12.171875 29.828125 \nQ 18.359375 34.515625 30.609375 34.515625 \nL 43.21875 34.515625 \nL 43.21875 35.40625 \nQ 43.21875 41.609375 39.140625 45 \nQ 35.0625 48.390625 27.6875 48.390625 \nQ 23 48.390625 18.546875 47.265625 \nQ 14.109375 46.140625 10.015625 43.890625 \nL 10.015625 52.203125 \nQ 14.9375 54.109375 19.578125 55.046875 \nQ 24.21875 56 28.609375 56 \nQ 40.484375 56 46.34375 49.84375 \nQ 52.203125 43.703125 52.203125 31.203125 \nz\n\" id=\"DejaVuSans-97\"/>\n       <path d=\"M 41.109375 46.296875 \nQ 39.59375 47.171875 37.8125 47.578125 \nQ 36.03125 48 33.890625 48 \nQ 26.265625 48 22.1875 43.046875 \nQ 18.109375 38.09375 18.109375 28.8125 \nL 18.109375 0 \nL 9.078125 0 \nL 9.078125 54.6875 \nL 18.109375 54.6875 \nL 18.109375 46.1875 \nQ 20.953125 51.171875 25.484375 53.578125 \nQ 30.03125 56 36.53125 56 \nQ 37.453125 56 38.578125 55.875 \nQ 39.703125 55.765625 41.0625 55.515625 \nz\n\" id=\"DejaVuSans-114\"/>\n       <path d=\"M 9.421875 75.984375 \nL 18.40625 75.984375 \nL 18.40625 0 \nL 9.421875 0 \nz\n\" id=\"DejaVuSans-108\"/>\n       <path d=\"M 18.109375 8.203125 \nL 18.109375 -20.796875 \nL 9.078125 -20.796875 \nL 9.078125 54.6875 \nL 18.109375 54.6875 \nL 18.109375 46.390625 \nQ 20.953125 51.265625 25.265625 53.625 \nQ 29.59375 56 35.59375 56 \nQ 45.5625 56 51.78125 48.09375 \nQ 58.015625 40.1875 58.015625 27.296875 \nQ 58.015625 14.40625 51.78125 6.484375 \nQ 45.5625 -1.421875 35.59375 -1.421875 \nQ 29.59375 -1.421875 25.265625 0.953125 \nQ 20.953125 3.328125 18.109375 8.203125 \nz\nM 48.6875 27.296875 \nQ 48.6875 37.203125 44.609375 42.84375 \nQ 40.53125 48.484375 33.40625 48.484375 \nQ 26.265625 48.484375 22.1875 42.84375 \nQ 18.109375 37.203125 18.109375 27.296875 \nQ 18.109375 17.390625 22.1875 11.75 \nQ 26.265625 6.109375 33.40625 6.109375 \nQ 40.53125 6.109375 44.609375 11.75 \nQ 48.6875 17.390625 48.6875 27.296875 \nz\n\" id=\"DejaVuSans-112\"/>\n      </defs>\n      <use xlink:href=\"#DejaVuSans-71\"/>\n      <use x=\"77.490234\" xlink:href=\"#DejaVuSans-97\"/>\n      <use x=\"138.769531\" xlink:href=\"#DejaVuSans-117\"/>\n      <use x=\"202.148438\" xlink:href=\"#DejaVuSans-115\"/>\n      <use x=\"254.248047\" xlink:href=\"#DejaVuSans-115\"/>\n      <use x=\"306.347656\" xlink:href=\"#DejaVuSans-32\"/>\n      <use x=\"338.134766\" xlink:href=\"#DejaVuSans-109\"/>\n      <use x=\"435.546875\" xlink:href=\"#DejaVuSans-97\"/>\n      <use x=\"496.826172\" xlink:href=\"#DejaVuSans-116\"/>\n      <use x=\"536.035156\" xlink:href=\"#DejaVuSans-114\"/>\n      <use x=\"577.148438\" xlink:href=\"#DejaVuSans-105\"/>\n      <use x=\"604.931641\" xlink:href=\"#DejaVuSans-120\"/>\n      <use x=\"664.111328\" xlink:href=\"#DejaVuSans-32\"/>\n      <use x=\"695.898438\" xlink:href=\"#DejaVuSans-109\"/>\n      <use x=\"793.310547\" xlink:href=\"#DejaVuSans-117\"/>\n      <use x=\"856.689453\" xlink:href=\"#DejaVuSans-108\"/>\n      <use x=\"884.472656\" xlink:href=\"#DejaVuSans-116\"/>\n      <use x=\"923.681641\" xlink:href=\"#DejaVuSans-105\"/>\n      <use x=\"951.464844\" xlink:href=\"#DejaVuSans-112\"/>\n      <use x=\"1014.941406\" xlink:href=\"#DejaVuSans-108\"/>\n      <use x=\"1042.724609\" xlink:href=\"#DejaVuSans-105\"/>\n      <use x=\"1070.507812\" xlink:href=\"#DejaVuSans-99\"/>\n      <use x=\"1125.488281\" xlink:href=\"#DejaVuSans-97\"/>\n      <use x=\"1186.767578\" xlink:href=\"#DejaVuSans-116\"/>\n      <use x=\"1225.976562\" xlink:href=\"#DejaVuSans-105\"/>\n      <use x=\"1253.759766\" xlink:href=\"#DejaVuSans-111\"/>\n      <use x=\"1314.941406\" xlink:href=\"#DejaVuSans-110\"/>\n     </g>\n    </g>\n    <g id=\"line2d_20\">\n     <path d=\"M 68.690625 34.976562 \nL 88.690625 34.976562 \n\" style=\"fill:none;stroke:#ff7f0e;stroke-linecap:square;stroke-width:1.5;\"/>\n    </g>\n    <g id=\"line2d_21\"/>\n    <g id=\"text_17\">\n     <!-- Strassen matrix multiplication (original) -->\n     <g transform=\"translate(96.690625 38.476562)scale(0.1 -0.1)\">\n      <defs>\n       <path d=\"M 53.515625 70.515625 \nL 53.515625 60.890625 \nQ 47.90625 63.578125 42.921875 64.890625 \nQ 37.9375 66.21875 33.296875 66.21875 \nQ 25.25 66.21875 20.875 63.09375 \nQ 16.5 59.96875 16.5 54.203125 \nQ 16.5 49.359375 19.40625 46.890625 \nQ 22.3125 44.4375 30.421875 42.921875 \nL 36.375 41.703125 \nQ 47.40625 39.59375 52.65625 34.296875 \nQ 57.90625 29 57.90625 20.125 \nQ 57.90625 9.515625 50.796875 4.046875 \nQ 43.703125 -1.421875 29.984375 -1.421875 \nQ 24.8125 -1.421875 18.96875 -0.25 \nQ 13.140625 0.921875 6.890625 3.21875 \nL 6.890625 13.375 \nQ 12.890625 10.015625 18.65625 8.296875 \nQ 24.421875 6.59375 29.984375 6.59375 \nQ 38.421875 6.59375 43.015625 9.90625 \nQ 47.609375 13.234375 47.609375 19.390625 \nQ 47.609375 24.75 44.3125 27.78125 \nQ 41.015625 30.8125 33.5 32.328125 \nL 27.484375 33.5 \nQ 16.453125 35.6875 11.515625 40.375 \nQ 6.59375 45.0625 6.59375 53.421875 \nQ 6.59375 63.09375 13.40625 68.65625 \nQ 20.21875 74.21875 32.171875 74.21875 \nQ 37.3125 74.21875 42.625 73.28125 \nQ 47.953125 72.359375 53.515625 70.515625 \nz\n\" id=\"DejaVuSans-83\"/>\n       <path d=\"M 45.40625 27.984375 \nQ 45.40625 37.75 41.375 43.109375 \nQ 37.359375 48.484375 30.078125 48.484375 \nQ 22.859375 48.484375 18.828125 43.109375 \nQ 14.796875 37.75 14.796875 27.984375 \nQ 14.796875 18.265625 18.828125 12.890625 \nQ 22.859375 7.515625 30.078125 7.515625 \nQ 37.359375 7.515625 41.375 12.890625 \nQ 45.40625 18.265625 45.40625 27.984375 \nz\nM 54.390625 6.78125 \nQ 54.390625 -7.171875 48.1875 -13.984375 \nQ 42 -20.796875 29.203125 -20.796875 \nQ 24.46875 -20.796875 20.265625 -20.09375 \nQ 16.0625 -19.390625 12.109375 -17.921875 \nL 12.109375 -9.1875 \nQ 16.0625 -11.328125 19.921875 -12.34375 \nQ 23.78125 -13.375 27.78125 -13.375 \nQ 36.625 -13.375 41.015625 -8.765625 \nQ 45.40625 -4.15625 45.40625 5.171875 \nL 45.40625 9.625 \nQ 42.625 4.78125 38.28125 2.390625 \nQ 33.9375 0 27.875 0 \nQ 17.828125 0 11.671875 7.65625 \nQ 5.515625 15.328125 5.515625 27.984375 \nQ 5.515625 40.671875 11.671875 48.328125 \nQ 17.828125 56 27.875 56 \nQ 33.9375 56 38.28125 53.609375 \nQ 42.625 51.21875 45.40625 46.390625 \nL 45.40625 54.6875 \nL 54.390625 54.6875 \nz\n\" id=\"DejaVuSans-103\"/>\n      </defs>\n      <use xlink:href=\"#DejaVuSans-83\"/>\n      <use x=\"63.476562\" xlink:href=\"#DejaVuSans-116\"/>\n      <use x=\"102.685547\" xlink:href=\"#DejaVuSans-114\"/>\n      <use x=\"143.798828\" xlink:href=\"#DejaVuSans-97\"/>\n      <use x=\"205.078125\" xlink:href=\"#DejaVuSans-115\"/>\n      <use x=\"257.177734\" xlink:href=\"#DejaVuSans-115\"/>\n      <use x=\"309.277344\" xlink:href=\"#DejaVuSans-101\"/>\n      <use x=\"370.800781\" xlink:href=\"#DejaVuSans-110\"/>\n      <use x=\"434.179688\" xlink:href=\"#DejaVuSans-32\"/>\n      <use x=\"465.966797\" xlink:href=\"#DejaVuSans-109\"/>\n      <use x=\"563.378906\" xlink:href=\"#DejaVuSans-97\"/>\n      <use x=\"624.658203\" xlink:href=\"#DejaVuSans-116\"/>\n      <use x=\"663.867188\" xlink:href=\"#DejaVuSans-114\"/>\n      <use x=\"704.980469\" xlink:href=\"#DejaVuSans-105\"/>\n      <use x=\"732.763672\" xlink:href=\"#DejaVuSans-120\"/>\n      <use x=\"791.943359\" xlink:href=\"#DejaVuSans-32\"/>\n      <use x=\"823.730469\" xlink:href=\"#DejaVuSans-109\"/>\n      <use x=\"921.142578\" xlink:href=\"#DejaVuSans-117\"/>\n      <use x=\"984.521484\" xlink:href=\"#DejaVuSans-108\"/>\n      <use x=\"1012.304688\" xlink:href=\"#DejaVuSans-116\"/>\n      <use x=\"1051.513672\" xlink:href=\"#DejaVuSans-105\"/>\n      <use x=\"1079.296875\" xlink:href=\"#DejaVuSans-112\"/>\n      <use x=\"1142.773438\" xlink:href=\"#DejaVuSans-108\"/>\n      <use x=\"1170.556641\" xlink:href=\"#DejaVuSans-105\"/>\n      <use x=\"1198.339844\" xlink:href=\"#DejaVuSans-99\"/>\n      <use x=\"1253.320312\" xlink:href=\"#DejaVuSans-97\"/>\n      <use x=\"1314.599609\" xlink:href=\"#DejaVuSans-116\"/>\n      <use x=\"1353.808594\" xlink:href=\"#DejaVuSans-105\"/>\n      <use x=\"1381.591797\" xlink:href=\"#DejaVuSans-111\"/>\n      <use x=\"1442.773438\" xlink:href=\"#DejaVuSans-110\"/>\n      <use x=\"1506.152344\" xlink:href=\"#DejaVuSans-32\"/>\n      <use x=\"1537.939453\" xlink:href=\"#DejaVuSans-40\"/>\n      <use x=\"1576.953125\" xlink:href=\"#DejaVuSans-111\"/>\n      <use x=\"1638.134766\" xlink:href=\"#DejaVuSans-114\"/>\n      <use x=\"1679.248047\" xlink:href=\"#DejaVuSans-105\"/>\n      <use x=\"1707.03125\" xlink:href=\"#DejaVuSans-103\"/>\n      <use x=\"1770.507812\" xlink:href=\"#DejaVuSans-105\"/>\n      <use x=\"1798.291016\" xlink:href=\"#DejaVuSans-110\"/>\n      <use x=\"1861.669922\" xlink:href=\"#DejaVuSans-97\"/>\n      <use x=\"1922.949219\" xlink:href=\"#DejaVuSans-108\"/>\n      <use x=\"1950.732422\" xlink:href=\"#DejaVuSans-41\"/>\n     </g>\n    </g>\n    <g id=\"line2d_22\">\n     <path d=\"M 68.690625 49.654687 \nL 88.690625 49.654687 \n\" style=\"fill:none;stroke:#2ca02c;stroke-linecap:square;stroke-width:1.5;\"/>\n    </g>\n    <g id=\"line2d_23\"/>\n    <g id=\"text_18\">\n     <!-- Strassen matrix multiplication (improved) -->\n     <g transform=\"translate(96.690625 53.154687)scale(0.1 -0.1)\">\n      <defs>\n       <path d=\"M 2.984375 54.6875 \nL 12.5 54.6875 \nL 29.59375 8.796875 \nL 46.6875 54.6875 \nL 56.203125 54.6875 \nL 35.6875 0 \nL 23.484375 0 \nz\n\" id=\"DejaVuSans-118\"/>\n       <path d=\"M 45.40625 46.390625 \nL 45.40625 75.984375 \nL 54.390625 75.984375 \nL 54.390625 0 \nL 45.40625 0 \nL 45.40625 8.203125 \nQ 42.578125 3.328125 38.25 0.953125 \nQ 33.9375 -1.421875 27.875 -1.421875 \nQ 17.96875 -1.421875 11.734375 6.484375 \nQ 5.515625 14.40625 5.515625 27.296875 \nQ 5.515625 40.1875 11.734375 48.09375 \nQ 17.96875 56 27.875 56 \nQ 33.9375 56 38.25 53.625 \nQ 42.578125 51.265625 45.40625 46.390625 \nz\nM 14.796875 27.296875 \nQ 14.796875 17.390625 18.875 11.75 \nQ 22.953125 6.109375 30.078125 6.109375 \nQ 37.203125 6.109375 41.296875 11.75 \nQ 45.40625 17.390625 45.40625 27.296875 \nQ 45.40625 37.203125 41.296875 42.84375 \nQ 37.203125 48.484375 30.078125 48.484375 \nQ 22.953125 48.484375 18.875 42.84375 \nQ 14.796875 37.203125 14.796875 27.296875 \nz\n\" id=\"DejaVuSans-100\"/>\n      </defs>\n      <use xlink:href=\"#DejaVuSans-83\"/>\n      <use x=\"63.476562\" xlink:href=\"#DejaVuSans-116\"/>\n      <use x=\"102.685547\" xlink:href=\"#DejaVuSans-114\"/>\n      <use x=\"143.798828\" xlink:href=\"#DejaVuSans-97\"/>\n      <use x=\"205.078125\" xlink:href=\"#DejaVuSans-115\"/>\n      <use x=\"257.177734\" xlink:href=\"#DejaVuSans-115\"/>\n      <use x=\"309.277344\" xlink:href=\"#DejaVuSans-101\"/>\n      <use x=\"370.800781\" xlink:href=\"#DejaVuSans-110\"/>\n      <use x=\"434.179688\" xlink:href=\"#DejaVuSans-32\"/>\n      <use x=\"465.966797\" xlink:href=\"#DejaVuSans-109\"/>\n      <use x=\"563.378906\" xlink:href=\"#DejaVuSans-97\"/>\n      <use x=\"624.658203\" xlink:href=\"#DejaVuSans-116\"/>\n      <use x=\"663.867188\" xlink:href=\"#DejaVuSans-114\"/>\n      <use x=\"704.980469\" xlink:href=\"#DejaVuSans-105\"/>\n      <use x=\"732.763672\" xlink:href=\"#DejaVuSans-120\"/>\n      <use x=\"791.943359\" xlink:href=\"#DejaVuSans-32\"/>\n      <use x=\"823.730469\" xlink:href=\"#DejaVuSans-109\"/>\n      <use x=\"921.142578\" xlink:href=\"#DejaVuSans-117\"/>\n      <use x=\"984.521484\" xlink:href=\"#DejaVuSans-108\"/>\n      <use x=\"1012.304688\" xlink:href=\"#DejaVuSans-116\"/>\n      <use x=\"1051.513672\" xlink:href=\"#DejaVuSans-105\"/>\n      <use x=\"1079.296875\" xlink:href=\"#DejaVuSans-112\"/>\n      <use x=\"1142.773438\" xlink:href=\"#DejaVuSans-108\"/>\n      <use x=\"1170.556641\" xlink:href=\"#DejaVuSans-105\"/>\n      <use x=\"1198.339844\" xlink:href=\"#DejaVuSans-99\"/>\n      <use x=\"1253.320312\" xlink:href=\"#DejaVuSans-97\"/>\n      <use x=\"1314.599609\" xlink:href=\"#DejaVuSans-116\"/>\n      <use x=\"1353.808594\" xlink:href=\"#DejaVuSans-105\"/>\n      <use x=\"1381.591797\" xlink:href=\"#DejaVuSans-111\"/>\n      <use x=\"1442.773438\" xlink:href=\"#DejaVuSans-110\"/>\n      <use x=\"1506.152344\" xlink:href=\"#DejaVuSans-32\"/>\n      <use x=\"1537.939453\" xlink:href=\"#DejaVuSans-40\"/>\n      <use x=\"1576.953125\" xlink:href=\"#DejaVuSans-105\"/>\n      <use x=\"1604.736328\" xlink:href=\"#DejaVuSans-109\"/>\n      <use x=\"1702.148438\" xlink:href=\"#DejaVuSans-112\"/>\n      <use x=\"1765.625\" xlink:href=\"#DejaVuSans-114\"/>\n      <use x=\"1804.488281\" xlink:href=\"#DejaVuSans-111\"/>\n      <use x=\"1865.669922\" xlink:href=\"#DejaVuSans-118\"/>\n      <use x=\"1924.849609\" xlink:href=\"#DejaVuSans-101\"/>\n      <use x=\"1986.373047\" xlink:href=\"#DejaVuSans-100\"/>\n      <use x=\"2049.849609\" xlink:href=\"#DejaVuSans-41\"/>\n     </g>\n    </g>\n    <g id=\"line2d_24\">\n     <path d=\"M 68.690625 64.332812 \nL 88.690625 64.332812 \n\" style=\"fill:none;stroke:#d62728;stroke-linecap:square;stroke-width:1.5;\"/>\n    </g>\n    <g id=\"line2d_25\"/>\n    <g id=\"text_19\">\n     <!-- Strassen matrix multiplication (memory) -->\n     <g transform=\"translate(96.690625 67.832812)scale(0.1 -0.1)\">\n      <defs>\n       <path d=\"M 32.171875 -5.078125 \nQ 28.375 -14.84375 24.75 -17.8125 \nQ 21.140625 -20.796875 15.09375 -20.796875 \nL 7.90625 -20.796875 \nL 7.90625 -13.28125 \nL 13.1875 -13.28125 \nQ 16.890625 -13.28125 18.9375 -11.515625 \nQ 21 -9.765625 23.484375 -3.21875 \nL 25.09375 0.875 \nL 2.984375 54.6875 \nL 12.5 54.6875 \nL 29.59375 11.921875 \nL 46.6875 54.6875 \nL 56.203125 54.6875 \nz\n\" id=\"DejaVuSans-121\"/>\n      </defs>\n      <use xlink:href=\"#DejaVuSans-83\"/>\n      <use x=\"63.476562\" xlink:href=\"#DejaVuSans-116\"/>\n      <use x=\"102.685547\" xlink:href=\"#DejaVuSans-114\"/>\n      <use x=\"143.798828\" xlink:href=\"#DejaVuSans-97\"/>\n      <use x=\"205.078125\" xlink:href=\"#DejaVuSans-115\"/>\n      <use x=\"257.177734\" xlink:href=\"#DejaVuSans-115\"/>\n      <use x=\"309.277344\" xlink:href=\"#DejaVuSans-101\"/>\n      <use x=\"370.800781\" xlink:href=\"#DejaVuSans-110\"/>\n      <use x=\"434.179688\" xlink:href=\"#DejaVuSans-32\"/>\n      <use x=\"465.966797\" xlink:href=\"#DejaVuSans-109\"/>\n      <use x=\"563.378906\" xlink:href=\"#DejaVuSans-97\"/>\n      <use x=\"624.658203\" xlink:href=\"#DejaVuSans-116\"/>\n      <use x=\"663.867188\" xlink:href=\"#DejaVuSans-114\"/>\n      <use x=\"704.980469\" xlink:href=\"#DejaVuSans-105\"/>\n      <use x=\"732.763672\" xlink:href=\"#DejaVuSans-120\"/>\n      <use x=\"791.943359\" xlink:href=\"#DejaVuSans-32\"/>\n      <use x=\"823.730469\" xlink:href=\"#DejaVuSans-109\"/>\n      <use x=\"921.142578\" xlink:href=\"#DejaVuSans-117\"/>\n      <use x=\"984.521484\" xlink:href=\"#DejaVuSans-108\"/>\n      <use x=\"1012.304688\" xlink:href=\"#DejaVuSans-116\"/>\n      <use x=\"1051.513672\" xlink:href=\"#DejaVuSans-105\"/>\n      <use x=\"1079.296875\" xlink:href=\"#DejaVuSans-112\"/>\n      <use x=\"1142.773438\" xlink:href=\"#DejaVuSans-108\"/>\n      <use x=\"1170.556641\" xlink:href=\"#DejaVuSans-105\"/>\n      <use x=\"1198.339844\" xlink:href=\"#DejaVuSans-99\"/>\n      <use x=\"1253.320312\" xlink:href=\"#DejaVuSans-97\"/>\n      <use x=\"1314.599609\" xlink:href=\"#DejaVuSans-116\"/>\n      <use x=\"1353.808594\" xlink:href=\"#DejaVuSans-105\"/>\n      <use x=\"1381.591797\" xlink:href=\"#DejaVuSans-111\"/>\n      <use x=\"1442.773438\" xlink:href=\"#DejaVuSans-110\"/>\n      <use x=\"1506.152344\" xlink:href=\"#DejaVuSans-32\"/>\n      <use x=\"1537.939453\" xlink:href=\"#DejaVuSans-40\"/>\n      <use x=\"1576.953125\" xlink:href=\"#DejaVuSans-109\"/>\n      <use x=\"1674.365234\" xlink:href=\"#DejaVuSans-101\"/>\n      <use x=\"1735.888672\" xlink:href=\"#DejaVuSans-109\"/>\n      <use x=\"1833.300781\" xlink:href=\"#DejaVuSans-111\"/>\n      <use x=\"1894.482422\" xlink:href=\"#DejaVuSans-114\"/>\n      <use x=\"1935.595703\" xlink:href=\"#DejaVuSans-121\"/>\n      <use x=\"1994.775391\" xlink:href=\"#DejaVuSans-41\"/>\n     </g>\n    </g>\n   </g>\n  </g>\n </g>\n <defs>\n  <clipPath id=\"pb1691cd95d\">\n   <rect height=\"217.44\" width=\"334.8\" x=\"59.690625\" y=\"7.2\"/>\n  </clipPath>\n </defs>\n</svg>\n",
      "image/png": "[encoded data removed]"
     },
     "metadata": {
      "needs_background": "light"
     }
    }
   ],
   "source": [
    "import matplotlib.pyplot as plt \n",
    "\n",
    "_ = [plt.plot(times[0], times[i], label = columns[i]) for i in range(1,5)]\n",
    "__ = plt.xlabel('size') \n",
    "___ = plt.ylabel('execution time (s)')\n",
    "____ = plt.legend()"
   ]
  },
  {
   "cell_type": "code",
   "execution_count": 41,
   "metadata": {},
   "outputs": [
    {
     "output_type": "display_data",
     "data": {
      "text/plain": "<Figure size 432x288 with 1 Axes>",
      "image/svg+xml": "<?xml version=\"1.0\" encoding=\"utf-8\" standalone=\"no\"?>\n<!DOCTYPE svg PUBLIC \"-//W3C//DTD SVG 1.1//EN\"\n  \"http://www.w3.org/Graphics/SVG/1.1/DTD/svg11.dtd\">\n<!-- Created with matplotlib (https://matplotlib.org/) -->\n<svg height=\"262.19625pt\" version=\"1.1\" viewBox=\"0 0 395.328125 262.19625\" width=\"395.328125pt\" xmlns=\"http://www.w3.org/2000/svg\" xmlns:xlink=\"http://www.w3.org/1999/xlink\">\n <metadata>\n  <rdf:RDF xmlns:cc=\"http://creativecommons.org/ns#\" xmlns:dc=\"http://purl.org/dc/elements/1.1/\" xmlns:rdf=\"http://www.w3.org/1999/02/22-rdf-syntax-ns#\">\n   <cc:Work>\n    <dc:type rdf:resource=\"http://purl.org/dc/dcmitype/StillImage\"/>\n    <dc:date>2021-03-17T22:50:56.017145</dc:date>\n    <dc:format>image/svg+xml</dc:format>\n    <dc:creator>\n     <cc:Agent>\n      <dc:title>Matplotlib v3.3.1, https://matplotlib.org/</dc:title>\n     </cc:Agent>\n    </dc:creator>\n   </cc:Work>\n  </rdf:RDF>\n </metadata>\n <defs>\n  <style type=\"text/css\">*{stroke-linecap:butt;stroke-linejoin:round;}</style>\n </defs>\n <g id=\"figure_1\">\n  <g id=\"patch_1\">\n   <path d=\"M 0 262.19625 \nL 395.328125 262.19625 \nL 395.328125 0 \nL 0 0 \nz\n\" style=\"fill:none;\"/>\n  </g>\n  <g id=\"axes_1\">\n   <g id=\"patch_2\">\n    <path d=\"M 53.328125 224.64 \nL 388.128125 224.64 \nL 388.128125 7.2 \nL 53.328125 7.2 \nz\n\" style=\"fill:#ffffff;\"/>\n   </g>\n   <g id=\"matplotlib.axis_1\">\n    <g id=\"xtick_1\">\n     <g id=\"line2d_1\">\n      <defs>\n       <path d=\"M 0 0 \nL 0 3.5 \n\" id=\"mc2d9659097\" style=\"stroke:#000000;stroke-width:0.8;\"/>\n      </defs>\n      <g>\n       <use style=\"stroke:#000000;stroke-width:0.8;\" x=\"68.397619\" xlink:href=\"#mc2d9659097\" y=\"224.64\"/>\n      </g>\n     </g>\n     <g id=\"text_1\">\n      <!-- 0 -->\n      <g transform=\"translate(65.216369 239.238437)scale(0.1 -0.1)\">\n       <defs>\n        <path d=\"M 31.78125 66.40625 \nQ 24.171875 66.40625 20.328125 58.90625 \nQ 16.5 51.421875 16.5 36.375 \nQ 16.5 21.390625 20.328125 13.890625 \nQ 24.171875 6.390625 31.78125 6.390625 \nQ 39.453125 6.390625 43.28125 13.890625 \nQ 47.125 21.390625 47.125 36.375 \nQ 47.125 51.421875 43.28125 58.90625 \nQ 39.453125 66.40625 31.78125 66.40625 \nz\nM 31.78125 74.21875 \nQ 44.046875 74.21875 50.515625 64.515625 \nQ 56.984375 54.828125 56.984375 36.375 \nQ 56.984375 17.96875 50.515625 8.265625 \nQ 44.046875 -1.421875 31.78125 -1.421875 \nQ 19.53125 -1.421875 13.0625 8.265625 \nQ 6.59375 17.96875 6.59375 36.375 \nQ 6.59375 54.828125 13.0625 64.515625 \nQ 19.53125 74.21875 31.78125 74.21875 \nz\n\" id=\"DejaVuSans-48\"/>\n       </defs>\n       <use xlink:href=\"#DejaVuSans-48\"/>\n      </g>\n     </g>\n    </g>\n    <g id=\"xtick_2\">\n     <g id=\"line2d_2\">\n      <g>\n       <use style=\"stroke:#000000;stroke-width:0.8;\" x=\"142.741448\" xlink:href=\"#mc2d9659097\" y=\"224.64\"/>\n      </g>\n     </g>\n     <g id=\"text_2\">\n      <!-- 500 -->\n      <g transform=\"translate(133.197698 239.238437)scale(0.1 -0.1)\">\n       <defs>\n        <path d=\"M 10.796875 72.90625 \nL 49.515625 72.90625 \nL 49.515625 64.59375 \nL 19.828125 64.59375 \nL 19.828125 46.734375 \nQ 21.96875 47.46875 24.109375 47.828125 \nQ 26.265625 48.1875 28.421875 48.1875 \nQ 40.625 48.1875 47.75 41.5 \nQ 54.890625 34.8125 54.890625 23.390625 \nQ 54.890625 11.625 47.5625 5.09375 \nQ 40.234375 -1.421875 26.90625 -1.421875 \nQ 22.3125 -1.421875 17.546875 -0.640625 \nQ 12.796875 0.140625 7.71875 1.703125 \nL 7.71875 11.625 \nQ 12.109375 9.234375 16.796875 8.0625 \nQ 21.484375 6.890625 26.703125 6.890625 \nQ 35.15625 6.890625 40.078125 11.328125 \nQ 45.015625 15.765625 45.015625 23.390625 \nQ 45.015625 31 40.078125 35.4375 \nQ 35.15625 39.890625 26.703125 39.890625 \nQ 22.75 39.890625 18.8125 39.015625 \nQ 14.890625 38.140625 10.796875 36.28125 \nz\n\" id=\"DejaVuSans-53\"/>\n       </defs>\n       <use xlink:href=\"#DejaVuSans-53\"/>\n       <use x=\"63.623047\" xlink:href=\"#DejaVuSans-48\"/>\n       <use x=\"127.246094\" xlink:href=\"#DejaVuSans-48\"/>\n      </g>\n     </g>\n    </g>\n    <g id=\"xtick_3\">\n     <g id=\"line2d_3\">\n      <g>\n       <use style=\"stroke:#000000;stroke-width:0.8;\" x=\"217.085277\" xlink:href=\"#mc2d9659097\" y=\"224.64\"/>\n      </g>\n     </g>\n     <g id=\"text_3\">\n      <!-- 1000 -->\n      <g transform=\"translate(204.360277 239.238437)scale(0.1 -0.1)\">\n       <defs>\n        <path d=\"M 12.40625 8.296875 \nL 28.515625 8.296875 \nL 28.515625 63.921875 \nL 10.984375 60.40625 \nL 10.984375 69.390625 \nL 28.421875 72.90625 \nL 38.28125 72.90625 \nL 38.28125 8.296875 \nL 54.390625 8.296875 \nL 54.390625 0 \nL 12.40625 0 \nz\n\" id=\"DejaVuSans-49\"/>\n       </defs>\n       <use xlink:href=\"#DejaVuSans-49\"/>\n       <use x=\"63.623047\" xlink:href=\"#DejaVuSans-48\"/>\n       <use x=\"127.246094\" xlink:href=\"#DejaVuSans-48\"/>\n       <use x=\"190.869141\" xlink:href=\"#DejaVuSans-48\"/>\n      </g>\n     </g>\n    </g>\n    <g id=\"xtick_4\">\n     <g id=\"line2d_4\">\n      <g>\n       <use style=\"stroke:#000000;stroke-width:0.8;\" x=\"291.429106\" xlink:href=\"#mc2d9659097\" y=\"224.64\"/>\n      </g>\n     </g>\n     <g id=\"text_4\">\n      <!-- 1500 -->\n      <g transform=\"translate(278.704106 239.238437)scale(0.1 -0.1)\">\n       <use xlink:href=\"#DejaVuSans-49\"/>\n       <use x=\"63.623047\" xlink:href=\"#DejaVuSans-53\"/>\n       <use x=\"127.246094\" xlink:href=\"#DejaVuSans-48\"/>\n       <use x=\"190.869141\" xlink:href=\"#DejaVuSans-48\"/>\n      </g>\n     </g>\n    </g>\n    <g id=\"xtick_5\">\n     <g id=\"line2d_5\">\n      <g>\n       <use style=\"stroke:#000000;stroke-width:0.8;\" x=\"365.772936\" xlink:href=\"#mc2d9659097\" y=\"224.64\"/>\n      </g>\n     </g>\n     <g id=\"text_5\">\n      <!-- 2000 -->\n      <g transform=\"translate(353.047936 239.238437)scale(0.1 -0.1)\">\n       <defs>\n        <path d=\"M 19.1875 8.296875 \nL 53.609375 8.296875 \nL 53.609375 0 \nL 7.328125 0 \nL 7.328125 8.296875 \nQ 12.9375 14.109375 22.625 23.890625 \nQ 32.328125 33.6875 34.8125 36.53125 \nQ 39.546875 41.84375 41.421875 45.53125 \nQ 43.3125 49.21875 43.3125 52.78125 \nQ 43.3125 58.59375 39.234375 62.25 \nQ 35.15625 65.921875 28.609375 65.921875 \nQ 23.96875 65.921875 18.8125 64.3125 \nQ 13.671875 62.703125 7.8125 59.421875 \nL 7.8125 69.390625 \nQ 13.765625 71.78125 18.9375 73 \nQ 24.125 74.21875 28.421875 74.21875 \nQ 39.75 74.21875 46.484375 68.546875 \nQ 53.21875 62.890625 53.21875 53.421875 \nQ 53.21875 48.921875 51.53125 44.890625 \nQ 49.859375 40.875 45.40625 35.40625 \nQ 44.1875 33.984375 37.640625 27.21875 \nQ 31.109375 20.453125 19.1875 8.296875 \nz\n\" id=\"DejaVuSans-50\"/>\n       </defs>\n       <use xlink:href=\"#DejaVuSans-50\"/>\n       <use x=\"63.623047\" xlink:href=\"#DejaVuSans-48\"/>\n       <use x=\"127.246094\" xlink:href=\"#DejaVuSans-48\"/>\n       <use x=\"190.869141\" xlink:href=\"#DejaVuSans-48\"/>\n      </g>\n     </g>\n    </g>\n    <g id=\"text_6\">\n     <!-- size -->\n     <g transform=\"translate(211.033594 252.916562)scale(0.1 -0.1)\">\n      <defs>\n       <path d=\"M 44.28125 53.078125 \nL 44.28125 44.578125 \nQ 40.484375 46.53125 36.375 47.5 \nQ 32.28125 48.484375 27.875 48.484375 \nQ 21.1875 48.484375 17.84375 46.4375 \nQ 14.5 44.390625 14.5 40.28125 \nQ 14.5 37.15625 16.890625 35.375 \nQ 19.28125 33.59375 26.515625 31.984375 \nL 29.59375 31.296875 \nQ 39.15625 29.25 43.1875 25.515625 \nQ 47.21875 21.78125 47.21875 15.09375 \nQ 47.21875 7.46875 41.1875 3.015625 \nQ 35.15625 -1.421875 24.609375 -1.421875 \nQ 20.21875 -1.421875 15.453125 -0.5625 \nQ 10.6875 0.296875 5.421875 2 \nL 5.421875 11.28125 \nQ 10.40625 8.6875 15.234375 7.390625 \nQ 20.0625 6.109375 24.8125 6.109375 \nQ 31.15625 6.109375 34.5625 8.28125 \nQ 37.984375 10.453125 37.984375 14.40625 \nQ 37.984375 18.0625 35.515625 20.015625 \nQ 33.0625 21.96875 24.703125 23.78125 \nL 21.578125 24.515625 \nQ 13.234375 26.265625 9.515625 29.90625 \nQ 5.8125 33.546875 5.8125 39.890625 \nQ 5.8125 47.609375 11.28125 51.796875 \nQ 16.75 56 26.8125 56 \nQ 31.78125 56 36.171875 55.265625 \nQ 40.578125 54.546875 44.28125 53.078125 \nz\n\" id=\"DejaVuSans-115\"/>\n       <path d=\"M 9.421875 54.6875 \nL 18.40625 54.6875 \nL 18.40625 0 \nL 9.421875 0 \nz\nM 9.421875 75.984375 \nL 18.40625 75.984375 \nL 18.40625 64.59375 \nL 9.421875 64.59375 \nz\n\" id=\"DejaVuSans-105\"/>\n       <path d=\"M 5.515625 54.6875 \nL 48.1875 54.6875 \nL 48.1875 46.484375 \nL 14.40625 7.171875 \nL 48.1875 7.171875 \nL 48.1875 0 \nL 4.296875 0 \nL 4.296875 8.203125 \nL 38.09375 47.515625 \nL 5.515625 47.515625 \nz\n\" id=\"DejaVuSans-122\"/>\n       <path d=\"M 56.203125 29.59375 \nL 56.203125 25.203125 \nL 14.890625 25.203125 \nQ 15.484375 15.921875 20.484375 11.0625 \nQ 25.484375 6.203125 34.421875 6.203125 \nQ 39.59375 6.203125 44.453125 7.46875 \nQ 49.3125 8.734375 54.109375 11.28125 \nL 54.109375 2.78125 \nQ 49.265625 0.734375 44.1875 -0.34375 \nQ 39.109375 -1.421875 33.890625 -1.421875 \nQ 20.796875 -1.421875 13.15625 6.1875 \nQ 5.515625 13.8125 5.515625 26.8125 \nQ 5.515625 40.234375 12.765625 48.109375 \nQ 20.015625 56 32.328125 56 \nQ 43.359375 56 49.78125 48.890625 \nQ 56.203125 41.796875 56.203125 29.59375 \nz\nM 47.21875 32.234375 \nQ 47.125 39.59375 43.09375 43.984375 \nQ 39.0625 48.390625 32.421875 48.390625 \nQ 24.90625 48.390625 20.390625 44.140625 \nQ 15.875 39.890625 15.1875 32.171875 \nz\n\" id=\"DejaVuSans-101\"/>\n      </defs>\n      <use xlink:href=\"#DejaVuSans-115\"/>\n      <use x=\"52.099609\" xlink:href=\"#DejaVuSans-105\"/>\n      <use x=\"79.882812\" xlink:href=\"#DejaVuSans-122\"/>\n      <use x=\"132.373047\" xlink:href=\"#DejaVuSans-101\"/>\n     </g>\n    </g>\n   </g>\n   <g id=\"matplotlib.axis_2\">\n    <g id=\"ytick_1\">\n     <g id=\"line2d_6\">\n      <defs>\n       <path d=\"M 0 0 \nL -3.5 0 \n\" id=\"md94263430e\" style=\"stroke:#000000;stroke-width:0.8;\"/>\n      </defs>\n      <g>\n       <use style=\"stroke:#000000;stroke-width:0.8;\" x=\"53.328125\" xlink:href=\"#md94263430e\" y=\"214.756365\"/>\n      </g>\n     </g>\n     <g id=\"text_7\">\n      <!-- 0 -->\n      <g transform=\"translate(39.965625 218.555584)scale(0.1 -0.1)\">\n       <use xlink:href=\"#DejaVuSans-48\"/>\n      </g>\n     </g>\n    </g>\n    <g id=\"ytick_2\">\n     <g id=\"line2d_7\">\n      <g>\n       <use style=\"stroke:#000000;stroke-width:0.8;\" x=\"53.328125\" xlink:href=\"#md94263430e\" y=\"181.548138\"/>\n      </g>\n     </g>\n     <g id=\"text_8\">\n      <!-- 500 -->\n      <g transform=\"translate(27.240625 185.347357)scale(0.1 -0.1)\">\n       <use xlink:href=\"#DejaVuSans-53\"/>\n       <use x=\"63.623047\" xlink:href=\"#DejaVuSans-48\"/>\n       <use x=\"127.246094\" xlink:href=\"#DejaVuSans-48\"/>\n      </g>\n     </g>\n    </g>\n    <g id=\"ytick_3\">\n     <g id=\"line2d_8\">\n      <g>\n       <use style=\"stroke:#000000;stroke-width:0.8;\" x=\"53.328125\" xlink:href=\"#md94263430e\" y=\"148.339912\"/>\n      </g>\n     </g>\n     <g id=\"text_9\">\n      <!-- 1000 -->\n      <g transform=\"translate(20.878125 152.13913)scale(0.1 -0.1)\">\n       <use xlink:href=\"#DejaVuSans-49\"/>\n       <use x=\"63.623047\" xlink:href=\"#DejaVuSans-48\"/>\n       <use x=\"127.246094\" xlink:href=\"#DejaVuSans-48\"/>\n       <use x=\"190.869141\" xlink:href=\"#DejaVuSans-48\"/>\n      </g>\n     </g>\n    </g>\n    <g id=\"ytick_4\">\n     <g id=\"line2d_9\">\n      <g>\n       <use style=\"stroke:#000000;stroke-width:0.8;\" x=\"53.328125\" xlink:href=\"#md94263430e\" y=\"115.131685\"/>\n      </g>\n     </g>\n     <g id=\"text_10\">\n      <!-- 1500 -->\n      <g transform=\"translate(20.878125 118.930904)scale(0.1 -0.1)\">\n       <use xlink:href=\"#DejaVuSans-49\"/>\n       <use x=\"63.623047\" xlink:href=\"#DejaVuSans-53\"/>\n       <use x=\"127.246094\" xlink:href=\"#DejaVuSans-48\"/>\n       <use x=\"190.869141\" xlink:href=\"#DejaVuSans-48\"/>\n      </g>\n     </g>\n    </g>\n    <g id=\"ytick_5\">\n     <g id=\"line2d_10\">\n      <g>\n       <use style=\"stroke:#000000;stroke-width:0.8;\" x=\"53.328125\" xlink:href=\"#md94263430e\" y=\"81.923458\"/>\n      </g>\n     </g>\n     <g id=\"text_11\">\n      <!-- 2000 -->\n      <g transform=\"translate(20.878125 85.722677)scale(0.1 -0.1)\">\n       <use xlink:href=\"#DejaVuSans-50\"/>\n       <use x=\"63.623047\" xlink:href=\"#DejaVuSans-48\"/>\n       <use x=\"127.246094\" xlink:href=\"#DejaVuSans-48\"/>\n       <use x=\"190.869141\" xlink:href=\"#DejaVuSans-48\"/>\n      </g>\n     </g>\n    </g>\n    <g id=\"ytick_6\">\n     <g id=\"line2d_11\">\n      <g>\n       <use style=\"stroke:#000000;stroke-width:0.8;\" x=\"53.328125\" xlink:href=\"#md94263430e\" y=\"48.715232\"/>\n      </g>\n     </g>\n     <g id=\"text_12\">\n      <!-- 2500 -->\n      <g transform=\"translate(20.878125 52.51445)scale(0.1 -0.1)\">\n       <use xlink:href=\"#DejaVuSans-50\"/>\n       <use x=\"63.623047\" xlink:href=\"#DejaVuSans-53\"/>\n       <use x=\"127.246094\" xlink:href=\"#DejaVuSans-48\"/>\n       <use x=\"190.869141\" xlink:href=\"#DejaVuSans-48\"/>\n      </g>\n     </g>\n    </g>\n    <g id=\"ytick_7\">\n     <g id=\"line2d_12\">\n      <g>\n       <use style=\"stroke:#000000;stroke-width:0.8;\" x=\"53.328125\" xlink:href=\"#md94263430e\" y=\"15.507005\"/>\n      </g>\n     </g>\n     <g id=\"text_13\">\n      <!-- 3000 -->\n      <g transform=\"translate(20.878125 19.306224)scale(0.1 -0.1)\">\n       <defs>\n        <path d=\"M 40.578125 39.3125 \nQ 47.65625 37.796875 51.625 33 \nQ 55.609375 28.21875 55.609375 21.1875 \nQ 55.609375 10.40625 48.1875 4.484375 \nQ 40.765625 -1.421875 27.09375 -1.421875 \nQ 22.515625 -1.421875 17.65625 -0.515625 \nQ 12.796875 0.390625 7.625 2.203125 \nL 7.625 11.71875 \nQ 11.71875 9.328125 16.59375 8.109375 \nQ 21.484375 6.890625 26.8125 6.890625 \nQ 36.078125 6.890625 40.9375 10.546875 \nQ 45.796875 14.203125 45.796875 21.1875 \nQ 45.796875 27.640625 41.28125 31.265625 \nQ 36.765625 34.90625 28.71875 34.90625 \nL 20.21875 34.90625 \nL 20.21875 43.015625 \nL 29.109375 43.015625 \nQ 36.375 43.015625 40.234375 45.921875 \nQ 44.09375 48.828125 44.09375 54.296875 \nQ 44.09375 59.90625 40.109375 62.90625 \nQ 36.140625 65.921875 28.71875 65.921875 \nQ 24.65625 65.921875 20.015625 65.03125 \nQ 15.375 64.15625 9.8125 62.3125 \nL 9.8125 71.09375 \nQ 15.4375 72.65625 20.34375 73.4375 \nQ 25.25 74.21875 29.59375 74.21875 \nQ 40.828125 74.21875 47.359375 69.109375 \nQ 53.90625 64.015625 53.90625 55.328125 \nQ 53.90625 49.265625 50.4375 45.09375 \nQ 46.96875 40.921875 40.578125 39.3125 \nz\n\" id=\"DejaVuSans-51\"/>\n       </defs>\n       <use xlink:href=\"#DejaVuSans-51\"/>\n       <use x=\"63.623047\" xlink:href=\"#DejaVuSans-48\"/>\n       <use x=\"127.246094\" xlink:href=\"#DejaVuSans-48\"/>\n       <use x=\"190.869141\" xlink:href=\"#DejaVuSans-48\"/>\n      </g>\n     </g>\n    </g>\n    <g id=\"text_14\">\n     <!-- execution time (s) -->\n     <g transform=\"translate(14.798438 161.264531)rotate(-90)scale(0.1 -0.1)\">\n      <defs>\n       <path d=\"M 54.890625 54.6875 \nL 35.109375 28.078125 \nL 55.90625 0 \nL 45.3125 0 \nL 29.390625 21.484375 \nL 13.484375 0 \nL 2.875 0 \nL 24.125 28.609375 \nL 4.6875 54.6875 \nL 15.28125 54.6875 \nL 29.78125 35.203125 \nL 44.28125 54.6875 \nz\n\" id=\"DejaVuSans-120\"/>\n       <path d=\"M 48.78125 52.59375 \nL 48.78125 44.1875 \nQ 44.96875 46.296875 41.140625 47.34375 \nQ 37.3125 48.390625 33.40625 48.390625 \nQ 24.65625 48.390625 19.8125 42.84375 \nQ 14.984375 37.3125 14.984375 27.296875 \nQ 14.984375 17.28125 19.8125 11.734375 \nQ 24.65625 6.203125 33.40625 6.203125 \nQ 37.3125 6.203125 41.140625 7.25 \nQ 44.96875 8.296875 48.78125 10.40625 \nL 48.78125 2.09375 \nQ 45.015625 0.34375 40.984375 -0.53125 \nQ 36.96875 -1.421875 32.421875 -1.421875 \nQ 20.0625 -1.421875 12.78125 6.34375 \nQ 5.515625 14.109375 5.515625 27.296875 \nQ 5.515625 40.671875 12.859375 48.328125 \nQ 20.21875 56 33.015625 56 \nQ 37.15625 56 41.109375 55.140625 \nQ 45.0625 54.296875 48.78125 52.59375 \nz\n\" id=\"DejaVuSans-99\"/>\n       <path d=\"M 8.5 21.578125 \nL 8.5 54.6875 \nL 17.484375 54.6875 \nL 17.484375 21.921875 \nQ 17.484375 14.15625 20.5 10.265625 \nQ 23.53125 6.390625 29.59375 6.390625 \nQ 36.859375 6.390625 41.078125 11.03125 \nQ 45.3125 15.671875 45.3125 23.6875 \nL 45.3125 54.6875 \nL 54.296875 54.6875 \nL 54.296875 0 \nL 45.3125 0 \nL 45.3125 8.40625 \nQ 42.046875 3.421875 37.71875 1 \nQ 33.40625 -1.421875 27.6875 -1.421875 \nQ 18.265625 -1.421875 13.375 4.4375 \nQ 8.5 10.296875 8.5 21.578125 \nz\nM 31.109375 56 \nz\n\" id=\"DejaVuSans-117\"/>\n       <path d=\"M 18.3125 70.21875 \nL 18.3125 54.6875 \nL 36.8125 54.6875 \nL 36.8125 47.703125 \nL 18.3125 47.703125 \nL 18.3125 18.015625 \nQ 18.3125 11.328125 20.140625 9.421875 \nQ 21.96875 7.515625 27.59375 7.515625 \nL 36.8125 7.515625 \nL 36.8125 0 \nL 27.59375 0 \nQ 17.1875 0 13.234375 3.875 \nQ 9.28125 7.765625 9.28125 18.015625 \nL 9.28125 47.703125 \nL 2.6875 47.703125 \nL 2.6875 54.6875 \nL 9.28125 54.6875 \nL 9.28125 70.21875 \nz\n\" id=\"DejaVuSans-116\"/>\n       <path d=\"M 30.609375 48.390625 \nQ 23.390625 48.390625 19.1875 42.75 \nQ 14.984375 37.109375 14.984375 27.296875 \nQ 14.984375 17.484375 19.15625 11.84375 \nQ 23.34375 6.203125 30.609375 6.203125 \nQ 37.796875 6.203125 41.984375 11.859375 \nQ 46.1875 17.53125 46.1875 27.296875 \nQ 46.1875 37.015625 41.984375 42.703125 \nQ 37.796875 48.390625 30.609375 48.390625 \nz\nM 30.609375 56 \nQ 42.328125 56 49.015625 48.375 \nQ 55.71875 40.765625 55.71875 27.296875 \nQ 55.71875 13.875 49.015625 6.21875 \nQ 42.328125 -1.421875 30.609375 -1.421875 \nQ 18.84375 -1.421875 12.171875 6.21875 \nQ 5.515625 13.875 5.515625 27.296875 \nQ 5.515625 40.765625 12.171875 48.375 \nQ 18.84375 56 30.609375 56 \nz\n\" id=\"DejaVuSans-111\"/>\n       <path d=\"M 54.890625 33.015625 \nL 54.890625 0 \nL 45.90625 0 \nL 45.90625 32.71875 \nQ 45.90625 40.484375 42.875 44.328125 \nQ 39.84375 48.1875 33.796875 48.1875 \nQ 26.515625 48.1875 22.3125 43.546875 \nQ 18.109375 38.921875 18.109375 30.90625 \nL 18.109375 0 \nL 9.078125 0 \nL 9.078125 54.6875 \nL 18.109375 54.6875 \nL 18.109375 46.1875 \nQ 21.34375 51.125 25.703125 53.5625 \nQ 30.078125 56 35.796875 56 \nQ 45.21875 56 50.046875 50.171875 \nQ 54.890625 44.34375 54.890625 33.015625 \nz\n\" id=\"DejaVuSans-110\"/>\n       <path id=\"DejaVuSans-32\"/>\n       <path d=\"M 52 44.1875 \nQ 55.375 50.25 60.0625 53.125 \nQ 64.75 56 71.09375 56 \nQ 79.640625 56 84.28125 50.015625 \nQ 88.921875 44.046875 88.921875 33.015625 \nL 88.921875 0 \nL 79.890625 0 \nL 79.890625 32.71875 \nQ 79.890625 40.578125 77.09375 44.375 \nQ 74.3125 48.1875 68.609375 48.1875 \nQ 61.625 48.1875 57.5625 43.546875 \nQ 53.515625 38.921875 53.515625 30.90625 \nL 53.515625 0 \nL 44.484375 0 \nL 44.484375 32.71875 \nQ 44.484375 40.625 41.703125 44.40625 \nQ 38.921875 48.1875 33.109375 48.1875 \nQ 26.21875 48.1875 22.15625 43.53125 \nQ 18.109375 38.875 18.109375 30.90625 \nL 18.109375 0 \nL 9.078125 0 \nL 9.078125 54.6875 \nL 18.109375 54.6875 \nL 18.109375 46.1875 \nQ 21.1875 51.21875 25.484375 53.609375 \nQ 29.78125 56 35.6875 56 \nQ 41.65625 56 45.828125 52.96875 \nQ 50 49.953125 52 44.1875 \nz\n\" id=\"DejaVuSans-109\"/>\n       <path d=\"M 31 75.875 \nQ 24.46875 64.65625 21.28125 53.65625 \nQ 18.109375 42.671875 18.109375 31.390625 \nQ 18.109375 20.125 21.3125 9.0625 \nQ 24.515625 -2 31 -13.1875 \nL 23.1875 -13.1875 \nQ 15.875 -1.703125 12.234375 9.375 \nQ 8.59375 20.453125 8.59375 31.390625 \nQ 8.59375 42.28125 12.203125 53.3125 \nQ 15.828125 64.359375 23.1875 75.875 \nz\n\" id=\"DejaVuSans-40\"/>\n       <path d=\"M 8.015625 75.875 \nL 15.828125 75.875 \nQ 23.140625 64.359375 26.78125 53.3125 \nQ 30.421875 42.28125 30.421875 31.390625 \nQ 30.421875 20.453125 26.78125 9.375 \nQ 23.140625 -1.703125 15.828125 -13.1875 \nL 8.015625 -13.1875 \nQ 14.5 -2 17.703125 9.0625 \nQ 20.90625 20.125 20.90625 31.390625 \nQ 20.90625 42.671875 17.703125 53.65625 \nQ 14.5 64.65625 8.015625 75.875 \nz\n\" id=\"DejaVuSans-41\"/>\n      </defs>\n      <use xlink:href=\"#DejaVuSans-101\"/>\n      <use x=\"59.773438\" xlink:href=\"#DejaVuSans-120\"/>\n      <use x=\"115.828125\" xlink:href=\"#DejaVuSans-101\"/>\n      <use x=\"177.351562\" xlink:href=\"#DejaVuSans-99\"/>\n      <use x=\"232.332031\" xlink:href=\"#DejaVuSans-117\"/>\n      <use x=\"295.710938\" xlink:href=\"#DejaVuSans-116\"/>\n      <use x=\"334.919922\" xlink:href=\"#DejaVuSans-105\"/>\n      <use x=\"362.703125\" xlink:href=\"#DejaVuSans-111\"/>\n      <use x=\"423.884766\" xlink:href=\"#DejaVuSans-110\"/>\n      <use x=\"487.263672\" xlink:href=\"#DejaVuSans-32\"/>\n      <use x=\"519.050781\" xlink:href=\"#DejaVuSans-116\"/>\n      <use x=\"558.259766\" xlink:href=\"#DejaVuSans-105\"/>\n      <use x=\"586.042969\" xlink:href=\"#DejaVuSans-109\"/>\n      <use x=\"683.455078\" xlink:href=\"#DejaVuSans-101\"/>\n      <use x=\"744.978516\" xlink:href=\"#DejaVuSans-32\"/>\n      <use x=\"776.765625\" xlink:href=\"#DejaVuSans-40\"/>\n      <use x=\"815.779297\" xlink:href=\"#DejaVuSans-115\"/>\n      <use x=\"867.878906\" xlink:href=\"#DejaVuSans-41\"/>\n     </g>\n    </g>\n   </g>\n   <g id=\"line2d_13\">\n    <path clip-path=\"url(#p61c38527dc)\" d=\"M 68.546307 214.756364 \nL 68.694994 214.756363 \nL 68.99237 214.75636 \nL 69.58712 214.756337 \nL 70.776622 214.756185 \nL 73.155624 214.755402 \nL 77.913629 214.749838 \nL 87.429639 214.716688 \nL 106.46166 214.47472 \nL 144.5257 211.92391 \nL 220.653781 193.664589 \nL 372.909943 17.083636 \n\" style=\"fill:none;stroke:#1f77b4;stroke-linecap:square;stroke-width:1.5;\"/>\n   </g>\n   <g id=\"line2d_14\">\n    <path clip-path=\"url(#p61c38527dc)\" d=\"M 68.546307 214.756363 \nL 68.694994 214.756363 \nL 68.99237 214.756359 \nL 69.58712 214.756342 \nL 70.776622 214.756179 \nL 73.155624 214.755414 \nL 77.913629 214.750794 \nL 87.429639 214.725902 \nL 106.46166 214.542691 \nL 144.5257 212.838242 \nL 220.653781 202.904892 \nL 372.909943 123.94221 \n\" style=\"fill:none;stroke:#ff7f0e;stroke-linecap:square;stroke-width:1.5;\"/>\n   </g>\n   <g id=\"line2d_15\">\n    <path clip-path=\"url(#p61c38527dc)\" d=\"M 68.546307 214.756364 \nL 68.694994 214.756362 \nL 68.99237 214.756359 \nL 69.58712 214.756335 \nL 70.776622 214.75617 \nL 73.155624 214.755579 \nL 77.913629 214.750752 \nL 87.429639 214.723534 \nL 106.46166 214.525199 \nL 144.5257 212.726712 \nL 220.653781 201.943647 \nL 372.909943 115.093393 \n\" style=\"fill:none;stroke:#2ca02c;stroke-linecap:square;stroke-width:1.5;\"/>\n   </g>\n   <g id=\"patch_3\">\n    <path d=\"M 53.328125 224.64 \nL 53.328125 7.2 \n\" style=\"fill:none;stroke:#000000;stroke-linecap:square;stroke-linejoin:miter;stroke-width:0.8;\"/>\n   </g>\n   <g id=\"patch_4\">\n    <path d=\"M 388.128125 224.64 \nL 388.128125 7.2 \n\" style=\"fill:none;stroke:#000000;stroke-linecap:square;stroke-linejoin:miter;stroke-width:0.8;\"/>\n   </g>\n   <g id=\"patch_5\">\n    <path d=\"M 53.328125 224.64 \nL 388.128125 224.64 \n\" style=\"fill:none;stroke:#000000;stroke-linecap:square;stroke-linejoin:miter;stroke-width:0.8;\"/>\n   </g>\n   <g id=\"patch_6\">\n    <path d=\"M 53.328125 7.2 \nL 388.128125 7.2 \n\" style=\"fill:none;stroke:#000000;stroke-linecap:square;stroke-linejoin:miter;stroke-width:0.8;\"/>\n   </g>\n   <g id=\"legend_1\">\n    <g id=\"patch_7\">\n     <path d=\"M 60.328125 59.234375 \nL 301.2125 59.234375 \nQ 303.2125 59.234375 303.2125 57.234375 \nL 303.2125 14.2 \nQ 303.2125 12.2 301.2125 12.2 \nL 60.328125 12.2 \nQ 58.328125 12.2 58.328125 14.2 \nL 58.328125 57.234375 \nQ 58.328125 59.234375 60.328125 59.234375 \nz\n\" style=\"fill:#ffffff;opacity:0.8;stroke:#cccccc;stroke-linejoin:miter;\"/>\n    </g>\n    <g id=\"line2d_16\">\n     <path d=\"M 62.328125 20.298437 \nL 82.328125 20.298437 \n\" style=\"fill:none;stroke:#1f77b4;stroke-linecap:square;stroke-width:1.5;\"/>\n    </g>\n    <g id=\"line2d_17\"/>\n    <g id=\"text_15\">\n     <!-- Gauss matrix multiplication -->\n     <g transform=\"translate(90.328125 23.798437)scale(0.1 -0.1)\">\n      <defs>\n       <path d=\"M 59.515625 10.40625 \nL 59.515625 29.984375 \nL 43.40625 29.984375 \nL 43.40625 38.09375 \nL 69.28125 38.09375 \nL 69.28125 6.78125 \nQ 63.578125 2.734375 56.6875 0.65625 \nQ 49.8125 -1.421875 42 -1.421875 \nQ 24.90625 -1.421875 15.25 8.5625 \nQ 5.609375 18.5625 5.609375 36.375 \nQ 5.609375 54.25 15.25 64.234375 \nQ 24.90625 74.21875 42 74.21875 \nQ 49.125 74.21875 55.546875 72.453125 \nQ 61.96875 70.703125 67.390625 67.28125 \nL 67.390625 56.78125 \nQ 61.921875 61.421875 55.765625 63.765625 \nQ 49.609375 66.109375 42.828125 66.109375 \nQ 29.4375 66.109375 22.71875 58.640625 \nQ 16.015625 51.171875 16.015625 36.375 \nQ 16.015625 21.625 22.71875 14.15625 \nQ 29.4375 6.6875 42.828125 6.6875 \nQ 48.046875 6.6875 52.140625 7.59375 \nQ 56.25 8.5 59.515625 10.40625 \nz\n\" id=\"DejaVuSans-71\"/>\n       <path d=\"M 34.28125 27.484375 \nQ 23.390625 27.484375 19.1875 25 \nQ 14.984375 22.515625 14.984375 16.5 \nQ 14.984375 11.71875 18.140625 8.90625 \nQ 21.296875 6.109375 26.703125 6.109375 \nQ 34.1875 6.109375 38.703125 11.40625 \nQ 43.21875 16.703125 43.21875 25.484375 \nL 43.21875 27.484375 \nz\nM 52.203125 31.203125 \nL 52.203125 0 \nL 43.21875 0 \nL 43.21875 8.296875 \nQ 40.140625 3.328125 35.546875 0.953125 \nQ 30.953125 -1.421875 24.3125 -1.421875 \nQ 15.921875 -1.421875 10.953125 3.296875 \nQ 6 8.015625 6 15.921875 \nQ 6 25.140625 12.171875 29.828125 \nQ 18.359375 34.515625 30.609375 34.515625 \nL 43.21875 34.515625 \nL 43.21875 35.40625 \nQ 43.21875 41.609375 39.140625 45 \nQ 35.0625 48.390625 27.6875 48.390625 \nQ 23 48.390625 18.546875 47.265625 \nQ 14.109375 46.140625 10.015625 43.890625 \nL 10.015625 52.203125 \nQ 14.9375 54.109375 19.578125 55.046875 \nQ 24.21875 56 28.609375 56 \nQ 40.484375 56 46.34375 49.84375 \nQ 52.203125 43.703125 52.203125 31.203125 \nz\n\" id=\"DejaVuSans-97\"/>\n       <path d=\"M 41.109375 46.296875 \nQ 39.59375 47.171875 37.8125 47.578125 \nQ 36.03125 48 33.890625 48 \nQ 26.265625 48 22.1875 43.046875 \nQ 18.109375 38.09375 18.109375 28.8125 \nL 18.109375 0 \nL 9.078125 0 \nL 9.078125 54.6875 \nL 18.109375 54.6875 \nL 18.109375 46.1875 \nQ 20.953125 51.171875 25.484375 53.578125 \nQ 30.03125 56 36.53125 56 \nQ 37.453125 56 38.578125 55.875 \nQ 39.703125 55.765625 41.0625 55.515625 \nz\n\" id=\"DejaVuSans-114\"/>\n       <path d=\"M 9.421875 75.984375 \nL 18.40625 75.984375 \nL 18.40625 0 \nL 9.421875 0 \nz\n\" id=\"DejaVuSans-108\"/>\n       <path d=\"M 18.109375 8.203125 \nL 18.109375 -20.796875 \nL 9.078125 -20.796875 \nL 9.078125 54.6875 \nL 18.109375 54.6875 \nL 18.109375 46.390625 \nQ 20.953125 51.265625 25.265625 53.625 \nQ 29.59375 56 35.59375 56 \nQ 45.5625 56 51.78125 48.09375 \nQ 58.015625 40.1875 58.015625 27.296875 \nQ 58.015625 14.40625 51.78125 6.484375 \nQ 45.5625 -1.421875 35.59375 -1.421875 \nQ 29.59375 -1.421875 25.265625 0.953125 \nQ 20.953125 3.328125 18.109375 8.203125 \nz\nM 48.6875 27.296875 \nQ 48.6875 37.203125 44.609375 42.84375 \nQ 40.53125 48.484375 33.40625 48.484375 \nQ 26.265625 48.484375 22.1875 42.84375 \nQ 18.109375 37.203125 18.109375 27.296875 \nQ 18.109375 17.390625 22.1875 11.75 \nQ 26.265625 6.109375 33.40625 6.109375 \nQ 40.53125 6.109375 44.609375 11.75 \nQ 48.6875 17.390625 48.6875 27.296875 \nz\n\" id=\"DejaVuSans-112\"/>\n      </defs>\n      <use xlink:href=\"#DejaVuSans-71\"/>\n      <use x=\"77.490234\" xlink:href=\"#DejaVuSans-97\"/>\n      <use x=\"138.769531\" xlink:href=\"#DejaVuSans-117\"/>\n      <use x=\"202.148438\" xlink:href=\"#DejaVuSans-115\"/>\n      <use x=\"254.248047\" xlink:href=\"#DejaVuSans-115\"/>\n      <use x=\"306.347656\" xlink:href=\"#DejaVuSans-32\"/>\n      <use x=\"338.134766\" xlink:href=\"#DejaVuSans-109\"/>\n      <use x=\"435.546875\" xlink:href=\"#DejaVuSans-97\"/>\n      <use x=\"496.826172\" xlink:href=\"#DejaVuSans-116\"/>\n      <use x=\"536.035156\" xlink:href=\"#DejaVuSans-114\"/>\n      <use x=\"577.148438\" xlink:href=\"#DejaVuSans-105\"/>\n      <use x=\"604.931641\" xlink:href=\"#DejaVuSans-120\"/>\n      <use x=\"664.111328\" xlink:href=\"#DejaVuSans-32\"/>\n      <use x=\"695.898438\" xlink:href=\"#DejaVuSans-109\"/>\n      <use x=\"793.310547\" xlink:href=\"#DejaVuSans-117\"/>\n      <use x=\"856.689453\" xlink:href=\"#DejaVuSans-108\"/>\n      <use x=\"884.472656\" xlink:href=\"#DejaVuSans-116\"/>\n      <use x=\"923.681641\" xlink:href=\"#DejaVuSans-105\"/>\n      <use x=\"951.464844\" xlink:href=\"#DejaVuSans-112\"/>\n      <use x=\"1014.941406\" xlink:href=\"#DejaVuSans-108\"/>\n      <use x=\"1042.724609\" xlink:href=\"#DejaVuSans-105\"/>\n      <use x=\"1070.507812\" xlink:href=\"#DejaVuSans-99\"/>\n      <use x=\"1125.488281\" xlink:href=\"#DejaVuSans-97\"/>\n      <use x=\"1186.767578\" xlink:href=\"#DejaVuSans-116\"/>\n      <use x=\"1225.976562\" xlink:href=\"#DejaVuSans-105\"/>\n      <use x=\"1253.759766\" xlink:href=\"#DejaVuSans-111\"/>\n      <use x=\"1314.941406\" xlink:href=\"#DejaVuSans-110\"/>\n     </g>\n    </g>\n    <g id=\"line2d_18\">\n     <path d=\"M 62.328125 34.976562 \nL 82.328125 34.976562 \n\" style=\"fill:none;stroke:#ff7f0e;stroke-linecap:square;stroke-width:1.5;\"/>\n    </g>\n    <g id=\"line2d_19\"/>\n    <g id=\"text_16\">\n     <!-- Strassen matrix multiplication (original) -->\n     <g transform=\"translate(90.328125 38.476562)scale(0.1 -0.1)\">\n      <defs>\n       <path d=\"M 53.515625 70.515625 \nL 53.515625 60.890625 \nQ 47.90625 63.578125 42.921875 64.890625 \nQ 37.9375 66.21875 33.296875 66.21875 \nQ 25.25 66.21875 20.875 63.09375 \nQ 16.5 59.96875 16.5 54.203125 \nQ 16.5 49.359375 19.40625 46.890625 \nQ 22.3125 44.4375 30.421875 42.921875 \nL 36.375 41.703125 \nQ 47.40625 39.59375 52.65625 34.296875 \nQ 57.90625 29 57.90625 20.125 \nQ 57.90625 9.515625 50.796875 4.046875 \nQ 43.703125 -1.421875 29.984375 -1.421875 \nQ 24.8125 -1.421875 18.96875 -0.25 \nQ 13.140625 0.921875 6.890625 3.21875 \nL 6.890625 13.375 \nQ 12.890625 10.015625 18.65625 8.296875 \nQ 24.421875 6.59375 29.984375 6.59375 \nQ 38.421875 6.59375 43.015625 9.90625 \nQ 47.609375 13.234375 47.609375 19.390625 \nQ 47.609375 24.75 44.3125 27.78125 \nQ 41.015625 30.8125 33.5 32.328125 \nL 27.484375 33.5 \nQ 16.453125 35.6875 11.515625 40.375 \nQ 6.59375 45.0625 6.59375 53.421875 \nQ 6.59375 63.09375 13.40625 68.65625 \nQ 20.21875 74.21875 32.171875 74.21875 \nQ 37.3125 74.21875 42.625 73.28125 \nQ 47.953125 72.359375 53.515625 70.515625 \nz\n\" id=\"DejaVuSans-83\"/>\n       <path d=\"M 45.40625 27.984375 \nQ 45.40625 37.75 41.375 43.109375 \nQ 37.359375 48.484375 30.078125 48.484375 \nQ 22.859375 48.484375 18.828125 43.109375 \nQ 14.796875 37.75 14.796875 27.984375 \nQ 14.796875 18.265625 18.828125 12.890625 \nQ 22.859375 7.515625 30.078125 7.515625 \nQ 37.359375 7.515625 41.375 12.890625 \nQ 45.40625 18.265625 45.40625 27.984375 \nz\nM 54.390625 6.78125 \nQ 54.390625 -7.171875 48.1875 -13.984375 \nQ 42 -20.796875 29.203125 -20.796875 \nQ 24.46875 -20.796875 20.265625 -20.09375 \nQ 16.0625 -19.390625 12.109375 -17.921875 \nL 12.109375 -9.1875 \nQ 16.0625 -11.328125 19.921875 -12.34375 \nQ 23.78125 -13.375 27.78125 -13.375 \nQ 36.625 -13.375 41.015625 -8.765625 \nQ 45.40625 -4.15625 45.40625 5.171875 \nL 45.40625 9.625 \nQ 42.625 4.78125 38.28125 2.390625 \nQ 33.9375 0 27.875 0 \nQ 17.828125 0 11.671875 7.65625 \nQ 5.515625 15.328125 5.515625 27.984375 \nQ 5.515625 40.671875 11.671875 48.328125 \nQ 17.828125 56 27.875 56 \nQ 33.9375 56 38.28125 53.609375 \nQ 42.625 51.21875 45.40625 46.390625 \nL 45.40625 54.6875 \nL 54.390625 54.6875 \nz\n\" id=\"DejaVuSans-103\"/>\n      </defs>\n      <use xlink:href=\"#DejaVuSans-83\"/>\n      <use x=\"63.476562\" xlink:href=\"#DejaVuSans-116\"/>\n      <use x=\"102.685547\" xlink:href=\"#DejaVuSans-114\"/>\n      <use x=\"143.798828\" xlink:href=\"#DejaVuSans-97\"/>\n      <use x=\"205.078125\" xlink:href=\"#DejaVuSans-115\"/>\n      <use x=\"257.177734\" xlink:href=\"#DejaVuSans-115\"/>\n      <use x=\"309.277344\" xlink:href=\"#DejaVuSans-101\"/>\n      <use x=\"370.800781\" xlink:href=\"#DejaVuSans-110\"/>\n      <use x=\"434.179688\" xlink:href=\"#DejaVuSans-32\"/>\n      <use x=\"465.966797\" xlink:href=\"#DejaVuSans-109\"/>\n      <use x=\"563.378906\" xlink:href=\"#DejaVuSans-97\"/>\n      <use x=\"624.658203\" xlink:href=\"#DejaVuSans-116\"/>\n      <use x=\"663.867188\" xlink:href=\"#DejaVuSans-114\"/>\n      <use x=\"704.980469\" xlink:href=\"#DejaVuSans-105\"/>\n      <use x=\"732.763672\" xlink:href=\"#DejaVuSans-120\"/>\n      <use x=\"791.943359\" xlink:href=\"#DejaVuSans-32\"/>\n      <use x=\"823.730469\" xlink:href=\"#DejaVuSans-109\"/>\n      <use x=\"921.142578\" xlink:href=\"#DejaVuSans-117\"/>\n      <use x=\"984.521484\" xlink:href=\"#DejaVuSans-108\"/>\n      <use x=\"1012.304688\" xlink:href=\"#DejaVuSans-116\"/>\n      <use x=\"1051.513672\" xlink:href=\"#DejaVuSans-105\"/>\n      <use x=\"1079.296875\" xlink:href=\"#DejaVuSans-112\"/>\n      <use x=\"1142.773438\" xlink:href=\"#DejaVuSans-108\"/>\n      <use x=\"1170.556641\" xlink:href=\"#DejaVuSans-105\"/>\n      <use x=\"1198.339844\" xlink:href=\"#DejaVuSans-99\"/>\n      <use x=\"1253.320312\" xlink:href=\"#DejaVuSans-97\"/>\n      <use x=\"1314.599609\" xlink:href=\"#DejaVuSans-116\"/>\n      <use x=\"1353.808594\" xlink:href=\"#DejaVuSans-105\"/>\n      <use x=\"1381.591797\" xlink:href=\"#DejaVuSans-111\"/>\n      <use x=\"1442.773438\" xlink:href=\"#DejaVuSans-110\"/>\n      <use x=\"1506.152344\" xlink:href=\"#DejaVuSans-32\"/>\n      <use x=\"1537.939453\" xlink:href=\"#DejaVuSans-40\"/>\n      <use x=\"1576.953125\" xlink:href=\"#DejaVuSans-111\"/>\n      <use x=\"1638.134766\" xlink:href=\"#DejaVuSans-114\"/>\n      <use x=\"1679.248047\" xlink:href=\"#DejaVuSans-105\"/>\n      <use x=\"1707.03125\" xlink:href=\"#DejaVuSans-103\"/>\n      <use x=\"1770.507812\" xlink:href=\"#DejaVuSans-105\"/>\n      <use x=\"1798.291016\" xlink:href=\"#DejaVuSans-110\"/>\n      <use x=\"1861.669922\" xlink:href=\"#DejaVuSans-97\"/>\n      <use x=\"1922.949219\" xlink:href=\"#DejaVuSans-108\"/>\n      <use x=\"1950.732422\" xlink:href=\"#DejaVuSans-41\"/>\n     </g>\n    </g>\n    <g id=\"line2d_20\">\n     <path d=\"M 62.328125 49.654687 \nL 82.328125 49.654687 \n\" style=\"fill:none;stroke:#2ca02c;stroke-linecap:square;stroke-width:1.5;\"/>\n    </g>\n    <g id=\"line2d_21\"/>\n    <g id=\"text_17\">\n     <!-- Strassen matrix multiplication (improved) -->\n     <g transform=\"translate(90.328125 53.154687)scale(0.1 -0.1)\">\n      <defs>\n       <path d=\"M 2.984375 54.6875 \nL 12.5 54.6875 \nL 29.59375 8.796875 \nL 46.6875 54.6875 \nL 56.203125 54.6875 \nL 35.6875 0 \nL 23.484375 0 \nz\n\" id=\"DejaVuSans-118\"/>\n       <path d=\"M 45.40625 46.390625 \nL 45.40625 75.984375 \nL 54.390625 75.984375 \nL 54.390625 0 \nL 45.40625 0 \nL 45.40625 8.203125 \nQ 42.578125 3.328125 38.25 0.953125 \nQ 33.9375 -1.421875 27.875 -1.421875 \nQ 17.96875 -1.421875 11.734375 6.484375 \nQ 5.515625 14.40625 5.515625 27.296875 \nQ 5.515625 40.1875 11.734375 48.09375 \nQ 17.96875 56 27.875 56 \nQ 33.9375 56 38.25 53.625 \nQ 42.578125 51.265625 45.40625 46.390625 \nz\nM 14.796875 27.296875 \nQ 14.796875 17.390625 18.875 11.75 \nQ 22.953125 6.109375 30.078125 6.109375 \nQ 37.203125 6.109375 41.296875 11.75 \nQ 45.40625 17.390625 45.40625 27.296875 \nQ 45.40625 37.203125 41.296875 42.84375 \nQ 37.203125 48.484375 30.078125 48.484375 \nQ 22.953125 48.484375 18.875 42.84375 \nQ 14.796875 37.203125 14.796875 27.296875 \nz\n\" id=\"DejaVuSans-100\"/>\n      </defs>\n      <use xlink:href=\"#DejaVuSans-83\"/>\n      <use x=\"63.476562\" xlink:href=\"#DejaVuSans-116\"/>\n      <use x=\"102.685547\" xlink:href=\"#DejaVuSans-114\"/>\n      <use x=\"143.798828\" xlink:href=\"#DejaVuSans-97\"/>\n      <use x=\"205.078125\" xlink:href=\"#DejaVuSans-115\"/>\n      <use x=\"257.177734\" xlink:href=\"#DejaVuSans-115\"/>\n      <use x=\"309.277344\" xlink:href=\"#DejaVuSans-101\"/>\n      <use x=\"370.800781\" xlink:href=\"#DejaVuSans-110\"/>\n      <use x=\"434.179688\" xlink:href=\"#DejaVuSans-32\"/>\n      <use x=\"465.966797\" xlink:href=\"#DejaVuSans-109\"/>\n      <use x=\"563.378906\" xlink:href=\"#DejaVuSans-97\"/>\n      <use x=\"624.658203\" xlink:href=\"#DejaVuSans-116\"/>\n      <use x=\"663.867188\" xlink:href=\"#DejaVuSans-114\"/>\n      <use x=\"704.980469\" xlink:href=\"#DejaVuSans-105\"/>\n      <use x=\"732.763672\" xlink:href=\"#DejaVuSans-120\"/>\n      <use x=\"791.943359\" xlink:href=\"#DejaVuSans-32\"/>\n      <use x=\"823.730469\" xlink:href=\"#DejaVuSans-109\"/>\n      <use x=\"921.142578\" xlink:href=\"#DejaVuSans-117\"/>\n      <use x=\"984.521484\" xlink:href=\"#DejaVuSans-108\"/>\n      <use x=\"1012.304688\" xlink:href=\"#DejaVuSans-116\"/>\n      <use x=\"1051.513672\" xlink:href=\"#DejaVuSans-105\"/>\n      <use x=\"1079.296875\" xlink:href=\"#DejaVuSans-112\"/>\n      <use x=\"1142.773438\" xlink:href=\"#DejaVuSans-108\"/>\n      <use x=\"1170.556641\" xlink:href=\"#DejaVuSans-105\"/>\n      <use x=\"1198.339844\" xlink:href=\"#DejaVuSans-99\"/>\n      <use x=\"1253.320312\" xlink:href=\"#DejaVuSans-97\"/>\n      <use x=\"1314.599609\" xlink:href=\"#DejaVuSans-116\"/>\n      <use x=\"1353.808594\" xlink:href=\"#DejaVuSans-105\"/>\n      <use x=\"1381.591797\" xlink:href=\"#DejaVuSans-111\"/>\n      <use x=\"1442.773438\" xlink:href=\"#DejaVuSans-110\"/>\n      <use x=\"1506.152344\" xlink:href=\"#DejaVuSans-32\"/>\n      <use x=\"1537.939453\" xlink:href=\"#DejaVuSans-40\"/>\n      <use x=\"1576.953125\" xlink:href=\"#DejaVuSans-105\"/>\n      <use x=\"1604.736328\" xlink:href=\"#DejaVuSans-109\"/>\n      <use x=\"1702.148438\" xlink:href=\"#DejaVuSans-112\"/>\n      <use x=\"1765.625\" xlink:href=\"#DejaVuSans-114\"/>\n      <use x=\"1804.488281\" xlink:href=\"#DejaVuSans-111\"/>\n      <use x=\"1865.669922\" xlink:href=\"#DejaVuSans-118\"/>\n      <use x=\"1924.849609\" xlink:href=\"#DejaVuSans-101\"/>\n      <use x=\"1986.373047\" xlink:href=\"#DejaVuSans-100\"/>\n      <use x=\"2049.849609\" xlink:href=\"#DejaVuSans-41\"/>\n     </g>\n    </g>\n   </g>\n  </g>\n </g>\n <defs>\n  <clipPath id=\"p61c38527dc\">\n   <rect height=\"217.44\" width=\"334.8\" x=\"53.328125\" y=\"7.2\"/>\n  </clipPath>\n </defs>\n</svg>\n",
      "image/png": "[encoded data removed]"
     },
     "metadata": {
      "needs_background": "light"
     }
    }
   ],
   "source": [
    "_ = [plt.plot(times[0], times[i], label = columns[i]) for i in range(1,4)]\n",
    "__ = plt.xlabel('size') \n",
    "___ = plt.ylabel('execution time (s)')\n",
    "____ = plt.legend()"
   ]
  },
  {
   "source": [
    "## Final question: how much is the minimum auxiliary space required to evaluate the Strassen’s algorithm?\n",
    "\n",
    "In order to answer the question we can consider two scenarios:\n",
    "\n",
    "1. The *worst case* scenario;\n",
    "2. The *best case* scenario;\n",
    "\n",
    "Then we apply it to the implementation of the Strassen's algorithm that requires the minimum amount of memory to be carried out, that is the one that does not store any temporary result and computes all the quantities every time they are needed, saving the results directly in the final matrix that will be returned. \n",
    "\n",
    "### Worst case scenario\n",
    "In this case all the sizes of the matrices involved in the multiplication are odd. It is then needed to insert a null row and a null column in both matrices. If the multiplication is performed using a first $n$x$m$ matrix and a second $m$x$l$ matrix, the aforementioned procedure takes an amount of memory proportional to\n",
    "$$\n",
    "(n+m+1)+(m+l+1)=n+2m+l+2.\n",
    "$$\n",
    "In addition to that, the `result` matrix takes an $(n+1)$x$(l+1)$ amount of space. Then, at each step of the recursion the amount of space required is proportional to \n",
    "$$\n",
    "s_i \\propto (n+1)(l+1)+n+2m+l+C = nl+2(n+m+l)+C,\n",
    "$$\n",
    "where the constat $C$ takes also account of the constant amount of space required by the two auxiliary variables that stores the original number of rows of the first matrix ($n$) and the original number of columns of the second matrix ($l$).\n",
    "\n",
    "According to the implementation that has been carried out, the recursion stops when the maximum between all the sizes $M=\\max(n,m,l)$ is smaller than a given threshold. If we suppose to set this threshold to the scalar multiplication, the height of the recursion tree will be $\\log_2 M$.\n",
    "\n",
    "Then the amount of space required by the process is \n",
    "$$\n",
    "\\begin{align*}\n",
    "S &\\propto \\sum_{i=0}^{\\log_2 M}\\left[\\frac{n}{2^i}\\frac{l}{2^i}+\\frac{2(n+l+m)}{2^i}+C \\right]\\\\\n",
    "&= nl\\sum_{i=0}^{\\log_2 M}\\frac{1}{4^i}+2(n+m+l)\\sum_{i=0}^{\\log_2 M}\\frac{1}{2^i}+C\\sum_{i=0}^{\\log_2 M}\\\\\n",
    "&= nl\\left(\\frac{4}{3}-\\frac{1}{3M^2} \\right)+2(n+m+l)\\left(2-\\frac{1}{M} \\right)+C\\log_22M\\\\\n",
    "&= \\frac{4}{3}nl+2(n+m+l)-\\frac{nl}{3[\\max(n,m,l)]^2}-2\\frac{n+m+l}{\\max(n,m,l)}+C\\log_2[2\\max(n,m,l)],\n",
    "\\end{align*}\n",
    "$$\n",
    "which, at large sizes, is dominated by a quadratic term.\n",
    "\n",
    "For square matrices ($n=m=l$) one obtains\n",
    "$$\n",
    "S \\propto \\frac{4}{3}n^2+6n-\\frac{n^2}{3[n]^2}-2\\frac{3n}{n}+C\\log_22n=\\frac{4}{3}n^2+6n+C\\log_22n+C',\\,\\,\\,C'=-\\frac{1}{3}-6.\n",
    "$$\n",
    "\n",
    "### Best case scenario\n",
    "In this case all the sizes of the matrices involved in the multiplication are even, making unnecessary to insert any row or column. If one has two matrices $n$x$m$ and $m$x$l$, the `result` matrix for the final output will be of order $n$x$l$. So at each step of the recursion the amount of space needed is proportional to\n",
    "$$\n",
    "nl + C.\n",
    "$$\n",
    "The total amount of space required is then proportional to\n",
    "$$\n",
    "\\begin{align*}\n",
    "S &\\propto \\sum_{i=0}^{\\log_2M}\\frac{n}{2^i}\\frac{l}{2^i}+\\sum_{i=0}^{\\log_2M}C\\\\\n",
    "&= nl\\sum_{i=0}^{\\log_2M}\\frac{1}{4^i}+C\\sum_{i=0}^{\\log_2M}\\\\\n",
    "&= \\frac{4}{3}nl-\\frac{nl}{3[\\max(n,m,l)]^2}+C\\log_2[2\\max(n,m,l)].\n",
    "\\end{align*}\n",
    "$$\n",
    "Again, for large sizes, one obtains a quadratic behavior.\n",
    "\n",
    "For square matrices:\n",
    "$$\n",
    "S \\propto \\frac{4}{3}n^2-\\frac{n^2}{3[n]^2}+C\\log_2[2n] = \\frac{4}{3}n^2+C\\log_22n+C',\\,\\,\\,C'=-\\frac{1}{3} \n",
    "$$"
   ],
   "cell_type": "markdown",
   "metadata": {}
  }
 ],
 "metadata": {
  "kernelspec": {
   "display_name": "Python 3",
   "language": "python",
   "name": "python3"
  },
  "language_info": {
   "codemirror_mode": {
    "name": "ipython",
    "version": 3
   },
   "file_extension": ".py",
   "mimetype": "text/x-python",
   "name": "python",
   "nbconvert_exporter": "python",
   "pygments_lexer": "ipython3",
   "version": "3.8.5-final"
  }
 },
 "nbformat": 4,
 "nbformat_minor": 2
}