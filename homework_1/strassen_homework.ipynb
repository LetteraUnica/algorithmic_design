{
 "cells": [
  {
   "cell_type": "markdown",
   "metadata": {},
   "source": [
    "# Strassen homework"
   ]
  },
  {
   "cell_type": "markdown",
   "metadata": {},
   "source": [
    "## Exercise 1/2\n",
    "\n",
    "The generalized version of the strassen multiplication algorithm to non rectangular matrices can be found in the matrix.py file, here I will analize the effect on the execution time\n",
    "\n",
    "### Square matrices:\n",
    "The time complexity for multipling two square matrices with size power of two is $T(n) = \\Theta(n^{\\log_2(7)})$  \n",
    "This also holds for matrices of uneven size because I can pad the matrices with zeros until I reach the next power of two and make use of the identity\n",
    "\n",
    "$$\n",
    "\\begin{pmatrix}\n",
    "A & 0 \\\\\n",
    "0 & 0 \n",
    "\\end{pmatrix}\n",
    "\\begin{pmatrix}\n",
    "B & 0 \\\\\n",
    "0 & 0 \n",
    "\\end{pmatrix}\n",
    "= \n",
    "\\begin{pmatrix}\n",
    "AB & 0 \\\\\n",
    "0 & 0 \n",
    "\\end{pmatrix}\n",
    "$$\n",
    "\n",
    "The time complexity of this algorithm will be:\n",
    "$$T(n) \\leq T(a \\cdot n) = \\Theta((a \\cdot n)^{\\log_2(7)}) = \\Theta(a^{\\log_2(7)} \\cdot n^{\\log_2(7)}) = \\Theta(n^{\\log_2(7)})$$\n",
    "Where $a<2$  \n",
    "\n",
    "In the matrix.py file I don't scale up the matrices to the next power of two but I add a column or row in case the matrix is odd, this case performs less operations than the one discussed above so the implementation remains $\\Theta(n^{\\log_2(7)})$\n",
    "\n",
    "### Rectangular matrices:\n",
    "For two rectangular matrices of sizes $m$ x $n$ and $n$ x $o$ with $m$, $n$, $o$ power two the execution time is:\n",
    "$$\n",
    "T(n, m, o)=\n",
    "\\begin{cases}\n",
    "5/4 \\,(m n + o n) + 7 \\cdot T(n/2, m/2, o/2) \\quad \\max(n, m, o) \\geq 64\\\\\n",
    "\\alpha \\quad \\max(n, m, o) < 64\n",
    "\\end{cases}\n",
    "$$\n",
    "The problem with this recursion is that we don't know $\\max(n, m, o)$ which is related to the upper bound of the summation, so we define $M = \\max(n, m, o)$  \n",
    "\n",
    "$$T(n, m, o) = \\alpha \\frac{5}{4} \\sum_{i=0}^{\\log_2 M} (7/4)^i n\\cdot(m+o) = \\alpha\\frac{5}{4}n\\cdot(m+o) \\frac{(7/4)^{\\log_2(M)+1} - 1}{7/4 - 1} =\n",
    "\\Theta(n\\cdot(m+o)(7/4)^{\\log_2 M}) = \\Theta(n\\cdot(m+o)M^{\\log_2(7/4)})$$\n",
    "If we suppose that $n$ is the maximum among the three indices we get\n",
    "$$T(n, m, o) = \\Theta((m+o)n^{\\log_2(7) - 1})$$\n",
    "From this formula is clear that if $n = m = o$ we get the usual strassen matrix multiplication complexity  \n",
    "Note that above we ignored the fact that the base case occurs when $M \\geq 64$, the reason is because it doesn't matter, as it will only add a constant term independent from the matrix sizes in the summation\n",
    "\n",
    "We can generalize this formula to non-power-of-two matrices like we did before: Using the above matrix identity and by padding the matrices\n",
    "$$T(n, m, o) \\leq T(a n, b m, c o) = \\Theta(an\\cdot(bm+co)\\cdot \\max(a,b,c)M^{\\log_2(7/4)}) = \\Theta(n\\cdot(m+o)M^{\\log_2(7/4)})$$\n",
    "Where $a, b, c<2$  \n",
    "\n"
   ]
  },
  {
   "cell_type": "code",
   "execution_count": 1,
   "metadata": {},
   "outputs": [],
   "source": [
    "# Import useful modules\n",
    "from matrix import *\n",
    "from random import random, randint, seed\n",
    "import pytest\n",
    "import time\n",
    "from timeit import timeit\n",
    "from IPython.display import clear_output\n",
    "import pylab as pl\n",
    "\n",
    "# Set random seed for reproducibility\n",
    "seed(42)"
   ]
  },
  {
   "cell_type": "code",
   "execution_count": 2,
   "metadata": {
    "tags": []
   },
   "outputs": [
    {
     "name": "stdout",
     "output_type": "stream",
     "text": [
      "Tests passed!\n"
     ]
    }
   ],
   "source": [
    "def random_matrix(rows: int, cols: int) -> Matrix:\n",
    "    \"\"\"\n",
    "    Returns a matrix filled with uniformly distributed random values\n",
    "\n",
    "    Parameters\n",
    "    ----------\n",
    "    rows: int\n",
    "        Number of rows\n",
    "    cols: int\n",
    "        Number of columns\n",
    "\n",
    "    Returns\n",
    "    -------\n",
    "    Matrix\n",
    "        Matrix filled with random values\n",
    "    \"\"\"\n",
    "\n",
    "    return Matrix([[random() for j in range(cols)] for i in range(rows)], clone_matrix=False)\n",
    "\n",
    "\n",
    "# Tests whether the strassen multiplication actually works\n",
    "for i in range(10):\n",
    "    # Generate random matrix sizes\n",
    "    n, m, o = randint(1, 100), randint(1, 100), randint(1, 100)\n",
    "    # Generate two uniformly distributed random matrices\n",
    "    A, B = random_matrix(m, n), random_matrix(n, o)\n",
    "    print(f\"Testing {m}x{n} x {n}x{o}\")\n",
    "    \n",
    "    # I test both the standard strassen and the efficient version with less memory usage\n",
    "    assert max(max(gauss_matrix_mult(A, B) - better_strassen_matrix_mult(A, B))) == pytest.approx(0.)\n",
    "    assert max(max(gauss_matrix_mult(A, B) - strassen_matrix_mult(A, B))) == pytest.approx(0., rel=1e-12)\n",
    "    \n",
    "clear_output()\n",
    "print(\"Tests passed!\")"
   ]
  },
  {
   "cell_type": "markdown",
   "metadata": {},
   "source": [
    "## Exercise 3\n",
    "The function implementing the memory efficient version of the strassen's algorithm is better_strassen_matrix_mult which can be found in matrix.py.  \n",
    "Here I will perform a comparison of the execution time of strassen's matrix multiplication vs the gauss matrix multiplication for square matrices of size power of two"
   ]
  },
  {
   "cell_type": "code",
   "execution_count": 3,
   "metadata": {},
   "outputs": [
    {
     "data": {
      "image/png": "[encoded data removed]",
      "text/plain": [
       "<Figure size 432x288 with 1 Axes>"
      ]
     },
     "metadata": {
      "needs_background": "light"
     },
     "output_type": "display_data"
    }
   ],
   "source": [
    "# Sizes to consider\n",
    "all_n = [2**i for i in range(1, 11)]\n",
    "time_gauss = []\n",
    "time_strassen_naive = []\n",
    "time_strassen_better = []\n",
    "\n",
    "with open(\"matrix-times.txt\", \"w\") as f:\n",
    "    f.write(\"# size/Gauss_matmul/strassen_matmul/memory_efficient_strassen_matmul\")\n",
    "    for n in all_n:\n",
    "        # Generate two uniformly distributed random matrices\n",
    "        A, B = random_matrix(n, n), random_matrix(n, n)\n",
    "        f.write(f\"{n} \")\n",
    "        \n",
    "        # Time of the gauss matmul\n",
    "        start = time.time()\n",
    "        gauss_matrix_mult(A, B)\n",
    "        time_gauss.append(time.time() - start)\n",
    "        f.write(f\"{time_gauss[-1]} \")\n",
    "\n",
    "        # Time of the naive strassen matmul\n",
    "        start = time.time()\n",
    "        strassen_matrix_mult(A, B)\n",
    "        time_strassen_naive.append(time.time() - start)\n",
    "        f.write(f\"{time_strassen_naive[-1]} \")\n",
    "\n",
    "        # Time of the efficient strassen matmul\n",
    "        start = time.time()\n",
    "        better_strassen_matrix_mult(A, B)\n",
    "        time_strassen_better.append(time.time() - start)\n",
    "        f.write(f\"{time_strassen_better[-1]}\\n\")\n",
    "\n",
    "        # To track progress\n",
    "        print(\"done:\", n)\n",
    "               \n",
    "# Clears the output of the cell\n",
    "clear_output()\n",
    "\n",
    "# Plot of the elapsed times\n",
    "pl.plot(all_n, time_gauss, label=\"Gauss matmul\")\n",
    "pl.plot(all_n, time_strassen_naive, label=\"Strassen matmul\")\n",
    "pl.plot(all_n, time_strassen_better, label=\"Strassen efficient matmul\")\n",
    "pl.xscale(\"log\")\n",
    "pl.ylabel(\"Time [s]\")\n",
    "pl.xlabel(\"Size of the matrix [n]\")\n",
    "pl.title(\"Time vs size for matrix multiplication\")\n",
    "pl.legend()\n",
    "pl.savefig(\"Time-comparison.png\", dpi=300)"
   ]
  },
  {
   "cell_type": "code",
   "execution_count": 4,
   "metadata": {},
   "outputs": [
    {
     "data": {
      "image/png": "[encoded data removed]",
      "text/plain": [
       "<Figure size 432x288 with 1 Axes>"
      ]
     },
     "metadata": {
      "needs_background": "light"
     },
     "output_type": "display_data"
    }
   ],
   "source": [
    "# Plot of the speedup of strassen w.r.t. gauss\n",
    "\n",
    "speedup_naive = [i/j for i,j in zip(time_gauss, time_strassen_naive)]\n",
    "speedup_better = [i/j for i,j in zip(time_gauss, time_strassen_better)]\n",
    "pl.plot(all_n[2:], speedup_naive[2:], label=\"Strassen matmul\", c=\"tab:orange\")\n",
    "pl.plot(all_n[2:], speedup_better[2:], label=\"Strassen efficient matmul\", c=\"tab:green\")\n",
    "pl.xscale(\"log\")\n",
    "pl.ylabel(\"Speedup\")\n",
    "pl.xlabel(\"Size of the matrix [n]\")\n",
    "pl.title(\"Speedup w.r.t. gauss matmul\")\n",
    "pl.legend()\n",
    "pl.savefig(\"Strassen-efficency.png\", dpi=300)"
   ]
  },
  {
   "cell_type": "markdown",
   "metadata": {},
   "source": [
    "From the speedup graph we see that the strassen algorithm outperforms the gauss algorithm for $n>128$, furthermore we see that both versions of the strassen have quite similar execution time, this is probably because the matrices are small enough such that the memory is not a problem"
   ]
  },
  {
   "cell_type": "markdown",
   "metadata": {},
   "source": [
    "## Exercise 4\n",
    "\n",
    "With the new implementation of the strassen algorithm (better_strassen_matrix_mult in module matrix.py) we reduced by a lot the number of extra space needed, for a single iteration we only need two submatrices storing the sums and one matrix storing the product, along with the full matrix which contains the final result, this gives the following recursion formula for the space complexity\n",
    "$$\n",
    "S(n, m, o)=\n",
    "\\begin{cases}\n",
    "5/4 \\,(m n + o n + m o) + S(n/2, m/2, o/2) \\quad \\max(n, m, o) \\geq 64\\\\\n",
    "\\alpha \\quad \\max(n, m, o) < 64\n",
    "\\end{cases}\n",
    "$$\n",
    "Where I considered $m$ $n$ $o$ power of two, note that this is a similar formula as for the time complexity, however we only have $S(n/2, m/2, o/2)$ instead of $7 \\cdot S(n/2, m/2, o/2)$ because we were able to rearrange the operations such that we store only a product at a time, the solution to the above recursion is:\n",
    "\n",
    "$$S(n, m, o) = \\alpha \\cdot 5/4 (mn + no + mo) \\sum_{i=0}^{log_2 M} 4^{-i} =\n",
    "\\alpha \\cdot 5/4 (mn + no + mo) \\cdot \\frac{4}{3}\\bigg(1 - \\frac{1}{M^2}\\bigg) =\n",
    "\\Theta(mn + no + mo)$$\n",
    "\n",
    "Where $M = \\max(n, m, o)$ and in the last step I used the fact that $(1 - M^{-2}) \\leq 1$\n",
    "\n",
    "For non power of two matrices we reason like before, that is, we enlarge the matrices to the next power of two and we use the matrix identity of exercise 1/2:\n",
    "$$S(n, m, o) \\leq S(an, bm, co) = \\Theta(ab\\cdot mn + ac\\cdot no + bc\\cdot mo) = \\Theta(mn + no + mo)$$\n",
    "Because $a, b, c<2$  \n",
    "\n",
    "This a very important result because it tells us that the Strassen's matrix multiplication space complexity is the same as the Gauss matrix multiplication"
   ]
  }
 ],
 "metadata": {
  "kernelspec": {
   "display_name": "Python 3",
   "language": "python",
   "name": "python3"
  },
  "language_info": {
   "codemirror_mode": {
    "name": "ipython",
    "version": 3
   },
   "file_extension": ".py",
   "mimetype": "text/x-python",
   "name": "python",
   "nbconvert_exporter": "python",
   "pygments_lexer": "ipython3",
   "version": "3.8.8"
  }
 },
 "nbformat": 4,
 "nbformat_minor": 4
}
