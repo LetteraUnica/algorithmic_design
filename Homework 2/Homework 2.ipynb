{
 "cells": [
  {
   "cell_type": "markdown",
   "id": "02f1dee4",
   "metadata": {},
   "source": [
    "## Algorithmic Design Homework 2"
   ]
  },
  {
   "cell_type": "markdown",
   "id": "91600a1b",
   "metadata": {},
   "source": [
    "### Exercise 1\n",
    "Let H be a `Min-Heap` containing $n$ integer keys and let $k$ be an integer value. Solve the following exercises by using the procedures seen during the course lessons:"
   ]
  },
  {
   "cell_type": "markdown",
   "id": "c3bb7357",
   "metadata": {},
   "source": [
    "a) Write the pseudo-code of an in-place procedure `RetrieveMax(H)` to efficiently return the maximum value in H without deleting it and evaluate its complexity.  \n",
    "\n",
    "In case of a Min-Heap we know that $parent(p) \\leq p$ so the maximum has to be found in the leaves of the Min-Heap which are $\\lceil n/2 \\rceil$ where $n$ is the heap size. Considering the index starting from 0 we get that the first leaf will be at index $\\lfloor n/2 \\rfloor$.  \n",
    "\n",
    "The time complexity of this algorithm will be $\\Theta(\\lceil n/2 \\rceil) = \\Theta(n/2) = \\Theta(n)$ because it requires to find the maximum among an unordered array of $\\lceil n/2 \\rceil$ elements."
   ]
  },
  {
   "cell_type": "code",
   "execution_count": null,
   "id": "4225f8ba",
   "metadata": {},
   "outputs": [],
   "source": [
    "# Pseudocode of exercise 1.a, I consider the index starting from 0\n",
    "\n",
    "def find_max(A, l, r):\n",
    "    # Finds the maximum value between [l,r) of an unordered array A \n",
    "    current_max = A[l]\n",
    "    i = l+1\n",
    "    while i<r:\n",
    "        if A[i] > current_max:\n",
    "            current_max = A[i]\n",
    "        i+=1\n",
    "    \n",
    "    return current_max\n",
    "\n",
    "def RetrieveMax(H):\n",
    "    return find_max(H, floor(H.size/2), H.size)"
   ]
  },
  {
   "cell_type": "markdown",
   "id": "229e4fdd",
   "metadata": {},
   "source": [
    "b) Write the pseudo-code of an in-place procedure DeleteMax(H) to efficiently deletes the maximum value from H and evaluate its complexity.  \n",
    "\n",
    "To delete the maximum element of an heap firstly we find the index corresponding to the maximum value, which takes time $\\Theta(n)$, then we must delete this maximum element. This deletion is performed by storing the last element of $H$ in a variable named `new_value`, then decreasing the size of the heap by 1, and finally we decrease the maximum value to `new_value` using the `DECREASE_KEY` function seen during the lectures, which takes time $O(\\log(n))$.  \n",
    "The overall time complexity of this operation is $\\Theta(n)$ because finding the maximum takes time $\\Theta(n)$ and decreasing a key takes time $O(\\log(n))$."
   ]
  },
  {
   "cell_type": "code",
   "execution_count": null,
   "id": "d6984d90",
   "metadata": {},
   "outputs": [],
   "source": [
    "# Pseudocode of exercise 1.b, I consider the index starting from 0\n",
    "\n",
    "def find_max_index(A, l, r):\n",
    "    # Finds the index of the maximum value between [l,r) of an unordered array A\n",
    "    max_index = l\n",
    "    current_max = A[max_index]\n",
    "    \n",
    "    while i<r:\n",
    "        if A[i] > current_max:\n",
    "            current_max = A[i]\n",
    "            max_index = i\n",
    "        i+=1\n",
    "    \n",
    "    return max_index\n",
    "\n",
    "def DeleteMax(H):\n",
    "    # Find the maximum index\n",
    "    max_index = find_max_index(H, floor(H.size/2), H.size)\n",
    "    \n",
    "    # Delete the maximum\n",
    "    # If the maximum index is the last index of H I simply delete it (best case)\n",
    "    if max_index == H.size-1:\n",
    "        H.size -= 1\n",
    "        return\n",
    "    \n",
    "    # Otherwise I must decrease the maximum to the value of the last element in H\n",
    "    new_value = H[H.size-1]\n",
    "    H.size -= 1\n",
    "    DECREASE_KEY(H, max_index, new_value)"
   ]
  },
  {
   "cell_type": "markdown",
   "id": "589ea546",
   "metadata": {},
   "source": [
    "c) Provide a working example for the worst case scenario of the procedure `DeleteMax(H)` (see Exercise 1b) on a heap $H$ consisting in 8 nodes and simulate the execution of the function itself."
   ]
  },
  {
   "cell_type": "markdown",
   "id": "028365cb",
   "metadata": {},
   "source": [
    "In case of 8 nodes we will have $\\lceil n/2 \\rceil = 4$ leaves and the first leaf index will be at $\\lfloor n/2 \\rfloor = 4$, the algorithm first finds the index $i$ that corresponds to the maximum value among $H[4],H[5],H[6],H[7]$ or more clearly $i = arg\\,max_i H[i] \\quad i\\in\\{4,5,6,7\\}$. Up to this point the algorithm is the same in the best and worst case but in the worst case we don't enter in the if block and proceed by creating the variable `new_value` which stores the value of the last element of the Min-Heap, then and decreases the size of the heap by 1 and finally the DECREASE_KEY function is called.  \n",
    "The DECREASE_KEY function in the worst case will swap the child and the parent up to the level before the root, it won't swap the root because the root is by definition the minimum value in the heap and so it must be less than or equal to `new_value` which was part of the heap.  \n",
    "So in our case we have $n=8$ $h=3$ and we only need one swap to fix the heap property. The picture below explains the deletion process:\n",
    "\n",
    "<img src=\"Heap steps.png\">"
   ]
  },
  {
   "cell_type": "markdown",
   "id": "91e069ea",
   "metadata": {},
   "source": [
    "### Exercise 2\n",
    "\n",
    "Let $A$ be an array of n integer values (i.e., the values belong to $\\mathbb Z$). Consider the problem of computing a vector $B$ such that, for all $i \\in [1, n], B[i]$ stores the number of elements smaller than $A[i]$ in $A[i + 1, ... , n]$. More formally:\n",
    "$$ B[i] = |\\{z \\in [i + 1, n]| A[z] < A[i]\\}|$$"
   ]
  },
  {
   "cell_type": "markdown",
   "id": "988b8ff3",
   "metadata": {},
   "source": [
    "a) Evaluate the array $B$ corresponding to $A = [2, -7, 8, 3, -5, -5, 9, 1, 12, 4]$.  \n",
    "\n",
    "In this case we have $B=[4,0,5,3,0,0,2,0,1,0]$"
   ]
  },
  {
   "cell_type": "markdown",
   "id": "d01cd1ff",
   "metadata": {},
   "source": [
    "b) Write the pseudo-code of an algorithm belonging to $O(n^2)$ to solve the problem. Prove the asympotic complexity of the proposed solution and its correctness.  \n",
    "\n",
    "The most straightforward method is to simply test the condition for each element of $A$, the pseudocode of this algorithm will be:"
   ]
  },
  {
   "cell_type": "code",
   "execution_count": null,
   "id": "fab61682",
   "metadata": {
    "tags": []
   },
   "outputs": [],
   "source": [
    "# Pseudocode of exercise 2.b, I consider the index starting from 1\n",
    "\n",
    "def compute_B(A):\n",
    "    n = A.size\n",
    "    B = new array of size n\n",
    "    \n",
    "    for i = 1 upto n:\n",
    "        count = 0\n",
    "        for z = i+1 upto n:\n",
    "            if A[z] < A[i]:\n",
    "                count += 1\n",
    "        B[i] = count\n",
    "    \n",
    "    return B"
   ]
  },
  {
   "cell_type": "markdown",
   "id": "a28c9247",
   "metadata": {},
   "source": [
    "We can prove the correctness of this procedure by induction:\n",
    "* If $A$ contains only one element then we don't enter the inner loop and $B=[0]$ as expected\n",
    "* Suppose that it works for $A$ of $n$ elements then we must prove that it works for $n+1$  \n",
    "We must only prove that $B[1]$ contains the correct value since $B[2,...,n]$ are correct by hypothesis, in this case $i=1$ and the inner loop adds 1 to count each time $A[1] > A[z]$ for $z=2,3,...,n \\implies z=[2,n] \\implies z=[i+1,n]$ which is the definition of $B$ for $i=1$, so the procedure is correct  \n",
    "\n",
    "Finally the time complexity of this algorithm is given by the formula:\n",
    "$$\\sum_{i=1}^n\\sum_{i+1}^n \\Theta(1) = \\alpha \\sum_{i=1}^n (n-i) = \\alpha \\sum_{j=0}^{n-1} j = \\frac{\\alpha}{2} n(n-1) = \\Theta(n^2)$$\n",
    "\n",
    "Where I used $\\Theta(1) = \\alpha$ in and $j=n-i$"
   ]
  },
  {
   "cell_type": "markdown",
   "id": "db3f1711",
   "metadata": {},
   "source": [
    "c) Assuming that there is only a constant number of values in $A$ different from 0, write an efficient algorithm to solve the problem, evaluate its complexity and correctness.  \n",
    "\n",
    "Considering $k$ values different from 0 we can construct one additional array to speed up the execution of the above algorithm, we will call this array the indexes array because it stores the indexes of the elements in A different from 0, this array can be computed in $\\Theta(n)$ time and takes $\\Theta(k)$ extra space. Below we write the pseudo-code of this algorithm"
   ]
  },
  {
   "cell_type": "code",
   "execution_count": null,
   "id": "4c41337e",
   "metadata": {
    "tags": []
   },
   "outputs": [],
   "source": [
    "# Pseudocode of exercise 2.c, I consider the index starting from 1\n",
    "\n",
    "def compute_B(A, k=NIL):\n",
    "    n = A.size\n",
    "    if k!=NIL:\n",
    "        indexes = new array of size k\n",
    "    else:\n",
    "        indexes = a variable size container\n",
    "    j = 1\n",
    "    # Construct the indexes array\n",
    "    for i = n downto 1:\n",
    "        if A[i] != 0:\n",
    "            indexes[j] = i\n",
    "            j+=1\n",
    "    \n",
    "    k=indexes.size\n",
    "\n",
    "    B = new array of size n\n",
    "    n_zeros = 0 # Stores the number of zeros encountered so far\n",
    "    for i = n downto 1:\n",
    "        count = 0\n",
    "        \n",
    "        # Add n_zeros to count if A[i]>0\n",
    "        if A[i] > 0:\n",
    "            count += n_zeros\n",
    "        \n",
    "        # Go through the indexes\n",
    "        for j=1 upto k:\n",
    "            z = indexes[j]\n",
    "            # If z is less or equal to i I break because z=i+1, ..., n\n",
    "            # and z at the successive iteration will be less than z now\n",
    "            if z <= i:\n",
    "                break\n",
    "            # Otherwise if A[i]<A[z] I increase count by 1 \n",
    "            if A[i] > A[z]:\n",
    "                count += 1\n",
    "        \n",
    "        B[i] = count\n",
    "            \n",
    "        # If I find a zero update n_zeros\n",
    "        if A[i] == 0:\n",
    "            n_zeros += 1\n",
    "    \n",
    "    return B"
   ]
  },
  {
   "cell_type": "markdown",
   "id": "168ce4de",
   "metadata": {},
   "source": [
    "To prove the correctness of this procedure we must first prove that at iteration $i$ the variable `n_zeros` contains the number of zeros in $A[i+1, ..., n]$, this is true because we increase `n_zeros` by 1 iif $A[i]=0$ and we do this at the end of the loop, so all the computations will use the value of `n_zeros` corresponding to one iteration before which will contain the zeros in $A[i+1, ..., n]$. Furthermore notice that the `indexes` array is a strictly decreasing array by construction  \n",
    "\n",
    "Now we can prove the correctness of the procedure\n",
    "* If $A$ contains only one element we can split between two cases: $A[1]\\neq0$ and $A[1]=0$\n",
    "  * If $A[1]\\neq0$ we enter in the indexes loop, however we suddenly exit it because $z=i=1$ and so $B=[0]$\n",
    "  * If $A[1]=0$ we don't enter the inner loop at all because the indexes array is empty and so $B=[0]$  \n",
    "  We see that in both cases $B=[0]$ which is the correct result\n",
    "* Suppose that it works for $A$ of $n$ elements then we must prove that it works for $n+1$  \n",
    "\n",
    "We must only prove that $B[1]$ contains the correct value since $B[2,...,n]$ are correct by hypothesis, We split the proof in 2 cases:\n",
    "* If $A[1]>0$ in this case we add `n_zeros` to count and then we proceed in the inner loop by checking only the values different from 0 until $z <= 1$\n",
    "* If $A[1]\\leq0$ in this case we don't add `n_zeros` to count and then we proceed in the inner loop by checking only the values different from 0 until $z <= 1$  \n",
    "We see that this algorithm performs all the steps of the above one but it skips the checking of all the zeros which is done at the beginning by adding `n_zeros` or not, so it must be correct  \n",
    "\n",
    "The time complexity of this algorithm is the sum of two terms:\n",
    "1. Creating the indexes array: $\\Theta(n)$ because we must do a forward pass through $A$, the worst case will be when we don't know $k$, in that case we must use a container of variable size and we lose a bit of speed, however we still keep the $\\Theta(n)$ complexity.\n",
    "2. Executing the inner loop will take $\\Theta(k)$ in the worst case (when all the elements different from 0 are at the end of $A$) and $\\Theta(k/2) = \\Theta(k)$ in the average case, since we have to execute this loop $n$ times this will take $\\Theta(nk)$  \n",
    "\n",
    "At the end we get a time complexity of $\\Theta(nk)$ and an extra space requirement of $\\Theta(k)$"
   ]
  },
  {
   "cell_type": "markdown",
   "id": "ece5cee3",
   "metadata": {},
   "source": [
    "### Exercise 3\n",
    "\n",
    "Let $T$ be a Red-Black Tree"
   ]
  },
  {
   "cell_type": "markdown",
   "id": "1d841001",
   "metadata": {},
   "source": [
    "a) Give the definition of Red-Black Trees  \n",
    "\n",
    "A red-black tree is a binary search tree that satisfies the following properties:  \n",
    "1. Every node has a color associated with it which is either red or black.  \n",
    "2. The tree's root is black.  \n",
    "3. Every leaf is a black NIL node.  \n",
    "4. If a node is red, then both its children are black.  \n",
    "5. For each node, all simple paths from the node to descendant leaves contain the same number of black nodes.  "
   ]
  },
  {
   "cell_type": "markdown",
   "id": "a63dd9b1",
   "metadata": {},
   "source": [
    "b) Write the pseudo-code of an efficient procedure to compute the height of $T$. Prove its correctness and evaluate its asymptotic complexity.\n",
    "\n",
    "In general we know that the height of a Red-Black Tree is bounded from above and below, in particular $\\log(n+1) \\leq h \\leq 2\\log(n+1)$, however we don't have a closed formula of the exact height of a Red-Black Tree. A possible solution to this problem can be found by noticing that if I know the height of the right $h_r$ and left $h_l$ child of a node $x$ I can compute the height of $x$ by simply computing $h(x) = \\max(h_l, h_r) + 1 = \\max(h(x.left), h(x.right)) + 1$, the last step gives us a recursive formula to compute the height of any node $x$ and so even of the root of $T$, the base case of this recursion is when I reach a null node, in that case the height is set to 0 because I reached a leaf node whose height is by definition 0.  \n",
    "\n",
    "To prove the correctness of this algorithm we proceed by induction, suppose $x$ is a leaf, the algorithm will return 0 which is the correct result. Now suppose it works for the left and right child of a node $x$, we must prove that it works for $x$, indeed we have $height(x) = \\max(height(x.left), height(x.right)) + 1 = \\max(h_l, h_r) + 1$ which is the correct result, we take the longest path and increase it by 1. As far as the complexity is concerned this algorithm will pass through all the nodes only once because each recursive step shifts the problem to the nodes one level below and will compute the same operation each time, so the complexity will be $\\Theta(n)$ where $n$ is the number of nodes in the tree."
   ]
  },
  {
   "cell_type": "code",
   "execution_count": null,
   "id": "2b1a4a2a",
   "metadata": {},
   "outputs": [],
   "source": [
    "# Pseudocode of exercise 3.b\n",
    "\n",
    "def height(x):\n",
    "    if x==NIL:\n",
    "        return 0\n",
    "    \n",
    "    return max(height(x.left), height(x.right)) + 1"
   ]
  },
  {
   "cell_type": "markdown",
   "id": "b7194750",
   "metadata": {},
   "source": [
    "Notice that in this algorithm we never used the color of the node, so it can also be used to find the height of a simple BST"
   ]
  },
  {
   "cell_type": "markdown",
   "id": "dd3cd290",
   "metadata": {},
   "source": [
    "c) Write the pseudo-code of an efficient procedure to compute the black-height of $T$. Prove its correctness and evaluate its asymptotic complexity.  \n",
    "\n",
    "The black-height of a node $x$ is the number of black nodes below it, to compute it efficently we can simply travel down the tree until we reach a leaf while keeping track of the number of black nodes encountered so far, the correctness of this algorithm is given by property 5 of the Red-Black Tree data structure: it doesn't matter which simple path we choose because all the simple paths will always contain the same number of black nodes.  \n",
    "The time complexity of this algorithm will be $\\Theta(h) = \\Theta(\\log(n))$ because we must execute the loop $h$ times and the Red-Black Trees have the following property $\\log(n+1) \\leq h \\leq 2\\log(n+1)$"
   ]
  },
  {
   "cell_type": "code",
   "execution_count": null,
   "id": "4ec20937",
   "metadata": {},
   "outputs": [],
   "source": [
    "# Pseudocode of exercise 3.c\n",
    "\n",
    "def black_height(x):\n",
    "    # By initializing the height to 1 I consider that the leaves are black nodes\n",
    "    height = 1\n",
    "    while x is not NIL:\n",
    "        if x.color==\"black\":\n",
    "            height += 1\n",
    "        x = x.left\n",
    "        \n",
    "    return height"
   ]
  },
  {
   "cell_type": "markdown",
   "id": "661a8495",
   "metadata": {},
   "source": [
    "### Exercise 4\n",
    "\n",
    "Let $(a_1, b_1 ), ..., (a_n, b_n)$ be n pairs of integer values. They are lexicographically sorted if, for all $i \\in [1, n-1]$, the following conditions hold:\n",
    "* $a_i \\leq a_{i+1}$ ;\n",
    "* $a_i = a_{i+1}$ implies that $b_i \\leq b_{i+1}$. \n",
    "\n",
    "Consider the problem of lexicographically sorting n pairs of integer values."
   ]
  },
  {
   "cell_type": "markdown",
   "id": "bcf9e7d5",
   "metadata": {},
   "source": [
    "a) Suggest the opportune data structure to handle the pairs, write the pseudo-code of an efficient algorithm to solve the sorting problem and compute the complexity of the proposed procedure;  \n",
    "\n",
    "The choice of the data structure depends on what we have to do with the pairs, if the pairs must be lexicographically sorted all the time and new pairs are added or removed frequently then a Red-Black Tree could be a good data structure, because it always keeps the pairs ordered and implements insertion, deletion and finding a pair in $\\Theta(\\log(n))$ time.  \n",
    "\n",
    "However if the pairs are not added or deleted after initialization a good data structure could be a simple array of pairs, if the values must be sorted or if we want to perform a find operation multiple times we could sort the values at initialization, this would take $\\Theta(n\\log(n))$ time using a general purpose sorting algorithm, which is the same as inserting $n$ values in a Red-Black Tree. Furthermore this simple data structure saves space because we don't need to keep track of the pointers to left and right child and the color of the node.\n",
    "I will consider this data structure in the following exercises because sorting operation on a Red-Black Tree are never required since the tree is already sorted by default.  \n",
    "\n",
    "To order this array of pairs which from now on I will call it $A$ I have chosen the merge sort algorithm because it orders a sequence in $\\Theta(n\\log(n))$ time and is a stable sorting algorithm."
   ]
  },
  {
   "cell_type": "code",
   "execution_count": null,
   "id": "4a50311c",
   "metadata": {},
   "outputs": [],
   "source": [
    "# Pseudocode of exercise 4.a, I consider the index starting from 0\n",
    "\n",
    "# Merge procedure\n",
    "def merge(A, l, c, r, total_order):\n",
    "    i, j, k = l, c, 0\n",
    "    B = empty array of size r-l\n",
    "    \n",
    "    # Fill B with the smallest element between A[i] or A[j] \n",
    "    while i<c and j<r:\n",
    "        if total_order(A[i], A[j]):\n",
    "            B[k] = A[i]\n",
    "            i+=1\n",
    "        else:\n",
    "            B[k] = A[j]\n",
    "            j+=1\n",
    "        k+=1\n",
    "    \n",
    "    # Transfer the remaining left part if any\n",
    "    while i < c:\n",
    "        B[k] = A[i]\n",
    "        i+=1\n",
    "        k+=1\n",
    "    \n",
    "    # Transfer the remaining right part if any\n",
    "    while j < r:\n",
    "        B[k] = A[j]\n",
    "        j+=1\n",
    "        k+=1\n",
    "    \n",
    "    # Copy the content of B into A\n",
    "    for k = l upto r-1:\n",
    "        A[k] = B[k-l]\n",
    "\n",
    "\n",
    "# Merge sort algorithm\n",
    "def merge_sort(A, l, r, total_order):\n",
    "    # We choosed to implement a vanilla merge sort, however here we can add\n",
    "    # other base cases, for example we can perform an insertion sort if the\n",
    "    # array size is less than a certain threshold, like in timsort\n",
    "    \n",
    "    if(r-l>1):\n",
    "        c = floor((l+r)/2)\n",
    "        merge_sort(A, l, c, total_order)\n",
    "        merge_sort(A, c, r, total_order)\n",
    "\n",
    "        merge(A, l, c, r, total_order)\n",
    "\n",
    "\n",
    "# Lexicographical ordering of tuples of two numbers\n",
    "def order(a, b):\n",
    "    if a[0] < b[0]:\n",
    "        return True\n",
    "    if a[0] == b[0] and a[1] <= b[1]:\n",
    "        return True\n",
    "        \n",
    "    return False"
   ]
  },
  {
   "cell_type": "markdown",
   "id": "776ddae9",
   "metadata": {},
   "source": [
    "The merge procedure complexity is $\\Theta(n)$, to compute the complexity of the whole merge sort we must solve the recursion:\n",
    "$$ T(n) = \\begin{cases}\n",
    "\\Theta(1)=\\alpha \\quad n\\leq 1\\\\\n",
    "\\Theta(n)+T(\\lfloor n/2 \\rfloor)+T(\\lceil n/2 \\rceil) \\quad n\\geq 1\n",
    "\\end{cases} $$\n",
    "\n",
    "First of all we consider $n$ power of two, then we generalize to non power of two, in this case we have:\n",
    "$$T(n) = \\Theta(n)+2T(n/2) = \\beta n+2(\\beta n/2 + 2T(n/4)) = \\alpha n + \\sum_{i=1}^{log_2(n)} \\beta n = \\alpha n + \\beta n\\log_2(n) = \\Theta(n\\log(n))$$\n",
    "Where I used the equality $\\Theta(n) = \\beta n$.\n",
    "\n",
    "In case of $n$ not power of two we can use $T(\\lfloor n/2 \\rfloor)+T(\\lceil n/2 \\rceil) \\leq 2T((n+1)/2) \\leq 2T(cn/2)$ where $c<2$ is a constant s.t. $cn$ is a power of two, so we have\n",
    "$$T(n) = \\beta n + T(\\lfloor n/2 \\rfloor)+T(\\lceil n/2 \\rceil) \\leq \\beta n+2T(cn/2) = \\beta n + 2(\\beta cn/2 + 2T(cn/4) \\leq \\alpha cn + \\sum_{i=1}^{log_2(cn)} \\beta cn = \\alpha cn + \\beta cn\\log_2(cn) = \\Theta(cn\\log(cn)) = \\Theta(n\\log(n))$$  \n",
    "So the merge sort time complexity is the same for all $n$, a disadvantage of merge sort w.r.t. quicksort for example is the added space requirement which is $n/2 = \\Theta(n)$, this space is required to store the array $B$ in the merge phase"
   ]
  },
  {
   "cell_type": "markdown",
   "id": "13763871",
   "metadata": {},
   "source": [
    "b) Assume that there exists a natural value $k$, constant with respect to $n$, such that $a_i \\in [1, k]$ for all $i \\in [1, n]$. Is there an algorithm more efficient than the one proposed as solution of Exercise 4a? If this is the case, describe it and compute its complexity, otherwise, motivate the answer."
   ]
  },
  {
   "cell_type": "markdown",
   "id": "651ddfc9",
   "metadata": {},
   "source": [
    "A possible algorithm is to reorder $A$ with respect to the first element of the tuple $a_i$ which takes $\\Theta(n+k)$ time with a counting sort algorithm. Then we must sort w.r.t. $b_i$, to do this we subdivide $A$ in $S$ subsequences such that each one will contain only tuples of the form $(c, *)$ where $c$ is a constant and $*$ denotes any number, this operation takes $O(n)$ time, finally we sort each of these subsequences using the merge sort algorithm written above, this sorting will take $\\sum_{j=1}^{S} \\Theta(s_j\\log(s_j) = \\Theta(\\sum_{j=1}^{S} s_j\\log(s_j))$ time where we indicated with $s_j$ the length of the $j$-th subsequence, the pseudocode of this algorithm is written below.  \n",
    "\n",
    "However it's not clear if the algorithm is asimptotically faster than the one written above, to see if this is the case we restrict us to the case where $S=2$, in this case $s_1 + s_2 = n$ and we have: $\\Theta(n\\log(n)) = \\Theta((s_1+s_2)\\log(s_1+s_2)) \\geq \\Theta(s_1\\log(s_1) + s_2\\log(s_2))$, so it seems that the algorithm is faster, the best case scenario is when $s_1=s_2=n/2$ which can be seen by minimizing the expression $s_1\\log(s_1) + (n-s_1)\\log(n-s_1)$.  \n",
    "\n",
    "These results can be generalized to the sum above which leads $\\Theta(\\sum_{j=1}^{S} s_j\\log(s_j)) \\leq \\Theta(\\sum_{j=1}^{S} s_j\\log(n)) = \\Theta(n \\log(n))$, and the minimum is found by minimizing $\\sum_{j=1}^{S} s_j\\log(s_j)$ with the constraint $\\sum_{j=1}^S s_j = n$, this can be done via Lagrange multipliers where we get $s_j=n/S$, in this best case the complexity will be: $\\Theta(n+k) + O(n) + \\Theta(n\\log(n/S)) = \\Theta(k + n\\log(n/S))$.  \n",
    "\n",
    "To summarize the complexity of this algorithm will be:\n",
    "* Counting sort on $a_i$: $\\Theta(n+k)$\n",
    "* Finding the first and last index of each subsequence of $A$: $O(n)$\n",
    "* Sorting the subsequences $A$: $\\sum_{j=0}^{S} \\Theta(n_j\\log(n_j)$\n",
    "\n",
    "Overall cost: $\\Theta(\\sum_{j=1}^{S} s_j\\log(s_j) + k)$  \n",
    "Best case: $\\Theta(n\\log(n/S) + k)$\n",
    "\n",
    "This algorithm however is not asymptotically faster than the merge sort, to see this consider the best case and suppose that the counting sort is \"free\", that is, the elements are already ordered w.r.t. $a_i$, so we only need the merge sort phase which has a complexity $\\Theta(n\\log(n/S)) = \\Theta(n\\log(n) - n\\log(S)) = \\alpha n\\log(n) - \\beta n\\log(S) = \\Theta(n\\log(n))$ so the asymptotic complexity is the same as the merge sort and any comparison based sorting algorithms, this is quite curious because even if the merge phase is faster it is not asymptotically faster. To get a better algorithm we should use a non-comparison based sorting even for the $b_i$, however we don't have neither an upper bound to use counting sort, nor a distribution over $b_i$, which will allow us to use bucket sort. \n",
    "\n",
    "Finally notice that if $S$ increases as $n$ increases s.t. $n/S$ remains constant, then $\\Theta(n\\log(n/S)) \\neq \\Theta(n\\log(n))$ and the merge phase will take time $\\Theta(n\\log(c))=\\Theta(n)$ so the overall algorithm will have a complexity $\\Theta(n+k)$. "
   ]
  },
  {
   "cell_type": "markdown",
   "id": "4d20e0c3",
   "metadata": {
    "tags": []
   },
   "source": [
    "c) Assume that the condition of Exercise 4b holds and that there exists a natural value $h$, constant with respect to $n$, such that $b_i \\in [1, h]$ for all $i \\in [1, n]$. Is there an algorithm to solve the sorting problem more efficient than the one proposed as solution for Exercise 4a? If this is the case, describe it and compute its complexity, otherwise, motivate the answer."
   ]
  },
  {
   "cell_type": "markdown",
   "id": "45603a70",
   "metadata": {},
   "source": [
    "We can apply two times the counting sort firstly on $b_i$ then on $a_i$, like in the radix sort algorithm, the overall time complexity will be $\\Theta(n+k) + \\Theta(n+h) = \\Theta(n+k+h)$"
   ]
  },
  {
   "cell_type": "markdown",
   "id": "b9978887",
   "metadata": {},
   "source": [
    "### Exercise 5\n",
    "Consider the select algorithm. During the lessons, we explicitly assumed\n",
    "that the input array does not contain duplicate values.\n"
   ]
  },
  {
   "cell_type": "markdown",
   "id": "162c136d",
   "metadata": {},
   "source": [
    "a) Why is this assumption necessary? How relaxing this condition does affect the algorithm?"
   ]
  },
  {
   "cell_type": "markdown",
   "id": "c40cb987",
   "metadata": {},
   "source": [
    "To see why this assumption is necessary consider a pathological case: the input array $A$ contains only one value repeated $n$ times and suppose $n >> 1$ so that we don't enter in the base case, under these conditions we will go through the partition procedure, however at the end of it $j$ will be either unchanged or equal to $i$, this means that one of the two partition arrays is empty and the other is full with $n$ elements, so at the successive recursive call of `select` the input array will have size $n-1$ and the function will go through the same steps as before, calling another select with $|A|=n-2$ and so on, we can see that in the worst case we will have a time complexity of $\\Theta(n^2)$ which is the result of $\\sum_{i=0}^{n} n-i = 1/2 n(n+1)$.  \n",
    "\n",
    "Notice that the algorithm will still find the correct index $j$, however we lose the linear time complexity"
   ]
  },
  {
   "cell_type": "markdown",
   "id": "1b1f8f33",
   "metadata": {},
   "source": [
    "b) Write the pseudo-code of an algorithm that enhance the one seen during the lessons and evaluate its complexity."
   ]
  },
  {
   "cell_type": "markdown",
   "id": "5c9f9368",
   "metadata": {},
   "source": [
    "To enhance the algorithm we must change the `partition` procedure and in particular the case when $A[i] = A[p]$, an idea could be to resort to the case $A[i] > A[p]$ half the time and $A[i] < A[p]$ the other half, to do this we add a new variable $s\\in\\{0,1\\}$ which tells us if we have to resort to the first case ($s=0$) when $A[i] = A[p]$ or to the second one ($s=1$), furthermore if we enter the first case then we will set $s=1$ such that the successive time we encounter $A[i] = A[p]$ we will enter the second case and vice-versa. The pseudocode of this algorithm is shown below"
   ]
  },
  {
   "cell_type": "code",
   "execution_count": null,
   "id": "f44a6c54",
   "metadata": {},
   "outputs": [],
   "source": [
    "# Pseudocode of exercise 5.b, I consider the index starting from 0\n",
    "\n",
    "# Swappes element i and j of an array A\n",
    "def swap(A, i, j):\n",
    "    c = A[i]\n",
    "    A[i] = A[j]\n",
    "    A[j] = c\n",
    "\n",
    "\n",
    "# Fixed partition procedure in case of duplicate values\n",
    "def partition(A, i, j, p):\n",
    "    swap(A, i, p)\n",
    "    p = i\n",
    "    i = i+1\n",
    "    \n",
    "    s = 0\n",
    "    while i<=j:\n",
    "        if A[i] > A[p]:\n",
    "            swap(A, i, j)\n",
    "            j-=1\n",
    "            \n",
    "        else if A[i] == A[p]:\n",
    "            if s==1:\n",
    "                # Execute the case A[i] > A[p]\n",
    "                swap(A, i, j)\n",
    "                j-=1\n",
    "                # Make sure that afterwards we enter the case A[i] < A[p]\n",
    "                s=0\n",
    "            else:\n",
    "                # Execute the case A[i] < A[p]\n",
    "                i+=1\n",
    "                # Make sure that afterwards we enter the case A[i] > A[p]\n",
    "                s=1\n",
    "        else:\n",
    "            i+=1\n",
    "    \n",
    "    swap(A, p, j)\n",
    "    return j\n",
    "\n",
    "\n",
    "def select(A, i, l=0, r=NIL):\n",
    "    if r==NIL:\n",
    "        r=A.size - 1\n",
    "    \n",
    "    # Base case\n",
    "    if r-l <= 10:\n",
    "        SORT(A, l, r)\n",
    "        return i\n",
    "    \n",
    "    # Recursive step\n",
    "    p = SELECT_PIVOT(A, l, r)\n",
    "    k = partition(A, l, r, p)\n",
    "    \n",
    "    if i==k:\n",
    "        return k\n",
    "    if i < k:\n",
    "        return select(A, i, l, k-1)\n",
    "    return select(A, i, k+1, r)"
   ]
  },
  {
   "cell_type": "markdown",
   "id": "5efa6730",
   "metadata": {},
   "source": [
    "The complexity of this procedure will be $\\Theta(n)$, to see this consider a pivot $p$, then $d$ elements of $A$ which I will call $A_d$ will be different from $A[p]$ and $e$ elements of of $A$ I will call $A_e$ will be equal to $A[p]$, we can split the overall partition in two cases:  \n",
    "\n",
    "* The partition of the $A_d$ elements will work as before because we never enter the $A[i] = A[p]$ case and it will split the elements in $S$ and $G$ with an asymptotic ratio of $|S|/|A_d| \\in [3/10, 7/10]$ if we use in the `SELECT_PIVOT` function chunks of size 5\n",
    "* The partition for the $A_e$ elements instead will split them \"almost equally\" between $S$ and $G$, with almost equally I mean that one of the two array will have at most one equal element more than the other and so the asymptotic ratio will be $|S|/|A_e| \\approx 1/2$.  \n",
    "\n",
    "With this we have demonstated that the partition will split $A$ in two parts $S$ and $G$ with ratio $|S|/|A| = c \\in [3/10, 7/10]$, so to get the complexity we must solve the recursion $T(n) =\\Theta(n) + T(cn) = \\alpha n + T(cn) = \\sum_{i=0}^{k} \\alpha n c^i$, which we bound from above and below:\n",
    "* $T(n) \\leq \\sum_{i=0}^{\\infty} \\alpha n c^i = L \\alpha n$ where $L=1/(c-1)$ is finite iif $c<|1|$ like in our case \n",
    "* $T(n) \\geq \\alpha n$ which is found by only keeping the first term of the sum  \n",
    "\n",
    "So $\\alpha n \\leq T(n) \\leq L\\alpha n \\implies T(n)=\\Theta(n)$"
   ]
  }
 ],
 "metadata": {
  "kernelspec": {
   "display_name": "Python 3",
   "language": "python",
   "name": "python3"
  },
  "language_info": {
   "codemirror_mode": {
    "name": "ipython",
    "version": 3
   },
   "file_extension": ".py",
   "mimetype": "text/x-python",
   "name": "python",
   "nbconvert_exporter": "python",
   "pygments_lexer": "ipython3",
   "version": "3.8.8"
  }
 },
 "nbformat": 4,
 "nbformat_minor": 5
}
