{
 "cells": [
  {
   "cell_type": "code",
   "execution_count": 3,
   "id": "sonic-management",
   "metadata": {},
   "outputs": [],
   "source": [
    "import numpy as np\n",
    "import time\n",
    "import pylab as pl\n",
    "from IPython.display import clear_output"
   ]
  },
  {
   "cell_type": "code",
   "execution_count": 4,
   "id": "complete-finder",
   "metadata": {},
   "outputs": [],
   "source": [
    "times = []\n",
    "all_n = np.logspace(3, 4.3, 30, dtype=int)\n",
    "for n in all_n:\n",
    "    print(n)\n",
    "    A = np.random.uniform(size=(n, n))\n",
    "    start = time.time()\n",
    "    A@A\n",
    "    times.append(time.time() - start)\n",
    "    \n",
    "clear_output()"
   ]
  },
  {
   "cell_type": "code",
   "execution_count": 11,
   "id": "growing-workshop",
   "metadata": {},
   "outputs": [
    {
     "data": {
      "text/plain": [
       "array([-10.38167671,   2.85936282])"
      ]
     },
     "execution_count": 11,
     "metadata": {},
     "output_type": "execute_result"
    }
   ],
   "source": [
    "from scipy.optimize import curve_fit\n",
    "\n",
    "\n",
    "def f(x, a, b):\n",
    "    return a + b*x\n",
    "    \n",
    "pars, _ = curve_fit(f, np.log10(all_n), np.log10(times), (0, 1))\n",
    "pars"
   ]
  },
  {
   "cell_type": "code",
   "execution_count": 13,
   "id": "featured-madness",
   "metadata": {},
   "outputs": [
    {
     "data": {
      "text/plain": [
       "[<matplotlib.lines.Line2D at 0x7f9989c98c10>]"
      ]
     },
     "execution_count": 13,
     "metadata": {},
     "output_type": "execute_result"
    },
    {
     "data": {
      "image/png": "[encoded data removed]",
      "text/plain": [
       "<Figure size 432x288 with 1 Axes>"
      ]
     },
     "metadata": {
      "needs_background": "light"
     },
     "output_type": "display_data"
    }
   ],
   "source": [
    "pl.plot(np.log10(all_n), np.log10(times))\n",
    "pl.plot(np.log10(all_n), f(np.log10(all_n), *pars))"
   ]
  }
 ],
 "metadata": {
  "kernelspec": {
   "display_name": "Python 3",
   "language": "python",
   "name": "python3"
  },
  "language_info": {
   "codemirror_mode": {
    "name": "ipython",
    "version": 3
   },
   "file_extension": ".py",
   "mimetype": "text/x-python",
   "name": "python",
   "nbconvert_exporter": "python",
   "pygments_lexer": "ipython3",
   "version": "3.8.8"
  }
 },
 "nbformat": 4,
 "nbformat_minor": 5
}
