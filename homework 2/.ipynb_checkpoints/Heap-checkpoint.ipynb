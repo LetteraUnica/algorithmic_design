{
 "cells": [
  {
   "cell_type": "code",
   "execution_count": null,
   "id": "81bb925e",
   "metadata": {},
   "outputs": [],
   "source": [
    "def left(i):\n",
    "    return 2*i + 1\n",
    "\n",
    "def right(i):\n",
    "    return 2*(i+1)\n",
    "\n",
    "def parent(i):\n",
    "    return (i-1)//2\n",
    "\n",
    "def get_root():\n",
    "    return 0\n",
    "\n",
    "def is_root(i):\n",
    "    return i == 0\n",
    "\n",
    "def is_valid_node(i):\n",
    "    return self.size < i\n",
    "    \n",
    "def heap_min(H):\n",
    "    return H[0]"
   ]
  }
 ],
 "metadata": {
  "kernelspec": {
   "display_name": "Python 3",
   "language": "python",
   "name": "python3"
  },
  "language_info": {
   "codemirror_mode": {
    "name": "ipython",
    "version": 3
   },
   "file_extension": ".py",
   "mimetype": "text/x-python",
   "name": "python",
   "nbconvert_exporter": "python",
   "pygments_lexer": "ipython3",
   "version": "3.8.8"
  }
 },
 "nbformat": 4,
 "nbformat_minor": 5
}
