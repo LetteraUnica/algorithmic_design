{
 "cells": [
  {
   "cell_type": "markdown",
   "id": "1a161219",
   "metadata": {},
   "source": [
    "## Algorithmic Design Homework 2"
   ]
  },
  {
   "cell_type": "markdown",
   "id": "5bb766d8",
   "metadata": {},
   "source": [
    "### Exercise 1\n",
    "Let H be a `Min-Heap` containing $n$ integer keys and let $k$ be an integer value. Solve the following exercises by using the procedures seen during the course lessons:"
   ]
  },
  {
   "cell_type": "markdown",
   "id": "97e3e675",
   "metadata": {},
   "source": [
    "a) Write the pseudo-code of an in-place procedure `RetrieveMax(H)` to\n",
    "efficiently return the maximum value in H without deleting it and\n",
    "evaluate its complexity.  \n",
    "\n",
    "In case of a Min-Heap we know that $parent(p) \\leq p$ so the maximum has to be found in the leaves of the Min-Heap which are $\\lceil n/2 \\rceil$ where $n$ is the heap size. Considering the index starting from 0 we get that the first leaf will be at index $\\lfloor n/2 \\rfloor$.  \n",
    "\n",
    "The time complexity of this algorithm will be $\\Theta(\\lceil n/2 \\rceil) = \\Theta(n/2) = \\Theta(n)$ because it requires to find the maximum among an unordered array of $\\lceil n/2 \\rceil$ elements."
   ]
  },
  {
   "cell_type": "code",
   "execution_count": null,
   "id": "e3bc67ce",
   "metadata": {},
   "outputs": [],
   "source": [
    "# Pseudocode of exercise 1.a\n",
    "\n",
    "def find_max(a):\n",
    "    # Finds the maximum value of an unordered array a\n",
    "    current_max = a[0]\n",
    "    for element in a:\n",
    "        if element > current_max:\n",
    "            current_max = element\n",
    "    \n",
    "    return element\n",
    "\n",
    "def RetrieveMax(H):\n",
    "    return find_max(H[floor(H.size/2):])"
   ]
  },
  {
   "cell_type": "markdown",
   "id": "e8ed5a7c",
   "metadata": {},
   "source": [
    "b) Write the pseudo-code of an in-place procedure DeleteMax(H) to efficiently deletes the maximum value from H and evaluate its complexity.  \n",
    "\n",
    "To delete the maximum element of an heap firstly we must find the index corresponding to the maximum value, which takes time $\\Theta(n)$, then we must delete this maximum element. This deletion is performed by decreasing the maximum to the value the last element in the array representing the heap and then decreasing the size of the heap by 1, to preserve the heap property we will use the function `DECREASE_KEY` seen during the lectures which takes time $O(\\log(n))$.  \n",
    "The overall time complexity of this operation is $\\Theta(n)$ because finding the maximum takes time $\\Theta(n)$ and decreasing a key takes time $O(\\log(n))$."
   ]
  },
  {
   "cell_type": "code",
   "execution_count": null,
   "id": "7b1d7296",
   "metadata": {},
   "outputs": [],
   "source": [
    "# Pseudocode of exercise 1.b da rifare\n",
    "\n",
    "def find_max_index(a, start, end):\n",
    "    # Finds the index of the maximum value of an unordered array a\n",
    "    max_index = start\n",
    "    current_max = a[max_index]\n",
    "    \n",
    "    for i in range(start+1, end):\n",
    "        if a[i] > current_max:\n",
    "            current_max = a[i]\n",
    "            max_index = i\n",
    "    \n",
    "    return max_index\n",
    "\n",
    "def DeleteMax(H):\n",
    "    # Find the maximum index\n",
    "    max_index = find_max_index(H, floor(H.size/2), H.size)\n",
    "    \n",
    "    # Delete the maximum\n",
    "    # If the maximum index is the last index of H I simply delete it (best case)\n",
    "    if max_index = H.size -1:\n",
    "        H.size -= 1\n",
    "        return\n",
    "    \n",
    "    # Otherwise I must decrease the maximum to the value of the last element in H\n",
    "    new_value = H[H.size-1]\n",
    "    H.size -= 1\n",
    "    DECREASE_KEY(H, max_index, new_value)"
   ]
  },
  {
   "cell_type": "markdown",
   "id": "348be5c3",
   "metadata": {},
   "source": [
    "c) Provide a working example for the worst case scenario of the procedure `DeleteMax(H)` (see Exercise 1b) on a heap $H$ consisting in 8 nodes and simulate the execution of the function itself."
   ]
  },
  {
   "cell_type": "markdown",
   "id": "ddee0d95",
   "metadata": {},
   "source": [
    "In case of 8 nodes we will have $\\lceil n/2 \\rceil = 4$ leaves and the first leaf index will be at $\\lfloor n/2 \\rfloor = 4$, the algorithm first finds the index $i$ that corresponds to the maximum value among $H[4],H[5],H[6],H[7]$ or more clearly $i = arg\\,max_i H[i] \\quad i=4,5,6,7$. Up to this point the algorithm is the same in the best and worst case but now we don't enter in the if block and proceed by creating a variable named new_value which stores the value of the last element of the Min-Heap, then and decreases the size of the heap by 1 and finally the DECREASE_KEY function is called.  \n",
    "The DECREASE_KEY function in the worst case will swap the child and the parent up to the level before the root, it won't swap the root because the root is by definition the minimum value in the heap, so in our case of $n=8$ $h=3$ and only one swap will be necessary to fix the heap property. The picture below explains the value deletion process\n",
    "\n",
    "<img src=\"Heap steps.png\">"
   ]
  },
  {
   "cell_type": "markdown",
   "id": "b24d5709",
   "metadata": {},
   "source": [
    "### Exercise 2\n",
    "\n",
    "Let $A$ be an array of n integer values (i.e., the values belong to $\\mathbb Z$). Consider the problem of computing a vector $B$ such that, for all $i \\in [1, n], B[i]$ stores the number of elements smaller than $A[i]$ in $A[i + 1, ... , n]$. More formally:\n",
    "$$ B[i] = |\\{z \\in [i + 1, n]| A[z] < A[i]\\}|$$"
   ]
  },
  {
   "cell_type": "markdown",
   "id": "e9cae9ae",
   "metadata": {},
   "source": [
    "a) Evaluate the array $B$ corresponding to $A = [2, -7, 8, 3, -5, -5, 9, 1, 12, 4]$.  \n",
    "\n",
    "In this case we have $B=[4,0,5,3,0,0,2,0,1,0]$"
   ]
  },
  {
   "cell_type": "markdown",
   "id": "63fd33fe",
   "metadata": {},
   "source": [
    "b) Write the pseudo-code of an algorithm belonging to $O(n^2)$ to solve the problem. Prove the asympotic complexity of the proposed solution and its correctness.  \n",
    "\n",
    "The most straightforward method is to simply test the condition for each element of $A$, the pseudocode of this algorithm will be:"
   ]
  },
  {
   "cell_type": "code",
   "execution_count": 1,
   "id": "5cab25d3",
   "metadata": {},
   "outputs": [
    {
     "data": {
      "text/plain": [
       "[4, 0, 5, 3, 0, 0, 2, 0, 1, 0]"
      ]
     },
     "execution_count": 1,
     "metadata": {},
     "output_type": "execute_result"
    }
   ],
   "source": [
    "# Pseudocode of exercise 2.b\n",
    "\n",
    "def compute_B(A):\n",
    "    n = len(A)\n",
    "    B = []\n",
    "    \n",
    "    for i in range(n):\n",
    "        count = 0\n",
    "        for z in range(i+1, n):\n",
    "            if A[z] < A[i]:\n",
    "                count += 1\n",
    "        B.append(count)\n",
    "    \n",
    "    return B\n",
    "\n",
    "A = [2, -7, 8, 3, -5, -5, 9, 1, 12, 4]\n",
    "compute_B(A)"
   ]
  },
  {
   "cell_type": "markdown",
   "id": "61ff24e1",
   "metadata": {},
   "source": [
    "The time complexity of this algorithm is given by the formula:\n",
    "$$\\sum_{i=1}^n\\sum_{i+1}^n \\Theta(1) = \\alpha \\sum_{i=1}^n (n-i) = \\alpha \\sum_{j=0}^{n-1} j = \\frac{\\alpha}{2} n(n-1) = \\Theta(n^2)$$\n",
    "\n",
    "Where I used $\\Theta(1) = \\alpha$ in and $j=n-i$"
   ]
  },
  {
   "cell_type": "markdown",
   "id": "b75eb905",
   "metadata": {},
   "source": [
    "c) Assuming that there is only a constant number of values in $A$ different from 0, write an efficient algorithm to solve the problem, evaluate its complexity and correctness.  \n",
    "\n",
    "Considering $k$ values different from 0 we can construct one additional array to speed up the execution of the above algorithm, we will call this array the indexes array because it stores the indexes of the elements in A different from 0, this array can be computed in $\\Theta(n)$ time and takes $\\Theta(k)$ extra space. Below we write the pseudo-code of this algorithm"
   ]
  },
  {
   "cell_type": "code",
   "execution_count": 13,
   "id": "ffe40e4c",
   "metadata": {},
   "outputs": [
    {
     "data": {
      "text/plain": [
       "[4, 0, 5, 3, 0, 0, 2, 0, 1, 0]"
      ]
     },
     "execution_count": 13,
     "metadata": {},
     "output_type": "execute_result"
    }
   ],
   "source": [
    "# Pseudocode of exercise 2.c\n",
    "\n",
    "def compute_B(A):\n",
    "    n = len(A)\n",
    "    indexes = []\n",
    "    \n",
    "    for i in range(n-1, -1, -1):\n",
    "        if A[i] != 0:\n",
    "            indexes.append(i)\n",
    "    \n",
    "    B = [0]*n\n",
    "    n_zeros = 0\n",
    "    for i in range(n-1, -1, -1):\n",
    "        count = 0\n",
    "        if A[i] > 0:\n",
    "            count += n_zeros\n",
    "        if A[i] == 0:\n",
    "            n_zeros += 1\n",
    "        \n",
    "        for z in indexes:\n",
    "            if (z <= i):\n",
    "                break\n",
    "            if A[i] > A[z]:\n",
    "                count += 1\n",
    "        \n",
    "        B[i] = count\n",
    "    \n",
    "    return B\n",
    "\n",
    "A = [2, -7, 8, 3, -5, -5, 9, 1, 12, 4]\n",
    "compute_B(A)"
   ]
  },
  {
   "cell_type": "markdown",
   "id": "1bc15b5e",
   "metadata": {},
   "source": [
    "### Exercise 3\n",
    "\n",
    "Let $T$ be a Red-Black Tree"
   ]
  },
  {
   "cell_type": "markdown",
   "id": "55970fa4",
   "metadata": {},
   "source": [
    "a) Give the definition of Red-Black Trees  \n",
    "\n",
    "A Red-Black tree is a data structure satisfing the following properties:\n",
    "1. Every node has a color associated with it which is either a red or black.\n",
    "2. The tree's root is black.\n",
    "3. Every leaf is a black NIL node.\n",
    "4. If a node is red, then both its children are black.\n",
    "5. For each node, all the branches from the node to descendant leaves contain the same number of black nodes."
   ]
  },
  {
   "cell_type": "markdown",
   "id": "442435e1",
   "metadata": {},
   "source": [
    "b) Write the pseudo-code of an efficient procedure to compute the height of $T$. Prove its correctness and evaluate its asymptotic complexity.\n",
    "\n",
    "In general we know that the height of a Red-Black Tree is bounded from above and below, in particular $\\log(n+1) \\leq h \\leq 2\\log(n+1)$, however we don't have a closed formula of the exact height of a Red-Black Tree. A naive appoach to this problem would be to perform an exhaustive search across all paths, this would take $O(2^h)$ in the case of a perfectly balanced Red-Black Tree because at each step we must choose to go either left or right and we must take this decision $h$ times, this can be seen as the number of distinct possible sequences of 0s and 1s with length $h$ where 0=right, 1=left.  \n",
    "\n",
    "A better approach can be found by noticing that if I know the height of the right $h_r$ and left $h_l$ child of a node $x$ I can compute the height of $x$ by simply computing $h(x) = \\max(h_l, h_r) + 1 = \\max(h(x.left), h(x.right)) + 1$, the last step gives us a recursive formula to compute the height of any node $x$ and so even of the root of $T$, the base case of this recursion is when I reach a null node, in that case the height is set to -1 because I am \"below\" a leaf node whose height is by definition 0.  \n",
    "\n",
    "To prove the correctness of this algorithm we proceed by induction, suppose $x$ is a leaf, the algorithm will perform $max(-1, -1) + 1 = 0$ and return the correct result. Now suppose it works for the left and right child of a node $x$, we must prove that it works for $x$, indeed we have $height(x) = max(height(x.left), height(x.right)) + 1 = max(h_l, h_r) + 1$ which is the correct result, we take the longest branch and increase it by 1. As far as the complexity is concerned this algorithm will pass through all the nodes only once because each recursive step shifts the problem to the nodes one level below and will compute the same operation each time, so the complexity will be $\\Theta(n)$ where $n$ is the number of nodes in the tree."
   ]
  },
  {
   "cell_type": "code",
   "execution_count": null,
   "id": "9031a2eb",
   "metadata": {},
   "outputs": [],
   "source": [
    "# Pseudocode of exercise 3.b\n",
    "\n",
    "def height(x):\n",
    "    if x is NIL:\n",
    "        return -1\n",
    "    \n",
    "    return max(height(x.left), height(x.right)) + 1"
   ]
  },
  {
   "cell_type": "markdown",
   "id": "1094664d",
   "metadata": {},
   "source": [
    "Notice that in this algorithm we never used the color of the node, so this algorithm can also be used to find the height of a simple BST"
   ]
  },
  {
   "cell_type": "markdown",
   "id": "bea80fc7",
   "metadata": {},
   "source": [
    "c) Write the pseudo-code of an efficient procedure to compute the black-height of $T$. Prove its correctness and evaluate its asymptotic complexity.  \n",
    "\n",
    "The black-height of a node $x$ is the number of black nodes below it, to compute it efficently we can simply travel down the tree until we reach a leaf and keeping track of the number of black nodes encountered so far, the correctness of this algorithm is given by property 5 of the Red-Black Tree data structure: it doesn't matter which path we choose because all the paths will always contain the same number of black nodes.  \n",
    "The time complexity of this algorithm will be $\\Theta(h) = \\Theta(\\log(n))$ because we must execute the loop $h$ times and the Red-Black Trees have the following property $\\log(n+1) \\leq h \\leq 2\\log(n+1)$"
   ]
  },
  {
   "cell_type": "code",
   "execution_count": null,
   "id": "624b0440",
   "metadata": {},
   "outputs": [],
   "source": [
    "# Pseudocode of exercise 3.c\n",
    "\n",
    "def black_height(x):\n",
    "    height = 0\n",
    "    while x is not NIL:\n",
    "        height += x.color==\"black\"\n",
    "        x = x.left\n",
    "        \n",
    "    return height"
   ]
  },
  {
   "cell_type": "markdown",
   "id": "656281ee",
   "metadata": {},
   "source": [
    "### Exercise 4\n",
    "\n",
    "Let $(a_1, b_1 ), ..., (a_n, b_n)$ be n pairs of integer values. They are lexicographically sorted if, for all $i \\in [1, n-1]$, the following conditions hold:\n",
    "* $a_i \\leq a_{i+1}$ ;\n",
    "* $a_i = a_{i+1}$ implies that $b_i \\leq b_{i+1}$. \n",
    "\n",
    "Consider the problem of lexicographically sorting n pairs of integer values."
   ]
  },
  {
   "cell_type": "markdown",
   "id": "b2271df3",
   "metadata": {},
   "source": [
    "a) Suggest the opportune data structure to handle the pairs, write the pseudo-code of an efficient algorithm to solve the sorting problem and compute the complexity of the proposed procedure;  \n",
    "\n",
    "The choice of the data structure depends on what we have to do with the pairs, if the pairs must be lexicographically sorted at all times and new pairs are added or removed frequently then a Red-Black Tree could be a good data structure, because it always keeps the pairs ordered and implements insertion, deletion and finding a pair in $\\Theta(\\log(n))$ time.  \n",
    "\n",
    "However if the pairs are not added or deleted after initialization a good data structure could be a simple array of pairs, if the values must be sorted or if we want to perform a find operation multiple times we could sort the values at initialization, this would take $O(n\\log(n))$ time using a general purpose sorting algorithm, which is the same as inserting n values in a Red-Black Tree. Furthermore this simple data structure saves space because we don't need to keep track of the pointers to left and right child and the color of the node.\n",
    "I will consider the latter data structure in the following exercises because sorting operation on a Red-Black Tree are never required since the tree is already sorted by default.  \n",
    "\n",
    "To order this array of pairs which from now on I will call it $A$ I have chosen the merge sort algorithm because it orders a sequence in $\\Theta(n\\log(n))$ time and is a stable sorting algorithm, which will be useful in the following points of the exercise."
   ]
  },
  {
   "cell_type": "code",
   "execution_count": 50,
   "id": "39809a6a",
   "metadata": {},
   "outputs": [
    {
     "name": "stdout",
     "output_type": "stream",
     "text": [
      "[(9, 10), (0, 4), (7, 7), (8, 5), (2, 8), (10, 4), (7, 0), (9, 6), (8, 7), (6, 6), (3, 8), (9, 10), (2, 10), (2, 8), (9, 10), (1, 5), (10, 9), (6, 3), (6, 2), (8, 7), (6, 6), (8, 6), (3, 9), (7, 8), (6, 0), (4, 7), (3, 6), (1, 7), (5, 6), (6, 1), (4, 0), (7, 2), (1, 2), (0, 9), (4, 7), (4, 9), (2, 3), (4, 9), (5, 1), (10, 4), (9, 3), (10, 4), (10, 4), (8, 0), (10, 5), (1, 0), (8, 3), (3, 0), (3, 4), (7, 0), (5, 1), (4, 4), (8, 8), (0, 7), (7, 1), (5, 5), (2, 4), (9, 2), (4, 8), (7, 1), (3, 5), (1, 3), (0, 10), (5, 9), (3, 7), (10, 8), (8, 7), (5, 8), (3, 1), (0, 10), (5, 2), (0, 4), (9, 1), (7, 2), (6, 7), (1, 3), (10, 0), (2, 0), (9, 1), (5, 10), (4, 7), (9, 8), (4, 9), (3, 3), (0, 3), (0, 0), (9, 4), (6, 4), (7, 4), (2, 2), (10, 4), (0, 3), (6, 2), (3, 10), (4, 3), (0, 4), (3, 2), (3, 1), (3, 2), (0, 3)]\n"
     ]
    }
   ],
   "source": [
    "# Pseudocode of exercise 4.a\n",
    "\n",
    "from random import randint\n",
    "\n",
    "def merge(B, C, total_order):\n",
    "    i, j, k = 0, 0, 0\n",
    "    nb, nc = len(B), len(C)\n",
    "    A = [0]*(nc+nb)\n",
    "    while i<nb and j<nc:\n",
    "        if total_order(B[i], C[j]):\n",
    "            A[k] = B[i]\n",
    "            i+=1\n",
    "        else:\n",
    "            A[k] = C[j]\n",
    "            j+=1\n",
    "        k+=1\n",
    "    \n",
    "    while i < nb:\n",
    "        A[k] = B[i]\n",
    "        i+=1\n",
    "        k+=1\n",
    "        \n",
    "    while j < nc:\n",
    "        A[k] = C[j]\n",
    "        j+=1\n",
    "        k+=1\n",
    "        \n",
    "    return A\n",
    "\n",
    "def merge_sort(A, total_order):\n",
    "    n = len(A)\n",
    "    if n == 1:\n",
    "        return A\n",
    "    \n",
    "    B = merge_sort(A[0:n//2], total_order)\n",
    "    C = merge_sort(A[n//2:n], total_order)\n",
    "    \n",
    "    A = merge(B, C, total_order)\n",
    "    \n",
    "    return A\n",
    "\n",
    "def order(a,b):\n",
    "    if a[0] < b[0]:\n",
    "        return True\n",
    "    if a[0] == b[0] and a[1] <= b[1]:\n",
    "        return True\n",
    "        \n",
    "    return False\n",
    "    \n",
    "\n",
    "A = [(randint(0, 10), randint(0,10)) for i in range(100)]\n",
    "#A = [(10,9,3), (10,9,2), (10,9,1), (10,9,4)]\n",
    "merge_sort(A, order)\n",
    "print(A)"
   ]
  },
  {
   "cell_type": "markdown",
   "id": "32b02e22",
   "metadata": {},
   "source": [
    "b) Assume that there exists a natural value $k$, constant with respect to $n$, such that $a_i \\in [1, k]$ for all $i \\in [1, n]$. Is there an algorithm more efficient than the one proposed as solution of Exercise 4a? If this is the case, describe it and compute its complexity, otherwise, motivate the answer."
   ]
  },
  {
   "cell_type": "markdown",
   "id": "bfec097a",
   "metadata": {},
   "source": [
    "First of all we reorder $A$ with respect to the first element of the tuple $a_i$ which takes $\\Theta(n+k)$ time with a counting sort algorithm. Then we must sort w.r.t. $b_i$, to do this we subdivide $A$ in $S$ subsequences such that each one will contain only tuples of the form $(c, *)$ where $c$ is a constant and $*$ denotes any number which takes $O(n)$ time, we then sort each of these subsequences using the merge sort algorithm written above, this sorting will take $\\sum_{j=1}^{S} \\Theta(s_j\\log(s_j) = \\Theta(\\sum_{j=1}^{S} s_j\\log(s_j))$ time where we indicated with $s_j$ the length of the $j$-th subsequence.  \n",
    "\n",
    "However it's not clear if the algorithm is asimptotically faster than the one written above, to prove this we restrict us to the case where $S=2$, in this case $s_1 + s_2 = n$ and $\\Theta(n\\log(n)) = \\Theta((s_1+s_2)\\log(s_1+s_2)) \\geq \\Theta(s_1\\log(s_1) + s_2\\log(s_2))$ which can be trivially generalized to the sum above which leads $\\Theta(\\sum_{j=1}^{S} s_j\\log(s_j)) \\leq \\Theta(\\sum_{j=1}^{S} s_j\\log(n)) = \\Theta(n \\log(n))$, the best case scenario is when $s_1=s_2=n/2$ which can be seen by minimizing the expression $s_1\\log(s_1) + (n-s_1)\\log(n-s_1)$, this can be generalized to the summation $\\sum_{j=1}^{S} s_j\\log(s_j)$ where we get $s_j=n/S$ by minimizing the expression using the Lagrange multipliers, in this best case the complexity will be: $\\Theta(n\\log(n/S))$.  \n",
    "The average case complexity however depends on the application, if the application produces highly skewed distribution of the element $a_i$ then the algorithm will perform very similarly to a simple merge sort, however if the application produces quite uniform distributions of $a_i$ then the algorithm can give a significant speedup (MAGARI AGGIUNGERE DERIVAZIONE QUANTITATIVA)  \n",
    "\n",
    "To summarize the complexity of this algorithm will be:\n",
    "* Counting sort on $a_i$: $\\Theta(n+k)$\n",
    "* Finding the first and last index of each subsequence of $A$: $O(n)$\n",
    "* Sorting the subsequences $A$: $\\sum_{j=0}^{S} \\Theta(n_j\\log(n_j)$\n",
    "\n",
    "Overall cost: $\\Theta(\\sum_{j=1}^{S} s_j\\log(s_j) + k)$  \n",
    "Best case: $\\Theta(n\\log(n/S) + k)$"
   ]
  },
  {
   "cell_type": "code",
   "execution_count": 83,
   "id": "756b954e",
   "metadata": {},
   "outputs": [
    {
     "name": "stdout",
     "output_type": "stream",
     "text": [
      "[(0, 1), (0, 1), (0, 4), (0, 4), (0, 5), (0, 6), (0, 9), (0, 10), (0, 10), (0, 10), (1, 0), (1, 1), (1, 1), (1, 1), (1, 2), (1, 2), (1, 2), (1, 4), (1, 7), (2, 2), (2, 4), (2, 4), (2, 6), (2, 7), (2, 7), (2, 10), (2, 10), (3, 3), (3, 3), (3, 5), (3, 8), (3, 9), (4, 0), (4, 1), (4, 1), (4, 2), (4, 2), (4, 6), (4, 9), (5, 0), (5, 2), (5, 2), (5, 2), (5, 2), (5, 4), (5, 5), (5, 9), (5, 9), (5, 10), (6, 2), (6, 4), (6, 5), (6, 8), (6, 9), (6, 10), (6, 10), (6, 10), (7, 0), (7, 0), (7, 1), (7, 3), (7, 4), (7, 5), (7, 6), (7, 6), (7, 7), (7, 8), (7, 10), (8, 1), (8, 3), (8, 5), (8, 6), (8, 6), (8, 6), (8, 7), (8, 7), (8, 7), (8, 10), (8, 10), (9, 0), (9, 0), (9, 3), (9, 3), (9, 4), (9, 4), (9, 4), (9, 5), (9, 7), (9, 8), (9, 10), (9, 10), (10, 0), (10, 3), (10, 3), (10, 4), (10, 5), (10, 5), (10, 5), (10, 6), (10, 9)]\n"
     ]
    }
   ],
   "source": [
    "# Pseudocode of exercise 4.b\n",
    "\n",
    "def better_sort(A):\n",
    "    A = merge_sort(A, lambda x, y: x[0]<=y[0])\n",
    "    sequence_lenght = 1\n",
    "    for i in range(1, len(A)):\n",
    "        if A[i][0] == A[i-1][0]:\n",
    "            sequence_lenght+=1\n",
    "        elif sequence_lenght==1:\n",
    "            sequence_lenght = 1\n",
    "        else:        \n",
    "            A[i-sequence_lenght:i] = merge_sort(A[i-sequence_lenght:i], lambda x, y: x[1]<=y[1])\n",
    "            sequence_lenght=1\n",
    "    A[i-sequence_lenght+1:i+1] = merge_sort(A[i-sequence_lenght+1:i+1], lambda x, y: x[1]<=y[1])\n",
    "    return A\n",
    "\n",
    "A = [(randint(0, 10), randint(0,10)) for i in range(100)]\n",
    "A = better_sort(A)\n",
    "print(A)"
   ]
  },
  {
   "cell_type": "code",
   "execution_count": 62,
   "id": "53fea5a1",
   "metadata": {},
   "outputs": [
    {
     "name": "stdout",
     "output_type": "stream",
     "text": [
      "1\n",
      "1\n",
      "3\n",
      "1\n",
      "1\n",
      "4\n",
      "3\n"
     ]
    }
   ],
   "source": [
    "def find_subsequences(a):\n",
    "    l = 1\n",
    "    for i in range(1, len(a)):\n",
    "        if a[i] == a[i-1]:\n",
    "            l+=1\n",
    "        else:\n",
    "            print(l)\n",
    "            l = 1\n",
    "    print(l)\n",
    "\n",
    "a = [1,2,3,3,3,4,5,4,4,4,4,6,6,6]\n",
    "find_subsequences(a)"
   ]
  },
  {
   "cell_type": "markdown",
   "id": "e14c57d2",
   "metadata": {},
   "source": [
    "c) Assume that the condition of Exercise 4b holds and that there exists a natural value $h$, constant with respect to $n$, such that $b_i \\in [1, h]$ for all $i \\in [1, n]$. Is there an algorithm to solve the sorting problem more efficient than the one proposed as solution for Exercise 4a? If this is the case, describe it and compute its complexity, otherwise, motivate the answer."
   ]
  },
  {
   "cell_type": "markdown",
   "id": "20878341",
   "metadata": {},
   "source": [
    "We can apply two times the counting sort firstly on $b_i$ then on $a_i$, this is similar to the radix sort algorithm, the overall complexity will be $\\Theta(n+k+h)$"
   ]
  },
  {
   "cell_type": "markdown",
   "id": "dbf8d30c",
   "metadata": {},
   "source": [
    "### Exercise 5\n",
    "Consider the select algorithm. During the lessons, we explicitly assumed\n",
    "that the input array does not contain duplicate values.\n"
   ]
  },
  {
   "cell_type": "markdown",
   "id": "31d24b9c",
   "metadata": {},
   "source": [
    "a) Why is this assumption necessary? How relaxing this condition does affect the algorithm?"
   ]
  },
  {
   "cell_type": "code",
   "execution_count": 167,
   "id": "59e70109",
   "metadata": {},
   "outputs": [
    {
     "name": "stdout",
     "output_type": "stream",
     "text": [
      "2 [1, 3, 5, 2, 4]\n"
     ]
    }
   ],
   "source": [
    "from random import randint\n",
    "\n",
    "def swap(A, i, j):\n",
    "    c = A[i]\n",
    "    A[i] = A[j]\n",
    "    A[j] = c\n",
    "\n",
    "\n",
    "def partition(A, i, j, p):\n",
    "    swap(A, i, p)\n",
    "    p, i = i, i+1\n",
    "    \n",
    "    while i<=j:\n",
    "        if A[i] > A[p]:\n",
    "            swap(A, i, j)\n",
    "            j-=1\n",
    "        else:\n",
    "            i+=1\n",
    "    \n",
    "    swap(A, p, j)\n",
    "    return j\n",
    "        \n",
    "    \n",
    "def select(A, index, l=0, r=len(A)-1):\n",
    "    p = randint(l, r)\n",
    "    k = partition(A, l, r, p)\n",
    "    \n",
    "    if index==k:\n",
    "        return p\n",
    "    if index < k:\n",
    "        return select(A, index, l, k)\n",
    "    return select(A, index, k, r)\n",
    "    \n",
    "    \n",
    "A = [3,4,1,5,2]\n",
    "\n",
    "print(select(A, 0), A)"
   ]
  },
  {
   "cell_type": "code",
   "execution_count": 124,
   "id": "8762aa5e",
   "metadata": {},
   "outputs": [
    {
     "data": {
      "text/plain": [
       "[2, 0, 8, 9, 2, 3, 7, 10, 2, 6]"
      ]
     },
     "execution_count": 124,
     "metadata": {},
     "output_type": "execute_result"
    }
   ],
   "source": [
    "A = [randint(0, 10) for i in range(10)]\n",
    "\n",
    "A"
   ]
  },
  {
   "cell_type": "code",
   "execution_count": 125,
   "id": "e6c186ca",
   "metadata": {},
   "outputs": [
    {
     "name": "stdout",
     "output_type": "stream",
     "text": [
      "8 [2, 0, 8, 2, 2, 3, 7, 6, 9, 10]\n"
     ]
    }
   ],
   "source": [
    "print(partition(A, 0, 9, 3), A)"
   ]
  },
  {
   "cell_type": "markdown",
   "id": "e1c979cd",
   "metadata": {},
   "source": [
    "b) Write the pseudo-code of an algorithm that enhance the one seen during the lessons and evaluate its complexity."
   ]
  }
 ],
 "metadata": {
  "kernelspec": {
   "display_name": "Python 3",
   "language": "python",
   "name": "python3"
  },
  "language_info": {
   "codemirror_mode": {
    "name": "ipython",
    "version": 3
   },
   "file_extension": ".py",
   "mimetype": "text/x-python",
   "name": "python",
   "nbconvert_exporter": "python",
   "pygments_lexer": "ipython3",
   "version": "3.8.8"
  }
 },
 "nbformat": 4,
 "nbformat_minor": 5
}
