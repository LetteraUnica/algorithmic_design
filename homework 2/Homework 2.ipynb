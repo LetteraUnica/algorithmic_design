{
 "cells": [
  {
   "cell_type": "markdown",
   "id": "a30a1409",
   "metadata": {},
   "source": [
    "## Algorithmic Design Homework 2"
   ]
  },
  {
   "cell_type": "markdown",
   "id": "a50488da",
   "metadata": {},
   "source": [
    "### Exercise 1\n",
    "Let H be a `Min-Heap` containing $n$ integer keys and let $k$ be an integer\n",
    "value. Solve the following exercises by using the procedures seen during\n",
    "the course lessons:"
   ]
  },
  {
   "cell_type": "markdown",
   "id": "401a73ba",
   "metadata": {},
   "source": [
    "a) Write the pseudo-code of an in-place procedure `RetrieveMax(H)` to\n",
    "efficiently return the maximum value in H without deleting it and\n",
    "evaluate its complexity.  \n",
    "\n",
    "In case of a Min-Heap we know that $parent(p) \\leq p$ so the maximum has to be found in the leaves of the Min-Heap which are $\\lceil n/2 \\rceil$ where $n$ is the heap size. Considering the index starting from 0 we get that the first leaf will be at index $\\lfloor n/2 \\rfloor$.  \n",
    "\n",
    "The time complexity of this algorithm will be $\\Theta(\\lceil n/2 \\rceil) = \\Theta(n/2) = \\Theta(n)$ because it requires to find the maximum among an unordered array of $\\lceil n/2 \\rceil$ elements."
   ]
  },
  {
   "cell_type": "code",
   "execution_count": null,
   "id": "3866f7fe",
   "metadata": {},
   "outputs": [],
   "source": [
    "# Pseudocode of exercise 1.a\n",
    "\n",
    "def find_max(a):\n",
    "    # Finds the maximum value of an unordered array a\n",
    "    current_max = a[0]\n",
    "    for element in a:\n",
    "        if element > current_max:\n",
    "            current_max = element\n",
    "    \n",
    "    return element\n",
    "\n",
    "def RetrieveMax(H):\n",
    "    return find_max(H[floor(H.size/2):])"
   ]
  },
  {
   "cell_type": "markdown",
   "id": "a4d463f7",
   "metadata": {},
   "source": [
    "b) Write the pseudo-code of an in-place procedure DeleteMax(H) to\n",
    "efficiently deletes the maximum value from H and evaluate its com-\n",
    "plexity.  \n",
    "\n",
    "To delete the maximum element of an heap firstly we must find the index corresponding to the maximum value, which takes time $\\Theta(\\lceil n/2 \\rceil)$, then we must delete this maximum element by shifting all of the elements after it left by one position, which takes time $\\Theta(\\lceil n/2 \\rceil)$ in the worst case and $\\Theta(1)$ in the best case.  \n",
    "So the time complexity of this operation is $\\Theta(n)$ because even if we are lucky that the maximum element is at the last index `H.size - 1` we still must find the maximum which takes time $\\Theta(n)$."
   ]
  },
  {
   "cell_type": "code",
   "execution_count": null,
   "id": "3e369576",
   "metadata": {},
   "outputs": [],
   "source": [
    "# Pseudocode of exercise 1.b\n",
    "\n",
    "def find_max_index(a, start, end):\n",
    "    # Finds the index of the maximum value of an unordered array a\n",
    "    max_index = start\n",
    "    current_max = a[max_index]\n",
    "    \n",
    "    for i in range(start+1, end):\n",
    "        if a[i] > current_max:\n",
    "            current_max = a[i]\n",
    "            max_index = i\n",
    "    \n",
    "    return max_index\n",
    "\n",
    "def DeleteMax(H):\n",
    "    # Find the maximum index\n",
    "    max_index = find_max_index(H, floor(H.size/2), H.size)\n",
    "    \n",
    "    # Shift the array left by one position past the maximum\n",
    "    for i in range(max_index, H.size-1):\n",
    "        H[i] = H[i+1]\n",
    "    H.size -= 1"
   ]
  },
  {
   "cell_type": "markdown",
   "id": "cfd0c829",
   "metadata": {},
   "source": [
    "c) Provide a working example for the worst case scenario of the pro-\n",
    "cedure `DeleteMax(H)` (see Exercise 1b) on a heap $H$ consisting in 8\n",
    "nodes and simulate the execution of the function itself."
   ]
  },
  {
   "cell_type": "markdown",
   "id": "e0b0f4c6",
   "metadata": {},
   "source": [
    "In case of 8 nodes we will have $\\lceil n/2 \\rceil = 4$ leaves and the first leaf index will be at $\\lfloor n/2 \\rfloor = 4$, the algorithm first finds the index of the maximum value among $H$\\[4:8\\] which always takes the same time. ..."
   ]
  },
  {
   "cell_type": "markdown",
   "id": "96eb9753",
   "metadata": {},
   "source": [
    "### Exercise 2\n",
    "\n",
    "Let $A$ be an array of n integer values (i.e., the values belong to $\\mathbb Z$). Consider the problem of computing a vector $B$ such that, for all $i \\in [1, n], B[i]$ stores the number of elements smaller than $A[i]$ in $A[i + 1, ... , n]$. More formally:\n",
    "$$ B[i] = |\\{z \\in [i + 1, n]| A[z] < A[i]\\}|$$"
   ]
  },
  {
   "cell_type": "markdown",
   "id": "b0a34a9a",
   "metadata": {},
   "source": [
    "a) Evaluate the array B corresponding to $A = [2, -7, 8, 3, -5, -5, 9,\n",
    "1, 12, 4]$.  \n",
    "\n",
    "In this case we have $B=[4,0,5,3,0,0,2,0,1,0]$"
   ]
  },
  {
   "cell_type": "markdown",
   "id": "df687ef6",
   "metadata": {},
   "source": [
    "b) Write the pseudo-code of an algorithm belonging to O(n 2 ) to solve the\n",
    "problem. Prove the asympotic complexity of the proposed solution\n",
    "and its correctness.  \n",
    "\n",
    "The most straightforward method is to simply test the condition for each element of A, the pseudocode of this algorithm will be:"
   ]
  },
  {
   "cell_type": "code",
   "execution_count": 1,
   "id": "9a7ebc8f",
   "metadata": {},
   "outputs": [
    {
     "data": {
      "text/plain": [
       "[4, 0, 5, 3, 0, 0, 2, 0, 1, 0]"
      ]
     },
     "execution_count": 1,
     "metadata": {},
     "output_type": "execute_result"
    }
   ],
   "source": [
    "def compute_B(A):\n",
    "    n = len(A)\n",
    "    B = []\n",
    "    \n",
    "    for i in range(n):\n",
    "        count = 0\n",
    "        for z in range(i+1, n):\n",
    "            if A[z] < A[i]:\n",
    "                count += 1\n",
    "        B.append(count)\n",
    "    \n",
    "    return B\n",
    "\n",
    "A = [2, -7, 8, 3, -5, -5, 9, 1, 12, 4]\n",
    "compute_B(A)"
   ]
  },
  {
   "cell_type": "markdown",
   "id": "9992b4fa",
   "metadata": {},
   "source": [
    "The time complexity of this algorithm is given by the formula:\n",
    "$$\\sum_{i=1}^n\\sum_{i+1}^n \\Theta(1) = \\alpha \\sum_{i=1}^n (n-i) = \\alpha \\sum_{j=0}^{n-1} j = \\frac{\\alpha}{2} n(n-1) = \\Theta(n^2)$$\n",
    "\n",
    "Where I used $\\Theta(1) = \\alpha$ in and $j=n-i$"
   ]
  },
  {
   "cell_type": "markdown",
   "id": "43b03faf",
   "metadata": {},
   "source": [
    "c) Assuming that there is only a constant number of values in $A$ different from 0, write an efficient algorithm to solve the problem, evaluate its complexity and correctness.  \n",
    "\n"
   ]
  },
  {
   "cell_type": "markdown",
   "id": "3d6b5053",
   "metadata": {},
   "source": [
    "### Exercise 3\n",
    "\n",
    "Let $T$ be a Red-Black Tree"
   ]
  },
  {
   "cell_type": "markdown",
   "id": "6f7d518f",
   "metadata": {},
   "source": [
    "a) Give the definition of Red-Black Trees  \n",
    "\n"
   ]
  }
 ],
 "metadata": {
  "kernelspec": {
   "display_name": "Python 3",
   "language": "python",
   "name": "python3"
  },
  "language_info": {
   "codemirror_mode": {
    "name": "ipython",
    "version": 3
   },
   "file_extension": ".py",
   "mimetype": "text/x-python",
   "name": "python",
   "nbconvert_exporter": "python",
   "pygments_lexer": "ipython3",
   "version": "3.8.8"
  }
 },
 "nbformat": 4,
 "nbformat_minor": 5
}
