{
 "cells": [
  {
   "cell_type": "markdown",
   "id": "c2aee16a",
   "metadata": {},
   "source": [
    "## Algorithmic Design Homework 2"
   ]
  },
  {
   "cell_type": "markdown",
   "id": "93a50197",
   "metadata": {},
   "source": [
    "### Exercise 1\n",
    "Let H be a `Min-Heap` containing $n$ integer keys and let $k$ be an integer value. Solve the following exercises by using the procedures seen during the course lessons:"
   ]
  },
  {
   "cell_type": "markdown",
   "id": "3c8c559f",
   "metadata": {},
   "source": [
    "a) Write the pseudo-code of an in-place procedure `RetrieveMax(H)` to\n",
    "efficiently return the maximum value in H without deleting it and\n",
    "evaluate its complexity.  \n",
    "\n",
    "In case of a Min-Heap we know that $parent(p) \\leq p$ so the maximum has to be found in the leaves of the Min-Heap which are $\\lceil n/2 \\rceil$ where $n$ is the heap size. Considering the index starting from 0 we get that the first leaf will be at index $\\lfloor n/2 \\rfloor$.  \n",
    "\n",
    "The time complexity of this algorithm will be $\\Theta(\\lceil n/2 \\rceil) = \\Theta(n/2) = \\Theta(n)$ because it requires to find the maximum among an unordered array of $\\lceil n/2 \\rceil$ elements."
   ]
  },
  {
   "cell_type": "code",
   "execution_count": null,
   "id": "ed7a0145",
   "metadata": {},
   "outputs": [],
   "source": [
    "# Pseudocode of exercise 1.a\n",
    "\n",
    "def find_max(a):\n",
    "    # Finds the maximum value of an unordered array a\n",
    "    current_max = a[0]\n",
    "    for element in a:\n",
    "        if element > current_max:\n",
    "            current_max = element\n",
    "    \n",
    "    return element\n",
    "\n",
    "def RetrieveMax(H):\n",
    "    return find_max(H[floor(H.size/2):])"
   ]
  },
  {
   "cell_type": "markdown",
   "id": "d938b539",
   "metadata": {},
   "source": [
    "b) Write the pseudo-code of an in-place procedure DeleteMax(H) to efficiently deletes the maximum value from H and evaluate its complexity.  \n",
    "\n",
    "To delete the maximum element of an heap firstly we must find the index corresponding to the maximum value, which takes time $\\Theta(\\lceil n/2 \\rceil)$, then we must delete this maximum element by shifting all of the elements after it left by one position, which takes time $\\Theta(\\lceil n/2 \\rceil)$ in the worst case and $\\Theta(1)$ in the best case.  \n",
    "So the time complexity of this operation is $\\Theta(n)$ because even if we are lucky that the maximum element is at the last index `H.size - 1` we still must find the maximum which takes time $\\Theta(n)$."
   ]
  },
  {
   "cell_type": "code",
   "execution_count": null,
   "id": "2205b74b",
   "metadata": {},
   "outputs": [],
   "source": [
    "# Pseudocode of exercise 1.b da rifare\n",
    "\n",
    "def find_max_index(a, start, end):\n",
    "    # Finds the index of the maximum value of an unordered array a\n",
    "    max_index = start\n",
    "    current_max = a[max_index]\n",
    "    \n",
    "    for i in range(start+1, end):\n",
    "        if a[i] > current_max:\n",
    "            current_max = a[i]\n",
    "            max_index = i\n",
    "    \n",
    "    return max_index\n",
    "\n",
    "def DeleteMax(H):\n",
    "    # Find the maximum index\n",
    "    max_index = find_max_index(H, floor(H.size/2), H.size)\n",
    "    \n",
    "    # Shift the array left by one position past the maximum\n",
    "    for i in range(max_index, H.size-1):\n",
    "        H[i] = H[i+1]\n",
    "    H.size -= 1"
   ]
  },
  {
   "cell_type": "markdown",
   "id": "825ff473",
   "metadata": {},
   "source": [
    "c) Provide a working example for the worst case scenario of the procedure `DeleteMax(H)` (see Exercise 1b) on a heap $H$ consisting in 8 nodes and simulate the execution of the function itself."
   ]
  },
  {
   "cell_type": "markdown",
   "id": "229b8c66",
   "metadata": {},
   "source": [
    "In case of 8 nodes we will have $\\lceil n/2 \\rceil = 4$ leaves and the first leaf index will be at $\\lfloor n/2 \\rfloor = 4$, the algorithm first finds the index of the maximum value among $H$\\[4:8\\] which always takes the same time. ..."
   ]
  },
  {
   "cell_type": "markdown",
   "id": "a4744ce1",
   "metadata": {},
   "source": [
    "### Exercise 2\n",
    "\n",
    "Let $A$ be an array of n integer values (i.e., the values belong to $\\mathbb Z$). Consider the problem of computing a vector $B$ such that, for all $i \\in [1, n], B[i]$ stores the number of elements smaller than $A[i]$ in $A[i + 1, ... , n]$. More formally:\n",
    "$$ B[i] = |\\{z \\in [i + 1, n]| A[z] < A[i]\\}|$$"
   ]
  },
  {
   "cell_type": "markdown",
   "id": "5406cd31",
   "metadata": {},
   "source": [
    "a) Evaluate the array B corresponding to $A = [2, -7, 8, 3, -5, -5, 9, 1, 12, 4]$.  \n",
    "\n",
    "In this case we have $B=[4,0,5,3,0,0,2,0,1,0]$"
   ]
  },
  {
   "cell_type": "markdown",
   "id": "eb1b8955",
   "metadata": {},
   "source": [
    "b) Write the pseudo-code of an algorithm belonging to $O(n^2)$ to solve the problem. Prove the asympotic complexity of the proposed solution and its correctness.  \n",
    "\n",
    "The most straightforward method is to simply test the condition for each element of A, the pseudocode of this algorithm will be:"
   ]
  },
  {
   "cell_type": "code",
   "execution_count": 1,
   "id": "733b1bea",
   "metadata": {},
   "outputs": [
    {
     "data": {
      "text/plain": [
       "[4, 0, 5, 3, 0, 0, 2, 0, 1, 0]"
      ]
     },
     "execution_count": 1,
     "metadata": {},
     "output_type": "execute_result"
    }
   ],
   "source": [
    "# Pseudocode of exercise 2.b\n",
    "\n",
    "def compute_B(A):\n",
    "    n = len(A)\n",
    "    B = []\n",
    "    \n",
    "    for i in range(n):\n",
    "        count = 0\n",
    "        for z in range(i+1, n):\n",
    "            if A[z] < A[i]:\n",
    "                count += 1\n",
    "        B.append(count)\n",
    "    \n",
    "    return B\n",
    "\n",
    "A = [2, -7, 8, 3, -5, -5, 9, 1, 12, 4]\n",
    "compute_B(A)"
   ]
  },
  {
   "cell_type": "markdown",
   "id": "e3a5b701",
   "metadata": {},
   "source": [
    "The time complexity of this algorithm is given by the formula:\n",
    "$$\\sum_{i=1}^n\\sum_{i+1}^n \\Theta(1) = \\alpha \\sum_{i=1}^n (n-i) = \\alpha \\sum_{j=0}^{n-1} j = \\frac{\\alpha}{2} n(n-1) = \\Theta(n^2)$$\n",
    "\n",
    "Where I used $\\Theta(1) = \\alpha$ in and $j=n-i$"
   ]
  },
  {
   "cell_type": "markdown",
   "id": "9ff00085",
   "metadata": {},
   "source": [
    "c) Assuming that there is only a constant number of values in $A$ different from 0, write an efficient algorithm to solve the problem, evaluate its complexity and correctness.  \n",
    "\n"
   ]
  },
  {
   "cell_type": "code",
   "execution_count": null,
   "id": "88d25321",
   "metadata": {},
   "outputs": [],
   "source": [
    "def compute_B(A):\n",
    "    zeros_array = [0]*len(A)\n",
    "    for i in range(len(A)):\n",
    "        if A[i] == 0:\n",
    "            zeros_array[i] = zeros_array[i-1] + 1\n",
    "        else:\n",
    "            zeros[i] = zeros[i-1]\n",
    "    n = len(A)\n",
    "    B = []\n",
    "    \n",
    "    for i in range(n):\n",
    "        count = 0\n",
    "        for z in range(i+1, n):\n",
    "            if A[z] < A[i]:\n",
    "                count += 1\n",
    "        B.append(count)\n",
    "    \n",
    "    return B\n",
    "\n",
    "A = [2, -7, 8, 3, -5, -5, 9, 1, 12, 4]\n",
    "compute_B(A)"
   ]
  },
  {
   "cell_type": "markdown",
   "id": "66e3c9e5",
   "metadata": {},
   "source": [
    "### Exercise 3\n",
    "\n",
    "Let $T$ be a Red-Black Tree"
   ]
  },
  {
   "cell_type": "markdown",
   "id": "e1ee574e",
   "metadata": {},
   "source": [
    "a) Give the definition of Red-Black Trees  \n",
    "\n",
    "Red-Black trees are a data structure satisfing the followind properties:\n",
    "1. Every node has a color associated with it which is either a red or black.\n",
    "2. The tree's root is black.\n",
    "3. Every leaf is a black NIL node.\n",
    "4. If a node is red, then both its children are black.\n",
    "5. For each node, all the branches from the node to descendant leaves contain the same number of black nodes."
   ]
  },
  {
   "cell_type": "markdown",
   "id": "d08efe97",
   "metadata": {},
   "source": [
    "b) Write the pseudo-code of an efficient procedure to compute the height of $T$. Prove its correctness and evaluate its asymptotic complexity.\n",
    "\n",
    "In general we know that the height of a Red-Black Tree is bounded from above and below, in particular $\\log(n+1) \\leq h \\leq 2\\log(n+1)$, however we don't have a closed formula of the exact height of a Red-Black Tree. A naive appoach to this problem would be to perform an exhaustive search across all paths, this would take $O(2^h)$ in the case of a perfectly balanced Red-Black Tree because at each step we must choose to go either left or right and we must take this decision $h$ times, this can be seen as the number of distinct possible sequences of 0s and 1s with length $h$ where 0=right, 1=left.  \n",
    "\n",
    "A better approach can be found by noticing that if I know the height of the right $h_r$ and left $h_l$ child of a node $x$ I can compute the height of $x$ by simply computing $h(x) = \\max(h_l, h_r) + 1 = \\max(h(x.left), h(x.right)) + 1$, the last step gives us a recursive formula to compute the height of any node $x$ and so even of the root of $T$, the base case of this recursion is when I reach a null node, in that case the height is set to -1 because I am \"below\" a leaf node whose height is by definition 0.  \n",
    "\n",
    "To prove the correctness of this algorithm we proceed by induction, suppose $x$ is a leaf, the algorithm will perform $max(-1, -1) + 1 = 0$ and return the correct result. Now suppose it works for the left and right child of a node $x$, we must prove that it works for $x$, indeed we have $height(x) = max(height(x.left), height(x.right)) + 1 = max(h_l, h_r) + 1$ which is the correct result, we take the longest branch and increase it by 1. As far as the complexity is concerned this algorithm will pass through all the nodes only once because each recursive step shifts the problem to the nodes one level below and will compute the same operation each time, so the complexity will be $\\Theta(n)$ where $n$ is the number of nodes in the tree "
   ]
  },
  {
   "cell_type": "code",
   "execution_count": null,
   "id": "a898b30a",
   "metadata": {},
   "outputs": [],
   "source": [
    "# Pseudocode of exercise 3.b\n",
    "\n",
    "def height(x):\n",
    "    if x is NIL:\n",
    "        return -1\n",
    "    \n",
    "    return max(height(x.left), height(x.right)) + 1"
   ]
  },
  {
   "cell_type": "markdown",
   "id": "5adcefbf",
   "metadata": {},
   "source": [
    "c) Write the pseudo-code of an efficient procedure to compute the black-height of $T$. Prove its correctness and evaluate its asymptotic complexity.  \n",
    "\n",
    "The black-height of a node $x$ is the number of black nodes below it, to compute it efficently we can simply travel down the tree until we reach a leaf and keeping track of the number of black nodes encountered so far, the correctness of this algorithm is given by property 5 of the Red-Black Tree data structure: it doesn't matter which path we choose because all the paths will always contain the same number of black nodes.  \n",
    "The time complexity of this algorithm will be $\\Theta(h) = \\Theta(\\log(n))$ because we must execute the loop $h$ times and the Red-Black Trees have the following property $\\log(n+1) \\leq h \\leq 2\\log(n+1)$"
   ]
  },
  {
   "cell_type": "code",
   "execution_count": null,
   "id": "33dc0bc4",
   "metadata": {},
   "outputs": [],
   "source": [
    "# Pseudocode of exercise 3.c\n",
    "\n",
    "def black_height(x):\n",
    "    height = 0\n",
    "    while x is not NIL:\n",
    "        height += x.color==\"black\"\n",
    "        x = x.left\n",
    "        \n",
    "    return height"
   ]
  },
  {
   "cell_type": "markdown",
   "id": "1c260ebb",
   "metadata": {},
   "source": [
    "### Exercise 4\n",
    "\n",
    "Let $(a_1, b_1 ), ..., (a_n, b_n)$ be n pairs of integer values. They are lexicographically sorted if, for all $i \\in [1, n-1]$, the following conditions hold:\n",
    "* $a_i \\leq a_{i+1}$ ;\n",
    "* $a_i = a_{i+1}$ implies that $b_i \\leq b_{i+1}$. \n",
    "\n",
    "Consider the problem of lexicographically sorting n pairs of integer values."
   ]
  },
  {
   "cell_type": "markdown",
   "id": "c965fbca",
   "metadata": {},
   "source": [
    "a) Suggest the opportune data structure to handle the pairs, write the pseudo-code of an efficient algorithm to solve the sorting problem and compute the complexity of the proposed procedure;  \n",
    "\n",
    "The choice of the data structure depends on what we have to do with the pairs, if the pairs must be lexicographically sorted at all times and new pairs are added or removed frequently then a Red-Black Tree could be a good data structure, because it always keeps the pairs ordered and implements insertion, deletion and finding a pair in $\\Theta(\\log(n))$ time.  \n",
    "\n",
    "However if the pairs are not added or deleted after initialization a good data structure could be a simple array of pairs, if the values must be sorted or if we want to perform a find operation multiple times we could sort the values at initialization, this would take $O(n\\log(n))$ time using a general purpose sorting algorithm which is the same as inserting n values in a Red-Black Tree. Furthermore this simple data structure saves space because we don't need to keep track of the pointers to left and right child and the color of the node.\n",
    "I will consider the latter data structure in the following exercises because sorting operation on a Red-Black Tree are never required since the tree is sorted by default.  \n",
    "\n"
   ]
  },
  {
   "cell_type": "code",
   "execution_count": null,
   "id": "505dd964",
   "metadata": {},
   "outputs": [],
   "source": [
    "# Pseudocode of exercise 4.a\n",
    "\n",
    "def "
   ]
  },
  {
   "cell_type": "markdown",
   "id": "fbb8f16d",
   "metadata": {},
   "source": [
    "b) Assume that there exists a natural value $k$, constant with respect to $n$, such that $a_i \\in [1, k]$ for all $i \\in [1, n]$. Is there an algorithm more efficient than the one proposed as solution of Exercise 4a? If this is the case, describe it and compute its complexity, otherwise, motivate the answer."
   ]
  },
  {
   "cell_type": "code",
   "execution_count": null,
   "id": "794453f7",
   "metadata": {},
   "outputs": [],
   "source": []
  },
  {
   "cell_type": "markdown",
   "id": "4f761f8d",
   "metadata": {},
   "source": [
    "c) Assume that the condition of Exercise 4b holds and that there exists a natural value $h$, constant with respect to $n$, such that $b_i \\in [1, h]$ for all $i \\in [1, n]$. Is there an algorithm to solve the sorting problem more efficient than the one proposed as solution for Exercise 4a? If this is the case, describe it and compute its complexity, otherwise, motivate the answer."
   ]
  },
  {
   "cell_type": "code",
   "execution_count": null,
   "id": "86a13c48",
   "metadata": {},
   "outputs": [],
   "source": []
  },
  {
   "cell_type": "markdown",
   "id": "0784c43d",
   "metadata": {},
   "source": [
    "### Exercise 5\n",
    "Consider the select algorithm. During the lessons, we explicitly assumed\n",
    "that the input array does not contain duplicate values.\n"
   ]
  },
  {
   "cell_type": "markdown",
   "id": "d919b891",
   "metadata": {},
   "source": [
    "a) Why is this assumption necessary? How relaxing this condition does affect the algorithm?"
   ]
  },
  {
   "cell_type": "markdown",
   "id": "9adb1ca8",
   "metadata": {},
   "source": [
    "b) Write the pseudo-code of an algorithm that enhance the one seen during the lessons and evaluate its complexity."
   ]
  }
 ],
 "metadata": {
  "kernelspec": {
   "display_name": "Python 3",
   "language": "python",
   "name": "python3"
  },
  "language_info": {
   "codemirror_mode": {
    "name": "ipython",
    "version": 3
   },
   "file_extension": ".py",
   "mimetype": "text/x-python",
   "name": "python",
   "nbconvert_exporter": "python",
   "pygments_lexer": "ipython3",
   "version": "3.8.8"
  }
 },
 "nbformat": 4,
 "nbformat_minor": 5
}
