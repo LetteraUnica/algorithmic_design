{
 "cells": [
  {
   "cell_type": "markdown",
   "id": "c4f03f9a-e2ce-4813-a64e-be4381524f5f",
   "metadata": {},
   "source": [
    "## Algorithmic Design Homework 3"
   ]
  },
  {
   "cell_type": "markdown",
   "id": "1c616b76-d613-45f3-b371-34c9989c27d7",
   "metadata": {},
   "source": [
    "### Exercise 1.\n",
    "Implement the binary heap-based version of the Dijkstra’s algorithm."
   ]
  },
  {
   "cell_type": "markdown",
   "id": "63af4a98-e0b5-422d-a5aa-4c335ea18d31",
   "metadata": {},
   "source": [
    "### Solution\n",
    "\n",
    "In the cell below we implement the heap-based version of the Dijkstra’s algorithm on the Graph data structure written in the file `Graph.py` and using the binary heap defined in `Heap.py`.  \n",
    "\n",
    "The heap implements all the methods we saw during the lectures and some more which we found useful during the implementation of the Dijkstra's algorithm.  \n",
    "\n",
    "However designing the graph was more complicated because it can be implemented in different ways, we chosed to define a Vertex class which contains a dictionary with its outward connections and their weight i.e. `connections={destination: weight}`, furthermore each vertex has a name which is unique in the graph, the definition of the vertex as an object allows us to add attributes to the vertexes very easily, like the color in breadth/depth first search or the distance in the Dijkstra algorithm. Finally we encoded the graph as a dictionary with key the vertex name and value an instance of the Vertex class, we chosed the dictionary because the time it takes to find a vertex given a name is $\\Theta(1)$"
   ]
  },
  {
   "cell_type": "code",
   "execution_count": 13,
   "id": "26047787-e4f1-4277-a662-2042df256403",
   "metadata": {},
   "outputs": [],
   "source": [
    "from numpy import inf\n",
    "from Heap import Binary_heap\n",
    "from Graph import Graph\n",
    "from warnings import warn\n",
    "\n",
    "\n",
    "def init_sssp(G, s):\n",
    "    u = G.get_vertex(s)\n",
    "    if u is None:\n",
    "        message = f\"The vertex{s} is not present in the graph, exiting\"\n",
    "        warn(message, RuntimeWarning)\n",
    "        return\n",
    "    \n",
    "    for v in G.V():\n",
    "        v.d = inf\n",
    "        v.pred = None\n",
    "        \n",
    "    u.d = 0.\n",
    "    \n",
    "    \n",
    "def relax(Q, u, v):\n",
    "    w = u.get_weight(v.name)\n",
    "    if v.d > u.d + w:\n",
    "        v.d = u.d + w\n",
    "        v.pred = u\n",
    "        Q.decrease_key((v.d, v))\n",
    "\n",
    "        \n",
    "def dijkstra(G, s):\n",
    "    init_sssp(G, s)\n",
    "    Q = Binary_heap(G.V(), total_order=lambda x, y: x.d < y.d, key_dict=lambda x: x.name)\n",
    "    while not Q.is_empty():\n",
    "        u = Q.remove_min()\n",
    "        for v in G.Adj(u.name):\n",
    "            v = G.get_vertex(v)\n",
    "            relax(Q, u, v)\n",
    "            "
   ]
  },
  {
   "cell_type": "code",
   "execution_count": 9,
   "id": "c41348f7-ab4e-4b5d-832c-0972265dc3f3",
   "metadata": {},
   "outputs": [
    {
     "ename": "SyntaxError",
     "evalue": "invalid syntax (<ipython-input-9-06b1ad4926f0>, line 7)",
     "output_type": "error",
     "traceback": [
      "\u001b[0;36m  File \u001b[0;32m\"<ipython-input-9-06b1ad4926f0>\"\u001b[0;36m, line \u001b[0;32m7\u001b[0m\n\u001b[0;31m    c.\u001b[0m\n\u001b[0m      ^\u001b[0m\n\u001b[0;31mSyntaxError\u001b[0m\u001b[0;31m:\u001b[0m invalid syntax\n"
     ]
    }
   ],
   "source": [
    "a = 4\n",
    "b = 2\n",
    "\n",
    "c = {a:2, b:4}\n",
    "print(c)\n",
    "a = 10\n",
    "c."
   ]
  },
  {
   "cell_type": "code",
   "execution_count": 14,
   "id": "96da670b-2750-4d33-b1ea-e27f475b17ca",
   "metadata": {},
   "outputs": [],
   "source": [
    "# Create a simple graph for testing\n",
    "G = Graph(directed=True)\n",
    "G.add_edge(\"A\", \"B\", 100)\n",
    "G.add_edge(\"A\", \"C\", 6.)\n",
    "G.add_edge(\"B\", \"D\", 1)\n",
    "G.add_edge(\"C\", \"B\", 1)\n",
    "G.add_vertex(\"E\")\n",
    "\n",
    "dijkstra(G, \"A\")"
   ]
  },
  {
   "cell_type": "code",
   "execution_count": 15,
   "id": "33608b3a-e4e3-471e-9a2c-f38834b84510",
   "metadata": {},
   "outputs": [
    {
     "name": "stdout",
     "output_type": "stream",
     "text": [
      "B 7.0\n",
      "A 0.0\n",
      "C 6.0\n",
      "D 8.0\n",
      "E inf\n"
     ]
    },
    {
     "data": {
      "text/plain": [
       "[None, None, None, None, None]"
      ]
     },
     "execution_count": 15,
     "metadata": {},
     "output_type": "execute_result"
    }
   ],
   "source": [
    "[print(v.name, v.d) for v in G.V()]"
   ]
  }
 ],
 "metadata": {
  "kernelspec": {
   "display_name": "Python 3",
   "language": "python",
   "name": "python3"
  },
  "language_info": {
   "codemirror_mode": {
    "name": "ipython",
    "version": 3
   },
   "file_extension": ".py",
   "mimetype": "text/x-python",
   "name": "python",
   "nbconvert_exporter": "python",
   "pygments_lexer": "ipython3",
   "version": "3.8.8"
  }
 },
 "nbformat": 4,
 "nbformat_minor": 5
}
