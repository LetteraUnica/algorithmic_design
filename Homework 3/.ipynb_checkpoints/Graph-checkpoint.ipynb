{
 "cells": [
  {
   "cell_type": "code",
   "execution_count": 10,
   "id": "2be8c248-809c-4e20-957f-c57110a19076",
   "metadata": {},
   "outputs": [],
   "source": [
    "class point:\n",
    "    def __init__(self, x, y):\n",
    "        self.x = x\n",
    "        self.y = y\n",
    "\n",
    "p1 = point(1,2)\n",
    "p2 = point(3,4)\n",
    "a = set([p1, p2])"
   ]
  },
  {
   "cell_type": "code",
   "execution_count": 11,
   "id": "14e5c3b0-d84b-4a9a-9e34-6da9b0e2f343",
   "metadata": {},
   "outputs": [
    {
     "data": {
      "text/plain": [
       "{<__main__.point at 0x7f9dcc6312b0>, <__main__.point at 0x7f9dcc631460>}"
      ]
     },
     "execution_count": 11,
     "metadata": {},
     "output_type": "execute_result"
    }
   ],
   "source": [
    "a."
   ]
  },
  {
   "cell_type": "code",
   "execution_count": 46,
   "id": "5921c197-3b7f-4d57-af77-75543a0f701d",
   "metadata": {},
   "outputs": [
    {
     "data": {
      "text/plain": [
       "1"
      ]
     },
     "execution_count": 46,
     "metadata": {},
     "output_type": "execute_result"
    }
   ],
   "source": [
    "from collections import deque\n",
    "\n",
    "b = deque([1,2,43])\n",
    "b.append(4)\n",
    "b.popleft()"
   ]
  },
  {
   "cell_type": "code",
   "execution_count": 47,
   "id": "3ea9248a-439d-4ce2-a1db-53fa9d1e9393",
   "metadata": {},
   "outputs": [
    {
     "data": {
      "text/plain": [
       "deque([2, 43, 4])"
      ]
     },
     "execution_count": 47,
     "metadata": {},
     "output_type": "execute_result"
    }
   ],
   "source": [
    "b"
   ]
  },
  {
   "cell_type": "code",
   "execution_count": 31,
   "id": "66ea2893-3528-4e86-891b-66b453b827b1",
   "metadata": {},
   "outputs": [],
   "source": [
    "from collections import defaultdict\n",
    "\n",
    "class Vertex:\n",
    "    def __init__(self, name, connections=None, data=None, color=None):\n",
    "        self.name = name\n",
    "        if connections is None:\n",
    "            self.connections = set()\n",
    "        else:\n",
    "            self.connections = set(connections)\n",
    "        self.data = data\n",
    "        self.color = color\n",
    "    \n",
    "    def add(self, connection):\n",
    "        self.connections.add(connection)\n",
    "        \n",
    "    def remove(self, connection):\n",
    "        try:\n",
    "            self.connections.remove(connection)\n",
    "        except KeyError:\n",
    "            pass\n",
    "        \n",
    "    def get_connections(self):\n",
    "        return self.connections\n",
    "    \n",
    "    def set_color(self, new_color):\n",
    "        self.color = new_color\n",
    "    \n",
    "    def get_color(self):\n",
    "        return self.color\n",
    "    \n",
    "    def __repr__(self):\n",
    "        return f\"{self.name} : {self.get_connections()}\"\n",
    "        \n",
    "\n",
    "class Graph:\n",
    "    def __init__(self, vertexes, directed=True):\n",
    "        self._graph = dict([(vertex.name, vertex) for vertex in vertexes])\n",
    "        self._directed = directed\n",
    "    \n",
    "    def add_vertex(self, new_vertex):\n",
    "        self._graph[new_vertex.name] = new_vertex\n",
    "        \n",
    "    def add_connections(self, connections):\n",
    "        for source, destination in connections:\n",
    "            self.add_connection(source, destination)\n",
    "            \n",
    "    def add_connection(self, source, destination):\n",
    "        self._graph[source].add(destination)\n",
    "        if not self._directed:\n",
    "            self._graph[destination].add(source)\n",
    "            \n",
    "    def remove_connection(self, source, destination):\n",
    "        self._graph[source].remove(destination)\n",
    "        if not self._directed:\n",
    "            self._graph[destination].remove(source)\n",
    "    \n",
    "    def remove(self, vertex_name):\n",
    "        # Remove incoming connections\n",
    "        for vertex in self._graph.values():\n",
    "            vertex.remove(vertex_name)\n",
    "        \n",
    "        # Remove the vertex\n",
    "        try:\n",
    "            self._graph.pop(vertex_name)\n",
    "        except KeyError:\n",
    "            pass\n",
    "        \n",
    "    def Adj(self, vertex_name):\n",
    "        return self._graph[vertex_name].get_connections()\n",
    "    \n",
    "    def V(self):\n",
    "        return self._graph.values()\n",
    "    \n",
    "    def E(self):\n",
    "        res = []\n",
    "        for v in self.V():\n",
    "            res.extend([(v.name, i) for i in v.get_connections()])\n",
    "        return res\n",
    "    \n",
    "    def __repr__(self):\n",
    "        for v in self.V():\n",
    "            print(v)\n",
    "            \n",
    "        return \"\"\n",
    "\n",
    "v1 = Vertex(\"A\", [\"B\", \"C\"])\n",
    "v2 = Vertex(\"B\", [\"C\"])\n",
    "v3 = Vertex(\"C\", [\"A\"])\n",
    "\n",
    "G = Graph([v1,v2,v3])"
   ]
  },
  {
   "cell_type": "code",
   "execution_count": 32,
   "id": "6617e6a8-4ce2-4336-9804-0503bb4fbbae",
   "metadata": {},
   "outputs": [
    {
     "data": {
      "text/plain": [
       "[('A', 'C'), ('A', 'B'), ('B', 'C'), ('C', 'A')]"
      ]
     },
     "execution_count": 32,
     "metadata": {},
     "output_type": "execute_result"
    }
   ],
   "source": [
    "G.E()"
   ]
  },
  {
   "cell_type": "code",
   "execution_count": 33,
   "id": "6782d699-ea8d-4506-aeab-34bd21617191",
   "metadata": {},
   "outputs": [],
   "source": [
    "G.add_connection(\"C\", \"B\")"
   ]
  },
  {
   "cell_type": "code",
   "execution_count": 34,
   "id": "758ee475-95e2-470f-bcad-a53bbe8e08ea",
   "metadata": {},
   "outputs": [
    {
     "name": "stdout",
     "output_type": "stream",
     "text": [
      "A : {'C', 'B'}\n",
      "B : {'C'}\n",
      "C : {'B', 'A'}\n",
      "\n"
     ]
    }
   ],
   "source": [
    "print(G)"
   ]
  },
  {
   "cell_type": "code",
   "execution_count": 35,
   "id": "a9108c0c-293a-40d0-a2a1-00c88e42943b",
   "metadata": {},
   "outputs": [
    {
     "data": {
      "text/plain": [
       "[('A', 'C'), ('A', 'B'), ('B', 'C'), ('C', 'B'), ('C', 'A')]"
      ]
     },
     "execution_count": 35,
     "metadata": {},
     "output_type": "execute_result"
    }
   ],
   "source": [
    "G.E()"
   ]
  },
  {
   "cell_type": "code",
   "execution_count": 37,
   "id": "1b77f83f-34f5-4c1b-be2f-93e03ef0888e",
   "metadata": {},
   "outputs": [
    {
     "data": {
      "text/plain": [
       "[('B', 'C'), ('C', 'B')]"
      ]
     },
     "execution_count": 37,
     "metadata": {},
     "output_type": "execute_result"
    }
   ],
   "source": [
    "G.remove(\"A\")\n",
    "G.E()"
   ]
  }
 ],
 "metadata": {
  "kernelspec": {
   "display_name": "Python 3",
   "language": "python",
   "name": "python3"
  },
  "language_info": {
   "codemirror_mode": {
    "name": "ipython",
    "version": 3
   },
   "file_extension": ".py",
   "mimetype": "text/x-python",
   "name": "python",
   "nbconvert_exporter": "python",
   "pygments_lexer": "ipython3",
   "version": "3.8.8"
  }
 },
 "nbformat": 4,
 "nbformat_minor": 5
}
