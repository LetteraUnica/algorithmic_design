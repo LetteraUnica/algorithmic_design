{
 "cells": [
  {
   "cell_type": "code",
   "execution_count": 10,
   "id": "2be8c248-809c-4e20-957f-c57110a19076",
   "metadata": {},
   "outputs": [],
   "source": [
    "class point:\n",
    "    def __init__(self, x, y):\n",
    "        self.x = x\n",
    "        self.y = y\n",
    "\n",
    "p1 = point(1,2)\n",
    "p2 = point(3,4)\n",
    "a = set([p1, p2])"
   ]
  },
  {
   "cell_type": "code",
   "execution_count": 46,
   "id": "5921c197-3b7f-4d57-af77-75543a0f701d",
   "metadata": {},
   "outputs": [
    {
     "data": {
      "text/plain": [
       "1"
      ]
     },
     "execution_count": 46,
     "metadata": {},
     "output_type": "execute_result"
    }
   ],
   "source": [
    "from collections import deque\n",
    "\n",
    "b = deque([1,2,43])\n",
    "b.append(4)\n",
    "b.popleft()"
   ]
  },
  {
   "cell_type": "code",
   "execution_count": 4,
   "id": "d313b9d2-d6d3-45a3-a549-b6e5c26d0175",
   "metadata": {},
   "outputs": [
    {
     "data": {
      "text/plain": [
       "True"
      ]
     },
     "execution_count": 4,
     "metadata": {},
     "output_type": "execute_result"
    }
   ],
   "source": [
    "a = dict([(1,2), (4,4)])\n",
    "a.pop(4)\n",
    "1 in a.keys()"
   ]
  },
  {
   "cell_type": "code",
   "execution_count": 16,
   "id": "66ea2893-3528-4e86-891b-66b453b827b1",
   "metadata": {},
   "outputs": [
    {
     "ename": "NameError",
     "evalue": "name 'node' is not defined",
     "output_type": "error",
     "traceback": [
      "\u001b[0;31m---------------------------------------------------------------------------\u001b[0m",
      "\u001b[0;31mNameError\u001b[0m                                 Traceback (most recent call last)",
      "\u001b[0;32m<ipython-input-16-77d808350088>\u001b[0m in \u001b[0;36m<module>\u001b[0;34m\u001b[0m\n\u001b[1;32m     23\u001b[0m \u001b[0;34m\u001b[0m\u001b[0m\n\u001b[1;32m     24\u001b[0m \u001b[0;34m\u001b[0m\u001b[0m\n\u001b[0;32m---> 25\u001b[0;31m \u001b[0;32mclass\u001b[0m \u001b[0mVertex\u001b[0m\u001b[0;34m:\u001b[0m\u001b[0;34m\u001b[0m\u001b[0;34m\u001b[0m\u001b[0m\n\u001b[0m\u001b[1;32m     26\u001b[0m     \"\"\"\n\u001b[1;32m     27\u001b[0m     \u001b[0mClass\u001b[0m \u001b[0mthat\u001b[0m \u001b[0mimplements\u001b[0m \u001b[0ma\u001b[0m \u001b[0mgraph\u001b[0m \u001b[0mvertex\u001b[0m\u001b[0;34m\u001b[0m\u001b[0;34m\u001b[0m\u001b[0m\n",
      "\u001b[0;32m<ipython-input-16-77d808350088>\u001b[0m in \u001b[0;36mVertex\u001b[0;34m()\u001b[0m\n\u001b[1;32m     35\u001b[0m \u001b[0;34m\u001b[0m\u001b[0m\n\u001b[1;32m     36\u001b[0m     \"\"\"\n\u001b[0;32m---> 37\u001b[0;31m     \u001b[0;32mdef\u001b[0m \u001b[0m__init__\u001b[0m\u001b[0;34m(\u001b[0m\u001b[0mself\u001b[0m\u001b[0;34m,\u001b[0m \u001b[0mname\u001b[0m\u001b[0;34m:\u001b[0m \u001b[0mnode\u001b[0m\u001b[0;34m,\u001b[0m \u001b[0medges\u001b[0m\u001b[0;34m:\u001b[0m \u001b[0mlist\u001b[0m \u001b[0;34m=\u001b[0m \u001b[0;32mNone\u001b[0m\u001b[0;34m)\u001b[0m\u001b[0;34m:\u001b[0m\u001b[0;34m\u001b[0m\u001b[0;34m\u001b[0m\u001b[0m\n\u001b[0m\u001b[1;32m     38\u001b[0m         \u001b[0mself\u001b[0m\u001b[0;34m.\u001b[0m\u001b[0mname\u001b[0m \u001b[0;34m=\u001b[0m \u001b[0mname\u001b[0m\u001b[0;34m\u001b[0m\u001b[0;34m\u001b[0m\u001b[0m\n\u001b[1;32m     39\u001b[0m         \u001b[0;32mif\u001b[0m \u001b[0medges\u001b[0m \u001b[0;32mis\u001b[0m \u001b[0;32mNone\u001b[0m\u001b[0;34m:\u001b[0m\u001b[0;34m\u001b[0m\u001b[0;34m\u001b[0m\u001b[0m\n",
      "\u001b[0;31mNameError\u001b[0m: name 'node' is not defined"
     ]
    }
   ],
   "source": [
    "from typing import TypeVar, Union\n",
    "\n",
    "n = TypeVar(\"n\")\n",
    "w = TypeVar(\"w\", *[int, float])\n",
    "\n",
    "class Edge:\n",
    "    \"\"\"\n",
    "    Simple class that implements weighed edge of a graph\n",
    "\n",
    "    Attributes\n",
    "    ----------\n",
    "    source: n\n",
    "        Source of the edge\n",
    "    destination: n\n",
    "        Destination of the edge\n",
    "    weight: w\n",
    "        weight of the edge\n",
    "    \"\"\"\n",
    "    def __init__(self, source: n, destination: n, weight: w):\n",
    "        self.source = source\n",
    "        self.destination = destination\n",
    "        self.weight = weight\n",
    "\n",
    "        \n",
    "class Vertex:\n",
    "    \"\"\"\n",
    "    Class that implements a graph vertex, the class uses a dictionary to store\n",
    "    the outward connection from this Vertex to others\n",
    "    \n",
    "    Attributes\n",
    "    ----------\n",
    "    name: n\n",
    "        Name of the vertex\n",
    "    connections: dict[n, w]\n",
    "        Dictionary holding destination:weight pairs\n",
    "    \n",
    "    Methods\n",
    "    -------\n",
    "    add(destination: n, weight: w)\n",
    "        Adds a connection to the Vertex, \n",
    "        i.e. it adds a destination:weight pair to the connection dictionary\n",
    "        \n",
    "    def remove(destination: n):\n",
    "        Removes a connection from the vertex\n",
    "        \n",
    "    def get_connections():\n",
    "        Returns the connections dictionary   \n",
    "    \"\"\"\n",
    "    \n",
    "    def __init__(self, name: n, edges: list = None):\n",
    "        \"\"\"\n",
    "        Class constructor, given a name and a list of edges builds a new vertex\n",
    "        \n",
    "        Parameters\n",
    "        ----------\n",
    "        name: n\n",
    "            Name of the vertex\n",
    "            \n",
    "        edges: list[Edge], Optional\n",
    "            List of members of the Edge class, used to build the outward\n",
    "            connections of the edge\n",
    "            Default: None i.e. builds a vertex with no connections\n",
    "        \"\"\"\n",
    "        \n",
    "        self.name = name\n",
    "        if edges is None:\n",
    "            self.connections = dict()\n",
    "        else:\n",
    "            self.connections = dict([(edge.destination, edge.weight) for edge in edges if edge.source == name])\n",
    "     \n",
    "    \n",
    "    def add(self, destination: n, weight: w):\n",
    "        \"\"\"\n",
    "        Adds a connection to the Vertex\n",
    "        \n",
    "        Parameters\n",
    "        ----------\n",
    "        destination: n\n",
    "            Destination of the connection\n",
    "        weight: w\n",
    "            Weight of the connection\n",
    "        \"\"\"\n",
    "        self.connections[destination] = weight\n",
    "        \n",
    "        \n",
    "    def remove(self, destination: n):\n",
    "        \"\"\"\n",
    "        Removes a connection from the vertex\n",
    "        \n",
    "        Parameters\n",
    "        ----------\n",
    "        destination: n\n",
    "            Destination of the connection to remove\n",
    "        \"\"\"\n",
    "        try:\n",
    "            self.connections.pop(destination)\n",
    "        except KeyError:\n",
    "            pass\n",
    "        \n",
    "        \n",
    "    def get_connections(self):\n",
    "        \"\"\"Returns the connections dictionary\"\"\"\n",
    "        return self.connections\n",
    "    \n",
    "    \n",
    "    def __repr__(self):\n",
    "        \"\"\"Overload of the print function\"\"\"\n",
    "        return f\"{self.name} : {self.get_connections()}\"\n",
    "        \n",
    "\n",
    "class Graph:\n",
    "    \"\"\"\n",
    "    Implements a weighed graph structure, can be either directed or undirected\n",
    "    \n",
    "    Attributes\n",
    "    ----------\n",
    "    _graph: dict[n, Vertex]\n",
    "        Stores the graph connection in a ordered list-like fashion: given a\n",
    "        node name it returns an instance of the class Vertex\n",
    "    _directed: bool\n",
    "        True if the graph is directed, False otherwise\n",
    "    \n",
    "    Methods\n",
    "    -------\n",
    "    def add_vertex(new_vertex: Vertex)\n",
    "        Adds a new vertex to the graph\n",
    "        \n",
    "    def remove_vertex(vertex_name: n)\n",
    "        Removes a vertex from the graph\n",
    "    \n",
    "    def contains_vertex(vertex_name: n) -> bool\n",
    "        Returns True if the graph contains the given vertex, False otherwise\n",
    "        \n",
    "    def add_edge(source: n, destination: n, weight: w = 1.)\n",
    "        Adds an edge to the graph, if the vertexes containing source and\n",
    "        destination are not present it adds them as well\n",
    "            \n",
    "    def remove_edge(source: n, destination: n)\n",
    "        Removes the edge (source, destination) from the graph\n",
    "\n",
    "    def contains_edge(source: n, destination: n) -> bool\n",
    "        Returns True if the graph contains the edge (source, destination),\n",
    "        False otherwise\n",
    "        \n",
    "    def Adj(vertex_name: n) -> list[n]\n",
    "        Returns the adjacent vertexes of the given vertex\n",
    "    \n",
    "    def V() -> list[Vertex]\n",
    "        Returns a list of all the vertexes present in the graph\n",
    "    \n",
    "    def E() -> list[(n, n)]\n",
    "        Returns a list of all the edges present in the graph\n",
    "    \"\"\"\n",
    "    \n",
    "    def __init__(self, directed: bool = True):\n",
    "        \"\"\"\n",
    "        Class constructor, creates an empty graph\n",
    "        \n",
    "        Parameters\n",
    "        ----------\n",
    "        directed: bool\n",
    "            If True it creates a directed graph, if False an undirected graph\n",
    "            Default: True\n",
    "        \"\"\"\n",
    "        self._graph = dict()\n",
    "        self._directed = directed\n",
    "    \n",
    "    def add_vertex(self, new_vertex: Vertex):\n",
    "        self._graph[new_vertex.name] = new_vertex\n",
    "        \n",
    "    def remove_vertex(self, vertex_name: n):\n",
    "        # Remove incoming connections\n",
    "        for vertex in self._graph.values():\n",
    "            vertex.remove(vertex_name)\n",
    "        \n",
    "        # Remove the vertex\n",
    "        try:\n",
    "            self._graph.pop(vertex_name)\n",
    "        except KeyError:\n",
    "            pass\n",
    "    \n",
    "    def contains_vertex(self, vertex_name: n):\n",
    "         return vertex_name in self._graph.keys()\n",
    "        \n",
    "    def add_edge(self, source: n, destination: n, weight: w = 1.):\n",
    "        if not self.contains_vertex(destination):\n",
    "            new_vertex = Vertex(destination)\n",
    "            self.add_vertex(new_vertex)\n",
    "        if not self.contains_vertex(source):\n",
    "            new_vertex = Vertex(source, [Edge(source, destination, weight)])\n",
    "            self.add_vertex(new_vertex)\n",
    "        else:\n",
    "            self._graph[source].add(destination, weight)\n",
    "            \n",
    "        if not self._directed:\n",
    "            self._graph[destination].add(source, weight)\n",
    "            \n",
    "    def remove_edge(self, source: n, destination: n):\n",
    "        self._graph[source].remove(destination)\n",
    "        if not self._directed:\n",
    "            self._graph[destination].remove(source)\n",
    "    \n",
    "    def contains_edge(self, source: n, destination: n):\n",
    "        if not contains_vertex(source):\n",
    "            return False\n",
    "        if not contains_vertex(destination):\n",
    "            return False\n",
    "        return destination in self._graph[source].get_connections()\n",
    "        \n",
    "    def Adj(self, vertex_name: n):\n",
    "        return self._graph[vertex_name].get_connections()\n",
    "    \n",
    "    def V(self):\n",
    "        return self._graph.values()\n",
    "    \n",
    "    def E(self):\n",
    "        res = []\n",
    "        for v in self.V():\n",
    "            res.extend([(v.name, i) for i in v.get_connections().keys()])\n",
    "        return res\n",
    "    \n",
    "    def __repr__(self):\n",
    "        s = \"\"\n",
    "        for v in self.V():\n",
    "            s += f\"{v.__repr__()}\\n\"\n",
    "            \n",
    "        return s\n",
    "\n",
    "G = Graph()\n",
    "G.add_edge(\"A\", \"C\", 1.)"
   ]
  },
  {
   "cell_type": "code",
   "execution_count": 26,
   "id": "6617e6a8-4ce2-4336-9804-0503bb4fbbae",
   "metadata": {},
   "outputs": [
    {
     "data": {
      "text/plain": [
       "[('A', 'C')]"
      ]
     },
     "execution_count": 26,
     "metadata": {},
     "output_type": "execute_result"
    }
   ],
   "source": [
    "G.E()"
   ]
  },
  {
   "cell_type": "code",
   "execution_count": 27,
   "id": "6782d699-ea8d-4506-aeab-34bd21617191",
   "metadata": {},
   "outputs": [],
   "source": [
    "G.add_edge(\"C\", \"B\")"
   ]
  },
  {
   "cell_type": "code",
   "execution_count": 28,
   "id": "758ee475-95e2-470f-bcad-a53bbe8e08ea",
   "metadata": {},
   "outputs": [
    {
     "data": {
      "text/plain": [
       "C : {'B': 1.0}\n",
       "A : {'C': 1.0}\n",
       "B : {}"
      ]
     },
     "execution_count": 28,
     "metadata": {},
     "output_type": "execute_result"
    }
   ],
   "source": [
    "G"
   ]
  },
  {
   "cell_type": "code",
   "execution_count": 29,
   "id": "a9108c0c-293a-40d0-a2a1-00c88e42943b",
   "metadata": {},
   "outputs": [
    {
     "data": {
      "text/plain": [
       "[('C', 'B'), ('A', 'C')]"
      ]
     },
     "execution_count": 29,
     "metadata": {},
     "output_type": "execute_result"
    }
   ],
   "source": [
    "G.E()"
   ]
  },
  {
   "cell_type": "code",
   "execution_count": 31,
   "id": "1b77f83f-34f5-4c1b-be2f-93e03ef0888e",
   "metadata": {},
   "outputs": [
    {
     "data": {
      "text/plain": [
       "[('C', 'B')]"
      ]
     },
     "execution_count": 31,
     "metadata": {},
     "output_type": "execute_result"
    }
   ],
   "source": [
    "G.remove_vertex(\"A\")\n",
    "G.E()"
   ]
  },
  {
   "cell_type": "code",
   "execution_count": 235,
   "id": "9148f433-7b17-412a-8d72-dac59260a3c3",
   "metadata": {},
   "outputs": [
    {
     "data": {
      "text/plain": [
       "array([[ 1.09329517,  0.11399611,  0.09922505],\n",
       "       [ 0.11399611,  5.74280866, -2.76253281],\n",
       "       [ 0.09922505, -2.76253281,  1.39079069]])"
      ]
     },
     "execution_count": 235,
     "metadata": {},
     "output_type": "execute_result"
    }
   ],
   "source": [
    "cov = np.random.normal(0, 1, (3, 3))\n",
    "cov = cov@cov.T\n",
    "cov"
   ]
  },
  {
   "cell_type": "code",
   "execution_count": 236,
   "id": "98644e49-06ba-4f56-a885-6ac63a0291b7",
   "metadata": {},
   "outputs": [
    {
     "data": {
      "text/plain": [
       "(array([0., 0., 1.]),\n",
       " array([[ 2.35713537, -0.08829389, -0.20561694],\n",
       "        [-0.08829389,  0.19455789, -0.03925186],\n",
       "        [-0.20561694, -0.03925186,  0.45371552]]))"
      ]
     },
     "execution_count": 236,
     "metadata": {},
     "output_type": "execute_result"
    }
   ],
   "source": [
    "import numpy as np\n",
    "\n",
    "def f(x):\n",
    "    # x, y, z = x.T\n",
    "    # return np.array([x**2, np.sin(x*y), np.cos(x*y/z)])\n",
    "    return np.array([x[0]**2, np.sin(x[0]*x[0]), np.cos(x[0]*x[1]*x[2])])\n",
    "\n",
    "def compute_error(f, mean, cov, n_samples=100000):\n",
    "    mean = np.array(mean)\n",
    "    cov = np.array(cov)\n",
    "    xs = np.random.multivariate_normal(mean, cov, size=n_samples)\n",
    "    ys = f(xs.T)\n",
    "    return f(mean), np.cov(ys, ddof=1)\n",
    "\n",
    "x = [0]*3\n",
    "\n",
    "compute_error(f, x, cov)"
   ]
  },
  {
   "cell_type": "code",
   "execution_count": 230,
   "id": "63070338-4590-4f25-8fbf-8f7252a2c855",
   "metadata": {},
   "outputs": [],
   "source": [
    "def multivariate_uniform(mean, cov, n_samples):\n",
    "    mean = np.array(mean)\n",
    "    xs = np.empty((n_samples, cov.shape[0]))\n",
    "    chol = np.linalg.cholesky(cov)\n",
    "    for i in range(cov.shape[0]):\n",
    "        xs[:, i] = np.random.uniform(-np.sqrt(12)/2, np.sqrt(12)/2, size=n_samples)\n",
    "    \n",
    "    return xs@chol.T + mean\n",
    "\n",
    "\n",
    "cov = np.random.normal(0, 1, (2, 2))\n",
    "cov = cov@cov.T\n",
    "mean = [0]*2\n",
    "x, y = multivariate_uniform(mean, cov, 1000).T\n",
    "xn, yn = np.random.multivariate_normal(mean, cov, 1000).T"
   ]
  },
  {
   "cell_type": "code",
   "execution_count": 231,
   "id": "c360faad-af05-4eb6-b6c9-0a7fa583f150",
   "metadata": {},
   "outputs": [
    {
     "data": {
      "text/plain": [
       "[<matplotlib.lines.Line2D at 0x7f9227e25700>]"
      ]
     },
     "execution_count": 231,
     "metadata": {},
     "output_type": "execute_result"
    },
    {
     "data": {
      "image/png": "[encoded data removed]",
      "text/plain": [
       "<Figure size 432x288 with 1 Axes>"
      ]
     },
     "metadata": {
      "needs_background": "light"
     },
     "output_type": "display_data"
    }
   ],
   "source": [
    "import pylab as pl\n",
    "\n",
    "pl.plot(x, y, '.')\n",
    "pl.plot(xn, yn, '.')"
   ]
  },
  {
   "cell_type": "code",
   "execution_count": 53,
   "id": "67129e03-ffa5-4b35-a408-ea27236dd80c",
   "metadata": {},
   "outputs": [],
   "source": [
    "from jax import grad\n",
    "from jax import numpy as jnp\n",
    "\n",
    "def h(x):\n",
    "    return jnp.sin(x)\n",
    "\n",
    "def derivate(f, x, h=1e-4):\n",
    "    return (f(x+h) - f(x-h)) / (2*h)\n",
    "    \n",
    "g = grad(h)"
   ]
  },
  {
   "cell_type": "code",
   "execution_count": 56,
   "id": "735069a5-b342-4faa-bd9f-ee274e47d01d",
   "metadata": {},
   "outputs": [
    {
     "data": {
      "text/plain": [
       "DeviceArray(1., dtype=float32)"
      ]
     },
     "execution_count": 56,
     "metadata": {},
     "output_type": "execute_result"
    }
   ],
   "source": [
    "g(0.)"
   ]
  },
  {
   "cell_type": "code",
   "execution_count": 49,
   "id": "96f34bab-2186-4b7b-a161-ab06fc8ca524",
   "metadata": {},
   "outputs": [
    {
     "data": {
      "text/plain": [
       "DeviceArray(-4.371139e-08, dtype=float32)"
      ]
     },
     "execution_count": 49,
     "metadata": {},
     "output_type": "execute_result"
    }
   ],
   "source": [
    "g(np.pi*0.5)"
   ]
  }
 ],
 "metadata": {
  "kernelspec": {
   "display_name": "Python 3",
   "language": "python",
   "name": "python3"
  },
  "language_info": {
   "codemirror_mode": {
    "name": "ipython",
    "version": 3
   },
   "file_extension": ".py",
   "mimetype": "text/x-python",
   "name": "python",
   "nbconvert_exporter": "python",
   "pygments_lexer": "ipython3",
   "version": "3.8.8"
  }
 },
 "nbformat": 4,
 "nbformat_minor": 5
}
