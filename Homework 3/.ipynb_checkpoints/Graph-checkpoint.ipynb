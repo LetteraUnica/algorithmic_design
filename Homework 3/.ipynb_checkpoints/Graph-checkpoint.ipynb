{
 "cells": [
  {
   "cell_type": "code",
   "execution_count": 10,
   "id": "2be8c248-809c-4e20-957f-c57110a19076",
   "metadata": {},
   "outputs": [],
   "source": [
    "class point:\n",
    "    def __init__(self, x, y):\n",
    "        self.x = x\n",
    "        self.y = y\n",
    "\n",
    "p1 = point(1,2)\n",
    "p2 = point(3,4)\n",
    "a = set([p1, p2])"
   ]
  },
  {
   "cell_type": "code",
   "execution_count": 46,
   "id": "5921c197-3b7f-4d57-af77-75543a0f701d",
   "metadata": {},
   "outputs": [
    {
     "data": {
      "text/plain": [
       "1"
      ]
     },
     "execution_count": 46,
     "metadata": {},
     "output_type": "execute_result"
    }
   ],
   "source": [
    "from collections import deque\n",
    "\n",
    "b = deque([1,2,43])\n",
    "b.append(4)\n",
    "b.popleft()"
   ]
  },
  {
   "cell_type": "code",
   "execution_count": 4,
   "id": "d313b9d2-d6d3-45a3-a549-b6e5c26d0175",
   "metadata": {},
   "outputs": [
    {
     "data": {
      "text/plain": [
       "True"
      ]
     },
     "execution_count": 4,
     "metadata": {},
     "output_type": "execute_result"
    }
   ],
   "source": [
    "a = dict([(1,2), (4,4)])\n",
    "a.pop(4)\n",
    "1 in a.keys()"
   ]
  },
  {
   "cell_type": "code",
   "execution_count": 22,
   "id": "66ea2893-3528-4e86-891b-66b453b827b1",
   "metadata": {},
   "outputs": [],
   "source": [
    "from typing import TypeVar, Union\n",
    "\n",
    "n = TypeVar(\"n\")\n",
    "w = TypeVar(\"w\", *[int, float])\n",
    "\n",
    "class Edge:\n",
    "    \"\"\"\n",
    "    Simple class that implements weighed edge of a graph\n",
    "\n",
    "    Attributes\n",
    "    ----------\n",
    "    source: n\n",
    "        Source of the edge\n",
    "    destination: n\n",
    "        Destination of the edge\n",
    "    weight: w\n",
    "        weight of the edge\n",
    "    \"\"\"\n",
    "    def __init__(self, source: n, destination: n, weight: w):\n",
    "        self.source = source\n",
    "        self.destination = destination\n",
    "        self.weight = weight\n",
    "\n",
    "        \n",
    "class Vertex:\n",
    "    \"\"\"\n",
    "    Class that implements a graph vertex, the class uses a dictionary to store\n",
    "    the outward connection from this Vertex to others\n",
    "    \n",
    "    Attributes\n",
    "    ----------\n",
    "    name: n\n",
    "        Name of the vertex\n",
    "    connections: dict[n, w]\n",
    "        Dictionary holding destination:weight pairs\n",
    "    \n",
    "    Methods\n",
    "    -------\n",
    "    add(destination: n, weight: w)\n",
    "        Adds a connection to the Vertex, \n",
    "        i.e. it adds a destination:weight pair to the connection dictionary\n",
    "        \n",
    "    remove(destination: n):\n",
    "        Removes a connection from the vertex\n",
    "        \n",
    "    get_connections():\n",
    "        Returns the connections dictionary   \n",
    "    \"\"\"\n",
    "    \n",
    "    def __init__(self, name: n, edges: list = None):\n",
    "        \"\"\"\n",
    "        Class constructor, given a name and a list of edges builds a new vertex\n",
    "        \n",
    "        Parameters\n",
    "        ----------\n",
    "        name: n\n",
    "            Name of the vertex\n",
    "            \n",
    "        edges: list[Edge], Optional\n",
    "            List of members of the Edge class, used to build the outward\n",
    "            connections of the edge\n",
    "            Default: None i.e. builds a vertex with no connections\n",
    "        \"\"\"\n",
    "        \n",
    "        self.name = name\n",
    "        if edges is None:\n",
    "            self.connections = dict()\n",
    "        else:\n",
    "            self.connections = dict([(edge.destination, edge.weight) for edge in edges if edge.source == name])\n",
    "     \n",
    "    \n",
    "    def add(self, destination: n, weight: w):\n",
    "        \"\"\"\n",
    "        Adds a connection to the Vertex\n",
    "        \n",
    "        Parameters\n",
    "        ----------\n",
    "        destination: n\n",
    "            Destination of the connection\n",
    "        weight: w\n",
    "            Weight of the connection\n",
    "        \"\"\"\n",
    "        self.connections[destination] = weight\n",
    "        \n",
    "        \n",
    "    def remove(self, destination: n):\n",
    "        \"\"\"\n",
    "        Removes a connection from the vertex\n",
    "        \n",
    "        Parameters\n",
    "        ----------\n",
    "        destination: n\n",
    "            Destination of the connection to remove\n",
    "        \"\"\"\n",
    "        try:\n",
    "            self.connections.pop(destination)\n",
    "        except KeyError:\n",
    "            pass\n",
    "        \n",
    "        \n",
    "    def get_connections(self):\n",
    "        \"\"\"Returns the connections dictionary\"\"\"\n",
    "        return self.connections\n",
    "    \n",
    "    \n",
    "    def __repr__(self):\n",
    "        \"\"\"Overload of the print function\"\"\"\n",
    "        return f\"{self.name} : {self.get_connections()}\"\n",
    "        \n",
    "\n",
    "class Graph:\n",
    "    \"\"\"\n",
    "    Implements a weighed graph structure, can be either directed or undirected\n",
    "    \n",
    "    Attributes\n",
    "    ----------\n",
    "    _graph: dict[n, Vertex]\n",
    "        Stores the graph connection in a ordered list-like fashion: given a\n",
    "        node name it returns an instance of the class Vertex\n",
    "    _directed: bool\n",
    "        True if the graph is directed, False otherwise\n",
    "    \n",
    "    Methods\n",
    "    -------\n",
    "    add_vertex(vertex_name: n)\n",
    "        Adds a new vertex to the graph\n",
    "        \n",
    "    remove_vertex(vertex_name: n)\n",
    "        Removes a vertex from the graph\n",
    "    \n",
    "    contains_vertex(vertex_name: n) -> bool\n",
    "        Returns True if the graph contains the given vertex, False otherwise\n",
    "        \n",
    "    add_edge(source: n, destination: n, weight: w = 1.)\n",
    "        Adds an edge to the graph, if the vertexes containing source and\n",
    "        destination are not present it adds them as well\n",
    "            \n",
    "    remove_edge(source: n, destination: n)\n",
    "        Removes the edge (source, destination) from the graph\n",
    "\n",
    "    contains_edge(source: n, destination: n) -> bool\n",
    "        Returns True if the graph contains the edge (source, destination),\n",
    "        False otherwise\n",
    "        \n",
    "    Adj(vertex_name: n) -> list[n]\n",
    "        Returns the adjacent vertexes of the given vertex\n",
    "    \n",
    "    V() -> list[Vertex]\n",
    "        Returns a list of all the vertexes present in the graph\n",
    "    \n",
    "    E() -> list[(n, n)]\n",
    "        Returns a list of all the edges present in the graph\n",
    "    \"\"\"\n",
    "    \n",
    "    def __init__(self, directed: bool = True):\n",
    "        \"\"\"\n",
    "        Class constructor, creates an empty graph\n",
    "        \n",
    "        Parameters\n",
    "        ----------\n",
    "        directed: bool\n",
    "            If True it creates a directed graph, if False an undirected graph\n",
    "            Default: True\n",
    "        \"\"\"\n",
    "        self._graph = dict()\n",
    "        self._directed = directed\n",
    "    \n",
    "    \n",
    "    def add_vertex(self, vertex_name: n):\n",
    "        \"\"\"\n",
    "        Adds a new vertex to the graph\n",
    "        \n",
    "        Parameters\n",
    "        ----------\n",
    "        vertex_name: n\n",
    "            Name of the vertex to be added\n",
    "        \"\"\"\n",
    "        new_vertex = Vertex(vertex_name)\n",
    "        self._graph[new_vertex.name] = new_vertex\n",
    "       \n",
    "    \n",
    "    def remove_vertex(self, vertex_name: n):\n",
    "        \"\"\"\n",
    "        Removes a vertex from the graph\n",
    "        \n",
    "        Parameters\n",
    "        ----------\n",
    "        vertex_name: n\n",
    "            Name of the vertex to be removed\n",
    "        \"\"\"\n",
    "        # Remove incoming connections\n",
    "        for vertex in self._graph.values():\n",
    "            vertex.remove(vertex_name)\n",
    "        \n",
    "        # Remove the vertex\n",
    "        try:\n",
    "            self._graph.pop(vertex_name)\n",
    "        except KeyError:\n",
    "            pass\n",
    "    \n",
    "    \n",
    "    def contains_vertex(self, vertex_name: n):\n",
    "        \"\"\"Returns True if the graph contains the given vertex, False otherwise\"\"\"\n",
    "        return vertex_name in self._graph.keys()\n",
    "    \n",
    "        \n",
    "    def add_edge(self, source: n, destination: n, weight: w = 1.):\n",
    "        \"\"\"\n",
    "        Adds an edge to the graph, if the vertexes containing source and\n",
    "        destination are not present it adds them as well\n",
    "        \n",
    "        Parameters\n",
    "        ----------\n",
    "        source: n\n",
    "            Source of the edge to be added\n",
    "        \n",
    "        destination: n\n",
    "            Destination of the edge\n",
    "        \n",
    "        weight: w, Optional\n",
    "            Weight of the connection, Default=1.\n",
    "        \"\"\"\n",
    "        \n",
    "        if not self.contains_vertex(destination):\n",
    "            self.add_vertex(destination)\n",
    "        if not self.contains_vertex(source):\n",
    "            self.add_vertex(source)\n",
    "        \n",
    "        self._graph[source].add(destination, weight)\n",
    "            \n",
    "        if not self._directed:\n",
    "            self._graph[destination].add(source, weight)\n",
    "            \n",
    "            \n",
    "    def remove_edge(self, source: n, destination: n):\n",
    "        \"\"\"\n",
    "        Removes the edge (source, destination) from the graph\n",
    "        \"\"\"\n",
    "        self._graph[source].remove(destination)\n",
    "        if not self._directed:\n",
    "            self._graph[destination].remove(source)\n",
    "    \n",
    "    \n",
    "    def contains_edge(self, source: n, destination: n) -> bool:\n",
    "        \"\"\" \n",
    "        Returns True if the graph contains the edge (source, destination),\n",
    "        False otherwise\n",
    "        \"\"\"\n",
    "        if not contains_vertex(source):\n",
    "            return False\n",
    "        if not contains_vertex(destination):\n",
    "            return False\n",
    "        return destination in self._graph[source].get_connections()\n",
    "      \n",
    "        \n",
    "    def Adj(self, vertex_name: n) -> list:\n",
    "        \"\"\"Returns the adjacent vertexes of the given vertex\"\"\"\n",
    "        return self._graph[vertex_name].get_connections()\n",
    "    \n",
    "    \n",
    "    def V(self) -> list:\n",
    "        \"\"\"Returns a list of all the vertexes present in the graph\"\"\"\n",
    "        return self._graph.values()\n",
    "    \n",
    "    \n",
    "    def E(self) -> list:\n",
    "        \"\"\"Returns a list of all the edges present in the graph\"\"\"\n",
    "        res = []\n",
    "        for v in self.V():\n",
    "            res.extend([(v.name, i) for i in v.get_connections().keys()])\n",
    "        return res\n",
    "    \n",
    "    \n",
    "    def __repr__(self):\n",
    "        \"\"\"Overload of the print function\"\"\"\n",
    "        s = \"\"\n",
    "        for v in self.V():\n",
    "            s += f\"{v.__repr__()}\\n\"\n",
    "            \n",
    "        return s\n",
    "\n",
    "G = Graph()\n",
    "G.add_edge(\"A\", \"C\", 1.)"
   ]
  },
  {
   "cell_type": "code",
   "execution_count": 23,
   "id": "6617e6a8-4ce2-4336-9804-0503bb4fbbae",
   "metadata": {},
   "outputs": [
    {
     "data": {
      "text/plain": [
       "[('A', 'C')]"
      ]
     },
     "execution_count": 23,
     "metadata": {},
     "output_type": "execute_result"
    }
   ],
   "source": [
    "G.E()"
   ]
  },
  {
   "cell_type": "code",
   "execution_count": 24,
   "id": "6782d699-ea8d-4506-aeab-34bd21617191",
   "metadata": {},
   "outputs": [],
   "source": [
    "G.add_edge(\"C\", \"B\")"
   ]
  },
  {
   "cell_type": "code",
   "execution_count": 25,
   "id": "758ee475-95e2-470f-bcad-a53bbe8e08ea",
   "metadata": {},
   "outputs": [
    {
     "data": {
      "text/plain": [
       "C : {'B': 1.0}\n",
       "A : {'C': 1.0}\n",
       "B : {}"
      ]
     },
     "execution_count": 25,
     "metadata": {},
     "output_type": "execute_result"
    }
   ],
   "source": [
    "G"
   ]
  },
  {
   "cell_type": "code",
   "execution_count": 26,
   "id": "a9108c0c-293a-40d0-a2a1-00c88e42943b",
   "metadata": {},
   "outputs": [
    {
     "data": {
      "text/plain": [
       "[('C', 'B'), ('A', 'C')]"
      ]
     },
     "execution_count": 26,
     "metadata": {},
     "output_type": "execute_result"
    }
   ],
   "source": [
    "G.E()"
   ]
  },
  {
   "cell_type": "code",
   "execution_count": 27,
   "id": "1b77f83f-34f5-4c1b-be2f-93e03ef0888e",
   "metadata": {},
   "outputs": [
    {
     "data": {
      "text/plain": [
       "[('C', 'B')]"
      ]
     },
     "execution_count": 27,
     "metadata": {},
     "output_type": "execute_result"
    }
   ],
   "source": [
    "G.remove_vertex(\"A\")\n",
    "G.E()"
   ]
  },
  {
   "cell_type": "code",
   "execution_count": 28,
   "id": "8004ab99-0600-4f4d-942e-d69b9a5fc3d6",
   "metadata": {},
   "outputs": [
    {
     "data": {
      "text/plain": [
       "dict_values([C : {'B': 1.0}, B : {}, D : {}])"
      ]
     },
     "execution_count": 28,
     "metadata": {},
     "output_type": "execute_result"
    }
   ],
   "source": [
    "G.add_vertex(\"D\")\n",
    "G.V()"
   ]
  },
  {
   "cell_type": "code",
   "execution_count": 30,
   "id": "00828a85-062f-4178-86b8-ec25473a7249",
   "metadata": {},
   "outputs": [],
   "source": [
    "G.add_edge(\"D\", \"A\")"
   ]
  },
  {
   "cell_type": "code",
   "execution_count": 35,
   "id": "684358d5-984f-4100-a5d2-1d4320b09ba7",
   "metadata": {},
   "outputs": [
    {
     "data": {
      "text/plain": [
       "[('C', 'B'), ('D', 'A')]"
      ]
     },
     "execution_count": 35,
     "metadata": {},
     "output_type": "execute_result"
    }
   ],
   "source": [
    "G.E()"
   ]
  },
  {
   "cell_type": "code",
   "execution_count": 37,
   "id": "70d5f663-72be-42d4-bcde-6248cf23f4c9",
   "metadata": {},
   "outputs": [
    {
     "data": {
      "text/plain": [
       "{'A': 1.0}"
      ]
     },
     "execution_count": 37,
     "metadata": {},
     "output_type": "execute_result"
    }
   ],
   "source": [
    "G.Adj(\"D\")"
   ]
  }
 ],
 "metadata": {
  "kernelspec": {
   "display_name": "Python 3",
   "language": "python",
   "name": "python3"
  },
  "language_info": {
   "codemirror_mode": {
    "name": "ipython",
    "version": 3
   },
   "file_extension": ".py",
   "mimetype": "text/x-python",
   "name": "python",
   "nbconvert_exporter": "python",
   "pygments_lexer": "ipython3",
   "version": "3.8.8"
  }
 },
 "nbformat": 4,
 "nbformat_minor": 5
}
