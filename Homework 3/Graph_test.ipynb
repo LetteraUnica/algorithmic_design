{
 "cells": [
  {
   "source": [
    "## Graph testing file"
   ],
   "cell_type": "markdown",
   "metadata": {}
  },
  {
   "cell_type": "code",
   "execution_count": 1,
   "metadata": {},
   "outputs": [],
   "source": [
    "from src import *\n",
    "from random import randint"
   ]
  },
  {
   "cell_type": "code",
   "execution_count": 2,
   "id": "6617e6a8-4ce2-4336-9804-0503bb4fbbae",
   "metadata": {},
   "outputs": [
    {
     "output_type": "stream",
     "name": "stdout",
     "text": [
      "[]\n"
     ]
    },
    {
     "output_type": "execute_result",
     "data": {
      "text/plain": [
       "[A : dict_keys([]), B : dict_keys([]), E : dict_keys([])]"
      ]
     },
     "metadata": {},
     "execution_count": 2
    }
   ],
   "source": [
    "# Testing add_vertex and V()\n",
    "G = Graph()\n",
    "print(G.V())\n",
    "G.add_vertex(\"A\")\n",
    "G.add_vertex(\"B\")\n",
    "G.add_vertex(\"E\")\n",
    "G.V()"
   ]
  },
  {
   "cell_type": "code",
   "execution_count": 3,
   "id": "6782d699-ea8d-4506-aeab-34bd21617191",
   "metadata": {},
   "outputs": [
    {
     "output_type": "execute_result",
     "data": {
      "text/plain": [
       "([A : dict_keys([]),\n",
       "  B : dict_keys(['C']),\n",
       "  E : dict_keys([]),\n",
       "  C : dict_keys(['B']),\n",
       "  V : dict_keys([]),\n",
       "  Z : dict_keys(['V'])],\n",
       " [('B', 'C', 10), ('C', 'B', 1.0), ('Z', 'V', 100)])"
      ]
     },
     "metadata": {},
     "execution_count": 3
    }
   ],
   "source": [
    "# Testing add_edge and E()\n",
    "G.add_edge(\"C\", \"B\")\n",
    "G.add_edge(\"B\", \"C\", 10)\n",
    "G.add_edge(\"Z\", \"V\", 100)\n",
    "G.V(), G.E()"
   ]
  },
  {
   "cell_type": "code",
   "execution_count": 4,
   "metadata": {},
   "outputs": [
    {
     "output_type": "execute_result",
     "data": {
      "text/plain": [
       "(True, True, False)"
      ]
     },
     "metadata": {},
     "execution_count": 4
    }
   ],
   "source": [
    "# Testing contains_vertex\n",
    "G.contains_vertex(\"A\"), G.contains_vertex(\"Z\"), G.contains_vertex(\"U\")"
   ]
  },
  {
   "cell_type": "code",
   "execution_count": 5,
   "metadata": {},
   "outputs": [
    {
     "output_type": "execute_result",
     "data": {
      "text/plain": [
       "(False, True, True)"
      ]
     },
     "metadata": {},
     "execution_count": 5
    }
   ],
   "source": [
    "# Testing contains_edge\n",
    "G.contains_edge(\"A\", \"B\"), G.contains_edge(\"Z\", \"V\"), G.contains_edge(\"C\", \"B\")"
   ]
  },
  {
   "cell_type": "code",
   "execution_count": 6,
   "metadata": {},
   "outputs": [
    {
     "output_type": "execute_result",
     "data": {
      "text/plain": [
       "(C : dict_keys(['B']), None)"
      ]
     },
     "metadata": {},
     "execution_count": 6
    }
   ],
   "source": [
    "# Testing get_vertex\n",
    "G.get_vertex(\"C\"), G.get_vertex(\"K\")"
   ]
  },
  {
   "cell_type": "code",
   "execution_count": 7,
   "metadata": {},
   "outputs": [
    {
     "output_type": "stream",
     "name": "stdout",
     "text": [
      "[A : dict_keys([]), B : dict_keys(['C']), E : dict_keys([]), C : dict_keys(['B']), V : dict_keys([]), Z : dict_keys(['V'])] [('B', 'C', 10), ('C', 'B', 1.0), ('Z', 'V', 100)]\n"
     ]
    },
    {
     "output_type": "execute_result",
     "data": {
      "text/plain": [
       "([A : dict_keys([]),\n",
       "  B : dict_keys([]),\n",
       "  E : dict_keys([]),\n",
       "  C : dict_keys(['B']),\n",
       "  V : dict_keys([]),\n",
       "  Z : dict_keys(['V'])],\n",
       " [('C', 'B', 1.0), ('Z', 'V', 100)])"
      ]
     },
     "metadata": {},
     "execution_count": 7
    }
   ],
   "source": [
    "# Testing remove_edge\n",
    "print(G.V(), G.E())\n",
    "G.remove_edge(\"A\", \"B\")\n",
    "G.remove_edge(\"B\", \"C\")\n",
    "G.remove_edge(\"K\", \"E\")\n",
    "\n",
    "G.V(), G.E()"
   ]
  },
  {
   "cell_type": "code",
   "execution_count": 8,
   "metadata": {},
   "outputs": [
    {
     "output_type": "execute_result",
     "data": {
      "text/plain": [
       "([E : dict_keys([]), V : dict_keys([]), Z : dict_keys(['V'])],\n",
       " [('Z', 'V', 100)])"
      ]
     },
     "metadata": {},
     "execution_count": 8
    }
   ],
   "source": [
    "# Testing remove_vertex\n",
    "G.remove_vertex(\"A\")\n",
    "G.remove_vertex(\"KK\")\n",
    "G.remove_vertex(\"B\")\n",
    "G.remove_vertex(\"C\")\n",
    "\n",
    "G.V(), G.E()"
   ]
  },
  {
   "cell_type": "code",
   "execution_count": 9,
   "metadata": {},
   "outputs": [
    {
     "output_type": "execute_result",
     "data": {
      "text/plain": [
       "([('Z', 'V', 100),\n",
       "  (3, 2, 5),\n",
       "  (4, 3, 2),\n",
       "  (4, 2, 2),\n",
       "  (2, 1, 8),\n",
       "  (1, 2, 3),\n",
       "  (1, 1, 5),\n",
       "  (5, 3, 10),\n",
       "  (5, 2, 9)],\n",
       " [E : dict_keys([]),\n",
       "  V : dict_keys([]),\n",
       "  Z : dict_keys(['V']),\n",
       "  3 : dict_keys([2]),\n",
       "  4 : dict_keys([3, 2]),\n",
       "  2 : dict_keys([1]),\n",
       "  1 : dict_keys([2, 1]),\n",
       "  5 : dict_keys([3, 2])])"
      ]
     },
     "metadata": {},
     "execution_count": 9
    }
   ],
   "source": [
    "# Repopulating the graph\n",
    "[G.add_edge(randint(1,5), randint(1,5), randint(1, 10)) for i in range(10)]\n",
    "G.E(), G.V()"
   ]
  },
  {
   "cell_type": "code",
   "execution_count": 10,
   "metadata": {},
   "outputs": [
    {
     "output_type": "stream",
     "name": "stderr",
     "text": [
      "/home/lettera/Desktop/algorithmic_design/Homework 3/src/Graph.py:298: RuntimeWarning: vertex 100 does not exist, exiting\n  warn(f\"vertex {vertex_name} does not exist, exiting\", RuntimeWarning)\n"
     ]
    },
    {
     "output_type": "execute_result",
     "data": {
      "text/plain": [
       "(dict_keys([3, 2]), None, dict_keys([]))"
      ]
     },
     "metadata": {},
     "execution_count": 10
    }
   ],
   "source": [
    "# Testing Adj\n",
    "G.Adj(4), G.Adj(100), G.Adj(\"V\")"
   ]
  },
  {
   "cell_type": "code",
   "execution_count": 11,
   "metadata": {},
   "outputs": [
    {
     "output_type": "execute_result",
     "data": {
      "text/plain": [
       "([Z : dict_keys(['V'])], [], [])"
      ]
     },
     "metadata": {},
     "execution_count": 11
    }
   ],
   "source": [
    "# Testing get_parents\n",
    "G.get_parents(\"V\"), G.get_parents(4), G.get_parents(\"JYG\")"
   ]
  },
  {
   "cell_type": "code",
   "execution_count": 12,
   "metadata": {},
   "outputs": [
    {
     "output_type": "execute_result",
     "data": {
      "text/plain": [
       "([V : dict_keys([])], [2 : dict_keys([1])], None)"
      ]
     },
     "metadata": {},
     "execution_count": 12
    }
   ],
   "source": [
    "# Testing get_childs\n",
    "G.get_childs(\"Z\"), G.get_childs(3), G.get_childs(\"JGD\")"
   ]
  },
  {
   "cell_type": "code",
   "execution_count": 13,
   "metadata": {},
   "outputs": [
    {
     "output_type": "execute_result",
     "data": {
      "text/plain": [
       "([('Z', 'V', 100),\n",
       "  (3, 2, 5),\n",
       "  (4, 3, 2),\n",
       "  (4, 2, 2),\n",
       "  (2, 1, 8),\n",
       "  (1, 2, 3),\n",
       "  (1, 1, 5),\n",
       "  (5, 3, 10),\n",
       "  (5, 2, 9)],\n",
       " [('V', 'Z', 100),\n",
       "  (3, 4, 2),\n",
       "  (3, 5, 10),\n",
       "  (2, 3, 5),\n",
       "  (2, 4, 2),\n",
       "  (2, 1, 3),\n",
       "  (2, 5, 9),\n",
       "  (1, 2, 8),\n",
       "  (1, 1, 5)])"
      ]
     },
     "metadata": {},
     "execution_count": 13
    }
   ],
   "source": [
    "# Test graph transposition\n",
    "G_transpose = G.T()\n",
    "\n",
    "G.E(), G_transpose.E()"
   ]
  },
  {
   "source": [
    "### Test add_shortcuts"
   ],
   "cell_type": "markdown",
   "metadata": {}
  },
  {
   "cell_type": "code",
   "execution_count": 15,
   "metadata": {},
   "outputs": [
    {
     "output_type": "stream",
     "name": "stdout",
     "text": [
      "[('B', 'C', 7), ('A', 'B', 4)] [B : dict_keys(['C']), A : dict_keys(['B']), C : dict_keys([])]\n"
     ]
    },
    {
     "output_type": "execute_result",
     "data": {
      "text/plain": [
       "([('B', 'C', 7), ('A', 'B', 4), (['A', 'B', 'C'], 11)],\n",
       " [B : dict_keys(['C']), A : dict_keys(['B', 'C']), C : dict_keys([])])"
      ]
     },
     "metadata": {},
     "execution_count": 15
    }
   ],
   "source": [
    "# Create a simpler graph\n",
    "\n",
    "G_simple = Graph(directed=True)\n",
    "\n",
    "G_simple.add_edge(\"A\", \"B\", 4)\n",
    "G_simple.add_edge(\"B\", \"C\", 7)\n",
    "G_simple.get_vertex(\"A\").importance = 10\n",
    "G_simple.get_vertex(\"B\").importance = 1\n",
    "G_simple.get_vertex(\"C\").importance = 10\n",
    "\n",
    "print(G_simple.E(), G_simple.V())\n",
    "\n",
    "G_simple.add_shortcuts()\n",
    "\n",
    "G_simple.E(), G_simple.V()"
   ]
  },
  {
   "cell_type": "code",
   "execution_count": 20,
   "metadata": {},
   "outputs": [
    {
     "output_type": "stream",
     "name": "stdout",
     "text": [
      "[(1, 6, 1), (1, 5, 1), (5, 6, 1), (5, 1, 3), (3, 2, 1), (3, 4, 3), (2, 3, 2), (4, 7, 1), (4, 8, 3), (7, 8, 1), (8, 1, 1), (8, 7, 1)]\n"
     ]
    },
    {
     "output_type": "execute_result",
     "data": {
      "text/plain": [
       "[(1, 6, 1),\n",
       " (1, 5, 1),\n",
       " (5, 6, 1),\n",
       " (5, 1, 3),\n",
       " (3, 2, 1),\n",
       " (3, 4, 3),\n",
       " (2, 3, 2),\n",
       " (4, 7, 1),\n",
       " (4, 8, 3),\n",
       " (7, 8, 1),\n",
       " (8, 1, 1),\n",
       " (8, 7, 1),\n",
       " ([8, 1, 6], 2),\n",
       " ([8, 1, 5], 2)]"
      ]
     },
     "metadata": {},
     "execution_count": 20
    }
   ],
   "source": [
    "# Testing on the graph on the slides\n",
    "G = Graph()\n",
    "\n",
    "edges = [(1,6,1), (1,5,1), (2,3,2), (3,2,1), (3,4,3), (4,7,1),\n",
    "         (4,8,3), (5,6,1), (5,1,3), (7,8,1), (8,1,1), (8,7,1)]\n",
    "\n",
    "[G.add_edge(s, d, w) for s, d, w in edges]\n",
    "print(G.E())\n",
    "[setattr(v, \"importance\", v.name) for v in G.V()]\n",
    "\n",
    "G.add_shortcuts()\n",
    "G.E()"
   ]
  }
 ],
 "metadata": {
  "kernelspec": {
   "name": "python388jvsc74a57bd0826ac774da20863171be87f505c983a23ca5099031a67b4f2c0e4fe6baa8958e",
   "display_name": "Python 3.8.8 64-bit ('base': conda)"
  },
  "language_info": {
   "codemirror_mode": {
    "name": "ipython",
    "version": 3
   },
   "file_extension": ".py",
   "mimetype": "text/x-python",
   "name": "python",
   "nbconvert_exporter": "python",
   "pygments_lexer": "ipython3",
   "version": "3.8.8"
  }
 },
 "nbformat": 4,
 "nbformat_minor": 5
}