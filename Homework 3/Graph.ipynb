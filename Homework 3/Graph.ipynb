{
 "cells": [
  {
   "cell_type": "code",
   "execution_count": 55,
   "id": "1142b306-d5b7-4267-ab30-cc98a0008980",
   "metadata": {},
   "outputs": [],
   "source": [
    "from Graph import Graph"
   ]
  },
  {
   "cell_type": "code",
   "execution_count": 39,
   "id": "6617e6a8-4ce2-4336-9804-0503bb4fbbae",
   "metadata": {},
   "outputs": [
    {
     "data": {
      "text/plain": [
       "[('A', 'C')]"
      ]
     },
     "execution_count": 39,
     "metadata": {},
     "output_type": "execute_result"
    }
   ],
   "source": [
    "G = Graph()\n",
    "G.add_edge(\"A\", \"C\", 1.)\n",
    "\n",
    "G.E()"
   ]
  },
  {
   "cell_type": "code",
   "execution_count": 40,
   "id": "6782d699-ea8d-4506-aeab-34bd21617191",
   "metadata": {},
   "outputs": [],
   "source": [
    "G.add_edge(\"C\", \"B\")"
   ]
  },
  {
   "cell_type": "code",
   "execution_count": 41,
   "id": "758ee475-95e2-470f-bcad-a53bbe8e08ea",
   "metadata": {},
   "outputs": [
    {
     "data": {
      "text/plain": [
       "C : {'B': 1.0}\n",
       "A : {'C': 1.0}\n",
       "B : {}"
      ]
     },
     "execution_count": 41,
     "metadata": {},
     "output_type": "execute_result"
    }
   ],
   "source": [
    "G"
   ]
  },
  {
   "cell_type": "code",
   "execution_count": 42,
   "id": "a9108c0c-293a-40d0-a2a1-00c88e42943b",
   "metadata": {},
   "outputs": [
    {
     "data": {
      "text/plain": [
       "[('C', 'B'), ('A', 'C')]"
      ]
     },
     "execution_count": 42,
     "metadata": {},
     "output_type": "execute_result"
    }
   ],
   "source": [
    "G.E()"
   ]
  },
  {
   "cell_type": "code",
   "execution_count": 27,
   "id": "1b77f83f-34f5-4c1b-be2f-93e03ef0888e",
   "metadata": {},
   "outputs": [
    {
     "data": {
      "text/plain": [
       "[('C', 'B')]"
      ]
     },
     "execution_count": 27,
     "metadata": {},
     "output_type": "execute_result"
    }
   ],
   "source": [
    "G.remove_vertex(\"A\")\n",
    "G.E()"
   ]
  },
  {
   "cell_type": "code",
   "execution_count": 43,
   "id": "8004ab99-0600-4f4d-942e-d69b9a5fc3d6",
   "metadata": {},
   "outputs": [
    {
     "data": {
      "text/plain": [
       "dict_values([C : {'B': 1.0}, A : {'C': 1.0}, B : {}, D : {}])"
      ]
     },
     "execution_count": 43,
     "metadata": {},
     "output_type": "execute_result"
    }
   ],
   "source": [
    "G.add_vertex(\"D\")\n",
    "G.V()"
   ]
  },
  {
   "cell_type": "code",
   "execution_count": 54,
   "id": "3ce4be83-f038-4b70-92de-5b0623c0f7da",
   "metadata": {},
   "outputs": [
    {
     "data": {
      "text/plain": [
       "{'B': 1.0}"
      ]
     },
     "execution_count": 54,
     "metadata": {},
     "output_type": "execute_result"
    }
   ],
   "source": [
    "list(G.V())[0].connections"
   ]
  },
  {
   "cell_type": "code",
   "execution_count": 30,
   "id": "00828a85-062f-4178-86b8-ec25473a7249",
   "metadata": {},
   "outputs": [],
   "source": [
    "G.add_edge(\"D\", \"A\")"
   ]
  },
  {
   "cell_type": "code",
   "execution_count": 35,
   "id": "684358d5-984f-4100-a5d2-1d4320b09ba7",
   "metadata": {},
   "outputs": [
    {
     "data": {
      "text/plain": [
       "[('C', 'B'), ('D', 'A')]"
      ]
     },
     "execution_count": 35,
     "metadata": {},
     "output_type": "execute_result"
    }
   ],
   "source": [
    "G.E()"
   ]
  },
  {
   "cell_type": "code",
   "execution_count": 37,
   "id": "70d5f663-72be-42d4-bcde-6248cf23f4c9",
   "metadata": {},
   "outputs": [
    {
     "data": {
      "text/plain": [
       "{'A': 1.0}"
      ]
     },
     "execution_count": 37,
     "metadata": {},
     "output_type": "execute_result"
    }
   ],
   "source": [
    "G.Adj(\"D\")"
   ]
  }
 ],
 "metadata": {
  "kernelspec": {
   "display_name": "Python 3",
   "language": "python",
   "name": "python3"
  },
  "language_info": {
   "codemirror_mode": {
    "name": "ipython",
    "version": 3
   },
   "file_extension": ".py",
   "mimetype": "text/x-python",
   "name": "python",
   "nbconvert_exporter": "python",
   "pygments_lexer": "ipython3",
   "version": "3.8.8"
  }
 },
 "nbformat": 4,
 "nbformat_minor": 5
}
