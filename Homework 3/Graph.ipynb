{
 "cells": [
  {
   "cell_type": "code",
   "execution_count": 21,
   "id": "2be8c248-809c-4e20-957f-c57110a19076",
   "metadata": {},
   "outputs": [
    {
     "data": {
      "text/plain": [
       "3"
      ]
     },
     "execution_count": 21,
     "metadata": {},
     "output_type": "execute_result"
    }
   ],
   "source": [
    "class point:\n",
    "    def __init__(self, x, y):\n",
    "        self.x = x\n",
    "        self.y = y\n",
    "\n",
    "p1 = point(1,2)\n",
    "p2 = point(3,4)\n",
    "a = set([p1, p2])\n",
    "a.pop().x"
   ]
  },
  {
   "cell_type": "code",
   "execution_count": 35,
   "id": "66ea2893-3528-4e86-891b-66b453b827b1",
   "metadata": {},
   "outputs": [],
   "source": [
    "from collections import defaultdict\n",
    "\n",
    "class Vertex:\n",
    "    def __init__(self, name, connections=None, data=None, color=None):\n",
    "        self.name = name\n",
    "        if connections is None:\n",
    "            self.connections = set()\n",
    "        else:\n",
    "            self.connections = set(connections)\n",
    "        self.data = data\n",
    "        self.color = color\n",
    "    \n",
    "    def add(self, connection):\n",
    "        self.connections.add(connection)\n",
    "        \n",
    "    def remove(self, connection):\n",
    "        self.connections.remove(connection)\n",
    "        \n",
    "    def get_connections(self):\n",
    "        return self.connections\n",
    "    \n",
    "    def set_color(self, new_color):\n",
    "        self.color = new_color\n",
    "    \n",
    "    def get_color(self):\n",
    "        return self.color\n",
    "        \n",
    "\n",
    "class Graph:\n",
    "    def __init__(self, vertexes, directed=True):\n",
    "        self._graph = dict([(vertex.name, vertex) for vertex in vertexes])\n",
    "        self._directed = directed\n",
    "    \n",
    "    def add_vertex(self, new_vertex):\n",
    "        self._graph[new_vertex.name] = new_vertex\n",
    "        \n",
    "    def add_connections(self, connections):\n",
    "        for source, destination in connections:\n",
    "            self.add_connection(source, destination)\n",
    "            \n",
    "    def add_connection(self, source, destination):\n",
    "        self._graph[source].add(destination)\n",
    "        if not self._directed:\n",
    "            self._graph[destination].add(source)\n",
    "    \n",
    "    def remove(self, vertex_name):\n",
    "        # Remove incoming connections\n",
    "        for vertex in self._graph.values():\n",
    "            vertex.remove(vertex_name)\n",
    "        \n",
    "        # Remove the vertex\n",
    "        try:\n",
    "            self._graph.pop(vertex_name)\n",
    "        except KeyError:\n",
    "            pass\n",
    "        \n",
    "    def Adj(self, vertex_name):\n",
    "        return self._graph[vertex_name].get_connections()\n",
    "    \n",
    "    def V(self):\n",
    "        return self._graph.keys()\n",
    "    \n",
    "    def E(self):\n",
    "        res = []\n",
    "        for v in self.V():\n",
    "            res.extend([(v, i) for i in self.Adj(v)])\n",
    "        return res\n",
    "    \n",
    "    def __repr__(self):\n",
    "        s = \"\"\n",
    "        for v in self.V():\n",
    "            s+=f\"{v} : {self.Adj(v)}\\n\"\n",
    "            \n",
    "        return s\n",
    "\n",
    "v1 = Vertex(\"A\", [\"B\", \"C\"])\n",
    "v2 = Vertex(\"B\", [\"C\"])\n",
    "v3 = Vertex(\"C\", [\"A\"])\n",
    "\n",
    "G = Graph([v1,v2,v3])"
   ]
  },
  {
   "cell_type": "code",
   "execution_count": 36,
   "id": "6617e6a8-4ce2-4336-9804-0503bb4fbbae",
   "metadata": {},
   "outputs": [
    {
     "data": {
      "text/plain": [
       "[('A', 'B'), ('A', 'C'), ('B', 'C'), ('C', 'A')]"
      ]
     },
     "execution_count": 36,
     "metadata": {},
     "output_type": "execute_result"
    }
   ],
   "source": [
    "G.E()"
   ]
  },
  {
   "cell_type": "code",
   "execution_count": 8,
   "id": "6782d699-ea8d-4506-aeab-34bd21617191",
   "metadata": {},
   "outputs": [],
   "source": [
    "G.add_connection(\"C\", \"B\")"
   ]
  }
 ],
 "metadata": {
  "kernelspec": {
   "display_name": "Python 3",
   "language": "python",
   "name": "python3"
  },
  "language_info": {
   "codemirror_mode": {
    "name": "ipython",
    "version": 3
   },
   "file_extension": ".py",
   "mimetype": "text/x-python",
   "name": "python",
   "nbconvert_exporter": "python",
   "pygments_lexer": "ipython3",
   "version": "3.8.8"
  }
 },
 "nbformat": 4,
 "nbformat_minor": 5
}
