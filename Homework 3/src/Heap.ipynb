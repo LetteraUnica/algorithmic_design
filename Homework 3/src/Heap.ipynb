{
 "cells": [
  {
   "cell_type": "code",
   "execution_count": 58,
   "id": "915e9f67-174a-46f8-8ff6-0303f6f9bb1d",
   "metadata": {},
   "outputs": [
    {
     "data": {
      "text/plain": [
       "[(8, 124),\n",
       " (58, 97),\n",
       " (49, 102),\n",
       " (30, 120),\n",
       " (56, 28),\n",
       " (80, 49),\n",
       " (111, 114),\n",
       " (34, 27),\n",
       " (62, 101),\n",
       " (6, 58),\n",
       " (90, 45),\n",
       " (86, 107)]"
      ]
     },
     "execution_count": 58,
     "metadata": {},
     "output_type": "execute_result"
    }
   ],
   "source": [
    "from Heap import Binary_heap\n",
    "from random import randint\n",
    "A = [(randint(0, 120), randint(0, 130)) for i in range(12)]\n",
    "A"
   ]
  },
  {
   "cell_type": "code",
   "execution_count": 59,
   "id": "51bdcc70-a23b-48f9-97e7-fee81ac59b8a",
   "metadata": {},
   "outputs": [],
   "source": [
    "H = Binary_heap(A, total_order=lambda x,y: x[0]<y[0])\n",
    "H._test_heap_property()"
   ]
  },
  {
   "cell_type": "code",
   "execution_count": 60,
   "id": "a6799987-9b2e-4dbf-94b2-98a4a118ad1b",
   "metadata": {},
   "outputs": [],
   "source": [
    "H.insert((4,7))\n",
    "    "
   ]
  },
  {
   "cell_type": "code",
   "execution_count": 61,
   "id": "b5350d99-b88c-4f17-90af-79f43dc0a493",
   "metadata": {},
   "outputs": [
    {
     "data": {
      "text/plain": [
       "[(4, 7), (8, 124), (6, 58), (30, 120), (56, 28), (49, 102), (111, 114), (34, 27), (62, 101), (58, 97), (90, 45), (86, 107), (80, 49)]"
      ]
     },
     "execution_count": 61,
     "metadata": {},
     "output_type": "execute_result"
    }
   ],
   "source": [
    "H"
   ]
  },
  {
   "cell_type": "code",
   "execution_count": 63,
   "id": "3b81e11c-66cc-4c08-b356-f20331daf2c2",
   "metadata": {},
   "outputs": [],
   "source": [
    "H.insert((100, 100))"
   ]
  },
  {
   "cell_type": "code",
   "execution_count": 64,
   "id": "d8cde18c-5ae6-4070-90a4-8c5042b3a693",
   "metadata": {},
   "outputs": [
    {
     "data": {
      "text/plain": [
       "[(4, 7), (8, 124), (6, 58), (30, 120), (56, 28), (49, 102), (100, 100), (34, 27), (62, 101), (58, 97), (90, 45), (86, 107), (80, 49), 100, (111, 114)]"
      ]
     },
     "execution_count": 64,
     "metadata": {},
     "output_type": "execute_result"
    }
   ],
   "source": [
    "H"
   ]
  },
  {
   "cell_type": "code",
   "execution_count": 4,
   "id": "66dfea95-efb1-4706-8744-d4d732173a43",
   "metadata": {},
   "outputs": [
    {
     "data": {
      "text/plain": [
       "True"
      ]
     },
     "execution_count": 4,
     "metadata": {},
     "output_type": "execute_result"
    }
   ],
   "source": [
    "from numpy import inf\n",
    "-inf < 5"
   ]
  },
  {
   "cell_type": "code",
   "execution_count": 374,
   "id": "6affc8e6-9942-4865-b506-be872eebba35",
   "metadata": {},
   "outputs": [],
   "source": [
    "H._test_heap_property()"
   ]
  },
  {
   "cell_type": "code",
   "execution_count": 375,
   "id": "332d2650-e7a7-44f9-876e-35c67d35bb90",
   "metadata": {},
   "outputs": [
    {
     "name": "stdout",
     "output_type": "stream",
     "text": [
      "1\n"
     ]
    },
    {
     "data": {
      "text/plain": [
       "[2, 3, 4, 3, 4, 9, 10, 7, 5, 7]"
      ]
     },
     "execution_count": 375,
     "metadata": {},
     "output_type": "execute_result"
    }
   ],
   "source": [
    "print(H.remove_min())\n",
    "H"
   ]
  }
 ],
 "metadata": {
  "kernelspec": {
   "display_name": "Python 3",
   "language": "python",
   "name": "python3"
  },
  "language_info": {
   "codemirror_mode": {
    "name": "ipython",
    "version": 3
   },
   "file_extension": ".py",
   "mimetype": "text/x-python",
   "name": "python",
   "nbconvert_exporter": "python",
   "pygments_lexer": "ipython3",
   "version": "3.8.8"
  }
 },
 "nbformat": 4,
 "nbformat_minor": 5
}