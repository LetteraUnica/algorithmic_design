{
 "cells": [
  {
   "source": [
    "## Binary heap testing file"
   ],
   "cell_type": "markdown",
   "metadata": {}
  },
  {
   "cell_type": "code",
   "execution_count": 1,
   "id": "915e9f67-174a-46f8-8ff6-0303f6f9bb1d",
   "metadata": {},
   "outputs": [],
   "source": [
    "from Heap import Binary_heap\n",
    "from random import randint"
   ]
  },
  {
   "cell_type": "code",
   "execution_count": 2,
   "id": "51bdcc70-a23b-48f9-97e7-fee81ac59b8a",
   "metadata": {},
   "outputs": [
    {
     "output_type": "stream",
     "name": "stdout",
     "text": [
      "A: [(35, 71), (35, 88), (83, 117), (0, 128), (57, 51), (87, 97), (60, 26), (24, 61), (42, 96), (111, 128), (116, 47), (94, 22)]\n"
     ]
    },
    {
     "output_type": "execute_result",
     "data": {
      "text/plain": [
       "[(0, 128), (24, 61), (60, 26), (35, 71), (57, 51), (87, 97), (83, 117), (35, 88), (42, 96), (111, 128), (116, 47), (94, 22)]"
      ]
     },
     "metadata": {},
     "execution_count": 2
    }
   ],
   "source": [
    "A = [(randint(0, 120), randint(0, 130)) for i in range(12)]\n",
    "print(\"A:\", A)\n",
    "\n",
    "# Testing building with copying\n",
    "H = Binary_heap(A, total_order=lambda x,y: x[0]<y[0])\n",
    "H._test_heap_property()\n",
    "H"
   ]
  },
  {
   "cell_type": "code",
   "execution_count": 3,
   "metadata": {},
   "outputs": [
    {
     "output_type": "stream",
     "name": "stdout",
     "text": [
      "[(94, 22), (116, 47), (60, 26), (24, 61), (57, 51), (87, 97), (35, 71), (0, 128), (42, 96), (111, 128), (35, 88), (83, 117)]\n"
     ]
    },
    {
     "output_type": "execute_result",
     "data": {
      "text/plain": [
       "[(94, 22), (116, 47), (60, 26), (24, 61), (57, 51), (87, 97), (35, 71), (0, 128), (42, 96), (111, 128), (35, 88), (83, 117)]"
      ]
     },
     "metadata": {},
     "execution_count": 3
    }
   ],
   "source": [
    "# Testing building without copying\n",
    "H = Binary_heap(A, total_order=lambda x,y: x[1]<y[1], to_copy=False)\n",
    "H._test_heap_property()\n",
    "print(A)\n",
    "H"
   ]
  },
  {
   "cell_type": "code",
   "execution_count": 4,
   "metadata": {},
   "outputs": [],
   "source": [
    "# Testing building heaps more in depth, assumes that _test_heap_property is correct\n",
    "for i in range(10):\n",
    "    A = [(randint(-100, 100), randint(-100, 100)) for i in range(randint(0, 1000))]\n",
    "    H = Binary_heap(A, total_order=lambda x,y: x[0]<y[0], to_copy = randint(0,1))\n",
    "    H._test_heap_property()"
   ]
  },
  {
   "cell_type": "code",
   "execution_count": 5,
   "metadata": {},
   "outputs": [
    {
     "output_type": "stream",
     "name": "stdout",
     "text": [
      "A: [(100, 39), (24, 48), (50, 25), (100, 18), (108, 74), (17, 104), (98, 108), (15, 101), (2, 83), (81, 57), (7, 51), (3, 44)]\n(2, 83)\n(2, 83)\n(3, 44)\n(7, 51)\n(15, 101)\n(17, 104)\n(24, 48)\n(50, 25)\n(81, 57)\n(98, 108)\n(100, 39)\n(100, 18)\n(108, 74)\n"
     ]
    }
   ],
   "source": [
    "# Testing extract and remove min\n",
    "A = [(randint(0, 120), randint(0, 130)) for i in range(12)]\n",
    "print(\"A:\", A)\n",
    "H = Binary_heap(A, total_order=lambda x,y: x[0]<y[0])\n",
    "x = H.extract_min()\n",
    "print(x)\n",
    "\n",
    "while not H.is_empty():\n",
    "    x = H.remove_min()\n",
    "    H._test_heap_property()\n",
    "    print(x)\n"
   ]
  },
  {
   "cell_type": "code",
   "execution_count": 6,
   "id": "a6799987-9b2e-4dbf-94b2-98a4a118ad1b",
   "metadata": {},
   "outputs": [
    {
     "output_type": "stream",
     "name": "stdout",
     "text": [
      "[(17, 23), (23, 102), (40, 6), (58, 1), (26, 33), (59, 122), (70, 115), (75, 46), (80, 83), (97, 111), (60, 16), (111, 128)]\n[(4, 7), (23, 102), (10, 65), (49, 18), (26, 33), (40, 6), (17, 23), (58, 1), (80, 83), (97, 111), (60, 16), (111, 128), (59, 122), (70, 115), (43, 1), (75, 46), (10923, 7)]\n"
     ]
    }
   ],
   "source": [
    "# Testing insert\n",
    "A = [(randint(0, 120), randint(0, 130)) for i in range(12)]\n",
    "H = Binary_heap(A, total_order=lambda x,y: x[0]<y[0])\n",
    "print(H)\n",
    "H.insert((4,7))\n",
    "H.insert((10,65))\n",
    "H.insert((43,1))\n",
    "H.insert((49,18))\n",
    "H.insert((10923,7))\n",
    "H._test_heap_property()\n",
    "print(H)"
   ]
  },
  {
   "cell_type": "code",
   "execution_count": 7,
   "id": "b5350d99-b88c-4f17-90af-79f43dc0a493",
   "metadata": {},
   "outputs": [
    {
     "output_type": "execute_result",
     "data": {
      "text/plain": [
       "[(-12, 34), (-10, 223), (10, 65), (4, 7), (0, 2), (40, 6), (17, 23), (49, 18), (23, 102), (97, 111), (26, 33), (111, 128), (59, 122), (70, 115), (43, 1), (75, 46), (58, 1)]"
      ]
     },
     "metadata": {},
     "execution_count": 7
    }
   ],
   "source": [
    "# Testing decrease_key\n",
    "H.decrease_key(H.size - 1, (0, 2))\n",
    "H._test_heap_property()\n",
    "H.decrease_key(8, (-10, 223))\n",
    "H.decrease_key(10, (-12, 34))\n",
    "H._test_heap_property()\n",
    "H"
   ]
  },
  {
   "cell_type": "code",
   "execution_count": 16,
   "id": "3b81e11c-66cc-4c08-b356-f20331daf2c2",
   "metadata": {},
   "outputs": [
    {
     "output_type": "stream",
     "name": "stdout",
     "text": [
      "[('Y', 18), ('T', 24), ('E', 45), ('R', 91), ('W', 37), ('Q', 47)] \n {'Q': 5, 'W': 4, 'E': 2, 'R': 3, 'T': 1, 'Y': 0}\n"
     ]
    }
   ],
   "source": [
    "# Testing key_dict, i.e. a function that allows the heap to decrease a specific value\n",
    "# without referencing the array index explicitly\n",
    "\n",
    "class person:\n",
    "    def __init__(self, name, age):\n",
    "        self.name = name\n",
    "        self.age = age\n",
    "\n",
    "    def __repr__(self):\n",
    "        return (self.name, self.age).__repr__()\n",
    "\n",
    "names = list(\"QWERTY\")\n",
    "A = [person(name, randint(0, 100)) for name in names]\n",
    "H = Binary_heap(A,\n",
    "                total_order = lambda x,y: x.age < y.age,\n",
    "                dict_key = lambda x: x.name)\n",
    "print(H, \"\\n\", H.key_dict)"
   ]
  },
  {
   "cell_type": "code",
   "execution_count": 17,
   "id": "d8cde18c-5ae6-4070-90a4-8c5042b3a693",
   "metadata": {},
   "outputs": [
    {
     "output_type": "stream",
     "name": "stdout",
     "text": [
      "[('Q', -1), ('T', 24), ('Y', 18), ('R', 91), ('W', 37), ('E', 45)] \n {'Q': 0, 'W': 4, 'E': 5, 'R': 3, 'T': 1, 'Y': 2}\n"
     ]
    }
   ],
   "source": [
    "# Decrease_value\n",
    "H.decrease_value(A[0], person(\"Q\", -1))\n",
    "H._test_heap_property()\n",
    "print(H, \"\\n\", H.key_dict)"
   ]
  },
  {
   "cell_type": "code",
   "execution_count": 18,
   "metadata": {},
   "outputs": [
    {
     "output_type": "stream",
     "name": "stdout",
     "text": [
      "[('Q', -1), ('T', 24), ('U', 15), ('R', 91), ('W', 37), ('E', 45), ('Y', 18)] \n {'Q': 0, 'W': 4, 'E': 5, 'R': 3, 'T': 1, 'Y': 6, 'U': 2}\n"
     ]
    }
   ],
   "source": [
    "# Insert\n",
    "H.insert(person(\"U\", 15))\n",
    "H._test_heap_property()\n",
    "print(H, \"\\n\", H.key_dict)"
   ]
  }
 ],
 "metadata": {
  "kernelspec": {
   "name": "python388jvsc74a57bd0826ac774da20863171be87f505c983a23ca5099031a67b4f2c0e4fe6baa8958e",
   "display_name": "Python 3.8.8 64-bit ('base': conda)"
  },
  "language_info": {
   "codemirror_mode": {
    "name": "ipython",
    "version": 3
   },
   "file_extension": ".py",
   "mimetype": "text/x-python",
   "name": "python",
   "nbconvert_exporter": "python",
   "pygments_lexer": "ipython3",
   "version": "3.8.8"
  }
 },
 "nbformat": 4,
 "nbformat_minor": 5
}