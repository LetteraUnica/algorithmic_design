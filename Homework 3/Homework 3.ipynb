{
 "cells": [
  {
   "cell_type": "markdown",
   "id": "c4f03f9a-e2ce-4813-a64e-be4381524f5f",
   "metadata": {},
   "source": [
    "## Algorithmic Design Homework 3"
   ]
  },
  {
   "cell_type": "markdown",
   "id": "1c616b76-d613-45f3-b371-34c9989c27d7",
   "metadata": {},
   "source": [
    "### Exercise 1.\n",
    "Implement the binary heap-based version of the Dijkstra’s algorithm."
   ]
  },
  {
   "cell_type": "markdown",
   "id": "63af4a98-e0b5-422d-a5aa-4c335ea18d31",
   "metadata": {},
   "source": [
    "### Solution\n",
    "\n",
    "In the cell below we implement the heap-based version of the Dijkstra’s algorithm on the Graph data structure written in the file `Graph.py` and using the binary heap defined in `Heap.py`.  \n",
    "\n",
    "The heap implements all the methods we saw during the lectures and some more which we found useful during the implementation of the Dijkstra's algorithm, in particular it implements a way to decrease a value without needing the index of it in the heap, obviously to accomplish this it needs more space because it needs to store a dictionary that maps a value to a specific index, the key of this mapping is defined by the user, in our case it is the name of the vertex which is unique in the graph  \n",
    "\n",
    "Designing the graph was more complicated because it can be implemented in different ways, from a high level perspective we chosed to define the graph as a set of vertexes and a vertex as a set of edges, in the implementation however we don't use a set but a dictionary because it allows finding a specific vertex or edge of the graph in $\\Theta(1)$ time on average, furthermore defining the edge as an object can help if we want to store additional information about the connection, we didn't use this feature in the code below, however we used the fact that the vertex is an object to add the members v.d, v.prev and v.importance when they were needed. Obviously this implementation requires more space than simply storing a dictionary of {source, destination} pairs, however it allows for a very high generalizability"
   ]
  },
  {
   "cell_type": "code",
   "execution_count": 37,
   "id": "26047787-e4f1-4277-a662-2042df256403",
   "metadata": {},
   "outputs": [
    {
     "output_type": "execute_result",
     "data": {
      "text/plain": [
       "[('B', 14.0), ('A', 0.0), ('C', 1.0), ('D', 6.0), ('E', inf)]"
      ]
     },
     "metadata": {},
     "execution_count": 37
    }
   ],
   "source": [
    "from numpy import inf\n",
    "from src import *\n",
    "from warnings import warn\n",
    "from random import randint\n",
    "from typing import TypeVar, Union\n",
    "from copy import deepcopy\n",
    "\n",
    "n = TypeVar(\"n\")\n",
    "\n",
    "\n",
    "def init_sssp(G: Graph, s: n):\n",
    "    \"\"\"Initializes Dijkstra algorithm\n",
    "\n",
    "    Args:\n",
    "        G (Graph): Graph to initialize\n",
    "        s (n): source\n",
    "    \n",
    "    Raises:\n",
    "        RuntimeWarning: If s is not present in the graph\n",
    "    \"\"\"\n",
    "    u = G.get_vertex(s)\n",
    "    if u is None:\n",
    "        message = f\"The source: {s} is not present in the graph, exiting\"\n",
    "        warn(message, RuntimeWarning)\n",
    "        return\n",
    "    \n",
    "    for v in G.V():\n",
    "        v.d = inf\n",
    "        v.pred = None\n",
    "        \n",
    "    u.d = 0.\n",
    "\n",
    "    \n",
    "def relax(Q: Binary_heap, u: Vertex, v: Vertex):\n",
    "    \"\"\"Relaxes a node\n",
    "\n",
    "    Args:\n",
    "        Q (Heap): Queue implemented by a binary heap\n",
    "        u (Vertex): Vertex already relaxed\n",
    "        v (Vertex): Vertex to be relaxed\n",
    "    \"\"\"\n",
    "    w = u.get_weight(v.name)\n",
    "    if v.d > u.d + w:\n",
    "        v.d = u.d + w\n",
    "        v.pred = u\n",
    "        Q.decrease_value(v, v)\n",
    "\n",
    "        \n",
    "def dijkstra(G: Graph, s: n):\n",
    "    \"\"\"Implements the dijkstra algorithm for finding the single source shortest\n",
    "    path from the source s\n",
    "\n",
    "    Args:\n",
    "        G (Graph): Graph to complute the distance\n",
    "        s (n): Name of the source in the graph\n",
    "    \n",
    "    Raises:\n",
    "        RuntimeWarning: If s is not present in the graph\n",
    "    \"\"\"\n",
    "    init_sssp(G, s)\n",
    "    # Initialize Q with only the source\n",
    "    Q = Binary_heap([G.get_vertex(s)], total_order=lambda x, y: x.d < y.d, dict_key=lambda x: x.name)\n",
    "    while not Q.is_empty():\n",
    "        u = Q.remove_min()\n",
    "        # Relax all the childs of v\n",
    "        for v in G.get_childs(u.name):\n",
    "            Q.insert(v)\n",
    "            relax(Q, u, v)\n",
    "\n",
    "\n",
    "# Create a simple graph for testing\n",
    "G = Graph(directed=True)\n",
    "G.add_edge(\"A\", \"B\", 1000)\n",
    "G.add_edge(\"A\", \"C\", 1)\n",
    "G.add_edge(\"C\", \"D\", 5)\n",
    "G.add_edge(\"D\", \"B\", 8)\n",
    "G.add_vertex(\"E\")\n",
    "\n",
    "dijkstra(G, \"A\")\n",
    "[(v.name, v.d) for v in G.V()]  "
   ]
  },
  {
   "source": [
    "### Exercise 2."
   ],
   "cell_type": "markdown",
   "metadata": {}
  },
  {
   "source": [
    "### Solution\n",
    "The implementation of the function to add the shortcuts to a graph can be found in the file `Graph.py` at line 90, while below we will implement the bidirectional version of the dijkstra algorithm"
   ],
   "cell_type": "markdown",
   "metadata": {}
  },
  {
   "cell_type": "code",
   "execution_count": 65,
   "id": "d15bfffc-f6d1-46f1-a190-9438f2368a4a",
   "metadata": {},
   "outputs": [],
   "source": [
    "def dijkstra_iteration(G: Graph, Q: Binary_heap):\n",
    "    u = Q.remove_min()\n",
    "    for v in G.Adj(u.name):\n",
    "        v = G.get_vertex(v)\n",
    "        if v.importance < u.importance:\n",
    "            continue\n",
    "        Q.insert(v)\n",
    "        relax(Q, u, v)\n",
    "    \n",
    "    return u.name\n",
    "\n",
    "\n",
    "def get_path(G: Graph, v: n, d: n):\n",
    "    v = deepcopy(v)\n",
    "    path = [v]\n",
    "    w = 0.\n",
    "    print(v is None)\n",
    "    while v!=d and v is not None:\n",
    "        print(v)\n",
    "        v = G.get_vertex(v)\n",
    "        edge = v.pred.get_connections()[v.name]\n",
    "        path.append(edge.decompose())\n",
    "        w += edge.weight\n",
    "        v = v.pred.name\n",
    "    \n",
    "    return path, w\n",
    "    \n",
    "\n",
    "def remove_duplicates(a: list) -> list:\n",
    "    return [a[i] for i in range(0, len(a)) if a[i-1]!=a[i]]\n",
    "\n",
    "\n",
    "def Bidirectional_dijkstra(G: Graph, s: n, d: n):\n",
    "    G_down = G.T()\n",
    "    G_up = G\n",
    "    G_up.add_shortcuts()\n",
    "    G_down.add_shortcuts()\n",
    "\n",
    "    init_sssp(G_up, s)\n",
    "    init_sssp(G_down, d)\n",
    "\n",
    "    Q_up = Binary_heap([G_up.get_vertex(s)], total_order=lambda x, y: x.d < y.d, dict_key=lambda x: x.name)\n",
    "    Q_down = Binary_heap([G_down.get_vertex(d)], total_order=lambda x, y: x.d < y.d, dict_key=lambda x: x.name)\n",
    "\n",
    "    vertices_up = set()\n",
    "    vertices_down = set()\n",
    "    common_vertex = \"\"\n",
    "    while not Q_up.is_empty() and not Q_down.is_empty():\n",
    "        up = dijkstra_iteration(G_up, Q_up)\n",
    "        if up in vertices_down:\n",
    "            common_vertex = up\n",
    "            break\n",
    "\n",
    "        down = dijkstra_iteration(G_down, Q_down)\n",
    "        if down in vertices_up:\n",
    "            common_vertex = down\n",
    "            break\n",
    "\n",
    "        vertices_up.add(up)\n",
    "        vertices_down.add(down)\n",
    "\n",
    "    p1, w1 = get_path(G_up, common_vertex, s)\n",
    "    p1.reverse()\n",
    "    p2, w2 = get_path(G_down, common_vertex, d)\n",
    "    return remove_duplicates([*p1, *p2]), w1+w2"
   ]
  },
  {
   "cell_type": "code",
   "execution_count": 68,
   "metadata": {},
   "outputs": [
    {
     "output_type": "stream",
     "name": "stdout",
     "text": [
      "False\n\n"
     ]
    },
    {
     "output_type": "error",
     "ename": "AttributeError",
     "evalue": "'NoneType' object has no attribute 'pred'",
     "traceback": [
      "\u001b[0;31m---------------------------------------------------------------------------\u001b[0m",
      "\u001b[0;31mAttributeError\u001b[0m                            Traceback (most recent call last)",
      "\u001b[0;32m<ipython-input-68-4c90505de62a>\u001b[0m in \u001b[0;36m<module>\u001b[0;34m\u001b[0m\n\u001b[1;32m      2\u001b[0m     \u001b[0mv\u001b[0m\u001b[0;34m.\u001b[0m\u001b[0mimportance\u001b[0m\u001b[0;34m=\u001b[0m\u001b[0mrandint\u001b[0m\u001b[0;34m(\u001b[0m\u001b[0;36m0\u001b[0m\u001b[0;34m,\u001b[0m \u001b[0;36m10\u001b[0m\u001b[0;34m)\u001b[0m\u001b[0;34m\u001b[0m\u001b[0;34m\u001b[0m\u001b[0m\n\u001b[1;32m      3\u001b[0m \u001b[0;34m\u001b[0m\u001b[0m\n\u001b[0;32m----> 4\u001b[0;31m \u001b[0mBidirectional_dijkstra\u001b[0m\u001b[0;34m(\u001b[0m\u001b[0mG\u001b[0m\u001b[0;34m,\u001b[0m \u001b[0;34m\"A\"\u001b[0m\u001b[0;34m,\u001b[0m \u001b[0;34m\"B\"\u001b[0m\u001b[0;34m)\u001b[0m\u001b[0;34m\u001b[0m\u001b[0;34m\u001b[0m\u001b[0m\n\u001b[0m",
      "\u001b[0;32m<ipython-input-65-53f5a796fae7>\u001b[0m in \u001b[0;36mBidirectional_dijkstra\u001b[0;34m(G, s, d)\u001b[0m\n\u001b[1;32m     60\u001b[0m         \u001b[0mvertices_down\u001b[0m\u001b[0;34m.\u001b[0m\u001b[0madd\u001b[0m\u001b[0;34m(\u001b[0m\u001b[0mdown\u001b[0m\u001b[0;34m)\u001b[0m\u001b[0;34m\u001b[0m\u001b[0;34m\u001b[0m\u001b[0m\n\u001b[1;32m     61\u001b[0m \u001b[0;34m\u001b[0m\u001b[0m\n\u001b[0;32m---> 62\u001b[0;31m     \u001b[0mp1\u001b[0m\u001b[0;34m,\u001b[0m \u001b[0mw1\u001b[0m \u001b[0;34m=\u001b[0m \u001b[0mget_path\u001b[0m\u001b[0;34m(\u001b[0m\u001b[0mG_up\u001b[0m\u001b[0;34m,\u001b[0m \u001b[0mcommon_vertex\u001b[0m\u001b[0;34m,\u001b[0m \u001b[0ms\u001b[0m\u001b[0;34m)\u001b[0m\u001b[0;34m\u001b[0m\u001b[0;34m\u001b[0m\u001b[0m\n\u001b[0m\u001b[1;32m     63\u001b[0m     \u001b[0mp1\u001b[0m\u001b[0;34m.\u001b[0m\u001b[0mreverse\u001b[0m\u001b[0;34m(\u001b[0m\u001b[0;34m)\u001b[0m\u001b[0;34m\u001b[0m\u001b[0;34m\u001b[0m\u001b[0m\n\u001b[1;32m     64\u001b[0m     \u001b[0mp2\u001b[0m\u001b[0;34m,\u001b[0m \u001b[0mw2\u001b[0m \u001b[0;34m=\u001b[0m \u001b[0mget_path\u001b[0m\u001b[0;34m(\u001b[0m\u001b[0mG_down\u001b[0m\u001b[0;34m,\u001b[0m \u001b[0mcommon_vertex\u001b[0m\u001b[0;34m,\u001b[0m \u001b[0md\u001b[0m\u001b[0;34m)\u001b[0m\u001b[0;34m\u001b[0m\u001b[0;34m\u001b[0m\u001b[0m\n",
      "\u001b[0;32m<ipython-input-65-53f5a796fae7>\u001b[0m in \u001b[0;36mget_path\u001b[0;34m(G, v, d)\u001b[0m\n\u001b[1;32m     19\u001b[0m         \u001b[0mprint\u001b[0m\u001b[0;34m(\u001b[0m\u001b[0mv\u001b[0m\u001b[0;34m)\u001b[0m\u001b[0;34m\u001b[0m\u001b[0;34m\u001b[0m\u001b[0m\n\u001b[1;32m     20\u001b[0m         \u001b[0mv\u001b[0m \u001b[0;34m=\u001b[0m \u001b[0mG\u001b[0m\u001b[0;34m.\u001b[0m\u001b[0mget_vertex\u001b[0m\u001b[0;34m(\u001b[0m\u001b[0mv\u001b[0m\u001b[0;34m)\u001b[0m\u001b[0;34m\u001b[0m\u001b[0;34m\u001b[0m\u001b[0m\n\u001b[0;32m---> 21\u001b[0;31m         \u001b[0medge\u001b[0m \u001b[0;34m=\u001b[0m \u001b[0mv\u001b[0m\u001b[0;34m.\u001b[0m\u001b[0mpred\u001b[0m\u001b[0;34m.\u001b[0m\u001b[0mget_connections\u001b[0m\u001b[0;34m(\u001b[0m\u001b[0;34m)\u001b[0m\u001b[0;34m[\u001b[0m\u001b[0mv\u001b[0m\u001b[0;34m.\u001b[0m\u001b[0mname\u001b[0m\u001b[0;34m]\u001b[0m\u001b[0;34m\u001b[0m\u001b[0;34m\u001b[0m\u001b[0m\n\u001b[0m\u001b[1;32m     22\u001b[0m         \u001b[0mpath\u001b[0m\u001b[0;34m.\u001b[0m\u001b[0mappend\u001b[0m\u001b[0;34m(\u001b[0m\u001b[0medge\u001b[0m\u001b[0;34m.\u001b[0m\u001b[0mdecompose\u001b[0m\u001b[0;34m(\u001b[0m\u001b[0;34m)\u001b[0m\u001b[0;34m)\u001b[0m\u001b[0;34m\u001b[0m\u001b[0;34m\u001b[0m\u001b[0m\n\u001b[1;32m     23\u001b[0m         \u001b[0mw\u001b[0m \u001b[0;34m+=\u001b[0m \u001b[0medge\u001b[0m\u001b[0;34m.\u001b[0m\u001b[0mweight\u001b[0m\u001b[0;34m\u001b[0m\u001b[0;34m\u001b[0m\u001b[0m\n",
      "\u001b[0;31mAttributeError\u001b[0m: 'NoneType' object has no attribute 'pred'"
     ]
    }
   ],
   "source": [
    "for v in G.V():\n",
    "    v.importance=randint(0, 10)\n",
    "\n",
    "Bidirectional_dijkstra(G, \"A\", \"B\")"
   ]
  },
  {
   "cell_type": "code",
   "execution_count": 25,
   "metadata": {},
   "outputs": [
    {
     "output_type": "execute_result",
     "data": {
      "text/plain": [
       "[43, 3, 2, 1]"
      ]
     },
     "metadata": {},
     "execution_count": 25
    }
   ],
   "source": [
    "a = [1,2,3,43]\n",
    "a.reverse()\n",
    "a"
   ]
  }
 ],
 "metadata": {
  "kernelspec": {
   "name": "python388jvsc74a57bd0826ac774da20863171be87f505c983a23ca5099031a67b4f2c0e4fe6baa8958e",
   "display_name": "Python 3.8.8 64-bit ('base': conda)"
  },
  "language_info": {
   "codemirror_mode": {
    "name": "ipython",
    "version": 3
   },
   "file_extension": ".py",
   "mimetype": "text/x-python",
   "name": "python",
   "nbconvert_exporter": "python",
   "pygments_lexer": "ipython3",
   "version": "3.8.8"
  }
 },
 "nbformat": 4,
 "nbformat_minor": 5
}