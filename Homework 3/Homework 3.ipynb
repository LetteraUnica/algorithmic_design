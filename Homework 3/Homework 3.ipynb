{
 "cells": [
  {
   "cell_type": "markdown",
   "id": "c4f03f9a-e2ce-4813-a64e-be4381524f5f",
   "metadata": {},
   "source": [
    "## Algorithmic Design Homework 3"
   ]
  },
  {
   "cell_type": "markdown",
   "id": "1c616b76-d613-45f3-b371-34c9989c27d7",
   "metadata": {},
   "source": [
    "### Exercise 1.\n",
    "Implement the binary heap-based version of the Dijkstra’s algorithm."
   ]
  },
  {
   "cell_type": "markdown",
   "id": "63af4a98-e0b5-422d-a5aa-4c335ea18d31",
   "metadata": {},
   "source": [
    "### Solution\n",
    "\n",
    "In the cell below we implement the heap-based version of the Dijkstra’s algorithm on the Graph data structure written in the file `Graph.py` and using the binary heap defined in `Heap.py`.  \n",
    "\n",
    "The heap implements all the methods we saw during the lectures and some more which we found useful during the implementation of the Dijkstra's algorithm.  \n",
    "\n",
    "However designing the graph was more complicated because it can be implemented in different ways, we chosed to define a Vertex class which contains a dictionary with its outward connections and their weight i.e. `connections={destination: weight}`, furthermore each vertex has a name which is unique in the graph, the definition of the vertex as an object allows us to add attributes to the vertexes very easily, like the color in breadth/depth first search or the distance in the Dijkstra algorithm. Finally we encoded the graph as a dictionary with key the vertex name and value an instance of the Vertex class, we chosed the dictionary because the time it takes to find a vertex given a name is $\\Theta(1)$"
   ]
  },
  {
   "cell_type": "code",
   "execution_count": 1,
   "id": "26047787-e4f1-4277-a662-2042df256403",
   "metadata": {},
   "outputs": [],
   "source": [
    "from numpy import inf\n",
    "from src import *\n",
    "from warnings import warn\n",
    "\n",
    "\n",
    "def init_sssp(G, s):\n",
    "    u = G.get_vertex(s)\n",
    "    if u is None:\n",
    "        message = f\"The vertex{s} is not present in the graph, exiting\"\n",
    "        warn(message, RuntimeWarning)\n",
    "        return\n",
    "    \n",
    "    for v in G.V():\n",
    "        v.d = inf\n",
    "        v.pred = None\n",
    "        \n",
    "    u.d = 0.\n",
    "    \n",
    "    \n",
    "def relax(Q, u, v):\n",
    "    w = u.get_weight(v.name)\n",
    "    if v.d > u.d + w:\n",
    "        v.d = u.d + w\n",
    "        v.pred = u\n",
    "        Q.decrease_value(v, v)\n",
    "\n",
    "        \n",
    "def dijkstra(G, s):\n",
    "    init_sssp(G, s)\n",
    "    Q = Binary_heap(G.V(), total_order=lambda x, y: x.d < y.d, dict_key=lambda x: x.name, to_copy=True)\n",
    "    while not Q.is_empty():\n",
    "        u = Q.remove_min()\n",
    "        for v in G.Adj(u.name):\n",
    "            v = G.get_vertex(v)\n",
    "            relax(Q, u, v)\n",
    "           "
   ]
  },
  {
   "cell_type": "code",
   "execution_count": 16,
   "id": "96da670b-2750-4d33-b1ea-e27f475b17ca",
   "metadata": {},
   "outputs": [],
   "source": [
    "# Create a simple graph for testing\n",
    "G = Graph(directed=True)\n",
    "G.add_edge(\"A\", \"B\", 1000)\n",
    "G.add_edge(\"A\", \"C\", 100)\n",
    "G.add_edge(\"B\", \"D\", 100)\n",
    "G.add_edge(\"C\", \"B\", 2)\n",
    "G.add_vertex(\"E\")\n",
    "\n",
    "dijkstra(G, \"A\")"
   ]
  },
  {
   "cell_type": "code",
   "execution_count": 12,
   "metadata": {},
   "outputs": [],
   "source": [
    "for v in G.V():\n",
    "    v.importance=1\n",
    "\n",
    "G.add_shortcuts()"
   ]
  },
  {
   "cell_type": "code",
   "execution_count": 17,
   "id": "33608b3a-e4e3-471e-9a2c-f38834b84510",
   "metadata": {},
   "outputs": [
    {
     "output_type": "stream",
     "name": "stdout",
     "text": [
      "B 102.0\nA 0.0\nC 100.0\nD 202.0\nE inf\n"
     ]
    },
    {
     "output_type": "execute_result",
     "data": {
      "text/plain": [
       "[None, None, None, None, None]"
      ]
     },
     "metadata": {},
     "execution_count": 17
    }
   ],
   "source": [
    "[print(v.name, v.d) for v in G.V()]"
   ]
  },
  {
   "cell_type": "code",
   "execution_count": null,
   "id": "d15bfffc-f6d1-46f1-a190-9438f2368a4a",
   "metadata": {},
   "outputs": [],
   "source": [
    "def Bidirectional_Dijkstra(G, s, d):\n",
    "    G.ad"
   ]
  }
 ],
 "metadata": {
  "kernelspec": {
   "name": "python388jvsc74a57bd0826ac774da20863171be87f505c983a23ca5099031a67b4f2c0e4fe6baa8958e",
   "display_name": "Python 3.8.8 64-bit ('base': conda)"
  },
  "language_info": {
   "codemirror_mode": {
    "name": "ipython",
    "version": 3
   },
   "file_extension": ".py",
   "mimetype": "text/x-python",
   "name": "python",
   "nbconvert_exporter": "python",
   "pygments_lexer": "ipython3",
   "version": "3.8.8"
  }
 },
 "nbformat": 4,
 "nbformat_minor": 5
}