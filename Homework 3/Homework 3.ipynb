{
 "cells": [
  {
   "cell_type": "markdown",
   "id": "c4f03f9a-e2ce-4813-a64e-be4381524f5f",
   "metadata": {},
   "source": [
    "## Algorithmic Design Homework 3"
   ]
  },
  {
   "cell_type": "markdown",
   "id": "1c616b76-d613-45f3-b371-34c9989c27d7",
   "metadata": {},
   "source": [
    "### Exercise 1.\n",
    "Implement the binary heap-based version of the Dijkstra’s algorithm."
   ]
  },
  {
   "cell_type": "markdown",
   "id": "63af4a98-e0b5-422d-a5aa-4c335ea18d31",
   "metadata": {},
   "source": [
    "### Solution\n",
    "\n",
    "In the cell below we implement the heap-based version of the Dijkstra’s algorithm on the Graph data structure written in the file `Graph.py` and using the binary heap defined in `Heap.py`.  \n",
    "\n",
    "The heap implements all the methods we saw during the lectures and some more which we found useful during the implementation of the Dijkstra's algorithm, in particular it implements a way to decrease a value without needing the index of it in the heap, obviously to accomplish this it needs more space because it needs to store a dictionary that maps a value to a specific index, the key of this mapping is defined by the user. We used this feature in the Dijkstra's algorithm to set as a key the name of the vertex, which is unique in the graph  \n",
    "\n",
    "Designing the graph was more complicated because it can be implemented in different ways, from a high level perspective we chosed to define the graph as a set of vertexes and a vertex as a set of edges, in the implementation however we don't use a set but a dictionary because it allows finding a specific vertex or edge of the graph in $\\Theta(1)$ time on average. Defining the edge as an object is very useful if we want to store additional information about the connection, we didn't use this feature in the code below, however we used the fact that the vertex is an object to add the members v.d, v.prev and v.importance when they were needed. Obviously this implementation requires more space than simply storing a dictionary of {source, destination} pairs, however it allows for a very high generalizability"
   ]
  },
  {
   "cell_type": "code",
   "execution_count": 1,
   "id": "26047787-e4f1-4277-a662-2042df256403",
   "metadata": {},
   "outputs": [
    {
     "output_type": "execute_result",
     "data": {
      "text/plain": [
       "[('B', 14.0), ('A', 0.0), ('C', 1.0), ('D', 6.0), ('E', inf)]"
      ]
     },
     "metadata": {},
     "execution_count": 1
    }
   ],
   "source": [
    "from numpy import inf\n",
    "from src import *\n",
    "from warnings import warn\n",
    "from random import randint\n",
    "from typing import TypeVar, Union\n",
    "from copy import deepcopy\n",
    "\n",
    "n = TypeVar(\"n\")\n",
    "\n",
    "\n",
    "def init_sssp(G: Graph, s: n):\n",
    "    \"\"\"Initializes Dijkstra algorithm\n",
    "\n",
    "    Args:\n",
    "        G (Graph): Graph to initialize\n",
    "        s (n): source\n",
    "    \n",
    "    Raises:\n",
    "        RuntimeWarning: If s is not present in the graph\n",
    "    \"\"\"\n",
    "    u = G.get_vertex(s)\n",
    "    if u is None:\n",
    "        message = f\"The source: {s} is not present in the graph, exiting\"\n",
    "        warn(message, RuntimeWarning)\n",
    "        return\n",
    "    \n",
    "    for v in G.V():\n",
    "        v.d = inf\n",
    "        v.pred = None\n",
    "        \n",
    "    u.d = 0.\n",
    "\n",
    "    \n",
    "def relax(Q: Binary_heap, u: Vertex, v: Vertex):\n",
    "    \"\"\"Relaxes a node\n",
    "\n",
    "    Args:\n",
    "        Q (Heap): Queue implemented by a binary heap\n",
    "        u (Vertex): Vertex already relaxed\n",
    "        v (Vertex): Vertex to be relaxed\n",
    "    \"\"\"\n",
    "    w = u.get_weight(v.name)\n",
    "    if v.d > u.d + w:\n",
    "        v.d = u.d + w\n",
    "        v.pred = u\n",
    "        Q.decrease_value((v.d, v.name), (v.d, v.name))\n",
    "\n",
    "        \n",
    "def dijkstra(G: Graph, s: n):\n",
    "    \"\"\"Implements the dijkstra algorithm for finding the single source shortest\n",
    "    path from the source s\n",
    "\n",
    "    Args:\n",
    "        G (Graph): Graph to complute the distance\n",
    "        s (n): Name of the source in the graph\n",
    "    \n",
    "    Raises:\n",
    "        RuntimeWarning: If s is not present in the graph\n",
    "    \"\"\"\n",
    "    init_sssp(G, s)\n",
    "    # Initialize Q with tuples (v.d, v.name), this is much lighter than storing v itself\n",
    "    Q = Binary_heap([(v.d, v.name) for v in G.V()], total_order=lambda x, y: x[0] < y[0], dict_key=lambda x: x[1])\n",
    "    while not Q.is_empty():\n",
    "        u = Q.remove_min()\n",
    "        u = G.get_vertex(u[1])\n",
    "        # Relax all the childs of v\n",
    "        for v in G.get_childs(u.name):\n",
    "            relax(Q, u, v)\n",
    "\n",
    "\n",
    "# Create a simple graph for testing\n",
    "G = Graph(directed=True)\n",
    "G.add_edge(\"A\", \"B\", 1000)\n",
    "G.add_edge(\"A\", \"C\", 1)\n",
    "G.add_edge(\"C\", \"D\", 5)\n",
    "G.add_edge(\"D\", \"B\", 8)\n",
    "G.add_vertex(\"E\")\n",
    "\n",
    "dijkstra(G, \"A\")\n",
    "[(v.name, v.d) for v in G.V()]  "
   ]
  },
  {
   "cell_type": "code",
   "execution_count": 2,
   "metadata": {},
   "outputs": [
    {
     "output_type": "execute_result",
     "data": {
      "text/plain": [
       "[(6, 1.0),\n",
       " (1, 0.0),\n",
       " (5, 1.0),\n",
       " (3, inf),\n",
       " (2, inf),\n",
       " (4, inf),\n",
       " (7, 3.0),\n",
       " (8, 2.0)]"
      ]
     },
     "metadata": {},
     "execution_count": 2
    }
   ],
   "source": [
    "# Creates the graph from the slides for testing\n",
    "G_slides = Graph()\n",
    "\n",
    "edges = [(1,6,1), (1,5,1), (2,3,2), (3,2,1), (3,4,3), (4,7,1),\n",
    "         (4,8,3), (5,6,1), (5,1,3), (6,8,1), (7,8,1), (8,1,1), (8,7,1)]\n",
    "\n",
    "[G_slides.add_edge(s, d, w) for s, d, w in edges]\n",
    "[setattr(v, \"importance\", v.name) for v in G_slides.V()]\n",
    "\n",
    "dijkstra(G_slides, 1)\n",
    "[(v.name, v.d) for v in G_slides.V()]  "
   ]
  },
  {
   "source": [
    "### Exercise 2."
   ],
   "cell_type": "markdown",
   "metadata": {}
  },
  {
   "source": [
    "### Solution\n",
    "The implementation of the function to add the shortcuts to a graph can be found in the file `Graph.py` at line 90, while below we will implement the bidirectional version of the dijkstra algorithm"
   ],
   "cell_type": "markdown",
   "metadata": {}
  },
  {
   "cell_type": "code",
   "execution_count": 3,
   "id": "d15bfffc-f6d1-46f1-a190-9438f2368a4a",
   "metadata": {},
   "outputs": [],
   "source": [
    "def dijkstra_iteration(G: Graph, Q: Binary_heap) -> n:\n",
    "    \"\"\"Performs a single iteration of the bidirectional dijkstra algorithm\n",
    "\n",
    "    Args:\n",
    "        G (Graph): Graph to iterate\n",
    "        Q (Binary_heap): Corresponding queue\n",
    "\n",
    "    Returns:\n",
    "        n: name of the vertex that has been completed\n",
    "    \"\"\"\n",
    "    u = Q.remove_min()\n",
    "    u = G.get_vertex(u[1])\n",
    "    for v in G.Adj(u.name):\n",
    "        v = G.get_vertex(v)\n",
    "        # Only relax if the importance is greater\n",
    "        if v.importance < u.importance:\n",
    "            continue\n",
    "        Q.insert((v.d, v.name))\n",
    "        relax(Q, u, v)\n",
    "    \n",
    "    return u.name\n",
    "\n",
    "\n",
    "def get_path(G: Graph, v: n, d: n) -> \"tuple(list[n], float)\":\n",
    "    \"\"\"Returns the path to be travelled to reach d from v and its associated weight\n",
    "\n",
    "    Args:\n",
    "        v (n): Source of the path\n",
    "        d (n): Destination of the path\n",
    "\n",
    "    Returns:\n",
    "        tuple(list[n], float): the first element is the path to travel to reach\n",
    "        d from v, the second is it's associated weight\n",
    "    \"\"\"\n",
    "    v = deepcopy(v)\n",
    "    path = [v]\n",
    "    w = 0.\n",
    "\n",
    "    while v != d:\n",
    "        v = G.get_vertex(v) # Get the vertex corresponding to v\n",
    "        edge = v.pred[v.name] # Get the edge from v.pred to v\n",
    "        path.extend(edge.decompose()[::-1]) # Add to the path the vertexes the edge passes by in reverse order\n",
    "        w += edge.weight # Update the overall weight\n",
    "        v = v.pred.name # Update v\n",
    "    \n",
    "    return path, w\n",
    "    \n",
    "\n",
    "def remove_duplicates(a: list) -> list:\n",
    "    \"\"\"Simple function that removes subsequent duplicate values from a list\n",
    "\n",
    "    Args:\n",
    "        a (list): list to remove the duplicates\n",
    "\n",
    "    Returns:\n",
    "        list: list with the duplicates removed\n",
    "    \"\"\"\n",
    "    return [a[i] for i in range(0, len(a)) if a[i-1]!=a[i]]\n",
    "\n",
    "\n",
    "def Bidirectional_dijkstra(G: Graph, s: n, d: n) -> \"tuple(list[n], float)\":\n",
    "    \"\"\"Implements the bidirectional Dijkstra algorithm to find the\n",
    "    shortest path from s to d of G, note that if the node importance\n",
    "    is not set properly this algorithm can find sub-optimal paths\n",
    "    or \n",
    "\n",
    "    Args:\n",
    "        G (Graph): Graph to compute the shortest path\n",
    "        s (n): Source or starting point of the path\n",
    "        d (n): Destination or ending of the path\n",
    "\n",
    "    Returns:\n",
    "        tuple(list[n], float): the first element is the path to travel to reach\n",
    "        d from s, the second is it's associated weight\n",
    "\n",
    "    Raises:\n",
    "        RuntimeWarning:\n",
    "            If a path between s and d does not exist, in this case returns None\n",
    "    \"\"\"\n",
    "    # Create G_up and G_down\n",
    "    G_down = G.T()\n",
    "    G_up = G\n",
    "    # Add the shortcuts\n",
    "    G_up.add_shortcuts()\n",
    "    G_down.add_shortcuts()\n",
    "    # Initialize the search\n",
    "    init_sssp(G_up, s)\n",
    "    init_sssp(G_down, d)\n",
    "\n",
    "    # Create the binary heaps\n",
    "    u = G_up.get_vertex(s)\n",
    "    Q_up = Binary_heap([(u.d, u.name)], total_order=lambda x, y: x[0] < y[0], dict_key=lambda x: x[1])\n",
    "    u = G_up.get_vertex(d)\n",
    "    Q_down = Binary_heap([(u.d, u.name)], total_order=lambda x, y: x[0] < y[0], dict_key=lambda x: x[1])\n",
    "\n",
    "    # Create two sets to keep track of the vertexes encountered so far\n",
    "    vertices_up = set()\n",
    "    vertices_down = set()\n",
    "    common_vertex = \"\"\n",
    "    # I iterate on G_up and G_down iteratively until I find a common vertex\n",
    "    # or until both queues are empty, if this is the case then it means that\n",
    "    # I haven't found a common vertex and so there is no path from s to d\n",
    "    while not Q_up.is_empty() or not Q_down.is_empty():\n",
    "        if not Q_up.is_empty():\n",
    "            up = dijkstra_iteration(G_up, Q_up)\n",
    "            if up in vertices_down:\n",
    "                common_vertex = up\n",
    "                break\n",
    "        \n",
    "        if not Q_down.is_empty():\n",
    "            down = dijkstra_iteration(G_down, Q_down)\n",
    "            if down in vertices_up:\n",
    "                common_vertex = down\n",
    "                break\n",
    "        vertices_up.add(up)\n",
    "        vertices_down.add(down)\n",
    "\n",
    "    if common_vertex == \"\":\n",
    "        warn(f\"A path between {s} and {d} does not exist\", RuntimeWarning)\n",
    "        return\n",
    "\n",
    "    # Get the path to be travelled to reach s from d and its weight    \n",
    "    p1, w1 = get_path(G_up, common_vertex, s)\n",
    "    p2, w2 = get_path(G_down, common_vertex, d)\n",
    "    p1.reverse()\n",
    "    return remove_duplicates([*p1, *p2]), w1+w2\n",
    "\n"
   ]
  },
  {
   "cell_type": "code",
   "execution_count": 4,
   "metadata": {},
   "outputs": [
    {
     "output_type": "execute_result",
     "data": {
      "text/plain": [
       "(['A', 'C', 'D', 'B'], 14.0)"
      ]
     },
     "metadata": {},
     "execution_count": 4
    }
   ],
   "source": [
    "# Test on the simple graph defined above\n",
    "for v in G.V():\n",
    "    v.importance=randint(0, 10)\n",
    "\n",
    "Bidirectional_dijkstra(G, \"A\", \"B\")"
   ]
  },
  {
   "cell_type": "code",
   "execution_count": 5,
   "metadata": {
    "tags": []
   },
   "outputs": [
    {
     "output_type": "execute_result",
     "data": {
      "text/plain": [
       "(([1, 6, 8], 2.0), ([3, 4, 7, 8, 1, 6], 7.0))"
      ]
     },
     "metadata": {},
     "execution_count": 5
    }
   ],
   "source": [
    "# Test on the graph on the slides\n",
    "Bidirectional_dijkstra(G_slides, 1, 8), Bidirectional_dijkstra(G_slides, 3, 6)"
   ]
  },
  {
   "source": [
    "## Conclusion\n",
    "\n",
    "The code of the bidirectional Dijkstra algorithm can be improved by creating two ad-hoc procedures to build G_up and G_down, in particular in these graphs the connections that go from a vertex with higher importance to one with lower importance are never used, so we could create G_up and G_down with these connections removed by default, this saves both time (we don't have to check if v.importance < u.importance) and space (because we store less connections). We sticked to this implementation because the homework says that the bidirectional Dijkstra has to operate on the graphs decorated by the algorithm at Point 2a, for completeness, below I implement the two procedures to create G_up and G_down like we described above"
   ],
   "cell_type": "markdown",
   "metadata": {}
  },
  {
   "cell_type": "code",
   "execution_count": null,
   "metadata": {},
   "outputs": [],
   "source": [
    "def remove_useless_edges(G: Graph) -> Graph:\n",
    "    \"\"\"Removes connections that go from a higher importance to a lower importance,\n",
    "    be aware that the removal is done in place!\n",
    "\n",
    "    Args:\n",
    "        G (Graph): Graph to remove the connections\n",
    "\n",
    "    Returns:\n",
    "        Graph: The graph with the connections removed\n",
    "    \n",
    "    Raises:\n",
    "        RuntimeWarning: If a vertex does not have an importance\n",
    "    \"\"\"\n",
    "    try:\n",
    "        for edge in G.E():\n",
    "            s = edge.get_source()\n",
    "            d = edge.get_destination()\n",
    "            if G.get_vertex(s).importance > G.get_vertex(d).importance:\n",
    "                G.remove_edge(s, d)\n",
    "\n",
    "    except AttributeError:\n",
    "        warn(f\"The graph contains vertexes without an importance attribute, exiting\", RuntimeWarning)\n",
    "        return\n",
    "        \n",
    "    return G\n",
    "\n",
    "\n",
    "def get_G_up(G: Graph) -> Graph:\n",
    "    \"\"\"Computes G_up, useful for the bidirectional Dijkstra algorithm\n",
    "\n",
    "    Args:\n",
    "        G (Graph): Graph to compute G_up\n",
    "\n",
    "    Returns:\n",
    "        Graph: The G_up graph\n",
    "    \"\"\"\n",
    "    G_up = deepcopy(G)\n",
    "    \n",
    "    G_up.add_shortcuts()\n",
    "    return remove_useless_edges(G_up)\n",
    "\n",
    "\n",
    "def get_G_down(G: Graph) -> Graph:\n",
    "    \"\"\"Computes G_down, useful for the bidirectional Dijkstra algorithm\n",
    "\n",
    "    Args:\n",
    "        G (Graph): Graph to compute G_down\n",
    "\n",
    "    Returns:\n",
    "        Graph: The G_down graph\n",
    "    \"\"\"\n",
    "    G_down = G.T()\n",
    "    \n",
    "    G_down.add_shortcuts()\n",
    "    return remove_useless_edges(G_down)"
   ]
  }
 ],
 "metadata": {
  "kernelspec": {
   "name": "python388jvsc74a57bd0826ac774da20863171be87f505c983a23ca5099031a67b4f2c0e4fe6baa8958e",
   "display_name": "Python 3.8.8 64-bit ('base': conda)"
  },
  "language_info": {
   "codemirror_mode": {
    "name": "ipython",
    "version": 3
   },
   "file_extension": ".py",
   "mimetype": "text/x-python",
   "name": "python",
   "nbconvert_exporter": "python",
   "pygments_lexer": "ipython3",
   "version": "3.8.8"
  }
 },
 "nbformat": 4,
 "nbformat_minor": 5
}