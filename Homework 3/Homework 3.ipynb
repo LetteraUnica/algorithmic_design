{
 "cells": [
  {
   "cell_type": "markdown",
   "id": "c4f03f9a-e2ce-4813-a64e-be4381524f5f",
   "metadata": {},
   "source": [
    "## Algorithmic Design Homework 3"
   ]
  },
  {
   "cell_type": "markdown",
   "id": "1c616b76-d613-45f3-b371-34c9989c27d7",
   "metadata": {},
   "source": [
    "### Exercise 1.\n",
    "Implement the binary heap-based version of the Dijkstra’s algorithm."
   ]
  },
  {
   "cell_type": "markdown",
   "id": "63af4a98-e0b5-422d-a5aa-4c335ea18d31",
   "metadata": {},
   "source": [
    "### Solution\n",
    "\n",
    "In the cell below we implement the heap-based version of the Dijkstra’s algorithm on the Graph data structure written in the file `Graph.py` and using the binary heap defined in `Heap.py`.  \n",
    "\n",
    "The heap implements all the methods we saw during the lectures and some more which we found useful during the implementation of the Dijkstra's algorithm.  \n",
    "\n",
    "However designing the graph was more complicated because it can be implemented in different ways, we chosed to define a Vertex class which contains a dictionary with its outward connections and their weight i.e. `connections={destination: weight}`, furthermore each vertex has a name which is unique in the graph, the definition of the vertex as an object allows us to add attributes to the vertexes very easily, like the color in breadth/depth first search or the distance in the Dijkstra algorithm. Finally we encoded the graph as a dictionary with key the vertex name and value an instance of the Vertex class, we chosed the dictionary because the time it takes to find a vertex given a name is $\\Theta(1)$"
   ]
  },
  {
   "cell_type": "code",
   "execution_count": 15,
   "id": "26047787-e4f1-4277-a662-2042df256403",
   "metadata": {},
   "outputs": [],
   "source": [
    "from numpy import inf\n",
    "from src import *\n",
    "from warnings import warn\n",
    "from random import randint\n",
    "\n",
    "\n",
    "def init_sssp(G, s):\n",
    "    u = G.get_vertex(s)\n",
    "    if u is None:\n",
    "        message = f\"The vertex{s} is not present in the graph, exiting\"\n",
    "        warn(message, RuntimeWarning)\n",
    "        return\n",
    "    \n",
    "    for v in G.V():\n",
    "        v.d = inf\n",
    "        v.pred = None\n",
    "        \n",
    "    u.d = 0.\n",
    "\n",
    "    \n",
    "def relax(Q, u, v):\n",
    "    w = u.get_weight(v.name)\n",
    "    if v.d > u.d + w:\n",
    "        v.d = u.d + w\n",
    "        v.pred = u\n",
    "        Q.decrease_value(v, v)\n",
    "\n",
    "        \n",
    "def dijkstra(G, s):\n",
    "    init_sssp(G, s)\n",
    "    Q = Binary_heap([G.get_vertex(s)], total_order=lambda x, y: x.d < y.d, dict_key=lambda x: x.name)\n",
    "    while not Q.is_empty():\n",
    "        u = Q.remove_min()\n",
    "        for v in G.Adj(u.name):\n",
    "            v = G.get_vertex(v)\n",
    "            Q.insert(v)\n",
    "            relax(Q, u, v)\n",
    "\n",
    "# Create a simple graph for testing\n",
    "G = Graph(directed=True)\n",
    "G.add_edge(\"A\", \"B\", 1000)\n",
    "G.add_edge(\"A\", \"C\", 1)\n",
    "G.add_edge(\"C\", \"D\", 5)\n",
    "G.add_edge(\"D\", \"B\", 8)\n",
    "G.add_vertex(\"E\")\n",
    "\n",
    "dijkstra(G, \"A\")  "
   ]
  },
  {
   "cell_type": "code",
   "execution_count": 12,
   "id": "33608b3a-e4e3-471e-9a2c-f38834b84510",
   "metadata": {},
   "outputs": [
    {
     "output_type": "execute_result",
     "data": {
      "text/plain": [
       "[('B', 14.0), ('A', 0.0), ('C', 1.0), ('D', 6.0), ('E', inf)]"
      ]
     },
     "metadata": {},
     "execution_count": 12
    }
   ],
   "source": [
    "[(v.name, v.d) for v in G.V()]"
   ]
  },
  {
   "cell_type": "code",
   "execution_count": 13,
   "id": "d15bfffc-f6d1-46f1-a190-9438f2368a4a",
   "metadata": {},
   "outputs": [],
   "source": [
    "def init_sssp(G, s):\n",
    "    u = G.get_vertex(s)\n",
    "    if u is None:\n",
    "        message = f\"The vertex{s} is not present in the graph, exiting\"\n",
    "        warn(message, RuntimeWarning)\n",
    "        return\n",
    "    \n",
    "    for v in G.V():\n",
    "        v.d = inf\n",
    "        v.pred = None\n",
    "        \n",
    "    u.d = 0.\n",
    "\n",
    "\n",
    "def relax(Q, u, v):\n",
    "    w = u.get_weight(v.name)\n",
    "    if v.d > u.d + w:\n",
    "        v.d = u.d + w\n",
    "        v.pred = u\n",
    "        Q.decrease_value(v, v)\n",
    "\n",
    "\n",
    "def dijkstra_iteration(G, Q):\n",
    "    u = Q.remove_min()\n",
    "    for v in G.Adj(u.name):\n",
    "        v = G.get_vertex(v)\n",
    "        if v.importance < u.importance:\n",
    "            continue\n",
    "        Q.insert(v)\n",
    "        relax(Q, u, v)\n",
    "    \n",
    "    return u\n",
    "\n",
    "        \n",
    "def Bidirectional_dijkstra(G, s, d):\n",
    "    G_down = G.T()\n",
    "    G_up = G\n",
    "    G_up.add_shortcuts()\n",
    "    G_down.add_shortcuts()\n",
    "\n",
    "    init_sssp(G_up, s)\n",
    "    init_sssp(G_down, d)\n",
    "\n",
    "    Q_up = Binary_heap([G_up.get_vertex(s)], total_order=lambda x, y: x.d < y.d, dict_key=lambda x: x.name)\n",
    "    Q_down = Binary_heap([G_down.get_vertex(d)], total_order=lambda x, y: x.d < y.d, dict_key=lambda x: x.name)\n",
    "\n",
    "    vertices_up = set()\n",
    "    vertices_down = set()\n",
    "    while not Q_up.is_empty() and not Q_down.is_empty():\n",
    "        up = dijkstra_iteration(G_up, Q_up)\n",
    "        down = dijkstra_iteration(G_down, Q_down)\n",
    "\n",
    "        vertices_up.add(up)\n",
    "        vertices_down.add(down)\n",
    "        if down in vertices_up or up in vertices_down:\n",
    "            break\n",
    "\n",
    "    return vertices_down, vertices_up\n",
    "\n"
   ]
  },
  {
   "cell_type": "code",
   "execution_count": 16,
   "metadata": {},
   "outputs": [],
   "source": [
    "for v in G.V():\n",
    "    v.importance=randint(0, 10)"
   ]
  },
  {
   "cell_type": "code",
   "execution_count": 18,
   "metadata": {},
   "outputs": [
    {
     "output_type": "error",
     "ename": "KeyError",
     "evalue": "'B'",
     "traceback": [
      "\u001b[0;31m---------------------------------------------------------------------------\u001b[0m",
      "\u001b[0;31mKeyError\u001b[0m                                  Traceback (most recent call last)",
      "\u001b[0;32m<ipython-input-18-192af44192c8>\u001b[0m in \u001b[0;36m<module>\u001b[0;34m\u001b[0m\n\u001b[0;32m----> 1\u001b[0;31m \u001b[0mBidirectional_dijkstra\u001b[0m\u001b[0;34m(\u001b[0m\u001b[0mG\u001b[0m\u001b[0;34m,\u001b[0m \u001b[0;34m\"A\"\u001b[0m\u001b[0;34m,\u001b[0m \u001b[0;34m\"B\"\u001b[0m\u001b[0;34m)\u001b[0m\u001b[0;34m\u001b[0m\u001b[0;34m\u001b[0m\u001b[0m\n\u001b[0m",
      "\u001b[0;32m<ipython-input-13-8c33f9a1c4ea>\u001b[0m in \u001b[0;36mBidirectional_dijkstra\u001b[0;34m(G, s, d)\u001b[0m\n\u001b[1;32m     34\u001b[0m \u001b[0;34m\u001b[0m\u001b[0m\n\u001b[1;32m     35\u001b[0m \u001b[0;32mdef\u001b[0m \u001b[0mBidirectional_dijkstra\u001b[0m\u001b[0;34m(\u001b[0m\u001b[0mG\u001b[0m\u001b[0;34m,\u001b[0m \u001b[0ms\u001b[0m\u001b[0;34m,\u001b[0m \u001b[0md\u001b[0m\u001b[0;34m)\u001b[0m\u001b[0;34m:\u001b[0m\u001b[0;34m\u001b[0m\u001b[0;34m\u001b[0m\u001b[0m\n\u001b[0;32m---> 36\u001b[0;31m     \u001b[0mG_down\u001b[0m \u001b[0;34m=\u001b[0m \u001b[0mG\u001b[0m\u001b[0;34m.\u001b[0m\u001b[0mT\u001b[0m\u001b[0;34m(\u001b[0m\u001b[0;34m)\u001b[0m\u001b[0;34m\u001b[0m\u001b[0;34m\u001b[0m\u001b[0m\n\u001b[0m\u001b[1;32m     37\u001b[0m     \u001b[0mG_up\u001b[0m \u001b[0;34m=\u001b[0m \u001b[0mG\u001b[0m\u001b[0;34m\u001b[0m\u001b[0;34m\u001b[0m\u001b[0m\n\u001b[1;32m     38\u001b[0m     \u001b[0mG_up\u001b[0m\u001b[0;34m.\u001b[0m\u001b[0madd_shortcuts\u001b[0m\u001b[0;34m(\u001b[0m\u001b[0;34m)\u001b[0m\u001b[0;34m\u001b[0m\u001b[0;34m\u001b[0m\u001b[0m\n",
      "\u001b[0;32m~/Desktop/algorithmic_design/Homework 3/src/Graph.py\u001b[0m in \u001b[0;36mT\u001b[0;34m(self)\u001b[0m\n\u001b[1;32m    246\u001b[0m         \u001b[0;31m# Revert the edges\u001b[0m\u001b[0;34m\u001b[0m\u001b[0;34m\u001b[0m\u001b[0;34m\u001b[0m\u001b[0m\n\u001b[1;32m    247\u001b[0m         \u001b[0;32mfor\u001b[0m \u001b[0medge\u001b[0m \u001b[0;32min\u001b[0m \u001b[0mself\u001b[0m\u001b[0;34m.\u001b[0m\u001b[0mE\u001b[0m\u001b[0;34m(\u001b[0m\u001b[0;34m)\u001b[0m\u001b[0;34m:\u001b[0m\u001b[0;34m\u001b[0m\u001b[0;34m\u001b[0m\u001b[0m\n\u001b[0;32m--> 248\u001b[0;31m             \u001b[0mnew_G\u001b[0m\u001b[0;34m.\u001b[0m\u001b[0madd_edge_aux\u001b[0m\u001b[0;34m(\u001b[0m\u001b[0medge\u001b[0m\u001b[0;34m.\u001b[0m\u001b[0mT\u001b[0m\u001b[0;34m(\u001b[0m\u001b[0;34m)\u001b[0m\u001b[0;34m)\u001b[0m\u001b[0;34m\u001b[0m\u001b[0;34m\u001b[0m\u001b[0m\n\u001b[0m\u001b[1;32m    249\u001b[0m \u001b[0;34m\u001b[0m\u001b[0m\n\u001b[1;32m    250\u001b[0m         \u001b[0;31m# Copy additional vertexes attributes, for example importances\u001b[0m\u001b[0;34m\u001b[0m\u001b[0;34m\u001b[0m\u001b[0;34m\u001b[0m\u001b[0m\n",
      "\u001b[0;32m~/Desktop/algorithmic_design/Homework 3/src/Graph.py\u001b[0m in \u001b[0;36madd_edge_aux\u001b[0;34m(self, edge)\u001b[0m\n\u001b[1;32m    169\u001b[0m \u001b[0;34m\u001b[0m\u001b[0m\n\u001b[1;32m    170\u001b[0m     \u001b[0;32mdef\u001b[0m \u001b[0madd_edge_aux\u001b[0m\u001b[0;34m(\u001b[0m\u001b[0mself\u001b[0m\u001b[0;34m,\u001b[0m \u001b[0medge\u001b[0m\u001b[0;34m:\u001b[0m \u001b[0mUnion\u001b[0m\u001b[0;34m[\u001b[0m\u001b[0mEdge\u001b[0m\u001b[0;34m,\u001b[0m \u001b[0mShortcut\u001b[0m\u001b[0;34m]\u001b[0m\u001b[0;34m)\u001b[0m\u001b[0;34m:\u001b[0m\u001b[0;34m\u001b[0m\u001b[0;34m\u001b[0m\u001b[0m\n\u001b[0;32m--> 171\u001b[0;31m         \u001b[0mself\u001b[0m\u001b[0;34m.\u001b[0m\u001b[0m_graph\u001b[0m\u001b[0;34m[\u001b[0m\u001b[0medge\u001b[0m\u001b[0;34m.\u001b[0m\u001b[0mget_source\u001b[0m\u001b[0;34m(\u001b[0m\u001b[0;34m)\u001b[0m\u001b[0;34m]\u001b[0m\u001b[0;34m.\u001b[0m\u001b[0madd_connection\u001b[0m\u001b[0;34m(\u001b[0m\u001b[0medge\u001b[0m\u001b[0;34m)\u001b[0m\u001b[0;34m\u001b[0m\u001b[0;34m\u001b[0m\u001b[0m\n\u001b[0m\u001b[1;32m    172\u001b[0m \u001b[0;34m\u001b[0m\u001b[0m\n\u001b[1;32m    173\u001b[0m \u001b[0;34m\u001b[0m\u001b[0m\n",
      "\u001b[0;31mKeyError\u001b[0m: 'B'"
     ]
    }
   ],
   "source": [
    "Bidirectional_dijkstra(G, \"A\", \"B\")"
   ]
  }
 ],
 "metadata": {
  "kernelspec": {
   "name": "python388jvsc74a57bd0826ac774da20863171be87f505c983a23ca5099031a67b4f2c0e4fe6baa8958e",
   "display_name": "Python 3.8.8 64-bit ('base': conda)"
  },
  "language_info": {
   "codemirror_mode": {
    "name": "ipython",
    "version": 3
   },
   "file_extension": ".py",
   "mimetype": "text/x-python",
   "name": "python",
   "nbconvert_exporter": "python",
   "pygments_lexer": "ipython3",
   "version": "3.8.8"
  }
 },
 "nbformat": 4,
 "nbformat_minor": 5
}