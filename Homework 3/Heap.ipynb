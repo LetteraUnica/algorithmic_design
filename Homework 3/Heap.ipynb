{
 "cells": [
  {
   "cell_type": "code",
   "execution_count": 57,
   "id": "fa83ce34-efdb-492a-be6c-9690cd1dbeca",
   "metadata": {
    "tags": []
   },
   "outputs": [],
   "source": [
    "from copy import deepcopy\n",
    "from collections.abc import Callable\n",
    "from typing import TypeVar\n",
    "import warnings\n",
    "from numpy import inf\n",
    "\n",
    "T = TypeVar(\"T\")\n",
    "\n",
    "class Binary_heap:\n",
    "    \"\"\"\n",
    "    Implements a binary heap with a generic ordering\n",
    "    \n",
    "    Attributes\n",
    "    ----------\n",
    "    H: list[T]\n",
    "        Stores the heap values\n",
    "    size: int\n",
    "        Stores the length of H\n",
    "    _order: Callable[[T, T], bool]\n",
    "        Function used to order the heap\n",
    "    \n",
    "    Methods\n",
    "    -------\n",
    "    left(i: int) -> int\n",
    "        Returns the index of the left child of i  \n",
    "    right(i: int) -> int\n",
    "        Returns the index of the right child of i\n",
    "    parent(i: int) -> int\n",
    "        Returns the index of the parent of i\n",
    "    get_root() -> int\n",
    "        Returns the index of the root i.e. 0\n",
    "    is_root(i: int) -> bool\n",
    "        Returns True if i is the root, False otherwise\n",
    "    is_valid_node(i: int) -> boot\n",
    "        Returns True if index i belongs to the heap, False otherwise\n",
    "    is_empty() -> bool\n",
    "        Returns True if the heap is empty i.e. size==0, False otherwise\n",
    "    extract_min() -> T\n",
    "        Returns the minimum key stored in the binary heap\n",
    "    remove_min() -> T \n",
    "        Removes the minimum value from the binary heap and returns it\n",
    "    decrease_key(key: int, new_value: T) -> int\n",
    "        Decreases the value of H[index] to new_value\n",
    "    insert(self, value: T):\n",
    "        Inserts a new value into the binary heap\n",
    "    \"\"\"\n",
    "    \n",
    "    def __init__(self, A: list, to_copy: bool = True,\n",
    "                 total_order: Callable = None):\n",
    "        \"\"\"\n",
    "        Class constructor, creates a heap from a list either in-place or\n",
    "        by copying it, the ordering of the heap can be changed by passing a\n",
    "        total_order\n",
    "        \n",
    "        Parameters\n",
    "        ----------\n",
    "        A: list[T]\n",
    "            List containing the values to include in the heap\n",
    "        to_copy: bool\n",
    "            If True it copies the list A into another to store the heap,\n",
    "            If False it uses the list A itself to store the heap\n",
    "            Default: True\n",
    "        total_order: Callable[[T, T], bool]\n",
    "            Function used to order the elements of the heap\n",
    "            Default: None, which corresponds to a Min-Heap\n",
    "        \"\"\"\n",
    "        \n",
    "        # Get the heap size\n",
    "        self.size = len(A)\n",
    "        \n",
    "        # Copy or not the heap\n",
    "        if to_copy:\n",
    "            self.H = deepcopy(A)\n",
    "        else:\n",
    "            self.H = A\n",
    "        \n",
    "        # Define a total_order\n",
    "        if total_order is None:\n",
    "            total_order = lambda x, y: x<y\n",
    "        self._order = total_order\n",
    "        \n",
    "        # Build the heap\n",
    "        self._build_heap()\n",
    "        \n",
    "    \n",
    "    def _swap(self, i: int, j: int):\n",
    "        \"\"\"\n",
    "        Utility function that swappes two elements of H\n",
    "        \n",
    "        Parameters\n",
    "        ----------\n",
    "        i: int\n",
    "            Index of the first element to be swapped\n",
    "        j: int\n",
    "            Index of the second element to be swapped\n",
    "        \"\"\"\n",
    "        \n",
    "        tmp = self.H[i]\n",
    "        self.H[i] = self.H[j]\n",
    "        self.H[j] = tmp\n",
    "\n",
    "        \n",
    "    def _heapify(self, i: int):\n",
    "        \"\"\"\n",
    "        Utility function that restores the heap property if it has been broken\n",
    "        only on index i, the function restores the heap property iteratively\n",
    "        instead of recursively\n",
    "        \n",
    "        Parameters\n",
    "        ----------\n",
    "        i: int\n",
    "            Index on which to restore the heap property\n",
    "        \"\"\"\n",
    "        \n",
    "        keep_fixing = True\n",
    "        m = i\n",
    "        # Repeats until the parent is a leaf or is less than either childs\n",
    "        while keep_fixing:\n",
    "            i = m\n",
    "            # Find a child that is less than the parent\n",
    "            for j in (self.left(i), self.right(i)):\n",
    "                if self.is_valid_node(j) and self._order(self.H[j], self.H[m]):\n",
    "                    m = j\n",
    "            \n",
    "            # Swap child and parent\n",
    "            self._swap(i, m)\n",
    "            if i == m:\n",
    "                keep_fixing=False\n",
    "    \n",
    "    \n",
    "    def _build_heap(self):\n",
    "        \"\"\"\n",
    "        Utility function used to build an heap\n",
    "        \"\"\"\n",
    "        for i in range(self.parent(self.size), -1, -1):\n",
    "            self._heapify(i)\n",
    "   \n",
    "    def left(self, i: int) -> int:\n",
    "        \"\"\"\n",
    "        Returns the index of the left child of i\n",
    "        \"\"\"\n",
    "        return 2*i + 1\n",
    "\n",
    "    def right(self, i: int) -> int:\n",
    "        \"\"\"\n",
    "        Returns the index of the right child of i\n",
    "        \"\"\"\n",
    "        return 2*(i+1)\n",
    "\n",
    "    def parent(self, i: int) -> int:\n",
    "        \"\"\"\n",
    "        Returns the index of the parent of i\n",
    "        \"\"\"\n",
    "        return (i-1)//2\n",
    "\n",
    "    def get_root(self) -> int:\n",
    "        \"\"\"\n",
    "        Returns the index of the root of the heap, i.e 0\n",
    "        \"\"\"\n",
    "        return 0\n",
    "\n",
    "    def is_root(self, i: int) -> bool:\n",
    "        \"\"\"\n",
    "        Returns True if index i is the root of the heap, False otherwise\n",
    "        \"\"\"\n",
    "        return i == self.get_root()\n",
    "\n",
    "    def is_valid_node(self, i: int) -> bool:\n",
    "        \"\"\"\n",
    "        Returns True if index i is contained in the heap, False otherwise\n",
    "        \"\"\"\n",
    "        return i < self.size\n",
    "\n",
    "    def is_empty(self) -> bool:\n",
    "        \"\"\"\n",
    "        Returns True if the heap is empty i.e. size==0, False otherwise\n",
    "        \"\"\"\n",
    "        return self.size == 0\n",
    "    \n",
    "    def extract_min(self) -> T:\n",
    "        \"\"\"\n",
    "        Returns the minimum value stored in the heap\n",
    "        \"\"\"\n",
    "        return self.H[self.get_root()]\n",
    "    \n",
    "    \n",
    "    def remove_min(self) -> T:\n",
    "        \"\"\"\n",
    "        Removes the minimum value stored in the heap and returns it\n",
    "        \n",
    "        Returns\n",
    "        -------\n",
    "        The minimum value of the heap\n",
    "        \"\"\"\n",
    "        \n",
    "        if self.is_empty():\n",
    "            message = f\"The heap is empty\"\n",
    "            warnings.warn(message, category=RuntimeWarning)\n",
    "            return\n",
    "        \n",
    "        minimum = self.extract_min()\n",
    "        # Replace minimum with leftmost value\n",
    "        self.H[0] = self.H[self.size-1]\n",
    "        # Decrease the heap size\n",
    "        self.size -=1\n",
    "        \n",
    "        # Restore heap property on index 0\n",
    "        self._heapify(0)\n",
    "        \n",
    "        return minimum\n",
    "                \n",
    "        \n",
    "    def decrease_key(self, key: int, new_value: T):\n",
    "        \"\"\"\n",
    "        Decreases the index \"key\" to \"new_value\"\n",
    "        \n",
    "        Parameters\n",
    "        ----------\n",
    "        key: int\n",
    "            Index to decrease\n",
    "        new_value: T\n",
    "            New value to assign to H[key]\n",
    "        \n",
    "        Raises\n",
    "        ------\n",
    "        RuntimeWarning\n",
    "            If new_value is smaller than H[key]\n",
    "        \"\"\"\n",
    "        \n",
    "        # Exit if new_value > H[key]\n",
    "        if self.H[key] != inf and self._order(self.H[key], new_value):\n",
    "            message = f\"{new_value} is smaller than the previous one, \"\n",
    "            message += \"the function does nothing in this case\"\n",
    "            warnings.warn(message, category=RuntimeWarning)\n",
    "            return\n",
    "        \n",
    "        # Otherwise update H[key] and fix the heap property by iteratively\n",
    "        # swapping parent and child\n",
    "        self.H[key] = new_value\n",
    "        i = key\n",
    "        p = self.parent(i)\n",
    "        while not self.is_root(i) and self._order(self.H[i], self.H[p]):\n",
    "            self._swap(p, i)\n",
    "            i = p\n",
    "            p = self.parent(i)\n",
    "    \n",
    "    \n",
    "    def insert(self, value: T):\n",
    "        \"\"\"\n",
    "        Inserts a new value in the heap\n",
    "        \n",
    "        Parameters\n",
    "        ----------\n",
    "        value: T\n",
    "            New value to insert in the heap\n",
    "        \"\"\"\n",
    "        \n",
    "        self.size += 1\n",
    "        self.H.append(inf)\n",
    "        self.decrease_key(self.size-1, value)\n",
    "        \n",
    "        \n",
    "    def _test_heap_property(self, verbose: bool = True):\n",
    "        \"\"\"\n",
    "        Function useful to test whether the heap satisfies the heap property\n",
    "\n",
    "        Raises\n",
    "        ------\n",
    "        RuntimeWarning \n",
    "            If the heap property isn't satisfied\n",
    "        \"\"\"\n",
    "        for i in range(0, self.size):\n",
    "            for j in (self.left(i), self.right(i)):\n",
    "                if self.is_valid_node(j) and self._order(self.H[j], self.H[i]):\n",
    "                    message = f\"The heap property isn't satisfied: {j} is smaller than its parent\"\n",
    "                    warnings.warn(message, RuntimeWarning)\n",
    "                    return\n",
    "                \n",
    "    \n",
    "    def __repr__(self):\n",
    "        \"\"\"\n",
    "        Utility function to print the array containing the heap\n",
    "        \"\"\"\n",
    "        return self.H[0:self.size].__repr__()"
   ]
  },
  {
   "cell_type": "code",
   "execution_count": 58,
   "id": "915e9f67-174a-46f8-8ff6-0303f6f9bb1d",
   "metadata": {},
   "outputs": [
    {
     "data": {
      "text/plain": [
       "[(8, 124),\n",
       " (58, 97),\n",
       " (49, 102),\n",
       " (30, 120),\n",
       " (56, 28),\n",
       " (80, 49),\n",
       " (111, 114),\n",
       " (34, 27),\n",
       " (62, 101),\n",
       " (6, 58),\n",
       " (90, 45),\n",
       " (86, 107)]"
      ]
     },
     "execution_count": 58,
     "metadata": {},
     "output_type": "execute_result"
    }
   ],
   "source": [
    "from random import randint\n",
    "A = [(randint(0, 120), randint(0, 130)) for i in range(12)]\n",
    "A"
   ]
  },
  {
   "cell_type": "code",
   "execution_count": 59,
   "id": "51bdcc70-a23b-48f9-97e7-fee81ac59b8a",
   "metadata": {},
   "outputs": [],
   "source": [
    "H = Binary_heap(A, total_order=lambda x,y: x[0]<y[0])\n",
    "H._test_heap_property()"
   ]
  },
  {
   "cell_type": "code",
   "execution_count": 60,
   "id": "a6799987-9b2e-4dbf-94b2-98a4a118ad1b",
   "metadata": {},
   "outputs": [],
   "source": [
    "H.insert((4,7))\n",
    "    "
   ]
  },
  {
   "cell_type": "code",
   "execution_count": 61,
   "id": "b5350d99-b88c-4f17-90af-79f43dc0a493",
   "metadata": {},
   "outputs": [
    {
     "data": {
      "text/plain": [
       "[(4, 7), (8, 124), (6, 58), (30, 120), (56, 28), (49, 102), (111, 114), (34, 27), (62, 101), (58, 97), (90, 45), (86, 107), (80, 49)]"
      ]
     },
     "execution_count": 61,
     "metadata": {},
     "output_type": "execute_result"
    }
   ],
   "source": [
    "H"
   ]
  },
  {
   "cell_type": "code",
   "execution_count": 63,
   "id": "3b81e11c-66cc-4c08-b356-f20331daf2c2",
   "metadata": {},
   "outputs": [],
   "source": [
    "H.insert((100, 100))"
   ]
  },
  {
   "cell_type": "code",
   "execution_count": 64,
   "id": "d8cde18c-5ae6-4070-90a4-8c5042b3a693",
   "metadata": {},
   "outputs": [
    {
     "data": {
      "text/plain": [
       "[(4, 7), (8, 124), (6, 58), (30, 120), (56, 28), (49, 102), (100, 100), (34, 27), (62, 101), (58, 97), (90, 45), (86, 107), (80, 49), 100, (111, 114)]"
      ]
     },
     "execution_count": 64,
     "metadata": {},
     "output_type": "execute_result"
    }
   ],
   "source": [
    "H"
   ]
  },
  {
   "cell_type": "code",
   "execution_count": 4,
   "id": "66dfea95-efb1-4706-8744-d4d732173a43",
   "metadata": {},
   "outputs": [
    {
     "data": {
      "text/plain": [
       "True"
      ]
     },
     "execution_count": 4,
     "metadata": {},
     "output_type": "execute_result"
    }
   ],
   "source": [
    "from numpy import inf\n",
    "-inf < 5"
   ]
  },
  {
   "cell_type": "code",
   "execution_count": 374,
   "id": "6affc8e6-9942-4865-b506-be872eebba35",
   "metadata": {},
   "outputs": [],
   "source": [
    "H._test_heap_property()"
   ]
  },
  {
   "cell_type": "code",
   "execution_count": 375,
   "id": "332d2650-e7a7-44f9-876e-35c67d35bb90",
   "metadata": {},
   "outputs": [
    {
     "name": "stdout",
     "output_type": "stream",
     "text": [
      "1\n"
     ]
    },
    {
     "data": {
      "text/plain": [
       "[2, 3, 4, 3, 4, 9, 10, 7, 5, 7]"
      ]
     },
     "execution_count": 375,
     "metadata": {},
     "output_type": "execute_result"
    }
   ],
   "source": [
    "print(H.remove_min())\n",
    "H"
   ]
  }
 ],
 "metadata": {
  "kernelspec": {
   "display_name": "Python 3",
   "language": "python",
   "name": "python3"
  },
  "language_info": {
   "codemirror_mode": {
    "name": "ipython",
    "version": 3
   },
   "file_extension": ".py",
   "mimetype": "text/x-python",
   "name": "python",
   "nbconvert_exporter": "python",
   "pygments_lexer": "ipython3",
   "version": "3.8.8"
  }
 },
 "nbformat": 4,
 "nbformat_minor": 5
}
